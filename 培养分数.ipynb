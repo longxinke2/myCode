{
 "cells": [
  {
   "cell_type": "markdown",
   "metadata": {},
   "source": [
    "# 导入模块"
   ]
  },
  {
   "cell_type": "code",
   "execution_count": 1,
   "metadata": {},
   "outputs": [],
   "source": [
    "import numpy as np\n",
    "import pandas as pd\n",
    "import sys\n",
    "import re\n",
    "from sklearn.preprocessing import MinMaxScaler, StandardScaler"
   ]
  },
  {
   "cell_type": "markdown",
   "metadata": {},
   "source": [
    "# 函数定义"
   ]
  },
  {
   "cell_type": "code",
   "execution_count": 2,
   "metadata": {},
   "outputs": [],
   "source": [
    "# 导入数据函数\n",
    "path = r'L:\\项目配仓\\兰州石化职业技术大学\\二期\\04模型及实施过程\\招培就收集数据模板\\\\'\n",
    "def get_ori_data(name):\n",
    "    data_ori = pd.read_excel(path+name)\n",
    "#     print(data_ori.head(1))\n",
    "    return data_ori"
   ]
  },
  {
   "cell_type": "code",
   "execution_count": 3,
   "metadata": {},
   "outputs": [],
   "source": [
    "# 熵值法\n",
    "def cal_weight(column,row,value):\n",
    "    p= np.array([[0.0 for i in range(column)] for i in range(row)])     \n",
    "    for i in range(column):\n",
    "        p[:,i]=value[:,i]/np.sum(value[:,i],axis=0)\n",
    "    e=-1/np.log(row)*sum(p*np.log(p+1e-10))      #计算熵值\n",
    "    g=1-e     # 计算一致性程度\n",
    "    w=g/sum(g)     #计算权重\n",
    "    return w"
   ]
  },
  {
   "cell_type": "code",
   "execution_count": 4,
   "metadata": {},
   "outputs": [],
   "source": [
    "# 归一化\n",
    "def change_1(data_need):\n",
    "    min_max_model = MinMaxScaler()\n",
    "    data_f = min_max_model.fit_transform(data_need)\n",
    "    d_columns = data_need.columns\n",
    "    d_index = data_need.index\n",
    "    return pd.DataFrame(list(data_f), columns=d_columns, index=d_index)"
   ]
  },
  {
   "cell_type": "code",
   "execution_count": 5,
   "metadata": {},
   "outputs": [],
   "source": [
    "# 算分并合并\n",
    "def merge_data(excel_name,score_name,f_name):\n",
    "    data_ori = get_ori_data(excel_name)\n",
    "    data_ori[score_name] = data_ori.apply(f_name,axis=1)\n",
    "    data_ori =data_ori[['学号',score_name]].groupby('学号').sum().reset_index()\n",
    "    global data_sum\n",
    "    data_sum = pd.merge(data_sum, data_ori, how='outer', on='学号')#.fillna(0)\n",
    "    \n",
    "#     print('---------------------')\n",
    "#     print(data_sum.head(1))\n",
    "#     print('---------------------')"
   ]
  },
  {
   "cell_type": "markdown",
   "metadata": {},
   "source": [
    "# 合并数据"
   ]
  },
  {
   "cell_type": "code",
   "execution_count": 6,
   "metadata": {},
   "outputs": [],
   "source": [
    "# 到时候数据不干净先洗一下，不要改dict\n",
    "dict ={'处分种类':{'轻微':1,'严重':2},\n",
    "       '项目等级':{'校级':1,'省级':2},\n",
    "       '部门名称':{'纪律部':1,'xx部':2},\n",
    "       '职位名称':{'干事':1,'xx':2},\n",
    "       '任职时长':{'一年':1,'两年':2},\n",
    "       '比赛等级':{'校级':1,'国家级':2},\n",
    "       '奖项':{'一等奖':3,'二等奖':2,'三等奖':1}\n",
    "      }"
   ]
  },
  {
   "cell_type": "code",
   "execution_count": 7,
   "metadata": {},
   "outputs": [],
   "source": [
    "data_sum = pd.read_excel('学生名单.xlsx')\n",
    "merge_data('惩罚记录.xlsx','惩罚',lambda x:dict['处分种类'][x['处分种类']])\n",
    "\n",
    "merge_data('科研记录.xlsx','科研',lambda x: 2*dict['项目等级'][x['项目等级']] if x['负责人学号']== x['学号'] else dict['项目等级'][x['项目等级']])\n",
    "\n",
    "merge_data('学生干部.xlsx','干部',lambda x:dict['部门名称'][x['部门名称']]*dict['职位名称'][x['职位名称']]*dict['任职时长'][x['任职时长']])\n",
    "\n",
    "merge_data('荣誉档案.xlsx','荣誉',lambda x:dict['比赛等级'][x['比赛等级']]*dict['奖项'][x['奖项']])\n",
    "\n",
    "merge_data('实习实践.xlsx','实习',lambda x:int(re.findall(\"\\d+\",x['实践时长'])[0]))\n",
    "\n",
    "merge_data('社会实践.xlsx','社会',lambda x:int(re.findall(\"\\d+\",x['参与时长（分）'])[0]))"
   ]
  },
  {
   "cell_type": "code",
   "execution_count": 8,
   "metadata": {},
   "outputs": [],
   "source": [
    "data_sum = data_sum.fillna(0)\n",
    "temp_list = ['社会','实习','荣誉','干部','科研','惩罚']\n",
    "data_sum[temp_list] = change_1(data_sum[temp_list])\n",
    "data_sum['惩罚'] = 1 - data_sum['惩罚']"
   ]
  },
  {
   "cell_type": "code",
   "execution_count": 9,
   "metadata": {},
   "outputs": [],
   "source": [
    "w = cal_weight(5,data_sum.shape[0],data_sum[temp_list].values)"
   ]
  },
  {
   "cell_type": "code",
   "execution_count": 10,
   "metadata": {},
   "outputs": [
    {
     "data": {
      "text/html": [
       "<div>\n",
       "<style scoped>\n",
       "    .dataframe tbody tr th:only-of-type {\n",
       "        vertical-align: middle;\n",
       "    }\n",
       "\n",
       "    .dataframe tbody tr th {\n",
       "        vertical-align: top;\n",
       "    }\n",
       "\n",
       "    .dataframe thead th {\n",
       "        text-align: right;\n",
       "    }\n",
       "</style>\n",
       "<table border=\"1\" class=\"dataframe\">\n",
       "  <thead>\n",
       "    <tr style=\"text-align: right;\">\n",
       "      <th></th>\n",
       "      <th>专业</th>\n",
       "      <th>学号</th>\n",
       "      <th>惩罚</th>\n",
       "      <th>科研</th>\n",
       "      <th>干部</th>\n",
       "      <th>荣誉</th>\n",
       "      <th>实习</th>\n",
       "      <th>社会</th>\n",
       "      <th>培养总分</th>\n",
       "    </tr>\n",
       "  </thead>\n",
       "  <tbody>\n",
       "    <tr>\n",
       "      <th>0</th>\n",
       "      <td>计算机</td>\n",
       "      <td>（必填）2022080301</td>\n",
       "      <td>0.0</td>\n",
       "      <td>1.0</td>\n",
       "      <td>1.0</td>\n",
       "      <td>1.0</td>\n",
       "      <td>1.0</td>\n",
       "      <td>1.0</td>\n",
       "      <td>1.0</td>\n",
       "    </tr>\n",
       "    <tr>\n",
       "      <th>1</th>\n",
       "      <td>数媒</td>\n",
       "      <td>（必填）202208031</td>\n",
       "      <td>1.0</td>\n",
       "      <td>0.0</td>\n",
       "      <td>0.0</td>\n",
       "      <td>0.0</td>\n",
       "      <td>0.0</td>\n",
       "      <td>0.0</td>\n",
       "      <td>0.0</td>\n",
       "    </tr>\n",
       "  </tbody>\n",
       "</table>\n",
       "</div>"
      ],
      "text/plain": [
       "    专业              学号   惩罚   科研   干部   荣誉   实习   社会  培养总分\n",
       "0  计算机  （必填）2022080301  0.0  1.0  1.0  1.0  1.0  1.0   1.0\n",
       "1   数媒   （必填）202208031  1.0  0.0  0.0  0.0  0.0  0.0   0.0"
      ]
     },
     "execution_count": 10,
     "metadata": {},
     "output_type": "execute_result"
    }
   ],
   "source": [
    "data_sum['培养总分'] = 0\n",
    "for i in range(5):\n",
    "    data_sum['培养总分'] = data_sum['培养总分'] + w[i]*data_sum[temp_list[i]]\n",
    "data_sum"
   ]
  },
  {
   "cell_type": "markdown",
   "metadata": {},
   "source": [
    "# 分组数据"
   ]
  },
  {
   "cell_type": "code",
   "execution_count": 11,
   "metadata": {},
   "outputs": [],
   "source": [
    "data_group =data_sum[['专业','社会','实习','荣誉','干部','科研','惩罚']].groupby('专业').mean().reset_index()"
   ]
  },
  {
   "cell_type": "code",
   "execution_count": 12,
   "metadata": {},
   "outputs": [
    {
     "data": {
      "text/html": [
       "<div>\n",
       "<style scoped>\n",
       "    .dataframe tbody tr th:only-of-type {\n",
       "        vertical-align: middle;\n",
       "    }\n",
       "\n",
       "    .dataframe tbody tr th {\n",
       "        vertical-align: top;\n",
       "    }\n",
       "\n",
       "    .dataframe thead th {\n",
       "        text-align: right;\n",
       "    }\n",
       "</style>\n",
       "<table border=\"1\" class=\"dataframe\">\n",
       "  <thead>\n",
       "    <tr style=\"text-align: right;\">\n",
       "      <th></th>\n",
       "      <th>专业</th>\n",
       "      <th>社会</th>\n",
       "      <th>实习</th>\n",
       "      <th>荣誉</th>\n",
       "      <th>干部</th>\n",
       "      <th>科研</th>\n",
       "      <th>惩罚</th>\n",
       "      <th>培养总分</th>\n",
       "    </tr>\n",
       "  </thead>\n",
       "  <tbody>\n",
       "    <tr>\n",
       "      <th>0</th>\n",
       "      <td>数媒</td>\n",
       "      <td>0.0</td>\n",
       "      <td>0.0</td>\n",
       "      <td>0.0</td>\n",
       "      <td>0.0</td>\n",
       "      <td>0.0</td>\n",
       "      <td>1.0</td>\n",
       "      <td>0.0</td>\n",
       "    </tr>\n",
       "    <tr>\n",
       "      <th>1</th>\n",
       "      <td>计算机</td>\n",
       "      <td>1.0</td>\n",
       "      <td>1.0</td>\n",
       "      <td>1.0</td>\n",
       "      <td>1.0</td>\n",
       "      <td>1.0</td>\n",
       "      <td>0.0</td>\n",
       "      <td>1.0</td>\n",
       "    </tr>\n",
       "  </tbody>\n",
       "</table>\n",
       "</div>"
      ],
      "text/plain": [
       "    专业   社会   实习   荣誉   干部   科研   惩罚  培养总分\n",
       "0   数媒  0.0  0.0  0.0  0.0  0.0  1.0   0.0\n",
       "1  计算机  1.0  1.0  1.0  1.0  1.0  0.0   1.0"
      ]
     },
     "execution_count": 12,
     "metadata": {},
     "output_type": "execute_result"
    }
   ],
   "source": [
    "data_group['培养总分'] = 0\n",
    "for i in range(5):\n",
    "    data_group['培养总分'] = data_group['培养总分'] + w[i]*data_group[temp_list[i]]\n",
    "data_group"
   ]
  },
  {
   "cell_type": "code",
   "execution_count": null,
   "metadata": {},
   "outputs": [],
   "source": []
  }
 ],
 "metadata": {
  "kernelspec": {
   "display_name": "Python 3",
   "language": "python",
   "name": "python3"
  },
  "language_info": {
   "codemirror_mode": {
    "name": "ipython",
    "version": 3
   },
   "file_extension": ".py",
   "mimetype": "text/x-python",
   "name": "python",
   "nbconvert_exporter": "python",
   "pygments_lexer": "ipython3",
   "version": "3.8.3"
  },
  "toc": {
   "base_numbering": 1,
   "nav_menu": {},
   "number_sections": true,
   "sideBar": true,
   "skip_h1_title": false,
   "title_cell": "Table of Contents",
   "title_sidebar": "Contents",
   "toc_cell": false,
   "toc_position": {
    "height": "calc(100% - 180px)",
    "left": "10px",
    "top": "150px",
    "width": "167.825px"
   },
   "toc_section_display": true,
   "toc_window_display": true
  }
 },
 "nbformat": 4,
 "nbformat_minor": 5
}
