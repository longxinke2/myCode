{
 "cells": [
  {
   "cell_type": "code",
   "execution_count": 1,
   "metadata": {},
   "outputs": [],
   "source": [
    "from selenium.webdriver.common.by import By\n",
    "from seleniumwire import webdriver\n",
    "import gzip\n",
    "import json\n",
    "import time\n",
    "import pyautogui\n",
    "import math"
   ]
  },
  {
   "cell_type": "code",
   "execution_count": 5,
   "metadata": {},
   "outputs": [],
   "source": [
    "data = []"
   ]
  },
  {
   "cell_type": "code",
   "execution_count": 21,
   "metadata": {},
   "outputs": [],
   "source": [
    "try:\n",
    "    for i in range(16,32):\n",
    "        # 创建一个新的Chrome浏览器实例，并启用selenium-wire\n",
    "        options = webdriver.ChromeOptions()\n",
    "        options.add_argument('--ignore-certificate-errors')\n",
    "        driver = webdriver.Chrome(chrome_options=options)\n",
    "        driver.scopes = ['.*']\n",
    "        driver.implicitly_wait(5)\n",
    "        # 访问目标网页\n",
    "        driver.get('http://www.12348.gov.cn/#/publicies/lawdept/lawdept')\n",
    "        time.sleep(5)\n",
    "        driver.find_elements(By.CSS_SELECTOR, 'option[ng-repeat=\"data in provincelist\"]')[i].click()\n",
    "        time.sleep(5)\n",
    "        \n",
    "        #核心在这！！！\n",
    "        requests = driver.requests\n",
    "        request=[request for request in requests if 'getlawerdeptlist' in request.path][-1]\n",
    "        body = request.response.body #拿到请求的response的body\n",
    "        decoded_data = gzip.decompress(request.response.body).decode('utf-8') #对二进制body解压+解码\n",
    "        num= math.ceil(json.loads(decoded_data)['total']/12) #json格式的字符串转为json\n",
    "        \n",
    "        \n",
    "        for j in range(num-1):\n",
    "            driver.find_element(By.CSS_SELECTOR, 'li[page-rel=\"nextpage\"][class=\"pageItem\"]').click()\n",
    "            time.sleep(5)\n",
    "            requests = driver.requests\n",
    "            get_lawer_dept_list_requests = [request for request in requests if 'getlawerdeptlist' in request.path]\n",
    "        # 打印所有名为getlawerdeptlist的请求\n",
    "        requests = driver.requests\n",
    "        get_lawer_dept_list_requests = [request for request in requests if 'getlawerdeptlist' in request.path]\n",
    "        for request in get_lawer_dept_list_requests:\n",
    "            body = request.response.body #拿到请求的response的body\n",
    "            decoded_data = gzip.decompress(request.response.body).decode('utf-8') #对二进制body解压+解码\n",
    "            data += json.loads(decoded_data)['list'] #json格式的字符串转为json\n",
    "        driver.close()\n",
    "    pyautogui.alert()\n",
    "except Exception as e:\n",
    "    pyautogui.alert()\n",
    "    raise e"
   ]
  },
  {
   "cell_type": "code",
   "execution_count": null,
   "metadata": {},
   "outputs": [],
   "source": []
  }
 ],
 "metadata": {
  "kernelspec": {
   "display_name": "Python 3",
   "language": "python",
   "name": "python3"
  },
  "language_info": {
   "codemirror_mode": {
    "name": "ipython",
    "version": 3
   },
   "file_extension": ".py",
   "mimetype": "text/x-python",
   "name": "python",
   "nbconvert_exporter": "python",
   "pygments_lexer": "ipython3",
   "version": "3.8.3"
  },
  "toc": {
   "base_numbering": 1,
   "nav_menu": {},
   "number_sections": true,
   "sideBar": true,
   "skip_h1_title": false,
   "title_cell": "Table of Contents",
   "title_sidebar": "Contents",
   "toc_cell": false,
   "toc_position": {},
   "toc_section_display": true,
   "toc_window_display": false
  }
 },
 "nbformat": 4,
 "nbformat_minor": 4
}
