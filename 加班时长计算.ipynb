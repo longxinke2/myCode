{
 "cells": [
  {
   "cell_type": "code",
   "execution_count": 6,
   "metadata": {},
   "outputs": [],
   "source": [
    "import pandas as pd\n",
    "import os\n",
    "import openpyxl\n",
    "from openpyxl.styles import PatternFill"
   ]
  },
  {
   "cell_type": "code",
   "execution_count": 8,
   "metadata": {},
   "outputs": [
    {
     "data": {
      "text/plain": [
       "'研究院工作周报-龙辛柯.xlsx'"
      ]
     },
     "execution_count": 8,
     "metadata": {},
     "output_type": "execute_result"
    }
   ],
   "source": [
    "path = rf'E:\\桌面'\n",
    "at_least_time = 4\n",
    "# my_file_name = reduce(lambda x,y:y if y.startswith('上下班打卡_日报') else x ,['']+os.listdir(path))\n",
    "my_file_name = list(filter(lambda x:x.startswith('上下班打卡_日报'),os.listdir(path)))[0]\n",
    "my_file_name"
   ]
  },
  {
   "cell_type": "code",
   "execution_count": 9,
   "metadata": {},
   "outputs": [],
   "source": [
    "workbook = openpyxl.load_workbook(fr'{path}\\\\{my_file_name}')\n",
    "sheet = workbook.worksheets[0]"
   ]
  },
  {
   "cell_type": "code",
   "execution_count": 4,
   "metadata": {},
   "outputs": [],
   "source": [
    "sum_time = 0\n",
    "fill = PatternFill('solid',fgColor='FFFF00')#颜色\n",
    "for line in range(5,sheet.max_row+1):\n",
    "    cell=sheet[f'F{line}']\n",
    "    cell.fill = fill\n",
    "    zuiwan = sheet[f'I{line}'].value.split(':')\n",
    "    if sheet[f'G{line}'].value == '休息':\n",
    "        cell.value = ''\n",
    "        continue\n",
    "    if sheet[f'G{line}'].value == '--':\n",
    "        #减上班时间\n",
    "        zuizao = sheet[f'H{line}'].value.split(':')\n",
    "        cell.value = int(zuiwan[0]) - int(zuizao[0]) + (int(zuiwan[1]) - int(zuizao[1]))/60\n",
    "    else:\n",
    "        #减18：00\n",
    "        temp_num = int(zuiwan[0]) - 18 + int(zuiwan[1])/60\n",
    "        if temp_num < at_least_time:\n",
    "            cell.value = ''\n",
    "            continue\n",
    "        cell.value = temp_num\n",
    "    sum_time = sum_time + cell.value\n",
    "\n",
    "cell = sheet['F3']\n",
    "sum_time = round(sum_time)\n",
    "cell.value = f'加班时长：{sum_time}h'\n",
    "cell.fill = fill"
   ]
  },
  {
   "cell_type": "code",
   "execution_count": 5,
   "metadata": {},
   "outputs": [],
   "source": [
    "workbook.save(fr'{path}\\\\龙辛柯-{my_file_name}')"
   ]
  },
  {
   "cell_type": "code",
   "execution_count": null,
   "metadata": {},
   "outputs": [],
   "source": [
    "print('导出成功')"
   ]
  }
 ],
 "metadata": {
  "kernelspec": {
   "display_name": "Python 3",
   "language": "python",
   "name": "python3"
  },
  "language_info": {
   "codemirror_mode": {
    "name": "ipython",
    "version": 3
   },
   "file_extension": ".py",
   "mimetype": "text/x-python",
   "name": "python",
   "nbconvert_exporter": "python",
   "pygments_lexer": "ipython3",
   "version": "3.8.3"
  },
  "toc": {
   "base_numbering": 1,
   "nav_menu": {},
   "number_sections": true,
   "sideBar": true,
   "skip_h1_title": false,
   "title_cell": "Table of Contents",
   "title_sidebar": "Contents",
   "toc_cell": false,
   "toc_position": {},
   "toc_section_display": true,
   "toc_window_display": false
  }
 },
 "nbformat": 4,
 "nbformat_minor": 4
}
