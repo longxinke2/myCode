{
 "cells": [
  {
   "cell_type": "code",
   "execution_count": 1,
   "metadata": {},
   "outputs": [],
   "source": [
    "import pdfplumber\n",
    "import pandas as pd\n",
    "import re\n",
    "import xlwings as xw\n",
    "import pyperclip\n",
    "import keyboard\n",
    "import time"
   ]
  },
  {
   "cell_type": "code",
   "execution_count": 2,
   "metadata": {},
   "outputs": [],
   "source": [
    "def get_pdf_page(page_num):\n",
    "    text = ''\n",
    "    with pdfplumber.open(path) as pdf:      \n",
    "        first_page = pdf.pages[page_num-1]\n",
    "        #有方框的才能提取表格\n",
    "#         if len(first_page.extract_tables())!=0:\n",
    "#             print(first_page.extract_tables())\n",
    "        temp_list = first_page.extract_words()\n",
    "        for dic in temp_list:\n",
    "            dic['text'] = re.sub('\\(cid:\\d+\\)','',dic['text'])\n",
    "    return temp_list"
   ]
  },
  {
   "cell_type": "code",
   "execution_count": 3,
   "metadata": {},
   "outputs": [],
   "source": [
    "def find_in_page(list1,page):\n",
    "    for ele in list1:\n",
    "        for element in page:\n",
    "            if ele == element['text']:\n",
    "                print(element['text']+'  左边'+str(element['x0'])+'  上面'+str(element['top'])+'  右边'+str(element['x1']))"
   ]
  },
  {
   "cell_type": "code",
   "execution_count": 4,
   "metadata": {},
   "outputs": [],
   "source": [
    "def spacing(a,b):\n",
    "    return a-b if a>b else b-a"
   ]
  },
  {
   "cell_type": "code",
   "execution_count": 5,
   "metadata": {},
   "outputs": [],
   "source": [
    "# sheet列名转换\n",
    "def get_column_right(column,add_num):\n",
    "    # 将列标转换为10进制数\n",
    "    column_number = 0\n",
    "    for i in range(len(column)):\n",
    "        column_number = column_number * 26 + (ord(column[i]) - ord('A') + 1)\n",
    "    \n",
    "    # 对转换后的10进制数加步长\n",
    "    column_number += add_num\n",
    "    \n",
    "    # 将得到的结果转换为Excel的列标\n",
    "    result = ''\n",
    "    while column_number > 0:\n",
    "        remainder = (column_number - 1) % 26\n",
    "        result = chr(ord('A') + remainder) + result\n",
    "        column_number = (column_number - 1) // 26\n",
    "    \n",
    "    return result"
   ]
  },
  {
   "cell_type": "code",
   "execution_count": 6,
   "metadata": {},
   "outputs": [],
   "source": [
    "app = xw.App(visible=True, add_book=False)\n",
    "\n",
    "path = 'D:/Backup/Downloads/yh.pdf'\n",
    "wb = app.books.open('E:/桌面/银行名单.xlsx')\n",
    "# 连接到已经打开的 Excel 文件\n",
    "# wb = xw.Book('example.xlsx')\n",
    "sheet = wb.sheets[0]"
   ]
  },
  {
   "cell_type": "markdown",
   "metadata": {},
   "source": [
    "# 通用模板"
   ]
  },
  {
   "cell_type": "code",
   "execution_count": 49,
   "metadata": {},
   "outputs": [],
   "source": [
    "# 换pdf修改\n",
    "path = 'D:/Backup/Downloads/yh.pdf'\n",
    "\n",
    "sheet = wb.sheets[5] # 5\n",
    "# 换页修改\n",
    "tlist = get_pdf_page(172)\n",
    "start_line = 108\n",
    "start_zimu = 'C'# 填数字的开始列名\n",
    "need_ele = ['140','276']\n",
    "find_in_page(need_ele,tlist)"
   ]
  },
  {
   "cell_type": "code",
   "execution_count": 50,
   "metadata": {},
   "outputs": [
    {
     "name": "stdout",
     "output_type": "stream",
     "text": [
      "ok\n"
     ]
    }
   ],
   "source": [
    "# 可变参数\n",
    "first_range = [255,280] # 第一列colomn index范围\n",
    "num_start_range = first_range[1] # 后边的跟班数字起始位置，默认为index右坐标\n",
    "start_top = 195 # 起始top\n",
    "max_top = 800 #最底部坐标\n",
    "\n",
    "max_x0 = 550 #最右边坐标\n",
    "merge_lag = 5 #同行合并误差\n",
    "diff_lag = 120 #不同行的间距，用于补充空行\n",
    "lag_x = 10 #用于补充空值\n",
    "duiqi = 'right' #数字是右对齐\n",
    "\n",
    "temp_list = []\n",
    "for element in tlist:\n",
    "    if element['x0']>first_range[0] and element['x0']<first_range[1] and element['top']>start_top and element['top']<max_top:\n",
    "        temp_list.append({'text':element['text'],'x0':element['x0'],'top':element['top']})\n",
    "\n",
    "# 先按top排序\n",
    "temp_list.sort(key=lambda x: x.get('top'),reverse=False)\n",
    "# 再按x0合并\n",
    "first_coloum =[]\n",
    "merge_list = []\n",
    "for i in range(0,len(temp_list)):\n",
    "    if i != len(temp_list)-1 and spacing(temp_list[i]['top'],temp_list[i+1]['top'])<merge_lag:\n",
    "        merge_list.append(temp_list[i])\n",
    "    else:\n",
    "        merge_list.append(temp_list[i])\n",
    "        merge_list.sort(key=lambda x: x.get('x0'))\n",
    "        merge_text = ''.join([d.get('text') for d in merge_list])\n",
    "        first_coloum.append({'text': merge_text,'x0':merge_list[0]['x0'],'top':merge_list[0]['top']})\n",
    "        merge_list = []\n",
    "# 补充空行\n",
    "for i in range(0,100):\n",
    "    if i >= len(first_coloum)-1:\n",
    "        break\n",
    "    if first_coloum[i+1]['top'] - first_coloum[i]['top']>diff_lag:\n",
    "        first_coloum.insert(i+1,{'text':'','x0':first_coloum[i]['x0'],'top':first_coloum[i]['top']+diff_lag})\n",
    "for i in range(0,100):\n",
    "    if first_coloum[-1]['top']+diff_lag>max_top:\n",
    "        break\n",
    "    first_coloum.append({'text':'','x0':first_coloum[-1]['x0'],'top':first_coloum[-1]['top']+diff_lag})\n",
    "# 去除非中文和数字\n",
    "for ele in first_coloum:\n",
    "    ele['text'] = re.sub(r'[^\\u4e00-\\u9fa5\\d\\(\\)\\.、]+', '', ele['text'])\n",
    "# 按first_coloum拿之后的数据\n",
    "for ele in first_coloum:\n",
    "    ele['num'] = []\n",
    "    for element in tlist:\n",
    "        if element['x0']>num_start_range and spacing(element['top'],ele['top'])<merge_lag and element['text']!='':\n",
    "            ele['num'].append(element)\n",
    "    ele['num'].sort(key=lambda x: x.get('x0'))\n",
    "\n",
    "# 补充空值\n",
    "max_column = 0\n",
    "duiqi = 'x1' if duiqi=='right' else 'x0'\n",
    "for ele in first_coloum:\n",
    "    if len(ele['num'])>max_column:\n",
    "        max_column=len(ele['num'])\n",
    "for i in range(0,max_column):# i = 0 - 4\n",
    "    list_temp = []\n",
    "    for j in range(0,len(first_coloum)):\n",
    "        if len(first_coloum[j]['num'])>i:\n",
    "            list_temp.append(first_coloum[j]['num'][i])\n",
    "    min_num = min([ele[duiqi] for ele in list_temp])\n",
    "    for j in range(0,len(first_coloum)):\n",
    "        if len(first_coloum[j]['num'])<=i:\n",
    "            first_coloum[j]['num'].insert(i,{'text':''})\n",
    "        else:\n",
    "            if first_coloum[j]['num'][i][duiqi] > min_num + lag_x:\n",
    "                first_coloum[j]['num'].insert(i,{'text':''})\n",
    "    \n",
    "i = start_line\n",
    "# 填数字\n",
    "for ele in first_coloum:\n",
    "    sheet.range(f'{start_zimu}{i}').value = ele['text']\n",
    "    j = 1\n",
    "    for element in ele['num']:\n",
    "        zimu = get_column_right(start_zimu,j)\n",
    "        sheet.range(f'{zimu}{i}').value = element['text']\n",
    "        j += 1\n",
    "    i+=1\n",
    "    \n",
    "print('ok')"
   ]
  },
  {
   "cell_type": "markdown",
   "metadata": {},
   "source": [
    "# 手动工具系列"
   ]
  },
  {
   "cell_type": "code",
   "execution_count": 75,
   "metadata": {},
   "outputs": [],
   "source": [
    "# 临时工具去空\n",
    "while True:\n",
    "    if keyboard.is_pressed('shift'):\n",
    "        app.selection.delete(shift='left')\n",
    "        time.sleep(0.3)\n",
    "    if keyboard.is_pressed('caps lock'):\n",
    "        app.selection.delete(shift='up')\n",
    "        time.sleep(0.3)\n",
    "    if keyboard.is_pressed('win'):\n",
    "        break"
   ]
  },
  {
   "cell_type": "code",
   "execution_count": 151,
   "metadata": {},
   "outputs": [],
   "source": [
    "# 寻找遗失的行\n",
    "miss_line =[]\n",
    "miss_line_new = [340,375]\n",
    "tlist.sort(key=lambda x: x.get('top'),reverse=False)\n",
    "for element in tlist:\n",
    "    if element['x0']>miss_line_new[0] and element['x0']<miss_line_new[1] and element['top']>start_top and element['top']<max_top:\n",
    "        miss_line.append(element['text'])"
   ]
  },
  {
   "cell_type": "code",
   "execution_count": 25,
   "metadata": {},
   "outputs": [],
   "source": [
    "# 寻找遗失的行\n",
    "miss_line = [87591,1323000,43905]\n",
    "miss_line_new = []\n",
    "for i in miss_line:\n",
    "    for ele in tlist:\n",
    "        if str(i) == ele['text']:\n",
    "            miss_line_new.append(ele)\n",
    "miss_line = []\n",
    "for ele in miss_line_new:\n",
    "    ele['num'] = []\n",
    "    for element in tlist:\n",
    "        if element['x0']>first_range[1] and spacing(element['doctop'],ele['doctop'])<5 and re.search('^\\d+$',ele['text']):\n",
    "            miss_line.append(element['text'])"
   ]
  },
  {
   "cell_type": "code",
   "execution_count": 160,
   "metadata": {},
   "outputs": [],
   "source": [
    "# 按ctrl填空\n",
    "iter_line = iter(miss_line)\n",
    "while True:\n",
    "    if keyboard.is_pressed('ctrl'):\n",
    "        app.selection.value =next(iter_line)\n",
    "        time.sleep(0.3)\n",
    "    if keyboard.is_pressed('win'):\n",
    "        break"
   ]
  },
  {
   "cell_type": "code",
   "execution_count": 32,
   "metadata": {
    "scrolled": false
   },
   "outputs": [],
   "source": [
    "# 删除区域非数字\n",
    "data = sheet.range('Q2:U54').value\n",
    "for row in data:\n",
    "    for i in range(len(row)):\n",
    "        if isinstance(row[i], str):\n",
    "            row[i] = re.sub(r'[il]', '1', row[i])\n",
    "            row[i] = re.sub(r'[^0-9\\.]+', '', row[i])\n",
    "\n",
    "# 将处理后的数据写入 Excel 文件\n",
    "sheet.range('V2').value = data"
   ]
  },
  {
   "cell_type": "code",
   "execution_count": null,
   "metadata": {},
   "outputs": [],
   "source": []
  }
 ],
 "metadata": {
  "kernelspec": {
   "display_name": "Python 3",
   "language": "python",
   "name": "python3"
  },
  "language_info": {
   "codemirror_mode": {
    "name": "ipython",
    "version": 3
   },
   "file_extension": ".py",
   "mimetype": "text/x-python",
   "name": "python",
   "nbconvert_exporter": "python",
   "pygments_lexer": "ipython3",
   "version": "3.8.3"
  },
  "toc": {
   "base_numbering": 1,
   "nav_menu": {},
   "number_sections": true,
   "sideBar": true,
   "skip_h1_title": false,
   "title_cell": "Table of Contents",
   "title_sidebar": "Contents",
   "toc_cell": false,
   "toc_position": {},
   "toc_section_display": true,
   "toc_window_display": false
  }
 },
 "nbformat": 4,
 "nbformat_minor": 4
}
