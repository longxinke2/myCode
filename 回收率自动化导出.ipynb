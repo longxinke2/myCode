{
 "cells": [
  {
   "cell_type": "markdown",
   "metadata": {
    "pycharm": {
     "name": "#%% md\n"
    }
   },
   "source": [
    "# 导入模块"
   ]
  },
  {
   "cell_type": "code",
   "execution_count": 1,
   "metadata": {
    "pycharm": {
     "name": "#%%\n"
    }
   },
   "outputs": [],
   "source": [
    "import pandas as pd\n",
    "import shutil\n",
    "import os\n",
    "import re\n",
    "import pymysql\n",
    "import warnings\n",
    "import datetime\n",
    "import time\n",
    "import openpyxl\n",
    "from openpyxl.styles import Font, Alignment, Side, Border, PatternFill, GradientFill, PatternFill\n",
    "from openpyxl.formatting.rule import DataBarRule\n",
    "from openpyxl import load_workbook\n",
    "from openpyxl import Workbook\n",
    "warnings.filterwarnings('ignore')"
   ]
  },
  {
   "cell_type": "markdown",
   "metadata": {
    "pycharm": {
     "name": "#%% md\n"
    }
   },
   "source": [
    "# 连接数据库"
   ]
  },
  {
   "cell_type": "code",
   "execution_count": 2,
   "metadata": {
    "pycharm": {
     "name": "#%%\n"
    }
   },
   "outputs": [],
   "source": [
    "conn1 = pymysql.connect(host = 'am-wz9el267w54i2r7ip131930o.ads.aliyuncs.com' # 连接名称，默认127.0.0.1\n",
    ",user = 'yjy_user' # 用户名\n",
    ",passwd='Yjy123456' # 密码\n",
    ",port= 3306 # 端口，默认为3306\n",
    ",db='yun-campusjob'#数据库名称\n",
    ",charset='utf8' # 字符编码\n",
    ")\n",
    "\n",
    "conn2 = pymysql.connect(host = 'am-wz9el267w54i2r7ip131930o.ads.aliyuncs.com' # 连接名称，默认127.0.0.1\n",
    ",user = 'yjy_user' # 用户名\n",
    ",passwd='Yjy123456' # 密码\n",
    ",port= 3306 # 端口，默认为3306\n",
    ",db='warehouse'#数据库名称\n",
    ",charset='utf8' # 字符编码\n",
    ")"
   ]
  },
  {
   "cell_type": "markdown",
   "metadata": {
    "pycharm": {
     "name": "#%% md\n"
    }
   },
   "source": [
    "# 参数"
   ]
  },
  {
   "cell_type": "code",
   "execution_count": 3,
   "metadata": {
    "pycharm": {
     "name": "#%%\n"
    }
   },
   "outputs": [],
   "source": [
    "#格式定义\n",
    "font2 = Font(bold=True,size=10,name='微软雅黑')\n",
    "font1 = Font(bold=False,size=10,name='微软雅黑')\n",
    "fill = PatternFill('solid',fgColor='ddebf7')#颜色\n",
    "bar_format = DataBarRule(start_type=\"percentile\", start_value=0, end_type=\"percentile\", end_value=100, color='638EC6')\n",
    "side=Side(style='thin', color='000000')\n",
    "side1=Side(style='medium', color='008000')\n",
    "border=Border(left=side,right=side,top=side,bottom=side)\n",
    "border1=Border(left=side,right=side,top=side,bottom=side1)\n",
    "border2=Border(left=side,right=side,top=side1,bottom=side)"
   ]
  },
  {
   "cell_type": "markdown",
   "metadata": {
    "pycharm": {
     "name": "#%% md\n"
    }
   },
   "source": [
    "# 定义函数"
   ]
  },
  {
   "cell_type": "code",
   "execution_count": 4,
   "metadata": {},
   "outputs": [],
   "source": [
    "def make_sum_table(isOne,school_data,sheet1,query_name,query_name1,company_query_num,curr_time):\n",
    "    line_num = school_data.shape[0]\n",
    "    data_values = school_data.values\n",
    "    sheet1.column_dimensions['C'].width = 25#宽度\n",
    "    sheet1.column_dimensions['K'].width = 14.5#宽度\n",
    "    sheet1.column_dimensions['J'].width = 14.5#宽度\n",
    "    sheet1.merge_cells('B2:G7')\n",
    "    sheet1.merge_cells('B9:G9')\n",
    "    sheet1.merge_cells('I9:O9')\n",
    "    sheet1['B9'] = '分学院回收率统计表'\n",
    "    sheet1['B9'].alignment=Alignment(horizontal=\"center\", vertical=\"center\", text_rotation=0)\n",
    "    sheet1['I9'] = '分学院分专业回收率统计表'\n",
    "    sheet1['I9'].alignment=Alignment(horizontal=\"center\", vertical=\"center\", text_rotation=0)\n",
    "    sheet1['G10'] = '未提交'\n",
    "    sheet1['B10'] = '学历'\n",
    "    sheet1['C10'] = '学院'\n",
    "    sheet1['D10'] = '生源人数'\n",
    "    sheet1['E10'] = '已提交人数'\n",
    "    sheet1['F10'] = '回收率'\n",
    "    sheet1['O10'] = '未提交'\n",
    "    sheet1['I10'] = '学历'\n",
    "    sheet1['J10'] = '学院'\n",
    "    sheet1['K10'] = '专业'\n",
    "    sheet1['L10'] = '生源人数'\n",
    "    sheet1['M10'] = '已提交人数'\n",
    "    sheet1['N10'] = '回收率'\n",
    "    for index in {'G10','B10','C10','D10','E10','F10','O10','I10','J10','K10','L10','M10','N10','G9','B9','C9','D9','E9','F9','O9','I9','J9','K9','L9','M9','N9'}:\n",
    "        sheet1[index].font = font2\n",
    "        sheet1[index].fill = fill\n",
    "        sheet1[index].border = border\n",
    "    i = 0\n",
    "    j = 0\n",
    "    left_list = []\n",
    "    temp = 0\n",
    "    temp_id = 11\n",
    "    while i<line_num:\n",
    "        if data_values[i][2] != '-':\n",
    "            for col_num in range(ord('I'),ord('P')):\n",
    "                sheet1[f'{chr(col_num)}{i-j+11}'] = data_values[i][0+col_num-ord('I')]\n",
    "                sheet1[f'{chr(col_num)}{i-j+11}'].font = font1\n",
    "                sheet1[f'{chr(col_num)}{i-j+11}'].border = border\n",
    "        else:\n",
    "            j = j + 1\n",
    "            if data_values[i][1] != '-':\n",
    "                left_list.append([i,1])\n",
    "            else:\n",
    "                left_list.append([i,0])\n",
    "        i = i + 1\n",
    "    sheet1.conditional_formatting.add(\"N11:N\" + str(i-j+10), bar_format)# 设置数据条\n",
    "    i = 1\n",
    "    while i<len(left_list):\n",
    "        if left_list[i][1]==1:\n",
    "            sheet1[f'C{i+9}'] = data_values[left_list[i][0]][1]\n",
    "            sheet1[f'C{i+9}'].font = font1\n",
    "            sheet1[f'C{i+9}'].border = border\n",
    "            sheet1[f'D{i+9}'] = data_values[left_list[i][0]][3]\n",
    "            sheet1[f'D{i+9}'].font = font1\n",
    "            sheet1[f'D{i+9}'].border = border\n",
    "            sheet1[f'E{i+9}'] = data_values[left_list[i][0]][4]\n",
    "            sheet1[f'E{i+9}'].font = font1\n",
    "            sheet1[f'E{i+9}'].border = border\n",
    "            sheet1[f'F{i+9}'] = data_values[left_list[i][0]][5]\n",
    "            sheet1[f'F{i+9}'].font = font1\n",
    "            sheet1[f'F{i+9}'].border = border\n",
    "            sheet1[f'G{i+9}'] = data_values[left_list[i][0]][6]\n",
    "            sheet1[f'G{i+9}'].font = font1\n",
    "            sheet1[f'G{i+9}'].border = border\n",
    "        else:\n",
    "            if temp==0:\n",
    "                temp = left_list[i][0]\n",
    "            else:\n",
    "                sheet1.merge_cells(f'B{i+9}:C{i+9}')\n",
    "                sheet1[f'B{i+9}'] = f'{data_values[temp][0]} 汇总'\n",
    "                sheet1[f'B{i+9}'].font = font2\n",
    "                sheet1[f'B{i+9}'].border = border\n",
    "                sheet1[f'C{i+9}'].border = border\n",
    "                sheet1[f'B{i+9}'].alignment=Alignment(horizontal=\"center\", vertical=\"center\", text_rotation=0)\n",
    "                sheet1[f'D{i+9}'] = data_values[temp][3]\n",
    "                sheet1[f'D{i+9}'].font = font1\n",
    "                sheet1[f'D{i+9}'].border = border\n",
    "                sheet1[f'E{i+9}'] = data_values[temp][4]\n",
    "                sheet1[f'E{i+9}'].font = font1\n",
    "                sheet1[f'E{i+9}'].border = border\n",
    "                sheet1[f'F{i+9}'] = data_values[temp][5]\n",
    "                sheet1[f'F{i+9}'].font = font1\n",
    "                sheet1[f'F{i+9}'].border = border\n",
    "                sheet1[f'G{i+9}'] = data_values[temp][6]\n",
    "                sheet1[f'G{i+9}'].font = font1\n",
    "                sheet1[f'G{i+9}'].border = border\n",
    "                sheet1.merge_cells(f'B{temp_id}:B{i+8}')\n",
    "                sheet1[f'B{temp_id}'].alignment=Alignment(horizontal=\"center\", vertical=\"center\", text_rotation=0)\n",
    "                sheet1[f'B{temp_id}'] = data_values[temp][0]\n",
    "                sheet1[f'B{temp_id}'].font = font1\n",
    "                while temp_id<i+9:\n",
    "                    sheet1[f'B{temp_id}'].border = border\n",
    "                    temp_id=temp_id+1\n",
    "                temp = left_list[i][0]\n",
    "        i = i + 1\n",
    "    sheet1.merge_cells(f'B{i+9}:C{i+9}')\n",
    "    sheet1[f'B{i+9}'] = f'{data_values[temp][0]} 汇总'\n",
    "    sheet1[f'B{i+9}'].font = font2\n",
    "    sheet1[f'B{i+9}'].alignment=Alignment(horizontal=\"center\", vertical=\"center\", text_rotation=0)\n",
    "    sheet1[f'B{i+9}'].border = border\n",
    "    sheet1[f'C{i+9}'].border = border\n",
    "    sheet1[f'D{i+9}'] = data_values[temp][3]\n",
    "    sheet1[f'D{i+9}'].font = font1\n",
    "    sheet1[f'D{i+9}'].border = border\n",
    "    sheet1[f'E{i+9}'] = data_values[temp][4]\n",
    "    sheet1[f'E{i+9}'].font = font1\n",
    "    sheet1[f'E{i+9}'].border = border\n",
    "    sheet1[f'F{i+9}'] = data_values[temp][5]\n",
    "    sheet1[f'F{i+9}'].font = font1\n",
    "    sheet1[f'F{i+9}'].border = border\n",
    "    sheet1[f'G{i+9}'] = data_values[temp][6]\n",
    "    sheet1[f'G{i+9}'].font = font1\n",
    "    sheet1[f'G{i+9}'].border = border\n",
    "    try:\n",
    "        sheet1.merge_cells(f'B{temp_id+1}:B{i+8}')\n",
    "    except:\n",
    "        pass\n",
    "    sheet1[f'B{temp_id+1}'].alignment=Alignment(horizontal=\"center\", vertical=\"center\", text_rotation=0)\n",
    "    sheet1[f'B{temp_id+1}'] = data_values[temp][0]\n",
    "    sheet1[f'B{temp_id+1}'].font = font1\n",
    "    while temp_id<i+9:\n",
    "        sheet1[f'B{temp_id}'].border = border\n",
    "        temp_id=temp_id+1\n",
    "    if len(school_data['xl'].unique()) > 2:\n",
    "        i = i + 1\n",
    "        temp = 0\n",
    "        sheet1.merge_cells(f'B{i+9}:C{i+9}')\n",
    "        sheet1[f'B{i+9}'] = '全体毕业生'\n",
    "        sheet1[f'B{i+9}'].alignment=Alignment(horizontal=\"center\", vertical=\"center\", text_rotation=0)\n",
    "        sheet1[f'B{i+9}'].font = font2\n",
    "        sheet1[f'B{i+9}'].border = border\n",
    "        sheet1[f'C{i+9}'].border = border\n",
    "        sheet1[f'D{i+9}'] = data_values[temp][3]\n",
    "        sheet1[f'D{i+9}'].font = font2\n",
    "        sheet1[f'D{i+9}'].border = border\n",
    "        sheet1[f'E{i+9}'] = data_values[temp][4]\n",
    "        sheet1[f'E{i+9}'].font = font2\n",
    "        sheet1[f'E{i+9}'].border = border\n",
    "        sheet1[f'F{i+9}'] = data_values[temp][5]\n",
    "        sheet1[f'F{i+9}'].font = font2\n",
    "        sheet1[f'F{i+9}'].border = border\n",
    "        sheet1[f'G{i+9}'] = data_values[temp][6]\n",
    "        sheet1[f'G{i+9}'].font = font2\n",
    "        sheet1[f'G{i+9}'].border = border\n",
    "    else:\n",
    "        merge_data_temp = sheet1['B12'].value\n",
    "        try:\n",
    "            sheet1.merge_cells(f'B11:B{i+7}')\n",
    "        except:\n",
    "            pass\n",
    "        sheet1['B11'] = merge_data_temp\n",
    "        sheet1['B11'].font = font1\n",
    "        sheet1['B11'].alignment=Alignment(horizontal=\"center\", vertical=\"center\", text_rotation=0)\n",
    "    sheet1.conditional_formatting.add(f\"F11:F{i+9}\", bar_format)# 设置数据条\n",
    "    \n",
    "    time_str1 = curr_time.strftime(\"%Y年%m月%d日 %H：%M\")\n",
    "    if (isOne==True):\n",
    "        text = ''\n",
    "    else:\n",
    "        print(isOne)\n",
    "        text = f'{isOne}届'\n",
    "    if len(company_query_num)>0:\n",
    "        sheet1['B2'] = f'''【调研进度汇报】截至时间：{time_str1}\n",
    "单位问卷《{query_name1}》回收数量{company_query_num[0]}份；\n",
    "学生问卷《{query_name}》{text}回收数量{data_values[temp][4]}份，回收率{data_values[temp][5]}%，未提交数量{data_values[temp][6]}人。（生源信息来自云就业）\n",
    "下表为各学院及专业回收率统计表。'''\n",
    "    else:\n",
    "        sheet1['B2'] = f'''【调研进度汇报】截至时间：{time_str1}\n",
    "学生问卷《{query_name}》{text}回收数量{data_values[temp][4]}份，回收率{data_values[temp][5]}%，未提交数量{data_values[temp][6]}人。（生源信息来自云就业）\n",
    "下表为各学院及专业回收率统计表。'''\n",
    "    \n",
    "    sheet1['B2'].alignment=Alignment(horizontal=\"left\", vertical=\"center\", text_rotation=0,wrapText=True)\n",
    "    sheet1['B2'].font = font1\n",
    "    sheet1['B2'].fill = fill\n",
    "    return"
   ]
  },
  {
   "cell_type": "code",
   "execution_count": 5,
   "metadata": {},
   "outputs": [],
   "source": [
    "def make_detail_table(data_no_students,sheet2):\n",
    "    i = 1\n",
    "    while i<data_no_students.shape[0]+2:\n",
    "        if i == 1:\n",
    "            sheet2['A1'].alignment=Alignment(horizontal=\"center\", vertical=\"center\", text_rotation=0)\n",
    "            for col_num in range(ord('A'),ord('H')):\n",
    "                sheet2[f'{chr(col_num)}{i}'].font = font2\n",
    "                sheet2[f'{chr(col_num)}{i}'].border = border1\n",
    "        else:\n",
    "            for col_num in range(ord('A'),ord('H')):\n",
    "                sheet2[f'{chr(col_num)}{i}'].font = font1\n",
    "            sheet2[f'A{i}'] = i-1\n",
    "            if i !=2:\n",
    "                for col_num in range(ord('A'),ord('H')):\n",
    "                    sheet2[f'{chr(col_num)}{i}'].border = border\n",
    "            else:\n",
    "                for col_num in range(ord('A'),ord('H')):\n",
    "                    sheet2[f'{chr(col_num)}{i}'].border = border2\n",
    "        i = i + 1\n",
    "    sheet2.column_dimensions['D'].width = 20#宽度\n",
    "    sheet2.column_dimensions['A'].width = 4.5#宽度\n",
    "    sheet2.column_dimensions['E'].width = 17#宽度\n",
    "    sheet2.column_dimensions['F'].width = 17#宽度\n",
    "    sheet2.column_dimensions['G'].width = 17#宽度\n",
    "    return"
   ]
  },
  {
   "cell_type": "markdown",
   "metadata": {},
   "source": [
    "# 运行"
   ]
  },
  {
   "cell_type": "code",
   "execution_count": 6,
   "metadata": {
    "pycharm": {
     "name": "#%%\n"
    }
   },
   "outputs": [],
   "source": [
    "q_id_group=(7191,7505)\n",
    "curr_time = datetime.datetime.now()\n",
    "time_str = curr_time.strftime('%Y%m%d')\n",
    "def temp_f(x):\n",
    "    return f\"SELECT a.school_id,school_name,open_url,name,q_define_id,for_graduate_year FROM `sch_q_define` a join sch_school b on a.school_id=b.school_id WHERE `q_define_id` in {str(q_id_group)} and type = {x}  \"#0是学生\n",
    "data_student_survey = pd.read_sql(con=conn1,sql=temp_f(0))\n",
    "data_company_survey = pd.read_sql(con=conn1,sql=temp_f(1))\n",
    "\n",
    "data_quest_url = re.sub('\\[|\\]','',str(data_student_survey['open_url'].tolist()))\n",
    "data_school_id = re.sub('\\[|\\]','',str(data_student_survey['school_id'].tolist()))\n",
    "data_school_name = re.sub('\\[|\\]','',str(data_student_survey['school_name'].tolist()))\n",
    "year_list = re.sub(\"\\'|\\'|\\[|\\]\",'',str(data_student_survey['for_graduate_year'].tolist()))"
   ]
  },
  {
   "cell_type": "code",
   "execution_count": 7,
   "metadata": {
    "pycharm": {
     "name": "#%%\n"
    }
   },
   "outputs": [],
   "source": [
    "if not data_company_survey.empty:\n",
    "    data_com_url = re.sub('\\[|\\]','',str(data_company_survey['open_url'].tolist()))\n",
    "\n",
    "#剔除学生名单\n",
    "try:\n",
    "    ori_data = pd.read_excel(r'E:/桌面/数据excel/survey_list_2022_需剔除学生.xlsx')\n",
    "    data_kaichu_school = re.sub('\\[|\\]','',str(ori_data['school_name'].tolist()))\n",
    "    data_kaichu_graduate_year = re.sub('\\[|\\]','',str(ori_data['year'].tolist()))\n",
    "    data_kaichu_xh = re.sub('\\[|\\]','',str(ori_data['xh'].tolist()))\n",
    "except:\n",
    "    data_kaichu_school=''\n",
    "    data_kaichu_graduate_year=''\n",
    "    data_kaichu_xh=''\n",
    "    \n",
    "if not data_company_survey.empty:\n",
    "    sql = f'''\n",
    "    SELECT school_name,num from\n",
    "    (\n",
    "    select b.school_id,COUNT(a.yb_id) as num FROM \n",
    "    c_survey_yb a \n",
    "    INNER JOIN\n",
    "    (SELECT a.school_id,a.yb_id #根据q_define_id拿到所有样本id\n",
    "    FROM `c_survey_result` a\n",
    "    WHERE a.q_define_id in( SELECT DISTINCT q_define_id FROM sch_q_define WHERE open_url IN ({data_com_url}))\n",
    "    GROUP BY a.school_id,a.yb_id\n",
    "    )b ON a.yb_id = b.yb_id\n",
    "    where a.is_submit = 1\n",
    "    GROUP BY b.school_id)a\n",
    "    join sch_school b\n",
    "    on a.school_id= b.school_id\n",
    "    '''\n",
    "\n",
    "    data_company_num = pd.read_sql(con=conn1,sql=sql)\n",
    "\n",
    "sql = f\"\"\"\n",
    "SELECT school_name AS `学校名称`,case  when c.xl in ('本科生毕业','本科生结业','本科','本科毕业生','普通本科','本科毕业','本科一批','本1','本科三批','本科生在读','本科四年','本科生学历','专升本','本科生','二学位毕业') then '本科毕业生' \n",
    "         when c.xl in ('硕士生毕业','硕士研究生','研究生','研究生毕业','硕士毕业','全日制硕士研究生','硕士研究生毕业','全日制学术学位硕士','全日制专业学位硕士','硕士生','非全日制硕士研究生','非全日制专业学位硕士','硕士生结业','硕士毕业生','博士生毕业','博士研究生','博士毕业','博士','博士研究生毕业','全日制博士研究生','全日制学术学位博士','博士毕业生','博士生','博士生结业','硕士研究生  （非全','在读硕士研究生') then '毕业研究生'\n",
    "         when c.xl in ('专科生毕业','专科','大专','专科毕业生','专科生','大学专科','专科毕业','专科生结业','普通大专','大专在读') then '专科毕业生' else null end as xl\n",
    ",graduate_year,szyx AS `院系`, c.zy AS '专业',\n",
    "(CASE WHEN sum(txrs) IS NULL THEN 0 ELSE sum(txrs) END) AS `填写人数`,sum(zyrs)-(CASE WHEN sum(txrs) IS NULL THEN 0 ELSE sum(txrs) END) AS '未填写人数',sum(zyrs) AS `总人数`, round((CASE WHEN sum(txrs) IS NULL THEN 0 ELSE sum(txrs) END)/sum(zyrs)*100,2) AS `回收率`\n",
    "FROM #每一个学生的信息，答了问卷的有txrs\n",
    "(SELECT school_id,year,xh,sfzhm,count(yb_id) AS txrs #txrs用于sum计数\n",
    "FROM (SELECT a.yb_id,a.school_id,a.xm,a.x AS yx,a.sfzhm,a.xh,a.bjhm AS bj,a.year,if(a.is_male=1,'男','女') AS xb #根据样本id拿到回答的学生信息\n",
    "FROM \n",
    "sch_survey_yb a \n",
    "INNER JOIN\n",
    "(SELECT a.q_quest_id,a.yb_id #根据q_define_id拿到所有样本id\n",
    "FROM `sch_survey_result` a\n",
    "WHERE a.is_yb = 1\n",
    "AND a.q_define_id IN (SELECT DISTINCT q_define_id FROM sch_q_define WHERE open_url IN ({data_quest_url}))\n",
    "GROUP BY a.q_quest_id,a.yb_id\n",
    ") b ON a.yb_id = b.yb_id\n",
    "WHERE a.is_submit = 1\n",
    "GROUP BY a.yb_id,a.school_id,a.xm,a.x,a.sfzhm,a.xh,a.bjhm,a.year,if(a.is_male=1,'男','女')\n",
    "ORDER BY a.xh) a\n",
    "GROUP BY school_id,year,xh,sfzhm) a\n",
    "Right JOIN #连学校表count一个学校的学生数量\n",
    "(SELECT school_id,graduate_year,szyx,zy,xh,sfzh,xl,COUNT(*) AS zyrs FROM sch_school_student WHERE is_delete = 0  AND school_id IN ({data_school_id})\n",
    "GROUP BY school_id,graduate_year,szyx,xh,sfzh,xl) c ON a.school_id = c.school_id AND a.year = c.graduate_year AND a.xh = c.xh AND UPPER(a.sfzhm) = UPPER(right(c.sfzh,6))\n",
    "LEFT JOIN (SELECT school_name,school_id FROM sch_school) b ON c.school_id = b.school_id #连对应学校名字\n",
    "-- where (b.school_name not in ({data_kaichu_school})) or (c.xh not in ({data_kaichu_xh})) or (c.graduate_year not in ({data_kaichu_graduate_year}))\n",
    "GROUP BY school_name,graduate_year,xl,szyx,c.zy WITH ROLLUP\n",
    "HAVING school_name IS NOT NULL AND graduate_year IS NOT NULL AND graduate_year in ({year_list})\n",
    "ORDER BY school_name,graduate_year,xl,szyx,c.zy DESC\"\"\"\n",
    "\n",
    "data = pd.read_sql(con=conn1,sql=sql).fillna('-')\n",
    "\n",
    "sql=f'''\n",
    "SELECT school_name as '学校名',graduate_year,xl as '学历',szyx as '学院',zy as '专业',szbj as '班级', zyrs as '姓名',c.xh as '学号',email\n",
    "FROM #每一个学生的信息，答了问卷的有txrs\n",
    "(SELECT school_id,year,xh,sfzhm,count(yb_id) AS txrs ,a.xm #txrs用于sum计数\n",
    "FROM (SELECT a.yb_id,a.school_id,a.xm,a.x AS yx,a.sfzhm,a.xh,a.bjhm AS bj,a.year,if(a.is_male=1,'男','女') AS xb #根据样本id拿到回答的学生信息\n",
    "FROM \n",
    "sch_survey_yb a \n",
    "INNER JOIN\n",
    "(SELECT a.q_quest_id,a.yb_id #根据q_define_id拿到所有样本id\n",
    "FROM `sch_survey_result` a\n",
    "WHERE a.is_yb = 1\n",
    "AND a.q_define_id IN (SELECT DISTINCT q_define_id FROM sch_q_define WHERE open_url IN ({data_quest_url}))\n",
    "GROUP BY a.q_quest_id,a.yb_id\n",
    ") b ON a.yb_id = b.yb_id\n",
    "WHERE a.is_submit = 1\n",
    "GROUP BY a.yb_id,a.school_id,a.xm,a.x,a.sfzhm,a.xh,a.bjhm,a.year,if(a.is_male=1,'男','女')\n",
    "ORDER BY a.xh) a\n",
    "GROUP BY school_id,year,xh,sfzhm,a.xm) a\n",
    "Right JOIN #连学校表count一个学校的学生数量\n",
    "(SELECT school_id,graduate_year,szyx,zy,xh,sfzh,szbj,xl,email,xm AS zyrs FROM sch_school_student WHERE is_delete = 0  AND school_id IN ({data_school_id}) GROUP BY school_id,graduate_year,szyx,xh,sfzh,xl) c ON a.school_id = c.school_id AND a.year = c.graduate_year AND a.xh = c.xh AND UPPER(a.sfzhm) = UPPER(right(c.sfzh,6))\n",
    "LEFT JOIN (SELECT school_name,school_id FROM sch_school) b ON c.school_id = b.school_id #连对应学校名字\n",
    "where school_name IN ({data_school_name}) IS NOT NULL AND graduate_year in ({year_list}) AND txrs IS NULL\n",
    "AND ((b.school_name not in ({data_kaichu_school})) or (c.xh not in ({data_kaichu_xh})) or (c.graduate_year not in ({data_kaichu_graduate_year})))\n",
    "ORDER BY school_name,graduate_year,xl,szyx,c.zy,zyrs,c.xh DESC\n",
    "'''\n",
    "\n",
    "data2 = pd.read_sql(con=conn1,sql=sql)"
   ]
  },
  {
   "cell_type": "code",
   "execution_count": 8,
   "metadata": {
    "pycharm": {
     "name": "#%%\n"
    },
    "scrolled": false
   },
   "outputs": [
    {
     "name": "stdout",
     "output_type": "stream",
     "text": [
      "【郑州电力高等专科学校2023届毕业生就业质量调研】调研进度汇报20230724.xlsx---成功导出\n",
      "【三峡大学土木与建筑学院2018届毕业生中期培养质量跟踪调研问卷】调研进度汇报20230724.xlsx---成功导出\n",
      "over\n"
     ]
    }
   ],
   "source": [
    "for i in range(len(data_student_survey)):\n",
    "\n",
    "    #数据准备\n",
    "    query_name = data_student_survey.loc[i]['name']\n",
    "    school_name=data_student_survey.loc[i]['school_name']\n",
    "    year =[int(x) for x in data_student_survey.loc[i]['for_graduate_year'].split(',')]\n",
    "    if not data_company_survey.empty:\n",
    "        query_name1 = data_company_survey[data_company_survey['school_name']==school_name]['name'].tolist()[0]\n",
    "        company_query_num=data_company_num[data_company_num['school_name']==school_name]['num'].values\n",
    "    else:\n",
    "        query_name1 = ''\n",
    "        company_query_num=''\n",
    "\n",
    "    school_data = data[(data['学校名称']==school_name)&(data['graduate_year'].isin(year))][['xl','院系','专业','总人数','填写人数','回收率','未填写人数']]\n",
    "    data_no_students=data2[(data2['学校名']==school_name)&(data2['graduate_year'].isin(year))][['学历','学院','专业','班级','姓名','学号']]\n",
    "    data_no_students.to_excel(f'【{query_name}】调研进度汇报{time_str}.xlsx')\n",
    "    wb = load_workbook(filename=f'【{query_name}】调研进度汇报{time_str}.xlsx')\n",
    "    sheet2 = wb.active\n",
    "    sheet2.title = '未提交明细'\n",
    "    sheet2['A1']='序号'\n",
    "    sheet1 = wb.create_sheet('统计',0)\n",
    "    #导出未填写的邮箱\n",
    "    data_email = data2[(data2['学校名']==school_name)&(data2['graduate_year'].isin(year))][['姓名','email']]\n",
    "    null_index = data_email.query('email.isnull()').index\n",
    "    if len(null_index)==0:\n",
    "        e_group=[]\n",
    "        for email in data_email['email'].tolist():\n",
    "            if not re.findall('@',email):continue\n",
    "            if 'qq' in email or 'QQ' in email:\n",
    "                if re.findall('\\d+@',email):\n",
    "                    e_group.append(re.findall('\\d+@',email)[0]+'qq.com')\n",
    "            else:\n",
    "                e_group.append(email)\n",
    "        pd.DataFrame(e_group).to_csv(f'【{school_name}】邮箱完整{time_str}.txt',sep='\\n',index=False, header = False)\n",
    "    #第二张表\n",
    "    make_detail_table(data_no_students,sheet2)\n",
    "    #第一张表\n",
    "    make_sum_table(True,school_data,sheet1,query_name,query_name1,company_query_num,curr_time)\n",
    "    \n",
    "    wb.save(f'【{query_name}】调研进度汇报{time_str}.xlsx')\n",
    "    print(f'【{query_name}】调研进度汇报{time_str}.xlsx---成功导出')\n",
    "print('over')"
   ]
  },
  {
   "cell_type": "code",
   "execution_count": null,
   "metadata": {},
   "outputs": [],
   "source": []
  }
 ],
 "metadata": {
  "hide_input": false,
  "kernelspec": {
   "display_name": "Python 3",
   "language": "python",
   "name": "python3"
  },
  "language_info": {
   "codemirror_mode": {
    "name": "ipython",
    "version": 3
   },
   "file_extension": ".py",
   "mimetype": "text/x-python",
   "name": "python",
   "nbconvert_exporter": "python",
   "pygments_lexer": "ipython3",
   "version": "3.8.3"
  },
  "toc": {
   "base_numbering": 1,
   "nav_menu": {},
   "number_sections": true,
   "sideBar": true,
   "skip_h1_title": false,
   "title_cell": "Table of Contents",
   "title_sidebar": "Contents",
   "toc_cell": false,
   "toc_position": {
    "height": "calc(100% - 180px)",
    "left": "10px",
    "top": "150px",
    "width": "191.775px"
   },
   "toc_section_display": true,
   "toc_window_display": true
  },
  "varInspector": {
   "cols": {
    "lenName": 16,
    "lenType": 16,
    "lenVar": 40
   },
   "kernels_config": {
    "python": {
     "delete_cmd_postfix": "",
     "delete_cmd_prefix": "del ",
     "library": "var_list.py",
     "varRefreshCmd": "print(var_dic_list())"
    },
    "r": {
     "delete_cmd_postfix": ") ",
     "delete_cmd_prefix": "rm(",
     "library": "var_list.r",
     "varRefreshCmd": "cat(var_dic_list()) "
    }
   },
   "types_to_exclude": [
    "module",
    "function",
    "builtin_function_or_method",
    "instance",
    "_Feature"
   ],
   "window_display": false
  }
 },
 "nbformat": 4,
 "nbformat_minor": 5
}
