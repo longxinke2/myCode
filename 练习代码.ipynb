{
 "cells": [
  {
   "cell_type": "code",
   "execution_count": 1,
   "metadata": {},
   "outputs": [],
   "source": [
    "import xlwings as xw"
   ]
  },
  {
   "cell_type": "code",
   "execution_count": 10,
   "metadata": {},
   "outputs": [],
   "source": [
    "wb = app.books.open('E:/桌面/1.xlsx')"
   ]
  },
  {
   "cell_type": "code",
   "execution_count": 7,
   "metadata": {},
   "outputs": [],
   "source": [
    "wb = xw.Book('E:/桌面/研究院工作周报-龙辛柯.xlsx')"
   ]
  },
  {
   "cell_type": "code",
   "execution_count": 55,
   "metadata": {
    "scrolled": true
   },
   "outputs": [],
   "source": [
    "wb = openpyxl.load_workbook('E:/桌面/研究院工作周报-龙辛柯.xlsx')"
   ]
  },
  {
   "cell_type": "code",
   "execution_count": 56,
   "metadata": {},
   "outputs": [],
   "source": [
    "ws = wb.worksheets[0]"
   ]
  },
  {
   "cell_type": "code",
   "execution_count": 57,
   "metadata": {},
   "outputs": [
    {
     "data": {
      "text/plain": [
       "'=\"龙辛柯-周报(\"&TEXT(G2,\"YYYY年MM月DD日\")&\"-\"&TEXT(G3,\"YYYY年MM月DD日\")&\")\"&G4'"
      ]
     },
     "execution_count": 57,
     "metadata": {},
     "output_type": "execute_result"
    }
   ],
   "source": [
    "ws['A1'].value"
   ]
  },
  {
   "cell_type": "code",
   "execution_count": 8,
   "metadata": {},
   "outputs": [],
   "source": [
    "import xlwings as xw\n",
    "app = xw.App(visible=True, add_book=False)\n",
    "wb = app.books.open('E:/桌面/研究院工作周报-龙辛柯.xlsx')"
   ]
  },
  {
   "cell_type": "code",
   "execution_count": 66,
   "metadata": {},
   "outputs": [],
   "source": [
    "ws=wb.sheets.active"
   ]
  },
  {
   "cell_type": "code",
   "execution_count": 69,
   "metadata": {},
   "outputs": [
    {
     "ename": "AttributeError",
     "evalue": "'Sheet' object has no attribute 'UsedRange'",
     "output_type": "error",
     "traceback": [
      "\u001b[1;31m---------------------------------------------------------------------------\u001b[0m",
      "\u001b[1;31mAttributeError\u001b[0m                            Traceback (most recent call last)",
      "\u001b[1;32m<ipython-input-69-fac3c49fa45d>\u001b[0m in \u001b[0;36m<module>\u001b[1;34m\u001b[0m\n\u001b[1;32m----> 1\u001b[1;33m \u001b[0mscreen_area\u001b[0m \u001b[1;33m=\u001b[0m \u001b[0mws\u001b[0m\u001b[1;33m.\u001b[0m\u001b[0mUsedRange\u001b[0m\u001b[1;33m\u001b[0m\u001b[1;33m\u001b[0m\u001b[0m\n\u001b[0m\u001b[0;32m      2\u001b[0m \u001b[0mscreen_area\u001b[0m\u001b[1;33m\u001b[0m\u001b[1;33m\u001b[0m\u001b[0m\n",
      "\u001b[1;31mAttributeError\u001b[0m: 'Sheet' object has no attribute 'UsedRange'"
     ]
    }
   ],
   "source": [
    "screen_area = ws.UsedRange\n",
    "screen_area"
   ]
  },
  {
   "cell_type": "code",
   "execution_count": 70,
   "metadata": {},
   "outputs": [],
   "source": [
    "wb.save() # 保存文件\n",
    "wb.close() # 关闭文件\n",
    "app.quit() # 关闭程序"
   ]
  },
  {
   "cell_type": "code",
   "execution_count": 59,
   "metadata": {},
   "outputs": [
    {
     "ename": "AttributeError",
     "evalue": "'Worksheet' object has no attribute 'UsedRange'",
     "output_type": "error",
     "traceback": [
      "\u001b[1;31m---------------------------------------------------------------------------\u001b[0m",
      "\u001b[1;31mAttributeError\u001b[0m                            Traceback (most recent call last)",
      "\u001b[1;32m<ipython-input-59-63d0dcd6c1f5>\u001b[0m in \u001b[0;36m<module>\u001b[1;34m\u001b[0m\n\u001b[1;32m----> 1\u001b[1;33m \u001b[0mscreen_area\u001b[0m \u001b[1;33m=\u001b[0m \u001b[0mws\u001b[0m\u001b[1;33m.\u001b[0m\u001b[0mUsedRange\u001b[0m  \u001b[1;31m# 有内容的区域\u001b[0m\u001b[1;33m\u001b[0m\u001b[1;33m\u001b[0m\u001b[0m\n\u001b[0m\u001b[0;32m      2\u001b[0m \u001b[0mscreen_area\u001b[0m\u001b[1;33m.\u001b[0m\u001b[0mCopyPicture\u001b[0m\u001b[1;33m(\u001b[0m\u001b[1;33m)\u001b[0m  \u001b[1;31m# 复制图片区域\u001b[0m\u001b[1;33m\u001b[0m\u001b[1;33m\u001b[0m\u001b[0m\n",
      "\u001b[1;31mAttributeError\u001b[0m: 'Worksheet' object has no attribute 'UsedRange'"
     ]
    }
   ],
   "source": [
    "screen_area = ws.UsedRange  # 有内容的区域\n",
    "screen_area.CopyPicture()  # 复制图片区域"
   ]
  },
  {
   "cell_type": "code",
   "execution_count": 42,
   "metadata": {},
   "outputs": [],
   "source": [
    "# cv2.namedWindow('xxx',0)\n",
    "# cv2.resizeWindow('xxx',700,500)\n",
    "cv2.imshow('xxx',img1)\n",
    "cv2.waitKey()#不然窗口显示不出来\n",
    "cv2.destroyAllWindows()"
   ]
  },
  {
   "cell_type": "code",
   "execution_count": 56,
   "metadata": {},
   "outputs": [],
   "source": [
    "results = cv2.matchTemplate(img, img1, cv2.TM_SQDIFF_NORMED)"
   ]
  },
  {
   "cell_type": "code",
   "execution_count": 57,
   "metadata": {},
   "outputs": [],
   "source": [
    "minValue, maxValue, minLoc, maxLoc = cv2.minMaxLoc(results)"
   ]
  },
  {
   "cell_type": "code",
   "execution_count": 22,
   "metadata": {},
   "outputs": [],
   "source": [
    "def nth_power(exponent):\n",
    "    sumnum = exponent\n",
    "    def exponent_of():\n",
    "        nonlocal  sumnum\n",
    "        sumnum = sumnum+1\n",
    "        print(sumnum)\n",
    "    return exponent_of\n",
    "square = nth_power(1)\n",
    "square1 = nth_power(1)"
   ]
  },
  {
   "cell_type": "code",
   "execution_count": 25,
   "metadata": {},
   "outputs": [
    {
     "name": "stdout",
     "output_type": "stream",
     "text": [
      "2\n"
     ]
    }
   ],
   "source": [
    "square1()"
   ]
  },
  {
   "cell_type": "code",
   "execution_count": 15,
   "metadata": {
    "scrolled": true
   },
   "outputs": [
    {
     "name": "stdout",
     "output_type": "stream",
     "text": [
      "True True 2933824425552 2933824425552\n"
     ]
    }
   ],
   "source": [
    "a = print\n",
    "b = print\n",
    "print(a==b,a is b,id(a),id(b))"
   ]
  },
  {
   "cell_type": "code",
   "execution_count": 16,
   "metadata": {},
   "outputs": [
    {
     "data": {
      "text/plain": [
       "2933824425552"
      ]
     },
     "execution_count": 16,
     "metadata": {},
     "output_type": "execute_result"
    }
   ],
   "source": [
    "id(print)"
   ]
  },
  {
   "cell_type": "code",
   "execution_count": null,
   "metadata": {},
   "outputs": [],
   "source": []
  },
  {
   "cell_type": "code",
   "execution_count": null,
   "metadata": {},
   "outputs": [],
   "source": [
    "import wx\n",
    "class MainWindow(wx.Frame):\n",
    "    def __init__(self, parent, title):\n",
    "        wx.Frame.__init__(self, parent, title = title, size = (500, 300))\n",
    "        self.Center() # 窗口在屏幕上居中\n",
    "        self.SetIcon(wx.Icon(r'E:\\ceshi\\yunyan.ico')) # 设置图标\n",
    "        self.SetBackgroundColour((0, 255, 0)) # 设置窗口背景色,但是被挡住了\n",
    "        \n",
    "        # 创建一个面板，用于放置控件***********\n",
    "        panel = wx.Panel(self, -1)\n",
    "        \n",
    "        # 在x=20，y=20的位置，创建静态文本控件\n",
    "        st = wx.StaticText(panel, -1, '我是静态文本控件', pos=(20, 20))\n",
    "        \n",
    "        #创建文本框，wx.TE_MULTILINE 参数来允许多行编辑\n",
    "        self.control = wx.TextCtrl(panel,-1 ,value='文本框',pos=(20,50),size=(100,-1),style = wx.TE_MULTILINE)\n",
    "        \n",
    "        self.CreateStatusBar()    #创建位于窗口的底部的状态栏\n",
    "        \n",
    "        #设置菜单************\n",
    "        \n",
    "        filemenu = wx.Menu()\n",
    "        #wx.ID_ABOUT和wx.ID_EXIT是wxWidgets提供的标准ID，虽然点击了退出也没反应，但是设置标准id的目的是为了ui而不是event\n",
    "        menuAbout = filemenu.Append(wx.ID_EXIT, \"打开\", \"打开文件\")\n",
    "        filemenu.AppendSeparator()\n",
    "        menuExit = filemenu.Append(wx.ID_EXIT, \"保存\", \"保存文件\")\n",
    "        \n",
    "        filemenu1 = wx.Menu()\n",
    "        #wx.ID_ABOUT和wx.ID_EXIT是wxWidgets提供的标准ID，虽然点击了退出也没反应，但是设置标准id的目的是为了ui而不是event\n",
    "        menuAbout = filemenu1.Append(wx.ID_ABOUT, \"关于\", \"关于程序的信息\")\n",
    "        filemenu1.AppendSeparator()\n",
    "        menuExit = filemenu1.Append(wx.ID_EXIT, \"退出\", \"终止应用程序\")\n",
    "        \n",
    "        menuBar = wx.MenuBar()\n",
    "        menuBar.Append(filemenu, \"文件\")\n",
    "        menuBar.Append(filemenu1, \"其他\")\n",
    "        self.SetMenuBar(menuBar)\n",
    "        \n",
    "        #设置事件，点击关于就会执行self.onabout\n",
    "        self.Bind(wx.EVT_MENU, self.OnExit, menuExit)\n",
    "        self.Bind(wx.EVT_MENU, self.OnAbout, menuAbout)\n",
    "        \n",
    "        self.Bind(wx.EVT_CLOSE, self.on_close) # 绑定窗口关闭事件\n",
    "        \n",
    "        #不写这个不会展示\n",
    "        self.Show(True)\n",
    "    \n",
    "    #event 好像没啥用啊\n",
    "    def OnAbout(self,event):\n",
    "        # 创建一个带\"OK\"按钮的对话框。wx.OK是wxWidgets提供的标准ID\n",
    "        dlg = wx.MessageDialog(self, \"这是一个文本框\", \\\n",
    "            \"关于\", wx.OK)    # 语法是(self, 内容, 标题, ID)\n",
    "        dlg.ShowModal()    # 显示对话框\n",
    "        dlg.Destroy()    # 当结束之后关闭对话框\n",
    "    \n",
    "    def OnExit(self,event):\n",
    "        self.Close(True)\n",
    "        \n",
    "    def on_close(self, evt):\n",
    "        \"\"\"关闭窗口事件函数\"\"\"\n",
    "        \n",
    "        dlg = wx.MessageDialog(None, '确定要关闭本窗口？', '操作提示', wx.YES_NO | wx.ICON_QUESTION)\n",
    "        if(dlg.ShowModal() == wx.ID_YES):\n",
    "            self.Destroy()\n",
    "\n",
    "app = wx.App(False) #创建1个APP，禁用stdout/stderr重定向\n",
    "frame = MainWindow(None,\"Hello, World!\")  #这是一个顶层的frame框架，parent为none\n",
    "\n",
    "#启动app\n",
    "app.MainLoop()\n",
    "del app"
   ]
  },
  {
   "cell_type": "code",
   "execution_count": 2,
   "metadata": {},
   "outputs": [
    {
     "data": {
      "text/plain": [
       "5006"
      ]
     },
     "execution_count": 2,
     "metadata": {},
     "output_type": "execute_result"
    }
   ],
   "source": [
    "wx.ID_EXIT"
   ]
  },
  {
   "cell_type": "code",
   "execution_count": 11,
   "metadata": {},
   "outputs": [
    {
     "name": "stdout",
     "output_type": "stream",
     "text": [
      "f 的类型：<class 'filter'>\n",
      "f 是Iterator：True\n",
      "1$3$5$7$9$"
     ]
    }
   ],
   "source": [
    "\n",
    "\n",
    "#用于过滤掉一切不需要的东西，下面我们以打印1～10之间的奇数为例说明：\n",
    "from collections import Iterable,Iterator\n",
    "#提前准备一个函数，判断是否为奇数\n",
    "def odd_z(x):\n",
    "    if x%2==1:\n",
    "        return True\n",
    "    else:\n",
    "        return False\n",
    "f=filter(odd_z,range(1,10))\n",
    "print(\"f 的类型：%s\"%type(f))\n",
    "print(\"f 是Iterator：%s\"%isinstance(f,Iterator))\n",
    "# try:\n",
    "#     print(next(f),end='')#f作为Iterator使用\n",
    "#     print(next(f),end='')\n",
    "# except:\n",
    "#     print(\"\\n结束了\")\n",
    "for i in f:#f作为Iterable使用\n",
    "    print(i,end='$')\n"
   ]
  },
  {
   "cell_type": "code",
   "execution_count": 2,
   "metadata": {},
   "outputs": [],
   "source": [
    "import lxk"
   ]
  },
  {
   "cell_type": "code",
   "execution_count": 4,
   "metadata": {},
   "outputs": [],
   "source": [
    "lxk.copy(a)"
   ]
  },
  {
   "cell_type": "code",
   "execution_count": 5,
   "metadata": {},
   "outputs": [],
   "source": [
    "import pandas as pd\n",
    "a = pd.DataFrame({'s':[1,2],'sb':[1,2]})\n",
    "b = pd.DataFrame({'b':[2,2],'sc':[1,2]})"
   ]
  },
  {
   "cell_type": "code",
   "execution_count": 6,
   "metadata": {},
   "outputs": [],
   "source": [
    "a[['b','sc']]=b"
   ]
  },
  {
   "cell_type": "code",
   "execution_count": 7,
   "metadata": {},
   "outputs": [
    {
     "data": {
      "text/html": [
       "<div>\n",
       "<style scoped>\n",
       "    .dataframe tbody tr th:only-of-type {\n",
       "        vertical-align: middle;\n",
       "    }\n",
       "\n",
       "    .dataframe tbody tr th {\n",
       "        vertical-align: top;\n",
       "    }\n",
       "\n",
       "    .dataframe thead th {\n",
       "        text-align: right;\n",
       "    }\n",
       "</style>\n",
       "<table border=\"1\" class=\"dataframe\">\n",
       "  <thead>\n",
       "    <tr style=\"text-align: right;\">\n",
       "      <th></th>\n",
       "      <th>s</th>\n",
       "      <th>sb</th>\n",
       "      <th>b</th>\n",
       "      <th>sc</th>\n",
       "    </tr>\n",
       "  </thead>\n",
       "  <tbody>\n",
       "    <tr>\n",
       "      <th>0</th>\n",
       "      <td>1</td>\n",
       "      <td>1</td>\n",
       "      <td>2</td>\n",
       "      <td>1</td>\n",
       "    </tr>\n",
       "    <tr>\n",
       "      <th>1</th>\n",
       "      <td>2</td>\n",
       "      <td>2</td>\n",
       "      <td>2</td>\n",
       "      <td>2</td>\n",
       "    </tr>\n",
       "  </tbody>\n",
       "</table>\n",
       "</div>"
      ],
      "text/plain": [
       "   s  sb  b  sc\n",
       "0  1   1  2   1\n",
       "1  2   2  2   2"
      ]
     },
     "execution_count": 7,
     "metadata": {},
     "output_type": "execute_result"
    }
   ],
   "source": [
    "a"
   ]
  },
  {
   "cell_type": "code",
   "execution_count": 2,
   "metadata": {},
   "outputs": [],
   "source": [
    "import pandas as pd"
   ]
  },
  {
   "cell_type": "code",
   "execution_count": 1,
   "metadata": {},
   "outputs": [],
   "source": [
    "import lxk"
   ]
  },
  {
   "cell_type": "code",
   "execution_count": null,
   "metadata": {},
   "outputs": [],
   "source": []
  },
  {
   "cell_type": "code",
   "execution_count": 50,
   "metadata": {},
   "outputs": [
    {
     "name": "stdout",
     "output_type": "stream",
     "text": [
      "Overwriting E:/桌面/工作目录/lxk.py\n"
     ]
    }
   ],
   "source": [
    "import requests\n",
    "import pandas as pd\n",
    "\n",
    "data_copy = 0\n",
    "\n",
    "def translate():\n",
    "    s = input(\":\")\n",
    "    dat = {\n",
    "        \"kw\":s\n",
    "    }\n",
    "    resp = requests.post(\"https://fanyi.baidu.com/sug\", data=dat)\n",
    "    print(resp.json()['data'][0]['v']) #将返回的内容直接返回为json\n",
    "\n",
    "def is_English():\n",
    "    string = input(\":\")\n",
    "    for ch in string:\n",
    "        if ord(ch) >= 128:\n",
    "            return ch\n",
    "    return True\n",
    "\n",
    "def copy(data=None):\n",
    "    global data_copy\n",
    "    if data is not None:\n",
    "        data_copy = data.copy(deep=True)\n",
    "    else:\n",
    "        return data_copy"
   ]
  },
  {
   "cell_type": "code",
   "execution_count": 47,
   "metadata": {},
   "outputs": [],
   "source": [
    "copy(a)"
   ]
  },
  {
   "cell_type": "code",
   "execution_count": 49,
   "metadata": {},
   "outputs": [],
   "source": [
    "b = copy()"
   ]
  },
  {
   "cell_type": "code",
   "execution_count": 24,
   "metadata": {},
   "outputs": [
    {
     "data": {
      "text/plain": [
       "['E:\\\\桌面\\\\工作目录\\\\其他',\n",
       " 'E:\\\\桌面\\\\工作目录',\n",
       " 'c:\\\\ProgramData\\\\Anaconda3\\\\python38.zip',\n",
       " 'c:\\\\ProgramData\\\\Anaconda3\\\\DLLs',\n",
       " 'c:\\\\ProgramData\\\\Anaconda3\\\\lib',\n",
       " 'c:\\\\ProgramData\\\\Anaconda3',\n",
       " '',\n",
       " 'C:\\\\Users\\\\Administrator\\\\AppData\\\\Roaming\\\\Python\\\\Python38\\\\site-packages',\n",
       " 'c:\\\\ProgramData\\\\Anaconda3\\\\lib\\\\site-packages',\n",
       " 'c:\\\\ProgramData\\\\Anaconda3\\\\lib\\\\site-packages\\\\win32',\n",
       " 'c:\\\\ProgramData\\\\Anaconda3\\\\lib\\\\site-packages\\\\win32\\\\lib',\n",
       " 'c:\\\\ProgramData\\\\Anaconda3\\\\lib\\\\site-packages\\\\Pythonwin',\n",
       " 'c:\\\\ProgramData\\\\Anaconda3\\\\lib\\\\site-packages\\\\IPython\\\\extensions',\n",
       " 'C:\\\\Users\\\\Administrator\\\\.ipython']"
      ]
     },
     "execution_count": 24,
     "metadata": {},
     "output_type": "execute_result"
    }
   ],
   "source": [
    "import sys\n",
    "sys.path"
   ]
  },
  {
   "cell_type": "code",
   "execution_count": null,
   "metadata": {},
   "outputs": [],
   "source": [
    "## import threading\n",
    "import time\n",
    " \n",
    "def run():\n",
    " \n",
    "    time.sleep(2)\n",
    "    print('当前线程的名字是： ', threading.current_thread().name)\n",
    "    time.sleep(2)\n",
    " \n",
    " \n",
    "if __name__ == '__main__':\n",
    " \n",
    "    start_time = time.time()\n",
    " \n",
    "    print('这是主线程：', threading.current_thread().name)\n",
    "    thread_list = []\n",
    "    for i in range(5):\n",
    "        t = threading.Thread(target=run)\n",
    "        thread_list.append(t)\n",
    " \n",
    "    for t in thread_list:\n",
    "        t.setDaemon(True)\n",
    "        t.start()\n",
    " \n",
    "    for t in thread_list:\n",
    "        t.join()\n",
    " \n",
    "    print('主线程结束了！' , threading.current_thread().name)\n",
    "    print('一共用时：', time.time()-start_time)"
   ]
  },
  {
   "cell_type": "code",
   "execution_count": 1,
   "metadata": {},
   "outputs": [],
   "source": [
    "from sys import getrefcount"
   ]
  },
  {
   "cell_type": "code",
   "execution_count": 16,
   "metadata": {},
   "outputs": [
    {
     "data": {
      "text/plain": [
       "3"
      ]
     },
     "execution_count": 16,
     "metadata": {},
     "output_type": "execute_result"
    }
   ],
   "source": [
    "getrefcount(12132323232)"
   ]
  },
  {
   "cell_type": "code",
   "execution_count": 11,
   "metadata": {},
   "outputs": [],
   "source": [
    "sdsd = 12132323232"
   ]
  },
  {
   "cell_type": "code",
   "execution_count": 17,
   "metadata": {},
   "outputs": [
    {
     "data": {
      "text/plain": [
       "2"
      ]
     },
     "execution_count": 17,
     "metadata": {},
     "output_type": "execute_result"
    }
   ],
   "source": [
    "getrefcount(dsd)"
   ]
  },
  {
   "cell_type": "code",
   "execution_count": 14,
   "metadata": {},
   "outputs": [],
   "source": [
    "dsd = 12132323232"
   ]
  },
  {
   "cell_type": "code",
   "execution_count": 18,
   "metadata": {},
   "outputs": [
    {
     "data": {
      "text/plain": [
       "2113970268304"
      ]
     },
     "execution_count": 18,
     "metadata": {},
     "output_type": "execute_result"
    }
   ],
   "source": [
    "id(a)"
   ]
  },
  {
   "cell_type": "code",
   "execution_count": 66,
   "metadata": {
    "scrolled": true
   },
   "outputs": [
    {
     "ename": "NameError",
     "evalue": "name 'sdssa' is not defined",
     "output_type": "error",
     "traceback": [
      "\u001b[1;31m---------------------------------------------------------------------------\u001b[0m",
      "\u001b[1;31mNameError\u001b[0m                                 Traceback (most recent call last)",
      "\u001b[1;32m<ipython-input-66-aee3c2054ba0>\u001b[0m in \u001b[0;36m<module>\u001b[1;34m\u001b[0m\n\u001b[0;32m      1\u001b[0m \u001b[0ma\u001b[0m \u001b[1;33m=\u001b[0m \u001b[1;36m0\u001b[0m\u001b[1;33m\u001b[0m\u001b[1;33m\u001b[0m\u001b[0m\n\u001b[1;32m----> 2\u001b[1;33m \u001b[1;32massert\u001b[0m \u001b[0msdssa\u001b[0m\u001b[1;33m,\u001b[0m\u001b[1;34m'？？？'\u001b[0m\u001b[1;33m\u001b[0m\u001b[1;33m\u001b[0m\u001b[0m\n\u001b[0m\u001b[0;32m      3\u001b[0m \u001b[0ma\u001b[0m \u001b[1;33m+=\u001b[0m \u001b[1;36m1\u001b[0m\u001b[1;33m\u001b[0m\u001b[1;33m\u001b[0m\u001b[0m\n\u001b[0;32m      4\u001b[0m \u001b[0mprint\u001b[0m\u001b[1;33m(\u001b[0m\u001b[0ma\u001b[0m\u001b[1;33m)\u001b[0m\u001b[1;33m\u001b[0m\u001b[1;33m\u001b[0m\u001b[0m\n",
      "\u001b[1;31mNameError\u001b[0m: name 'sdssa' is not defined"
     ]
    }
   ],
   "source": [
    "a = 0\n",
    "assert sdssa,'？？？'\n",
    "a += 1\n",
    "print(a)"
   ]
  },
  {
   "cell_type": "code",
   "execution_count": 10,
   "metadata": {},
   "outputs": [
    {
     "data": {
      "text/plain": [
       "{'ALLUSERSPROFILE': 'C:\\\\ProgramData',\n",
       " 'APPDATA': 'C:\\\\Users\\\\Administrator\\\\AppData\\\\Roaming',\n",
       " 'AWE_DIR': 'E:\\\\Awesomium SDK\\\\1.6.6\\\\',\n",
       " 'COMMONPROGRAMFILES': 'C:\\\\Program Files\\\\Common Files',\n",
       " 'COMMONPROGRAMFILES(X86)': 'C:\\\\Program Files (x86)\\\\Common Files',\n",
       " 'COMMONPROGRAMW6432': 'C:\\\\Program Files\\\\Common Files',\n",
       " 'COMPUTERNAME': 'PC-202011141257',\n",
       " 'COMSPEC': 'C:\\\\Windows\\\\system32\\\\cmd.exe',\n",
       " 'DRIVERDATA': 'C:\\\\Windows\\\\System32\\\\Drivers\\\\DriverData',\n",
       " 'FPS_BROWSER_APP_PROFILE_STRING': 'Internet Explorer',\n",
       " 'FPS_BROWSER_USER_PROFILE_STRING': 'Default',\n",
       " 'HOMEDRIVE': 'C:',\n",
       " 'HOMEPATH': '\\\\Users\\\\Administrator',\n",
       " 'LOCALAPPDATA': 'C:\\\\Users\\\\Administrator\\\\AppData\\\\Local',\n",
       " 'LOGONSERVER': '\\\\\\\\PC-202011141257',\n",
       " 'MYSQL_HOME': 'C:\\\\Users\\\\Administrator\\\\mysql-8.0.23-winx64',\n",
       " 'NUMBER_OF_PROCESSORS': '6',\n",
       " 'OS': 'Windows_NT',\n",
       " 'PATH': 'C:\\\\ProgramData\\\\Anaconda3\\\\Lib\\\\site-packages\\\\cv2\\\\../../x64/vc14/bin;c:\\\\ProgramData\\\\Anaconda3;c:\\\\ProgramData\\\\Anaconda3\\\\Library\\\\mingw-w64\\\\bin;c:\\\\ProgramData\\\\Anaconda3\\\\Library\\\\usr\\\\bin;c:\\\\ProgramData\\\\Anaconda3\\\\Library\\\\bin;c:\\\\ProgramData\\\\Anaconda3\\\\Scripts;E:\\\\VMware Workstatopm Pro\\\\bin\\\\;C:\\\\Windows\\\\system32;C:\\\\Windows;C:\\\\Windows\\\\System32\\\\Wbem;C:\\\\Windows\\\\System32\\\\WindowsPowerShell\\\\v1.0\\\\;C:\\\\Windows\\\\System32\\\\OpenSSH\\\\;C:\\\\Program Files\\\\Microsoft VS Code\\\\bin;C:\\\\Users\\\\Administrator\\\\mysql-8.0.23-winx64\\\\bin;C:\\\\Users\\\\Administrator\\\\mysql-8.0.23-winx64\\\\lib;C:\\\\Program Files\\\\Microsoft SQL Server\\\\Client SDK\\\\ODBC\\\\170\\\\Tools\\\\Binn\\\\;C:\\\\Program Files (x86)\\\\Microsoft SQL Server\\\\150\\\\Tools\\\\Binn\\\\;C:\\\\Program Files\\\\Microsoft SQL Server\\\\150\\\\Tools\\\\Binn\\\\;C:\\\\Program Files\\\\Microsoft SQL Server\\\\150\\\\DTS\\\\Binn\\\\;C:\\\\Program Files (x86)\\\\Microsoft SQL Server\\\\150\\\\DTS\\\\Binn\\\\;C:\\\\Program Files\\\\Azure Data Studio\\\\bin;E:\\\\wkhtmltopdf\\\\bin;D:\\\\abc;C:\\\\Program Files\\\\TortoiseSVN\\\\bin;E:\\\\桌面\\\\工作目录;C:\\\\Users\\\\Administrator\\\\AppData\\\\Local\\\\Programs\\\\Python\\\\Python38\\\\Scripts\\\\;C:\\\\Users\\\\Administrator\\\\AppData\\\\Local\\\\Programs\\\\Python\\\\Python38\\\\;C:\\\\Users\\\\Administrator\\\\AppData\\\\Local\\\\Microsoft\\\\WindowsApps;C:\\\\Users\\\\Administrator\\\\AppData\\\\Local\\\\Google\\\\Chrome\\\\Application;C:\\\\Program Files\\\\Azure Data Studio\\\\bin;',\n",
       " 'PATHEXT': '.COM;.EXE;.BAT;.CMD;.VBS;.VBE;.JS;.JSE;.WSF;.WSH;.MSC',\n",
       " 'PROCESSOR_ARCHITECTURE': 'AMD64',\n",
       " 'PROCESSOR_IDENTIFIER': 'Intel64 Family 6 Model 158 Stepping 10, GenuineIntel',\n",
       " 'PROCESSOR_LEVEL': '6',\n",
       " 'PROCESSOR_REVISION': '9e0a',\n",
       " 'PROGRAMDATA': 'C:\\\\ProgramData',\n",
       " 'PROGRAMFILES': 'C:\\\\Program Files',\n",
       " 'PROGRAMFILES(X86)': 'C:\\\\Program Files (x86)',\n",
       " 'PROGRAMW6432': 'C:\\\\Program Files',\n",
       " 'PSMODULEPATH': 'C:\\\\Program Files (x86)\\\\WindowsPowerShell\\\\Modules;C:\\\\Windows\\\\system32\\\\WindowsPowerShell\\\\v1.0\\\\Modules;C:\\\\Program Files (x86)\\\\Microsoft SQL Server\\\\150\\\\Tools\\\\PowerShell\\\\Modules\\\\;E:\\\\桌面\\\\AutoIt3\\\\AutoItX',\n",
       " 'PUBLIC': 'C:\\\\Users\\\\Public',\n",
       " 'PYTHONPATH': 'E:\\\\桌面\\\\工作目录',\n",
       " 'SESSIONNAME': 'Console',\n",
       " 'SYSTEMDRIVE': 'C:',\n",
       " 'SYSTEMROOT': 'C:\\\\Windows',\n",
       " 'TEMP': 'C:\\\\Users\\\\ADMINI~1\\\\AppData\\\\Local\\\\Temp',\n",
       " 'TMP': 'C:\\\\Users\\\\ADMINI~1\\\\AppData\\\\Local\\\\Temp',\n",
       " 'USERDOMAIN': 'PC-202011141257',\n",
       " 'USERDOMAIN_ROAMINGPROFILE': 'PC-202011141257',\n",
       " 'USERNAME': 'Administrator',\n",
       " 'USERPROFILE': 'C:\\\\Users\\\\Administrator',\n",
       " 'VS140COMNTOOLS': 'C:\\\\Program Files (x86)\\\\Microsoft Visual Studio 14.0\\\\Common7\\\\Tools\\\\',\n",
       " 'WINDIR': 'C:\\\\Windows',\n",
       " 'WXDRIVE_START_ARGS': '--wxdrive-setting=0 --disable-gpu --disable-software-rasterizer --enable-features=NetworkServiceInProcess',\n",
       " 'ZES_ENABLE_SYSMAN': '1',\n",
       " 'CONDA_PREFIX': 'c:\\\\ProgramData\\\\Anaconda3',\n",
       " 'KERNEL_LAUNCH_TIMEOUT': '40',\n",
       " 'JPY_INTERRUPT_EVENT': '2468',\n",
       " 'IPY_INTERRUPT_EVENT': '2468',\n",
       " 'JPY_PARENT_PID': '2464',\n",
       " 'TERM': 'xterm-color',\n",
       " 'CLICOLOR': '1',\n",
       " 'PAGER': 'cat',\n",
       " 'GIT_PAGER': 'cat',\n",
       " 'MPLBACKEND': 'module://ipykernel.pylab.backend_inline'}"
      ]
     },
     "execution_count": 10,
     "metadata": {},
     "output_type": "execute_result"
    }
   ],
   "source": [
    "%env"
   ]
  },
  {
   "cell_type": "code",
   "execution_count": 13,
   "metadata": {},
   "outputs": [
    {
     "name": "stdout",
     "output_type": "stream",
     "text": [
      " 驱动器 E 中的卷是 办公\n",
      " 卷的序列号是 65F3-3762\n",
      "\n",
      " E:\\桌面\\工作目录\\其他 的目录\n",
      "\n",
      "2023/01/16  14:07    <DIR>          .\n",
      "2023/01/16  14:07    <DIR>          ..\n",
      "2023/01/13  16:42    <DIR>          .ipynb_checkpoints\n",
      "2023/01/05  21:33                67 3.png\n",
      "2023/01/16  14:07    <DIR>          aaa\n",
      "2023/01/13  18:02             6,517 SMTP发送周报.ipynb\n",
      "2023/01/11  08:47             5,876 Untitled.ipynb\n",
      "2023/01/11  17:25             4,647 窗口代码.ipynb\n",
      "2023/01/09  16:00             3,340 加班时长计算.ipynb\n",
      "2023/01/16  14:03           180,114 练习代码.ipynb\n",
      "               6 个文件        200,561 字节\n",
      "               4 个目录 67,517,177,856 可用字节\n"
     ]
    }
   ],
   "source": [
    "%ls"
   ]
  },
  {
   "cell_type": "code",
   "execution_count": 12,
   "metadata": {
    "scrolled": true
   },
   "outputs": [],
   "source": [
    "%mkdir aaa"
   ]
  },
  {
   "cell_type": "code",
   "execution_count": 15,
   "metadata": {},
   "outputs": [
    {
     "name": "stderr",
     "output_type": "stream",
     "text": [
      "UsageError: Line magic function `%touch` not found.\n"
     ]
    }
   ],
   "source": [
    "%touch 1.txt"
   ]
  },
  {
   "cell_type": "code",
   "execution_count": 9,
   "metadata": {},
   "outputs": [
    {
     "ename": "AttributeError",
     "evalue": "'int' object has no attribute 'str'",
     "output_type": "error",
     "traceback": [
      "\u001b[1;31m---------------------------------------------------------------------------\u001b[0m",
      "\u001b[1;31mAttributeError\u001b[0m                            Traceback (most recent call last)",
      "\u001b[1;32m<ipython-input-9-6f75becfe7bf>\u001b[0m in \u001b[0;36m<module>\u001b[1;34m\u001b[0m\n\u001b[0;32m      1\u001b[0m \u001b[0ma\u001b[0m  \u001b[1;33m=\u001b[0m \u001b[1;36m1\u001b[0m\u001b[1;33m\u001b[0m\u001b[1;33m\u001b[0m\u001b[0m\n\u001b[1;32m----> 2\u001b[1;33m \u001b[0ma\u001b[0m\u001b[1;33m.\u001b[0m\u001b[0mstr\u001b[0m\u001b[1;33m\u001b[0m\u001b[1;33m\u001b[0m\u001b[0m\n\u001b[0m",
      "\u001b[1;31mAttributeError\u001b[0m: 'int' object has no attribute 'str'"
     ]
    }
   ],
   "source": [
    "a  = 1\n",
    "a.str"
   ]
  },
  {
   "cell_type": "code",
   "execution_count": null,
   "metadata": {},
   "outputs": [],
   "source": [
    "print(1)"
   ]
  }
 ],
 "metadata": {
  "kernelspec": {
   "display_name": "Python 3",
   "language": "python",
   "name": "python3"
  },
  "language_info": {
   "codemirror_mode": {
    "name": "ipython",
    "version": 3
   },
   "file_extension": ".py",
   "mimetype": "text/x-python",
   "name": "python",
   "nbconvert_exporter": "python",
   "pygments_lexer": "ipython3",
   "version": "3.8.3"
  },
  "toc": {
   "base_numbering": 1,
   "nav_menu": {},
   "number_sections": true,
   "sideBar": true,
   "skip_h1_title": false,
   "title_cell": "Table of Contents",
   "title_sidebar": "Contents",
   "toc_cell": false,
   "toc_position": {},
   "toc_section_display": true,
   "toc_window_display": false
  }
 },
 "nbformat": 4,
 "nbformat_minor": 4
}
