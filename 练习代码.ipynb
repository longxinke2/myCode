{
 "cells": [
  {
   "cell_type": "code",
   "execution_count": 1,
   "metadata": {},
   "outputs": [
    {
     "name": "stdout",
     "output_type": "stream",
     "text": [
      "好耶，今天又是自由自在的一天，早上就我一个人值班，而且平台组的又去省中心了我这排又没人。\n",
      "\t现在我突然在思考一件事情，我要不要换工作的电脑的壁纸？我以前不换是因为我不想暴露我的喜好，因为我想建立内心的高墙。现在高墙是建立不起来了，当然我现在的目标是解构而不是孤立自己。不过我确实发现我心里还有孤独的影子，我五一会回去的，因为我需要向txy炫耀我抽到了草神，想向她展示我的一拖三，想和她一起看看米哈游的新游。为此，我愿意回家接受唠叨，甚至觉得虽然是对牛弹琴，但是我弹琴也可以不讲逻辑主打一个赢了就行。\n",
      "\t跑题了，我现在换壁纸有两个问题，第一是我怎么解释自己突然换壁纸，二是我喜好比较频繁，老是换壁纸有点浪费时间。----eat apple陈静在群里发了一句话说不要因为某一个客户不提需求，就降低我们自己的工作标准，他不提，别的部门会提，别的部门不提，验收专家也会提，最终承担后果的还是我们自己！其实有一说一，干程序员的时候主打的就是一个敏捷开发，不做无用的需求，反正结构好加功能很快的。\n",
      "\t学湖北的东西贼痛苦我突然觉得如果要不记得说到哪了，反正我感觉最近很抑郁可能和气氛有关我不想说但是我觉得气氛难以处理我现在感觉很喜欢开会，因为大家都负责了大项目，就我不需要统筹只需要做事，很舒服做事我最近好困，原神昨天大概搞了两个小时的跑图把能开的锚点开了，发现其实跑个图也不算慢，2个小时就能换一个自由掌控的材料世界。我现在准备了几个小时用的体力药，准备再开一个小号的锚点。不过这样一来，我抽到新角色，连图都跑不了，我有点不知道抽出来干嘛。或者说，奔着秒怪去抽万叶的话，我总不能闲着没事干天天去杀怪吧。这样看似乎应该抽宵宫这种xp角色，xp角色本质是收藏，能在大世界跑跑跳跳杀杀怪就很满足了。不过万叶是肯定要抽的，我抽到了我愿意天天上线打怪。别说什么大号帮忙，双开很麻烦的，一个人操控两个号走路。不过40级的万叶和50级的伤害能相差50%的伤害，先看看40级能不能秒怪，不能就看星辉能不能买材料了，不能就尝试偷渡稻妻。好，陈静搬到诚睿那边去了，随便抒发一点东西。陈静真的好个性，我的意思是，她闻到外面微波炉有香味，想吃顿好的，于是询问大家晚上加班吗一起点餐，诚睿乘机起哄，说点疯狂星期四，然后大家都留下来了，就我不留，其实照往常来说我为了吃鸡可能也留下来了，但是今天晚上我想要回去卡bug玩原神，千金难买心头好。其实理智一点的话完全可以放到明天，这样相当于赚了25块钱的饭钱，但是我不喜欢去思考钱有关的事情，一个是首先不是什么都能用钱来衡量，因为性价比这种东西很难说，很多东西都没办法量化。我以前还计算玩原神和考研上岸哪个性价比高呢，奇怪这东西还要算？显然是考研啊，但是我算完之后依然玩原神玩的飞起。第二是很多东西没必要算的那么清楚因为都是小钱，虽然我平时玩个游戏抠抠搜搜的月卡都要想一想充不充，但是其实这很合理，因为衣食住行这些东西是必须支出的，而游戏是不必要的支出。像吃饭我也懒得算怎么吃划算，一碗面7块钱，一顿好的25，虽然相差很大但是对我来说就是口感上有点差别而已，虽然我也买零食，但零食完全是和主食分开用来填充看视频的闲暇时间的。我回家吃碗面和呆在这吃顿kfc，相当于我牺牲了7块钱和美食的快乐，去换一个晚上玩原神的快乐。4小时的调休相当于没有，因为大家的调休都用不完，能不多工作就不多工作。其实我还有一点不好意思说出来的理由就是这样显得我特立独行，其实我日常表现出来的就是对吃的穿的没感觉，喜欢玩游戏的那种人。我也挺喜欢这种状态，我本来也确实不在乎。我从来不点奶茶，我就是觉得没什么意思。但有一说一表现的特立独行是一种不那么好的心理，还是掺杂了一点喜欢和别人比较的优越感。说到优越感，今天陈静做山西的东西说山西gdp倒数还想着和人家江苏比，你有那么多钱投资教育行业吗。我要是山西人我可能当场就怼回去了，你这优越感真的莫名其妙，人与人之间都只有5%的差距是天赋的影响，何况是省和省之间，天时地利人和哪个不重要，一个省份不发达不是嘲笑的理由，当然其实我没资格指责别人，因为我仔细想了一下，我发现之所以我能发现陈静有优越感，是因为我也有优越感，我察觉到了陈静有优越感，确实是因为我对省份经济没有优越感，因为江西经济也不发达，我不是一个喜欢比上不足比下有余的人，我会骂上面的人优越狗。但是在我擅长的领域，我并没有避免自己的优越感，比如最近改自动化代码的时候，觉得佳凡写的代码属实逆天，要优化的点太多了，不然我也不可能推倒重构。但人家不是计算机专业，代码不强是事实，你一个科班出身的有什么好优越的。当我评价为逆天的时候，这涉及到了人的能力和素质部分，就是优越感，没得跑。什么时候我能平静的觉得这个代码有一些问题可以优化，这才说明我确实放弃了优越感。不过我不知道如何实现，但我一定要实现，因为我讨厌优越感带来的不安全感，讨厌刚优越了一会马上就有比你厉害的人打你脸的感觉。但至少我现在可以做到不表现出来我的优越感，比如即使我是山西人我也不会回怼陈静，我现在就希望我解剖自己能让自己的心走向自己想要的境界，但也要提升自己的外在环境，只要外在环境没有竞争，我自然会放弃用于生存的优越感。嗯我说的就是考公。其实优越感就是因为被打脸不舒服倒逼人类上进提高生产能力。果不其然，今天除了我之外没人值班，佳凡还老说和我换到现在还没幻想她真的会和我换，不过我不喜欢计较比较我的精力需要专注在别的地方，我感兴趣的地方。\n",
      "\t昨天我还反思了一些东西，比如，我既然讨厌优越感，为什么能看cool china系列笑出来。但扪心自问，我对那些拍土味的并不鄙视，我要真喜欢找乐子我自己去看土味角虫了。我喜欢的是看koni如何鉴赏这些视频，一个外国女生的思维，我真的很好奇。现实中没有女朋友让我接触了解，虚拟的还不行吗。而且我觉得也有点用，现在我看土味一点都不反感，河南人都是神，承载不败的传闻！因为妮喜欢这些东西，让我觉得这些抽象的东西也许真有魅力在里面。刚那个开空调的女生来开空调，以往这里不只有我，她每次来都会和别人聊几句，但今天只有我。我突然觉得气氛有点尴尬，想说句谢谢，但是没好意思说。因为我觉得说谢谢有点唐突，毕竟以前没说过，我害怕她误以为我喜欢她才说的，其实我确实有点喜欢，但我单纯是觉得她好看，好看一定不属于我。好看的人一般浓妆淡抹，我不爱好打扮她们可看不上。当然这确实有点偏见，不过偏见也得解构出来。\n",
      "\t哎我想到了，之前一直觉得哲学入门难，太多符号看不懂，现在可以问chatGPT了。什么大他者查一查就好了。突然想起来昨天陈静说诚睿今天穿的好年轻，没穿黑白灰，我来一句我现在穿的就是黑白灰，这个时候诚睿马上接了一句没事你本来就看起来很年轻，真的诚睿情商太高了我学不来，还是保持我的沉默是金吧。我感觉陈静最近确实心情不好，开个周会还要含沙射影，我猜应该是说超群，她说不能因为心情不好延误进度，负责大项目的也就超群佳凡和诚睿，平台组这边我是知道的，超群心情不好也能理解，哎，被女人拿捏了真不爽。当然我其实是一无所知的，全靠猜测分析，所以我一个意见都不会发布，\n"
     ]
    }
   ],
   "source": [
    "import lxk\n",
    "lxk.decode()"
   ]
  },
  {
   "cell_type": "code",
   "execution_count": 10,
   "metadata": {},
   "outputs": [],
   "source": [
    "wb = app.books.open('E:/桌面/1.xlsx')"
   ]
  },
  {
   "cell_type": "code",
   "execution_count": 7,
   "metadata": {},
   "outputs": [],
   "source": [
    "wb = xw.Book('E:/桌面/研究院工作周报-龙辛柯.xlsx')"
   ]
  },
  {
   "cell_type": "code",
   "execution_count": 55,
   "metadata": {
    "scrolled": true
   },
   "outputs": [],
   "source": [
    "wb = openpyxl.load_workbook('E:/桌面/研究院工作周报-龙辛柯.xlsx')"
   ]
  },
  {
   "cell_type": "code",
   "execution_count": 56,
   "metadata": {},
   "outputs": [],
   "source": [
    "ws = wb.worksheets[0]"
   ]
  },
  {
   "cell_type": "code",
   "execution_count": 57,
   "metadata": {},
   "outputs": [
    {
     "data": {
      "text/plain": [
       "'=\"龙辛柯-周报(\"&TEXT(G2,\"YYYY年MM月DD日\")&\"-\"&TEXT(G3,\"YYYY年MM月DD日\")&\")\"&G4'"
      ]
     },
     "execution_count": 57,
     "metadata": {},
     "output_type": "execute_result"
    }
   ],
   "source": [
    "ws['A1'].value"
   ]
  },
  {
   "cell_type": "code",
   "execution_count": 8,
   "metadata": {},
   "outputs": [],
   "source": [
    "import xlwings as xw\n",
    "app = xw.App(visible=True, add_book=False)\n",
    "wb = app.books.open('E:/桌面/研究院工作周报-龙辛柯.xlsx')"
   ]
  },
  {
   "cell_type": "code",
   "execution_count": 66,
   "metadata": {},
   "outputs": [],
   "source": [
    "ws=wb.sheets.active"
   ]
  },
  {
   "cell_type": "code",
   "execution_count": 69,
   "metadata": {},
   "outputs": [
    {
     "ename": "AttributeError",
     "evalue": "'Sheet' object has no attribute 'UsedRange'",
     "output_type": "error",
     "traceback": [
      "\u001b[1;31m---------------------------------------------------------------------------\u001b[0m",
      "\u001b[1;31mAttributeError\u001b[0m                            Traceback (most recent call last)",
      "\u001b[1;32m<ipython-input-69-fac3c49fa45d>\u001b[0m in \u001b[0;36m<module>\u001b[1;34m\u001b[0m\n\u001b[1;32m----> 1\u001b[1;33m \u001b[0mscreen_area\u001b[0m \u001b[1;33m=\u001b[0m \u001b[0mws\u001b[0m\u001b[1;33m.\u001b[0m\u001b[0mUsedRange\u001b[0m\u001b[1;33m\u001b[0m\u001b[1;33m\u001b[0m\u001b[0m\n\u001b[0m\u001b[0;32m      2\u001b[0m \u001b[0mscreen_area\u001b[0m\u001b[1;33m\u001b[0m\u001b[1;33m\u001b[0m\u001b[0m\n",
      "\u001b[1;31mAttributeError\u001b[0m: 'Sheet' object has no attribute 'UsedRange'"
     ]
    }
   ],
   "source": [
    "screen_area = ws.UsedRange\n",
    "screen_area"
   ]
  },
  {
   "cell_type": "code",
   "execution_count": 70,
   "metadata": {},
   "outputs": [],
   "source": [
    "wb.save() # 保存文件\n",
    "wb.close() # 关闭文件\n",
    "app.quit() # 关闭程序"
   ]
  },
  {
   "cell_type": "code",
   "execution_count": 59,
   "metadata": {},
   "outputs": [
    {
     "ename": "AttributeError",
     "evalue": "'Worksheet' object has no attribute 'UsedRange'",
     "output_type": "error",
     "traceback": [
      "\u001b[1;31m---------------------------------------------------------------------------\u001b[0m",
      "\u001b[1;31mAttributeError\u001b[0m                            Traceback (most recent call last)",
      "\u001b[1;32m<ipython-input-59-63d0dcd6c1f5>\u001b[0m in \u001b[0;36m<module>\u001b[1;34m\u001b[0m\n\u001b[1;32m----> 1\u001b[1;33m \u001b[0mscreen_area\u001b[0m \u001b[1;33m=\u001b[0m \u001b[0mws\u001b[0m\u001b[1;33m.\u001b[0m\u001b[0mUsedRange\u001b[0m  \u001b[1;31m# 有内容的区域\u001b[0m\u001b[1;33m\u001b[0m\u001b[1;33m\u001b[0m\u001b[0m\n\u001b[0m\u001b[0;32m      2\u001b[0m \u001b[0mscreen_area\u001b[0m\u001b[1;33m.\u001b[0m\u001b[0mCopyPicture\u001b[0m\u001b[1;33m(\u001b[0m\u001b[1;33m)\u001b[0m  \u001b[1;31m# 复制图片区域\u001b[0m\u001b[1;33m\u001b[0m\u001b[1;33m\u001b[0m\u001b[0m\n",
      "\u001b[1;31mAttributeError\u001b[0m: 'Worksheet' object has no attribute 'UsedRange'"
     ]
    }
   ],
   "source": [
    "screen_area = ws.UsedRange  # 有内容的区域\n",
    "screen_area.CopyPicture()  # 复制图片区域"
   ]
  },
  {
   "cell_type": "code",
   "execution_count": 42,
   "metadata": {},
   "outputs": [],
   "source": [
    "# cv2.namedWindow('xxx',0)\n",
    "# cv2.resizeWindow('xxx',700,500)\n",
    "cv2.imshow('xxx',img1)\n",
    "cv2.waitKey()#不然窗口显示不出来\n",
    "cv2.destroyAllWindows()"
   ]
  },
  {
   "cell_type": "code",
   "execution_count": 56,
   "metadata": {},
   "outputs": [],
   "source": [
    "results = cv2.matchTemplate(img, img1, cv2.TM_SQDIFF_NORMED)"
   ]
  },
  {
   "cell_type": "code",
   "execution_count": 57,
   "metadata": {},
   "outputs": [],
   "source": [
    "minValue, maxValue, minLoc, maxLoc = cv2.minMaxLoc(results)"
   ]
  },
  {
   "cell_type": "code",
   "execution_count": 22,
   "metadata": {},
   "outputs": [],
   "source": [
    "def nth_power(exponent):\n",
    "    sumnum = exponent\n",
    "    def exponent_of():\n",
    "        nonlocal  sumnum\n",
    "        sumnum = sumnum+1\n",
    "        print(sumnum)\n",
    "    return exponent_of\n",
    "square = nth_power(1)\n",
    "square1 = nth_power(1)"
   ]
  },
  {
   "cell_type": "code",
   "execution_count": 25,
   "metadata": {},
   "outputs": [
    {
     "name": "stdout",
     "output_type": "stream",
     "text": [
      "2\n"
     ]
    }
   ],
   "source": [
    "square1()"
   ]
  },
  {
   "cell_type": "code",
   "execution_count": 15,
   "metadata": {
    "scrolled": true
   },
   "outputs": [
    {
     "name": "stdout",
     "output_type": "stream",
     "text": [
      "True True 2933824425552 2933824425552\n"
     ]
    }
   ],
   "source": [
    "a = print\n",
    "b = print\n",
    "print(a==b,a is b,id(a),id(b))"
   ]
  },
  {
   "cell_type": "code",
   "execution_count": 16,
   "metadata": {},
   "outputs": [
    {
     "data": {
      "text/plain": [
       "2933824425552"
      ]
     },
     "execution_count": 16,
     "metadata": {},
     "output_type": "execute_result"
    }
   ],
   "source": [
    "id(print)"
   ]
  },
  {
   "cell_type": "code",
   "execution_count": null,
   "metadata": {},
   "outputs": [],
   "source": []
  },
  {
   "cell_type": "code",
   "execution_count": null,
   "metadata": {},
   "outputs": [],
   "source": [
    "import wx\n",
    "class MainWindow(wx.Frame):\n",
    "    def __init__(self, parent, title):\n",
    "        wx.Frame.__init__(self, parent, title = title, size = (500, 300))\n",
    "        self.Center() # 窗口在屏幕上居中\n",
    "        self.SetIcon(wx.Icon(r'E:\\ceshi\\yunyan.ico')) # 设置图标\n",
    "        self.SetBackgroundColour((0, 255, 0)) # 设置窗口背景色,但是被挡住了\n",
    "        \n",
    "        # 创建一个面板，用于放置控件***********\n",
    "        panel = wx.Panel(self, -1)\n",
    "        \n",
    "        # 在x=20，y=20的位置，创建静态文本控件\n",
    "        st = wx.StaticText(panel, -1, '我是静态文本控件', pos=(20, 20))\n",
    "        \n",
    "        #创建文本框，wx.TE_MULTILINE 参数来允许多行编辑\n",
    "        self.control = wx.TextCtrl(panel,-1 ,value='文本框',pos=(20,50),size=(100,-1),style = wx.TE_MULTILINE)\n",
    "        \n",
    "        self.CreateStatusBar()    #创建位于窗口的底部的状态栏\n",
    "        \n",
    "        #设置菜单************\n",
    "        \n",
    "        filemenu = wx.Menu()\n",
    "        #wx.ID_ABOUT和wx.ID_EXIT是wxWidgets提供的标准ID，虽然点击了退出也没反应，但是设置标准id的目的是为了ui而不是event\n",
    "        menuAbout = filemenu.Append(wx.ID_EXIT, \"打开\", \"打开文件\")\n",
    "        filemenu.AppendSeparator()\n",
    "        menuExit = filemenu.Append(wx.ID_EXIT, \"保存\", \"保存文件\")\n",
    "        \n",
    "        filemenu1 = wx.Menu()\n",
    "        #wx.ID_ABOUT和wx.ID_EXIT是wxWidgets提供的标准ID，虽然点击了退出也没反应，但是设置标准id的目的是为了ui而不是event\n",
    "        menuAbout = filemenu1.Append(wx.ID_ABOUT, \"关于\", \"关于程序的信息\")\n",
    "        filemenu1.AppendSeparator()\n",
    "        menuExit = filemenu1.Append(wx.ID_EXIT, \"退出\", \"终止应用程序\")\n",
    "        \n",
    "        menuBar = wx.MenuBar()\n",
    "        menuBar.Append(filemenu, \"文件\")\n",
    "        menuBar.Append(filemenu1, \"其他\")\n",
    "        self.SetMenuBar(menuBar)\n",
    "        \n",
    "        #设置事件，点击关于就会执行self.onabout\n",
    "        self.Bind(wx.EVT_MENU, self.OnExit, menuExit)\n",
    "        self.Bind(wx.EVT_MENU, self.OnAbout, menuAbout)\n",
    "        \n",
    "        self.Bind(wx.EVT_CLOSE, self.on_close) # 绑定窗口关闭事件\n",
    "        \n",
    "        #不写这个不会展示\n",
    "        self.Show(True)\n",
    "    \n",
    "    #event 好像没啥用啊\n",
    "    def OnAbout(self,event):\n",
    "        # 创建一个带\"OK\"按钮的对话框。wx.OK是wxWidgets提供的标准ID\n",
    "        dlg = wx.MessageDialog(self, \"这是一个文本框\", \\\n",
    "            \"关于\", wx.OK)    # 语法是(self, 内容, 标题, ID)\n",
    "        dlg.ShowModal()    # 显示对话框\n",
    "        dlg.Destroy()    # 当结束之后关闭对话框\n",
    "    \n",
    "    def OnExit(self,event):\n",
    "        self.Close(True)\n",
    "        \n",
    "    def on_close(self, evt):\n",
    "        \"\"\"关闭窗口事件函数\"\"\"\n",
    "        \n",
    "        dlg = wx.MessageDialog(None, '确定要关闭本窗口？', '操作提示', wx.YES_NO | wx.ICON_QUESTION)\n",
    "        if(dlg.ShowModal() == wx.ID_YES):\n",
    "            self.Destroy()\n",
    "\n",
    "app = wx.App(False) #创建1个APP，禁用stdout/stderr重定向\n",
    "frame = MainWindow(None,\"Hello, World!\")  #这是一个顶层的frame框架，parent为none\n",
    "\n",
    "#启动app\n",
    "app.MainLoop()\n",
    "del app"
   ]
  },
  {
   "cell_type": "code",
   "execution_count": 2,
   "metadata": {},
   "outputs": [
    {
     "data": {
      "text/plain": [
       "5006"
      ]
     },
     "execution_count": 2,
     "metadata": {},
     "output_type": "execute_result"
    }
   ],
   "source": [
    "wx.ID_EXIT"
   ]
  },
  {
   "cell_type": "code",
   "execution_count": 11,
   "metadata": {},
   "outputs": [
    {
     "name": "stdout",
     "output_type": "stream",
     "text": [
      "f 的类型：<class 'filter'>\n",
      "f 是Iterator：True\n",
      "1$3$5$7$9$"
     ]
    }
   ],
   "source": [
    "\n",
    "\n",
    "#用于过滤掉一切不需要的东西，下面我们以打印1～10之间的奇数为例说明：\n",
    "from collections import Iterable,Iterator\n",
    "#提前准备一个函数，判断是否为奇数\n",
    "def odd_z(x):\n",
    "    if x%2==1:\n",
    "        return True\n",
    "    else:\n",
    "        return False\n",
    "f=filter(odd_z,range(1,10))\n",
    "print(\"f 的类型：%s\"%type(f))\n",
    "print(\"f 是Iterator：%s\"%isinstance(f,Iterator))\n",
    "# try:\n",
    "#     print(next(f),end='')#f作为Iterator使用\n",
    "#     print(next(f),end='')\n",
    "# except:\n",
    "#     print(\"\\n结束了\")\n",
    "for i in f:#f作为Iterable使用\n",
    "    print(i,end='$')\n"
   ]
  },
  {
   "cell_type": "code",
   "execution_count": 2,
   "metadata": {},
   "outputs": [],
   "source": [
    "import lxk"
   ]
  },
  {
   "cell_type": "code",
   "execution_count": 4,
   "metadata": {},
   "outputs": [],
   "source": [
    "lxk.copy(a)"
   ]
  },
  {
   "cell_type": "code",
   "execution_count": 5,
   "metadata": {},
   "outputs": [],
   "source": [
    "import pandas as pd\n",
    "a = pd.DataFrame({'s':[1,2],'sb':[1,2]})\n",
    "b = pd.DataFrame({'b':[2,2],'sc':[1,2]})"
   ]
  },
  {
   "cell_type": "code",
   "execution_count": 6,
   "metadata": {},
   "outputs": [],
   "source": [
    "a[['b','sc']]=b"
   ]
  },
  {
   "cell_type": "code",
   "execution_count": 7,
   "metadata": {},
   "outputs": [
    {
     "data": {
      "text/html": [
       "<div>\n",
       "<style scoped>\n",
       "    .dataframe tbody tr th:only-of-type {\n",
       "        vertical-align: middle;\n",
       "    }\n",
       "\n",
       "    .dataframe tbody tr th {\n",
       "        vertical-align: top;\n",
       "    }\n",
       "\n",
       "    .dataframe thead th {\n",
       "        text-align: right;\n",
       "    }\n",
       "</style>\n",
       "<table border=\"1\" class=\"dataframe\">\n",
       "  <thead>\n",
       "    <tr style=\"text-align: right;\">\n",
       "      <th></th>\n",
       "      <th>s</th>\n",
       "      <th>sb</th>\n",
       "      <th>b</th>\n",
       "      <th>sc</th>\n",
       "    </tr>\n",
       "  </thead>\n",
       "  <tbody>\n",
       "    <tr>\n",
       "      <th>0</th>\n",
       "      <td>1</td>\n",
       "      <td>1</td>\n",
       "      <td>2</td>\n",
       "      <td>1</td>\n",
       "    </tr>\n",
       "    <tr>\n",
       "      <th>1</th>\n",
       "      <td>2</td>\n",
       "      <td>2</td>\n",
       "      <td>2</td>\n",
       "      <td>2</td>\n",
       "    </tr>\n",
       "  </tbody>\n",
       "</table>\n",
       "</div>"
      ],
      "text/plain": [
       "   s  sb  b  sc\n",
       "0  1   1  2   1\n",
       "1  2   2  2   2"
      ]
     },
     "execution_count": 7,
     "metadata": {},
     "output_type": "execute_result"
    }
   ],
   "source": [
    "a"
   ]
  },
  {
   "cell_type": "code",
   "execution_count": 2,
   "metadata": {},
   "outputs": [],
   "source": [
    "import pandas as pd"
   ]
  },
  {
   "cell_type": "code",
   "execution_count": 1,
   "metadata": {},
   "outputs": [],
   "source": [
    "import lxk"
   ]
  },
  {
   "cell_type": "code",
   "execution_count": null,
   "metadata": {},
   "outputs": [],
   "source": []
  },
  {
   "cell_type": "code",
   "execution_count": 50,
   "metadata": {},
   "outputs": [
    {
     "name": "stdout",
     "output_type": "stream",
     "text": [
      "Overwriting E:/桌面/工作目录/lxk.py\n"
     ]
    }
   ],
   "source": [
    "import requests\n",
    "import pandas as pd\n",
    "\n",
    "data_copy = 0\n",
    "\n",
    "def translate():\n",
    "    s = input(\":\")\n",
    "    dat = {\n",
    "        \"kw\":s\n",
    "    }\n",
    "    resp = requests.post(\"https://fanyi.baidu.com/sug\", data=dat)\n",
    "    print(resp.json()['data'][0]['v']) #将返回的内容直接返回为json\n",
    "\n",
    "def is_English():\n",
    "    string = input(\":\")\n",
    "    for ch in string:\n",
    "        if ord(ch) >= 128:\n",
    "            return ch\n",
    "    return True\n",
    "\n",
    "def copy(data=None):\n",
    "    global data_copy\n",
    "    if data is not None:\n",
    "        data_copy = data.copy(deep=True)\n",
    "    else:\n",
    "        return data_copy"
   ]
  },
  {
   "cell_type": "code",
   "execution_count": 47,
   "metadata": {},
   "outputs": [],
   "source": [
    "copy(a)"
   ]
  },
  {
   "cell_type": "code",
   "execution_count": 49,
   "metadata": {},
   "outputs": [],
   "source": [
    "b = copy()"
   ]
  },
  {
   "cell_type": "code",
   "execution_count": 24,
   "metadata": {},
   "outputs": [
    {
     "data": {
      "text/plain": [
       "['E:\\\\桌面\\\\工作目录\\\\其他',\n",
       " 'E:\\\\桌面\\\\工作目录',\n",
       " 'c:\\\\ProgramData\\\\Anaconda3\\\\python38.zip',\n",
       " 'c:\\\\ProgramData\\\\Anaconda3\\\\DLLs',\n",
       " 'c:\\\\ProgramData\\\\Anaconda3\\\\lib',\n",
       " 'c:\\\\ProgramData\\\\Anaconda3',\n",
       " '',\n",
       " 'C:\\\\Users\\\\Administrator\\\\AppData\\\\Roaming\\\\Python\\\\Python38\\\\site-packages',\n",
       " 'c:\\\\ProgramData\\\\Anaconda3\\\\lib\\\\site-packages',\n",
       " 'c:\\\\ProgramData\\\\Anaconda3\\\\lib\\\\site-packages\\\\win32',\n",
       " 'c:\\\\ProgramData\\\\Anaconda3\\\\lib\\\\site-packages\\\\win32\\\\lib',\n",
       " 'c:\\\\ProgramData\\\\Anaconda3\\\\lib\\\\site-packages\\\\Pythonwin',\n",
       " 'c:\\\\ProgramData\\\\Anaconda3\\\\lib\\\\site-packages\\\\IPython\\\\extensions',\n",
       " 'C:\\\\Users\\\\Administrator\\\\.ipython']"
      ]
     },
     "execution_count": 24,
     "metadata": {},
     "output_type": "execute_result"
    }
   ],
   "source": [
    "import sys\n",
    "sys.path"
   ]
  },
  {
   "cell_type": "code",
   "execution_count": null,
   "metadata": {},
   "outputs": [],
   "source": [
    "## import threading\n",
    "import time\n",
    " \n",
    "def run():\n",
    " \n",
    "    time.sleep(2)\n",
    "    print('当前线程的名字是： ', threading.current_thread().name)\n",
    "    time.sleep(2)\n",
    " \n",
    " \n",
    "if __name__ == '__main__':\n",
    " \n",
    "    start_time = time.time()\n",
    " \n",
    "    print('这是主线程：', threading.current_thread().name)\n",
    "    thread_list = []\n",
    "    for i in range(5):\n",
    "        t = threading.Thread(target=run)\n",
    "        thread_list.append(t)\n",
    " \n",
    "    for t in thread_list:\n",
    "        t.setDaemon(True)\n",
    "        t.start()\n",
    " \n",
    "    for t in thread_list:\n",
    "        t.join()\n",
    " \n",
    "    print('主线程结束了！' , threading.current_thread().name)\n",
    "    print('一共用时：', time.time()-start_time)"
   ]
  },
  {
   "cell_type": "code",
   "execution_count": 1,
   "metadata": {},
   "outputs": [],
   "source": [
    "from sys import getrefcount"
   ]
  },
  {
   "cell_type": "code",
   "execution_count": 16,
   "metadata": {},
   "outputs": [
    {
     "data": {
      "text/plain": [
       "3"
      ]
     },
     "execution_count": 16,
     "metadata": {},
     "output_type": "execute_result"
    }
   ],
   "source": [
    "getrefcount(12132323232)"
   ]
  },
  {
   "cell_type": "code",
   "execution_count": 11,
   "metadata": {},
   "outputs": [],
   "source": [
    "sdsd = 12132323232"
   ]
  },
  {
   "cell_type": "code",
   "execution_count": 17,
   "metadata": {},
   "outputs": [
    {
     "data": {
      "text/plain": [
       "2"
      ]
     },
     "execution_count": 17,
     "metadata": {},
     "output_type": "execute_result"
    }
   ],
   "source": [
    "getrefcount(dsd)"
   ]
  },
  {
   "cell_type": "code",
   "execution_count": 14,
   "metadata": {},
   "outputs": [],
   "source": [
    "dsd = 12132323232"
   ]
  },
  {
   "cell_type": "code",
   "execution_count": 18,
   "metadata": {},
   "outputs": [
    {
     "data": {
      "text/plain": [
       "2113970268304"
      ]
     },
     "execution_count": 18,
     "metadata": {},
     "output_type": "execute_result"
    }
   ],
   "source": [
    "id(a)"
   ]
  },
  {
   "cell_type": "code",
   "execution_count": 66,
   "metadata": {
    "scrolled": true
   },
   "outputs": [
    {
     "ename": "NameError",
     "evalue": "name 'sdssa' is not defined",
     "output_type": "error",
     "traceback": [
      "\u001b[1;31m---------------------------------------------------------------------------\u001b[0m",
      "\u001b[1;31mNameError\u001b[0m                                 Traceback (most recent call last)",
      "\u001b[1;32m<ipython-input-66-aee3c2054ba0>\u001b[0m in \u001b[0;36m<module>\u001b[1;34m\u001b[0m\n\u001b[0;32m      1\u001b[0m \u001b[0ma\u001b[0m \u001b[1;33m=\u001b[0m \u001b[1;36m0\u001b[0m\u001b[1;33m\u001b[0m\u001b[1;33m\u001b[0m\u001b[0m\n\u001b[1;32m----> 2\u001b[1;33m \u001b[1;32massert\u001b[0m \u001b[0msdssa\u001b[0m\u001b[1;33m,\u001b[0m\u001b[1;34m'？？？'\u001b[0m\u001b[1;33m\u001b[0m\u001b[1;33m\u001b[0m\u001b[0m\n\u001b[0m\u001b[0;32m      3\u001b[0m \u001b[0ma\u001b[0m \u001b[1;33m+=\u001b[0m \u001b[1;36m1\u001b[0m\u001b[1;33m\u001b[0m\u001b[1;33m\u001b[0m\u001b[0m\n\u001b[0;32m      4\u001b[0m \u001b[0mprint\u001b[0m\u001b[1;33m(\u001b[0m\u001b[0ma\u001b[0m\u001b[1;33m)\u001b[0m\u001b[1;33m\u001b[0m\u001b[1;33m\u001b[0m\u001b[0m\n",
      "\u001b[1;31mNameError\u001b[0m: name 'sdssa' is not defined"
     ]
    }
   ],
   "source": [
    "a = 0\n",
    "assert sdssa,'？？？'\n",
    "a += 1\n",
    "print(a)"
   ]
  },
  {
   "cell_type": "code",
   "execution_count": 10,
   "metadata": {},
   "outputs": [
    {
     "data": {
      "text/plain": [
       "{'ALLUSERSPROFILE': 'C:\\\\ProgramData',\n",
       " 'APPDATA': 'C:\\\\Users\\\\Administrator\\\\AppData\\\\Roaming',\n",
       " 'AWE_DIR': 'E:\\\\Awesomium SDK\\\\1.6.6\\\\',\n",
       " 'COMMONPROGRAMFILES': 'C:\\\\Program Files\\\\Common Files',\n",
       " 'COMMONPROGRAMFILES(X86)': 'C:\\\\Program Files (x86)\\\\Common Files',\n",
       " 'COMMONPROGRAMW6432': 'C:\\\\Program Files\\\\Common Files',\n",
       " 'COMPUTERNAME': 'PC-202011141257',\n",
       " 'COMSPEC': 'C:\\\\Windows\\\\system32\\\\cmd.exe',\n",
       " 'DRIVERDATA': 'C:\\\\Windows\\\\System32\\\\Drivers\\\\DriverData',\n",
       " 'FPS_BROWSER_APP_PROFILE_STRING': 'Internet Explorer',\n",
       " 'FPS_BROWSER_USER_PROFILE_STRING': 'Default',\n",
       " 'HOMEDRIVE': 'C:',\n",
       " 'HOMEPATH': '\\\\Users\\\\Administrator',\n",
       " 'LOCALAPPDATA': 'C:\\\\Users\\\\Administrator\\\\AppData\\\\Local',\n",
       " 'LOGONSERVER': '\\\\\\\\PC-202011141257',\n",
       " 'MYSQL_HOME': 'C:\\\\Users\\\\Administrator\\\\mysql-8.0.23-winx64',\n",
       " 'NUMBER_OF_PROCESSORS': '6',\n",
       " 'OS': 'Windows_NT',\n",
       " 'PATH': 'C:\\\\ProgramData\\\\Anaconda3\\\\Lib\\\\site-packages\\\\cv2\\\\../../x64/vc14/bin;c:\\\\ProgramData\\\\Anaconda3;c:\\\\ProgramData\\\\Anaconda3\\\\Library\\\\mingw-w64\\\\bin;c:\\\\ProgramData\\\\Anaconda3\\\\Library\\\\usr\\\\bin;c:\\\\ProgramData\\\\Anaconda3\\\\Library\\\\bin;c:\\\\ProgramData\\\\Anaconda3\\\\Scripts;E:\\\\VMware Workstatopm Pro\\\\bin\\\\;C:\\\\Windows\\\\system32;C:\\\\Windows;C:\\\\Windows\\\\System32\\\\Wbem;C:\\\\Windows\\\\System32\\\\WindowsPowerShell\\\\v1.0\\\\;C:\\\\Windows\\\\System32\\\\OpenSSH\\\\;C:\\\\Program Files\\\\Microsoft VS Code\\\\bin;C:\\\\Users\\\\Administrator\\\\mysql-8.0.23-winx64\\\\bin;C:\\\\Users\\\\Administrator\\\\mysql-8.0.23-winx64\\\\lib;C:\\\\Program Files\\\\Microsoft SQL Server\\\\Client SDK\\\\ODBC\\\\170\\\\Tools\\\\Binn\\\\;C:\\\\Program Files (x86)\\\\Microsoft SQL Server\\\\150\\\\Tools\\\\Binn\\\\;C:\\\\Program Files\\\\Microsoft SQL Server\\\\150\\\\Tools\\\\Binn\\\\;C:\\\\Program Files\\\\Microsoft SQL Server\\\\150\\\\DTS\\\\Binn\\\\;C:\\\\Program Files (x86)\\\\Microsoft SQL Server\\\\150\\\\DTS\\\\Binn\\\\;C:\\\\Program Files\\\\Azure Data Studio\\\\bin;E:\\\\wkhtmltopdf\\\\bin;D:\\\\abc;C:\\\\Program Files\\\\TortoiseSVN\\\\bin;E:\\\\桌面\\\\工作目录;C:\\\\Users\\\\Administrator\\\\AppData\\\\Local\\\\Programs\\\\Python\\\\Python38\\\\Scripts\\\\;C:\\\\Users\\\\Administrator\\\\AppData\\\\Local\\\\Programs\\\\Python\\\\Python38\\\\;C:\\\\Users\\\\Administrator\\\\AppData\\\\Local\\\\Microsoft\\\\WindowsApps;C:\\\\Users\\\\Administrator\\\\AppData\\\\Local\\\\Google\\\\Chrome\\\\Application;C:\\\\Program Files\\\\Azure Data Studio\\\\bin;',\n",
       " 'PATHEXT': '.COM;.EXE;.BAT;.CMD;.VBS;.VBE;.JS;.JSE;.WSF;.WSH;.MSC',\n",
       " 'PROCESSOR_ARCHITECTURE': 'AMD64',\n",
       " 'PROCESSOR_IDENTIFIER': 'Intel64 Family 6 Model 158 Stepping 10, GenuineIntel',\n",
       " 'PROCESSOR_LEVEL': '6',\n",
       " 'PROCESSOR_REVISION': '9e0a',\n",
       " 'PROGRAMDATA': 'C:\\\\ProgramData',\n",
       " 'PROGRAMFILES': 'C:\\\\Program Files',\n",
       " 'PROGRAMFILES(X86)': 'C:\\\\Program Files (x86)',\n",
       " 'PROGRAMW6432': 'C:\\\\Program Files',\n",
       " 'PSMODULEPATH': 'C:\\\\Program Files (x86)\\\\WindowsPowerShell\\\\Modules;C:\\\\Windows\\\\system32\\\\WindowsPowerShell\\\\v1.0\\\\Modules;C:\\\\Program Files (x86)\\\\Microsoft SQL Server\\\\150\\\\Tools\\\\PowerShell\\\\Modules\\\\;E:\\\\桌面\\\\AutoIt3\\\\AutoItX',\n",
       " 'PUBLIC': 'C:\\\\Users\\\\Public',\n",
       " 'PYTHONPATH': 'E:\\\\桌面\\\\工作目录',\n",
       " 'SESSIONNAME': 'Console',\n",
       " 'SYSTEMDRIVE': 'C:',\n",
       " 'SYSTEMROOT': 'C:\\\\Windows',\n",
       " 'TEMP': 'C:\\\\Users\\\\ADMINI~1\\\\AppData\\\\Local\\\\Temp',\n",
       " 'TMP': 'C:\\\\Users\\\\ADMINI~1\\\\AppData\\\\Local\\\\Temp',\n",
       " 'USERDOMAIN': 'PC-202011141257',\n",
       " 'USERDOMAIN_ROAMINGPROFILE': 'PC-202011141257',\n",
       " 'USERNAME': 'Administrator',\n",
       " 'USERPROFILE': 'C:\\\\Users\\\\Administrator',\n",
       " 'VS140COMNTOOLS': 'C:\\\\Program Files (x86)\\\\Microsoft Visual Studio 14.0\\\\Common7\\\\Tools\\\\',\n",
       " 'WINDIR': 'C:\\\\Windows',\n",
       " 'WXDRIVE_START_ARGS': '--wxdrive-setting=0 --disable-gpu --disable-software-rasterizer --enable-features=NetworkServiceInProcess',\n",
       " 'ZES_ENABLE_SYSMAN': '1',\n",
       " 'CONDA_PREFIX': 'c:\\\\ProgramData\\\\Anaconda3',\n",
       " 'KERNEL_LAUNCH_TIMEOUT': '40',\n",
       " 'JPY_INTERRUPT_EVENT': '2468',\n",
       " 'IPY_INTERRUPT_EVENT': '2468',\n",
       " 'JPY_PARENT_PID': '2464',\n",
       " 'TERM': 'xterm-color',\n",
       " 'CLICOLOR': '1',\n",
       " 'PAGER': 'cat',\n",
       " 'GIT_PAGER': 'cat',\n",
       " 'MPLBACKEND': 'module://ipykernel.pylab.backend_inline'}"
      ]
     },
     "execution_count": 10,
     "metadata": {},
     "output_type": "execute_result"
    }
   ],
   "source": [
    "%env"
   ]
  },
  {
   "cell_type": "code",
   "execution_count": 13,
   "metadata": {},
   "outputs": [
    {
     "name": "stdout",
     "output_type": "stream",
     "text": [
      " 驱动器 E 中的卷是 办公\n",
      " 卷的序列号是 65F3-3762\n",
      "\n",
      " E:\\桌面\\工作目录\\其他 的目录\n",
      "\n",
      "2023/01/16  14:07    <DIR>          .\n",
      "2023/01/16  14:07    <DIR>          ..\n",
      "2023/01/13  16:42    <DIR>          .ipynb_checkpoints\n",
      "2023/01/05  21:33                67 3.png\n",
      "2023/01/16  14:07    <DIR>          aaa\n",
      "2023/01/13  18:02             6,517 SMTP发送周报.ipynb\n",
      "2023/01/11  08:47             5,876 Untitled.ipynb\n",
      "2023/01/11  17:25             4,647 窗口代码.ipynb\n",
      "2023/01/09  16:00             3,340 加班时长计算.ipynb\n",
      "2023/01/16  14:03           180,114 练习代码.ipynb\n",
      "               6 个文件        200,561 字节\n",
      "               4 个目录 67,517,177,856 可用字节\n"
     ]
    }
   ],
   "source": [
    "%ls"
   ]
  },
  {
   "cell_type": "code",
   "execution_count": 12,
   "metadata": {
    "scrolled": true
   },
   "outputs": [],
   "source": [
    "%mkdir aaa"
   ]
  },
  {
   "cell_type": "code",
   "execution_count": 15,
   "metadata": {},
   "outputs": [
    {
     "name": "stderr",
     "output_type": "stream",
     "text": [
      "UsageError: Line magic function `%touch` not found.\n"
     ]
    }
   ],
   "source": [
    "%touch 1.txt"
   ]
  },
  {
   "cell_type": "code",
   "execution_count": 9,
   "metadata": {},
   "outputs": [
    {
     "ename": "AttributeError",
     "evalue": "'int' object has no attribute 'str'",
     "output_type": "error",
     "traceback": [
      "\u001b[1;31m---------------------------------------------------------------------------\u001b[0m",
      "\u001b[1;31mAttributeError\u001b[0m                            Traceback (most recent call last)",
      "\u001b[1;32m<ipython-input-9-6f75becfe7bf>\u001b[0m in \u001b[0;36m<module>\u001b[1;34m\u001b[0m\n\u001b[0;32m      1\u001b[0m \u001b[0ma\u001b[0m  \u001b[1;33m=\u001b[0m \u001b[1;36m1\u001b[0m\u001b[1;33m\u001b[0m\u001b[1;33m\u001b[0m\u001b[0m\n\u001b[1;32m----> 2\u001b[1;33m \u001b[0ma\u001b[0m\u001b[1;33m.\u001b[0m\u001b[0mstr\u001b[0m\u001b[1;33m\u001b[0m\u001b[1;33m\u001b[0m\u001b[0m\n\u001b[0m",
      "\u001b[1;31mAttributeError\u001b[0m: 'int' object has no attribute 'str'"
     ]
    }
   ],
   "source": [
    "a  = 1\n",
    "a.str"
   ]
  },
  {
   "cell_type": "code",
   "execution_count": null,
   "metadata": {},
   "outputs": [],
   "source": [
    "print(1)"
   ]
  }
 ],
 "metadata": {
  "kernelspec": {
   "display_name": "Python 3 (ipykernel)",
   "language": "python",
   "name": "python3"
  },
  "language_info": {
   "codemirror_mode": {
    "name": "ipython",
    "version": 3
   },
   "file_extension": ".py",
   "mimetype": "text/x-python",
   "name": "python",
   "nbconvert_exporter": "python",
   "pygments_lexer": "ipython3",
   "version": "3.8.3"
  },
  "toc": {
   "base_numbering": 1,
   "nav_menu": {},
   "number_sections": true,
   "sideBar": true,
   "skip_h1_title": false,
   "title_cell": "Table of Contents",
   "title_sidebar": "Contents",
   "toc_cell": false,
   "toc_position": {},
   "toc_section_display": true,
   "toc_window_display": false
  }
 },
 "nbformat": 4,
 "nbformat_minor": 4
}
