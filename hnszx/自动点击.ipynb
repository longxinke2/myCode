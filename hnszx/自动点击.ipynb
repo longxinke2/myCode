{
 "cells": [
  {
   "cell_type": "code",
   "execution_count": 1,
   "id": "8b98a446",
   "metadata": {},
   "outputs": [
    {
     "ename": "ModuleNotFoundError",
     "evalue": "No module named 'docx'",
     "output_type": "error",
     "traceback": [
      "\u001b[1;31m---------------------------------------------------------------------------\u001b[0m",
      "\u001b[1;31mModuleNotFoundError\u001b[0m                       Traceback (most recent call last)",
      "Cell \u001b[1;32mIn[1], line 11\u001b[0m\n\u001b[0;32m      9\u001b[0m \u001b[38;5;28;01mimport\u001b[39;00m \u001b[38;5;21;01msys\u001b[39;00m\n\u001b[0;32m     10\u001b[0m \u001b[38;5;28;01mimport\u001b[39;00m \u001b[38;5;21;01mnumpy\u001b[39;00m \u001b[38;5;28;01mas\u001b[39;00m \u001b[38;5;21;01mnp\u001b[39;00m\n\u001b[1;32m---> 11\u001b[0m \u001b[38;5;28;01mfrom\u001b[39;00m \u001b[38;5;21;01mdocx\u001b[39;00m \u001b[38;5;28;01mimport\u001b[39;00m Document\n\u001b[0;32m     12\u001b[0m \u001b[38;5;28;01mfrom\u001b[39;00m \u001b[38;5;21;01mdocx\u001b[39;00m\u001b[38;5;21;01m.\u001b[39;00m\u001b[38;5;21;01menum\u001b[39;00m\u001b[38;5;21;01m.\u001b[39;00m\u001b[38;5;21;01mtext\u001b[39;00m \u001b[38;5;28;01mimport\u001b[39;00m WD_ALIGN_PARAGRAPH  \u001b[38;5;66;03m#设置对象居中、对齐等。\u001b[39;00m\n\u001b[0;32m     13\u001b[0m \u001b[38;5;28;01mfrom\u001b[39;00m \u001b[38;5;21;01mdocx\u001b[39;00m\u001b[38;5;21;01m.\u001b[39;00m\u001b[38;5;21;01menum\u001b[39;00m\u001b[38;5;21;01m.\u001b[39;00m\u001b[38;5;21;01mtext\u001b[39;00m \u001b[38;5;28;01mimport\u001b[39;00m WD_TAB_ALIGNMENT,WD_TAB_LEADER,WD_LINE_SPACING  \u001b[38;5;66;03m#设置制表符等\u001b[39;00m\n",
      "\u001b[1;31mModuleNotFoundError\u001b[0m: No module named 'docx'"
     ]
    }
   ],
   "source": [
    "import pandas as pd\n",
    "import os\n",
    "import re\n",
    "import warnings\n",
    "from decimal import Decimal#保证比例呈现两位小数\n",
    "import tkinter as tk\n",
    "from tkinter import filedialog\n",
    "import keyboard\n",
    "import sys\n",
    "import numpy as np\n",
    "from docx import Document\n",
    "from docx.enum.text import WD_ALIGN_PARAGRAPH  #设置对象居中、对齐等。\n",
    "from docx.enum.text import WD_TAB_ALIGNMENT,WD_TAB_LEADER,WD_LINE_SPACING  #设置制表符等\n",
    "from docx.shared import Inches   #设置图像大小\n",
    "from docx.shared import Pt,Cm   #设置像素、缩进等\n",
    "from docx.shared import RGBColor    #设置字体颜色\n",
    "from docx.shared import Length    #设置宽度\n",
    "from docx.oxml.ns import qn  #设置中文版式\n",
    "from docx.enum.table import WD_TABLE_ALIGNMENT\n",
    "from docx.enum.text import WD_PARAGRAPH_ALIGNMENT\n",
    "from docx.enum.table import WD_ALIGN_VERTICAL\n",
    "from docx.enum.text import WD_ALIGN_PARAGRAPH\n",
    "warnings.filterwarnings('ignore')"
   ]
  },
  {
   "cell_type": "code",
   "execution_count": 2,
   "id": "6eb3644b",
   "metadata": {},
   "outputs": [],
   "source": [
    "import requests"
   ]
  },
  {
   "cell_type": "code",
   "execution_count": 6,
   "id": "ec9d72ba",
   "metadata": {},
   "outputs": [],
   "source": [
    "url = f'https://jy.ncss.cn/fqtgxd/2023/index.html'\n",
    "headers = {\n",
    "    'User-Agent': 'Mozilla/5.0 (Windows NT 10.0; Win64; x64) AppleWebKit/537.36 (KHTML, like Gecko) Chrome/58.0.3029.110 Safari/537.3'}\n",
    "response = requests.get(url, headers=headers)"
   ]
  },
  {
   "cell_type": "code",
   "execution_count": 7,
   "id": "6e091447",
   "metadata": {},
   "outputs": [
    {
     "data": {
      "text/plain": [
       "'\\r\\n\\r\\n\\r\\n\\r\\n\\r\\n\\r\\n\\r\\n\\r\\n\\r\\n\\r\\n\\r\\n\\r\\n\\r\\n\\r\\n\\r\\n\\r\\n\\r\\n\\r\\n\\r\\n\\r\\n\\r\\n<!DOCTYPE html PUBLIC \"-//W3C//DTD XHTML 1.0 Transitional//EN\" \"http://www.w3.org/TR/xhtml1/DTD/xhtml1-transitional.dtd\">\\r\\n<html xmlns=\"http://www.w3.org/1999/xhtml\" lang=\"en\">\\r\\n    <head>\\r\\n        <title>登录_全国高校毕业生就业管理系统</title>\\r\\n        <meta http-equiv=\"Content-Type\" content=\"text/html; charset=utf-8\" />\\r\\n        <script src=\"https://t1.chei.com.cn/common/jquery/2.1.1/jquery.min.js\"></script>\\r\\n        <script src=\"https://t1.chei.com.cn/common/plugins/jquerymigrate/jquerymigrate-1.2.1.min.js\"></script>\\r\\n        <script src=\"https://t2.chei.com.cn/passport/js/captchaChange-1.0.1.js\"></script>\\r\\n        <script src=\"https://t1.chei.com.cn/passport/js/common_rosters.js\"></script>\\r\\n        <link rel=\"icon\" href=\"https://t1.chei.com.cn/passport/favicon.ico\" type=\"image/x-icon\" />\\r\\n        <link href=\"https://t3.chei.com.cn/passport/css/login/ncss/jygl-1.0.0.css\" rel=\"stylesheet\" />\\r\\n        \\r\\n<script async src=\"https://www.googletagmanager.com/gtag/js?id=UA-100524-4\"></script>\\r\\n<script>\\r\\n    window.dataLayer = window.dataLayer || [];\\r\\n    function gtag(){dataLayer.push(arguments);}\\r\\n    gtag(\\'js\\', new Date());\\r\\n    gtag(\\'config\\', \\'UA-100524-4\\', {\\'sample_rate\\': 5});\\r\\n</script>\\r\\n    </head>\\r\\n<body id=\"cas\" onLoad=\"init();\">\\r\\n\\r\\n\\r\\n<script src=\"https://t4.chei.com.cn/passport/js/phoneCheckCodeTr-1.0.2.js\"></script>\\r\\n<script>\\r\\n    $(function(){\\r\\n        var chooseType =0||0;\\r\\n        $(\"#mphoneCheckCodeButt\").live(\"click\",function(){getMphoneCheckCode();});\\r\\n        $(\"#username\").bind(\"change\",function(){showCheckCodeButt(chooseType, true);});\\r\\n        $(\"#logintype\").live(\"click\",function(){loginTypeCheck();});\\r\\n        showCheckCodeButt(chooseType, false);\\r\\n    });\\r\\n</script>\\r\\n\\r\\n<style>\\r\\n    .errors { word-wrap: break-word; }\\r\\n</style>\\r\\n\\r\\n<div class=\"banner\">&nbsp;</div>\\r\\n<div class=\"box clearfix\">\\r\\n    <div class=\"loginForm\">\\r\\n        \\r\\n\\r\\n        \\r\\n            \\r\\n            \\r\\n                <form id=\"fm1\" action=\"/passport/login;jsessionid=DB0905A0591D68110419CB9BC8B077B2?service=https%3A%2F%2Fjy.ncss.cn%2Fcaslogin.html\" method=\"post\" autocomplete=\"off\">\\r\\n                    \\r\\n                        \\r\\n                        \\r\\n                        \\r\\n                        \\r\\n                        \\r\\n                        \\r\\n                        \\r\\n                        \\r\\n                        \\r\\n                            \\r\\n                        \\r\\n                    \\r\\n                    <div class=\"loginT\">用户登录</div>\\r\\n                    \\r\\n                    <table border=\"0\" cellspacing=\"15\" cellpadding=\"0\" class=\"loginTable\">\\r\\n                        <tr>\\r\\n                            <td align=\"right\" class=\"font01\" width=\"105\">用户名:</td>\\r\\n                            <td colspan=\"2\" align=\"left\" width=\"295\">\\r\\n                            \\r\\n                                    \\r\\n                            \\r\\n                            \\r\\n                            \\r\\n                            \\r\\n                            \\r\\n                            <input id=\"username\" name=\"username\" class=\"logininput l_login_name\" tabindex=\"1\" accesskey=\"n\" type=\"text\" value=\"\" size=\"25\"/>\\r\\n                            \\r\\n                            \\r\\n                            </td>\\r\\n                        </tr>\\r\\n                        <tr>\\r\\n                            <td align=\"right\" class=\"font01\">密\\u3000码:</td>\\r\\n                            <td colspan=\"2\" align=\"left\">\\r\\n                            \\r\\n                            <input id=\"password\" name=\"password\" class=\"logininput l_login_password\" tabindex=\"2\" accesskey=\"p\" type=\"password\" value=\"\" size=\"25\"/></td>\\r\\n                        </tr>\\r\\n                        \\r\\n                        \\r\\n                            \\r\\n                            \\r\\n                            \\r\\n                        \\r\\n                        <tr>\\r\\n                            <td>&nbsp;</td>\\r\\n                            <td colspan=\"2\">\\r\\n                                <input type=\"hidden\" name=\"lt\" value=\"LT-1887434-Tw3kA9BdzlAvOlpf6atPnTnI7WiCxB-cas\" />\\r\\n                                <input type=\"hidden\" name=\"execution\" value=\"fad08eff-0bcd-4052-b5c1-00bca4a618d5_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\" />\\r\\n                                <input type=\"hidden\" name=\"_eventId\" value=\"submit\" />\\r\\n                                <input class=\"btn_blue\" name=\"submit\" accesskey=\"l\" tabindex=\"4\" type=\"submit\" value=\"登录\" />\\r\\n                                <span class=\"font12 color999\">&nbsp;&nbsp;<a href=\"https://login.chsi.com.cn/account/password!retrive\">找回密码</a></span>\\r\\n                            </td>\\r\\n                        </tr>\\r\\n                    </table>\\r\\n                <div>\\n</div></form>\\r\\n            \\r\\n        \\r\\n    </div>\\r\\n\\r\\n    <div class=\"ukeyUl\">\\r\\n        <ul>\\r\\n            <li class=\"ukeyT\">学信网数字证书</li>\\r\\n            <li><span class=\"ukey_sqlc\"></span><a href=\"https://cert.chsi.com.cn/\" target=\"_blank\">申请流程</a></li>\\r\\n            <li><span class=\"ukey_azlc\"></span><a href=\"https://cert.chsi.com.cn/help/azlc.jsp\" target=\"_blank\">安装流程</a></li>\\r\\n            <li><span class=\"ukey_gxlc\"></span><a href=\"https://cert.chsi.com.cn/help/gx.jsp\" target=\"_blank\">更新流程</a></li>\\r\\n            <li><span class=\"ukey_qdxz\"></span><a href=\"https://cert.chsi.com.cn/help/zlk/ePass3003_SimpChinese_gfa.exe\" target=\"_blank\">驱动下载</a></li>\\r\\n            <li><span class=\"ukey_cjwt\"></span><a href=\"https://cert.chsi.com.cn/help/questions.jsp\" target=\"_blank\">常见问题</a></li>\\r\\n        </ul>\\r\\n    </div>\\r\\n</div>\\r\\n\\r\\n<div class=\"line01\">&nbsp;</div>\\r\\n<div class=\"footer\">\\r\\n    主办单位：<a href=\"https://chesicc.chsi.com.cn/\" target=\"_blank\">教育部学生服务与素质发展中心（原全国高等学校学生信息咨询与就业指导中心）</a> \\r\\n</div>\\r\\n</body>\\r\\n</html>\\r\\n'"
      ]
     },
     "execution_count": 7,
     "metadata": {},
     "output_type": "execute_result"
    }
   ],
   "source": [
    "response.text"
   ]
  },
  {
   "cell_type": "code",
   "execution_count": null,
   "id": "05ff2dc8",
   "metadata": {},
   "outputs": [],
   "source": []
  }
 ],
 "metadata": {
  "kernelspec": {
   "display_name": "Python 3 (ipykernel)",
   "language": "python",
   "name": "python3"
  },
  "language_info": {
   "codemirror_mode": {
    "name": "ipython",
    "version": 3
   },
   "file_extension": ".py",
   "mimetype": "text/x-python",
   "name": "python",
   "nbconvert_exporter": "python",
   "pygments_lexer": "ipython3",
   "version": "3.8.3"
  },
  "toc": {
   "base_numbering": 1,
   "nav_menu": {},
   "number_sections": true,
   "sideBar": true,
   "skip_h1_title": false,
   "title_cell": "Table of Contents",
   "title_sidebar": "Contents",
   "toc_cell": false,
   "toc_position": {
    "height": "calc(100% - 180px)",
    "left": "10px",
    "top": "150px",
    "width": "257.6px"
   },
   "toc_section_display": true,
   "toc_window_display": true
  }
 },
 "nbformat": 4,
 "nbformat_minor": 5
}
