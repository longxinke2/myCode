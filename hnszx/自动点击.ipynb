{
 "cells": [
  {
   "cell_type": "code",
   "execution_count": 32,
   "metadata": {},
   "outputs": [],
   "source": [
    "import pyautogui\n",
    "import time\n",
    "from PIL import ImageGrab\n",
    "from PIL import Image\n",
    "import os\n",
    "import keyboard\n",
    "\n",
    "image_path = '图片库/'\n",
    "def click_image(image_path, confidence=0.95, lag_x=0,lag_y=0,wait=1):\n",
    "    while True:\n",
    "        time.sleep(wait)\n",
    "        # 获取屏幕分辨率\n",
    "        screen_width, screen_height = pyautogui.size()\n",
    "\n",
    "        # 全屏截图\n",
    "        screen_image = ImageGrab.grab()\n",
    "        image = Image.open(image_path)\n",
    "        # 在屏幕截图中查找匹配\n",
    "        location = pyautogui.locate(image, screen_image, confidence=confidence)\n",
    "        if location:\n",
    "            # 匹配成功，返回位置信息\n",
    "            x, y, a, b = location\n",
    "            x1,y1=pyautogui.position()\n",
    "            pyautogui.click(x+a//2+lag_x, y+b//2+lag_y)\n",
    "            print(f'{image_path} 点击成功')\n",
    "            return "
   ]
  },
  {
   "cell_type": "markdown",
   "metadata": {},
   "source": [
    "# 综合数据下载"
   ]
  },
  {
   "cell_type": "code",
   "execution_count": 20,
   "metadata": {},
   "outputs": [
    {
     "name": "stdout",
     "output_type": "stream",
     "text": [
      "图片库/其他/查询.png 点击成功\n",
      "图片库/批量下载/就业统计/1.png 点击成功\n",
      "图片库/批量下载/就业统计/2.png 点击成功\n",
      "图片库/批量下载/就业统计/3.png 点击成功\n",
      "图片库/批量下载/就业统计/4.png 点击成功\n",
      "图片库/批量下载/就业统计/5.png 点击成功\n",
      "图片库/批量下载/就业统计/6.png 点击成功\n",
      "图片库/批量下载/就业统计/7.png 点击成功\n"
     ]
    }
   ],
   "source": [
    "click_image(image_path+'其他/就业统计.png')\n",
    "for i in os.listdir(image_path+'批量下载/就业统计/'):\n",
    "    click_image(image_path+'其他/查询.png',lag_x=-60)\n",
    "    click_image(image_path+f'批量下载/就业统计/{i}')\n",
    "    click_image(image_path+'其他/查询.png')\n",
    "    click_image(image_path+'其他/EXCEL下载.png')"
   ]
  },
  {
   "cell_type": "markdown",
   "metadata": {},
   "source": [
    "# 访企拓岗"
   ]
  },
  {
   "cell_type": "code",
   "execution_count": null,
   "metadata": {},
   "outputs": [],
   "source": [
    "click_image(image_path+'其他/访企拓岗行动.png')\n",
    "click_image(image_path+'其他/导出.png')"
   ]
  },
  {
   "cell_type": "markdown",
   "metadata": {},
   "source": [
    "# 高校灵活"
   ]
  },
  {
   "cell_type": "code",
   "execution_count": 33,
   "metadata": {},
   "outputs": [],
   "source": [
    "print('程序结束，请按enter退出或直接关闭窗口')\n",
    "keyboard.wait('enter')"
   ]
  },
  {
   "cell_type": "code",
   "execution_count": 31,
   "metadata": {},
   "outputs": [],
   "source": [
    "# time.sleep(3)\n",
    "# pyautogui.scroll(-1000)#向下滚一定距离"
   ]
  },
  {
   "cell_type": "code",
   "execution_count": null,
   "metadata": {},
   "outputs": [],
   "source": [
    "# click_image(image_path+'其他/就业统计.png')\n",
    "# click_image(image_path+'其他/查询.png',lag_x=-60)\n",
    "# click_image(image_path+'其他/查询.png',lag_x=-60,lag_y=35)\n",
    "# for i in os.listdir(image_path+'批量下载/灵活就业率/'):\n",
    "#     click_image(image_path+'其他/查询.png',lag_x=-500)\n",
    "#     click_image(image_path+f'批量下载/灵活就业率/{i}')\n",
    "#     click_image(image_path+'其他/查询.png')\n",
    "#     click_image(image_path+'其他/EXCEL下载.png')"
   ]
  }
 ],
 "metadata": {
  "kernelspec": {
   "display_name": "Python 3",
   "language": "python",
   "name": "python3"
  },
  "language_info": {
   "codemirror_mode": {
    "name": "ipython",
    "version": 3
   },
   "file_extension": ".py",
   "mimetype": "text/x-python",
   "name": "python",
   "nbconvert_exporter": "python",
   "pygments_lexer": "ipython3",
   "version": "3.8.3"
  },
  "toc": {
   "base_numbering": 1,
   "nav_menu": {},
   "number_sections": true,
   "sideBar": true,
   "skip_h1_title": false,
   "title_cell": "Table of Contents",
   "title_sidebar": "Contents",
   "toc_cell": false,
   "toc_position": {
    "height": "calc(100% - 180px)",
    "left": "10px",
    "top": "150px",
    "width": "243px"
   },
   "toc_section_display": true,
   "toc_window_display": true
  }
 },
 "nbformat": 4,
 "nbformat_minor": 5
}
