{
 "cells": [
  {
   "cell_type": "code",
   "execution_count": 1,
   "id": "c75b4141",
   "metadata": {},
   "outputs": [
    {
     "name": "stdout",
     "output_type": "stream",
     "text": [
      "程序将在五秒后启动，请保证点击页面在屏幕中可见\n"
     ]
    }
   ],
   "source": [
    "try:\n",
    "    import time\n",
    "    import pyautogui\n",
    "    from PIL import ImageGrab\n",
    "    from PIL import Image\n",
    "    import os\n",
    "    import traceback\n",
    "    image_path = '图片库/'\n",
    "    def click_image(image_path, confidence=0.95, lag_x=0,lag_y=0,wait=1):\n",
    "        while True:\n",
    "            time.sleep(wait)\n",
    "            # 获取屏幕分辨率\n",
    "            screen_width, screen_height = pyautogui.size()\n",
    "\n",
    "            # 全屏截图\n",
    "            screen_image = ImageGrab.grab()\n",
    "            image = Image.open(image_path)\n",
    "            # 在屏幕截图中查找匹配\n",
    "            location = pyautogui.locate(image, screen_image, confidence=confidence)\n",
    "            if location:\n",
    "                # 匹配成功，返回位置信息\n",
    "                x, y, a, b = location\n",
    "                x1,y1=pyautogui.position()\n",
    "                pyautogui.click(x+a//2+lag_x, y+b//2+lag_y)\n",
    "                print(f'{image_path} 点击成功')\n",
    "                return\n",
    "            else:\n",
    "                print(f'{image_path} 点击失败，尝试再次点击...')\n",
    "            \n",
    "    print('程序将在五秒后启动，请保证点击页面在屏幕中可见')\n",
    "    time.sleep(5)\n",
    "except:\n",
    "    print('程序出错，5秒后自动关闭')\n",
    "    time.sleep(5)\n",
    "    raise"
   ]
  },
  {
   "cell_type": "markdown",
   "id": "0271576c",
   "metadata": {},
   "source": [
    "# 综合数据下载"
   ]
  },
  {
   "cell_type": "code",
   "execution_count": 2,
   "id": "077e04a6",
   "metadata": {},
   "outputs": [
    {
     "name": "stdout",
     "output_type": "stream",
     "text": [
      "图片库/其他/就业统计.png 点击失败，尝试再次点击...\n",
      "图片库/其他/就业统计.png 点击失败，尝试再次点击...\n",
      "图片库/其他/就业统计.png 点击失败，尝试再次点击...\n",
      "图片库/其他/就业统计.png 点击失败，尝试再次点击...\n",
      "图片库/其他/就业统计.png 点击失败，尝试再次点击...\n",
      "图片库/其他/就业统计.png 点击失败，尝试再次点击...\n",
      "图片库/其他/就业统计.png 点击失败，尝试再次点击...\n",
      "图片库/其他/就业统计.png 点击失败，尝试再次点击...\n",
      "图片库/其他/就业统计.png 点击失败，尝试再次点击...\n",
      "图片库/其他/就业统计.png 点击失败，尝试再次点击...\n",
      "图片库/其他/就业统计.png 点击失败，尝试再次点击...\n",
      "图片库/其他/就业统计.png 点击失败，尝试再次点击...\n",
      "图片库/其他/就业统计.png 点击失败，尝试再次点击...\n",
      "图片库/其他/就业统计.png 点击失败，尝试再次点击...\n",
      "图片库/其他/就业统计.png 点击失败，尝试再次点击...\n",
      "图片库/其他/就业统计.png 点击失败，尝试再次点击...\n",
      "图片库/其他/就业统计.png 点击失败，尝试再次点击...\n",
      "图片库/其他/就业统计.png 点击失败，尝试再次点击...\n",
      "图片库/其他/就业统计.png 点击失败，尝试再次点击...\n",
      "图片库/其他/就业统计.png 点击失败，尝试再次点击...\n",
      "图片库/其他/就业统计.png 点击失败，尝试再次点击...\n",
      "图片库/其他/就业统计.png 点击失败，尝试再次点击...\n",
      "图片库/其他/就业统计.png 点击失败，尝试再次点击...\n",
      "图片库/其他/就业统计.png 点击失败，尝试再次点击...\n",
      "图片库/其他/就业统计.png 点击失败，尝试再次点击...\n",
      "图片库/其他/就业统计.png 点击失败，尝试再次点击...\n",
      "图片库/其他/就业统计.png 点击失败，尝试再次点击...\n",
      "图片库/其他/就业统计.png 点击失败，尝试再次点击...\n",
      "图片库/其他/就业统计.png 点击失败，尝试再次点击...\n",
      "图片库/其他/就业统计.png 点击失败，尝试再次点击...\n",
      "图片库/其他/就业统计.png 点击失败，尝试再次点击...\n",
      "图片库/其他/就业统计.png 点击失败，尝试再次点击...\n",
      "图片库/其他/就业统计.png 点击失败，尝试再次点击...\n",
      "图片库/其他/就业统计.png 点击失败，尝试再次点击...\n",
      "图片库/其他/就业统计.png 点击失败，尝试再次点击...\n",
      "图片库/其他/就业统计.png 点击失败，尝试再次点击...\n",
      "图片库/其他/就业统计.png 点击失败，尝试再次点击...\n",
      "图片库/其他/就业统计.png 点击失败，尝试再次点击...\n",
      "程序运行出错，错误信息如下：---------------------------\n"
     ]
    },
    {
     "name": "stderr",
     "output_type": "stream",
     "text": [
      "Traceback (most recent call last):\n",
      "  File \"C:\\Users\\龙辛柯\\AppData\\Local\\Temp\\ipykernel_12136\\1169843361.py\", line 2, in <module>\n",
      "    click_image(image_path+'其他/就业统计.png')\n",
      "  File \"C:\\Users\\龙辛柯\\AppData\\Local\\Temp\\ipykernel_12136\\998204603.py\", line 11, in click_image\n",
      "    time.sleep(wait)\n",
      "KeyboardInterrupt\n"
     ]
    },
    {
     "ename": "KeyboardInterrupt",
     "evalue": "",
     "output_type": "error",
     "traceback": [
      "\u001b[1;31m---------------------------------------------------------------------------\u001b[0m",
      "\u001b[1;31mKeyboardInterrupt\u001b[0m                         Traceback (most recent call last)",
      "Cell \u001b[1;32mIn[2], line 2\u001b[0m\n\u001b[0;32m      1\u001b[0m \u001b[38;5;28;01mtry\u001b[39;00m:\n\u001b[1;32m----> 2\u001b[0m     \u001b[43mclick_image\u001b[49m\u001b[43m(\u001b[49m\u001b[43mimage_path\u001b[49m\u001b[38;5;241;43m+\u001b[39;49m\u001b[38;5;124;43m'\u001b[39;49m\u001b[38;5;124;43m其他/就业统计.png\u001b[39;49m\u001b[38;5;124;43m'\u001b[39;49m\u001b[43m)\u001b[49m\n\u001b[0;32m      3\u001b[0m     \u001b[38;5;28;01mfor\u001b[39;00m i \u001b[38;5;129;01min\u001b[39;00m os\u001b[38;5;241m.\u001b[39mlistdir(image_path\u001b[38;5;241m+\u001b[39m\u001b[38;5;124m'\u001b[39m\u001b[38;5;124m批量下载/就业统计/\u001b[39m\u001b[38;5;124m'\u001b[39m):\n\u001b[0;32m      4\u001b[0m         click_image(image_path\u001b[38;5;241m+\u001b[39m\u001b[38;5;124m'\u001b[39m\u001b[38;5;124m其他/查询.png\u001b[39m\u001b[38;5;124m'\u001b[39m,lag_x\u001b[38;5;241m=\u001b[39m\u001b[38;5;241m-\u001b[39m\u001b[38;5;241m60\u001b[39m)\n",
      "Cell \u001b[1;32mIn[1], line 11\u001b[0m, in \u001b[0;36mclick_image\u001b[1;34m(image_path, confidence, lag_x, lag_y, wait)\u001b[0m\n\u001b[0;32m      9\u001b[0m \u001b[38;5;28;01mdef\u001b[39;00m \u001b[38;5;21mclick_image\u001b[39m(image_path, confidence\u001b[38;5;241m=\u001b[39m\u001b[38;5;241m0.95\u001b[39m, lag_x\u001b[38;5;241m=\u001b[39m\u001b[38;5;241m0\u001b[39m,lag_y\u001b[38;5;241m=\u001b[39m\u001b[38;5;241m0\u001b[39m,wait\u001b[38;5;241m=\u001b[39m\u001b[38;5;241m1\u001b[39m):\n\u001b[0;32m     10\u001b[0m     \u001b[38;5;28;01mwhile\u001b[39;00m \u001b[38;5;28;01mTrue\u001b[39;00m:\n\u001b[1;32m---> 11\u001b[0m         \u001b[43mtime\u001b[49m\u001b[38;5;241;43m.\u001b[39;49m\u001b[43msleep\u001b[49m\u001b[43m(\u001b[49m\u001b[43mwait\u001b[49m\u001b[43m)\u001b[49m\n\u001b[0;32m     12\u001b[0m         \u001b[38;5;66;03m# 获取屏幕分辨率\u001b[39;00m\n\u001b[0;32m     13\u001b[0m         screen_width, screen_height \u001b[38;5;241m=\u001b[39m pyautogui\u001b[38;5;241m.\u001b[39msize()\n",
      "\u001b[1;31mKeyboardInterrupt\u001b[0m: "
     ]
    }
   ],
   "source": [
    "try:\n",
    "    click_image(image_path+'其他/就业统计.png')\n",
    "    for i in os.listdir(image_path+'批量下载/就业统计/'):\n",
    "        click_image(image_path+'其他/查询.png',lag_x=-60)\n",
    "        click_image(image_path+f'批量下载/就业统计/{i}')\n",
    "        click_image(image_path+'其他/查询.png')\n",
    "        click_image(image_path+'其他/EXCEL下载.png')\n",
    "\n",
    "    click_image(image_path+'其他/访企拓岗行动.png')\n",
    "    click_image(image_path+'其他/导出.png')\n",
    "except:\n",
    "    print('程序运行出错，错误信息如下：---------------------------')\n",
    "    traceback.print_exc()\n",
    "    time.sleep(5)\n",
    "    raise"
   ]
  },
  {
   "cell_type": "code",
   "execution_count": 33,
   "id": "545b9cc0",
   "metadata": {},
   "outputs": [],
   "source": [
    "print('程序运行结束，5秒后自动退出')"
   ]
  },
  {
   "cell_type": "markdown",
   "id": "8ca7164c",
   "metadata": {},
   "source": [
    "# 高校灵活"
   ]
  },
  {
   "cell_type": "code",
   "execution_count": 31,
   "id": "9453e66d",
   "metadata": {},
   "outputs": [],
   "source": [
    "# time.sleep(3)\n",
    "# pyautogui.scroll(-1000)#向下滚一定距离"
   ]
  }
 ],
 "metadata": {
  "kernelspec": {
   "display_name": "Python 3 (ipykernel)",
   "language": "python",
   "name": "python3"
  },
  "language_info": {
   "codemirror_mode": {
    "name": "ipython",
    "version": 3
   },
   "file_extension": ".py",
   "mimetype": "text/x-python",
   "name": "python",
   "nbconvert_exporter": "python",
   "pygments_lexer": "ipython3",
   "version": "3.8.3"
  },
  "toc": {
   "base_numbering": 1,
   "nav_menu": {},
   "number_sections": true,
   "sideBar": true,
   "skip_h1_title": false,
   "title_cell": "Table of Contents",
   "title_sidebar": "Contents",
   "toc_cell": false,
   "toc_position": {
    "height": "calc(100% - 180px)",
    "left": "10px",
    "top": "150px",
    "width": "243px"
   },
   "toc_section_display": true,
   "toc_window_display": true
  }
 },
 "nbformat": 4,
 "nbformat_minor": 5
}
