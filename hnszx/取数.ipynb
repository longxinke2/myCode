{
 "cells": [
  {
   "cell_type": "code",
   "execution_count": 126,
   "metadata": {},
   "outputs": [],
   "source": [
    "import pandas as pd\n",
    "import os\n",
    "import re\n",
    "import warnings\n",
    "from decimal import Decimal#保证比例呈现两位小数\n",
    "import tkinter as tk\n",
    "from tkinter import filedialog\n",
    "import keyboard\n",
    "import sys\n",
    "import numpy as np\n",
    "from datetime import datetime\n",
    "from docx import Document\n",
    "from docx.enum.style import WD_STYLE_TYPE\n",
    "# from docx.enum.text import WD_ALIGN_PARAGRAPH  #设置对象居中、对齐等。\n",
    "# from docx.enum.text import WD_TAB_ALIGNMENT,WD_TAB_LEADER,WD_LINE_SPACING  #设置制表符等\n",
    "# from docx.shared import Inches   #设置图像大小\n",
    "from docx.shared import Pt,Cm   #设置像素、缩进等\n",
    "# from docx.shared import RGBColor    #设置字体颜色\n",
    "# from docx.shared import Length    #设置宽度\n",
    "from docx.oxml.ns import qn  #设置中文版式\n",
    "# from docx.enum.table import WD_TABLE_ALIGNMENT\n",
    "# from docx.enum.text import WD_PARAGRAPH_ALIGNMENT\n",
    "# from docx.enum.table import WD_ALIGN_VERTICAL\n",
    "# from docx.enum.text import WD_ALIGN_PARAGRAPH\n",
    "from datetime import datetime\n",
    "warnings.filterwarnings('ignore')"
   ]
  },
  {
   "cell_type": "markdown",
   "metadata": {},
   "source": [
    "# 读取excel"
   ]
  },
  {
   "cell_type": "code",
   "execution_count": 29,
   "metadata": {},
   "outputs": [],
   "source": [
    "excel_path = '数据'\n",
    "model_path = '模板'\n",
    "file_names = os.listdir(excel_path)\n",
    "file_names = [file for file in file_names if file.endswith(('.xlsx','.xls','.XLSX','.XLS'))]"
   ]
  },
  {
   "cell_type": "code",
   "execution_count": 11,
   "metadata": {},
   "outputs": [],
   "source": [
    "data_group=[]\n",
    "for file in file_names:\n",
    "    file_path = os.path.join(excel_path, file)  # 构建文件的完整路径\n",
    "    df = pd.read_excel(file_path)\n",
    "    data_group.append(df)"
   ]
  },
  {
   "cell_type": "code",
   "execution_count": 12,
   "metadata": {},
   "outputs": [],
   "source": [
    "key_group={}\n",
    "for index in range(len(data_group)):\n",
    "    key_group[data_group[index].columns[0]]=index"
   ]
  },
  {
   "cell_type": "markdown",
   "metadata": {},
   "source": [
    "# 自定义函数"
   ]
  },
  {
   "cell_type": "code",
   "execution_count": 57,
   "metadata": {},
   "outputs": [],
   "source": [
    "def xy(datat,x,x1,y):\n",
    "    print(datat[datat[x]==x1][y].values[0])\n",
    "    return datat[datat[x]==x1][y].values[0]\n",
    "\n",
    "def change_to_decimal(x):\n",
    "    return  str(Decimal(x*100).quantize(Decimal(\"0.00\")))+'%'\n"
   ]
  },
  {
   "cell_type": "markdown",
   "metadata": {},
   "source": [
    "# 数据处理"
   ]
  },
  {
   "cell_type": "code",
   "execution_count": 119,
   "metadata": {},
   "outputs": [],
   "source": [
    "current_time = datetime.now()\n",
    "\n",
    "year = current_time.year\n",
    "month = current_time.month\n",
    "day = current_time.day"
   ]
  },
  {
   "cell_type": "code",
   "execution_count": 25,
   "metadata": {},
   "outputs": [
    {
     "data": {
      "text/html": [
       "<div>\n",
       "<style scoped>\n",
       "    .dataframe tbody tr th:only-of-type {\n",
       "        vertical-align: middle;\n",
       "    }\n",
       "\n",
       "    .dataframe tbody tr th {\n",
       "        vertical-align: top;\n",
       "    }\n",
       "\n",
       "    .dataframe thead th {\n",
       "        text-align: right;\n",
       "    }\n",
       "</style>\n",
       "<table border=\"1\" class=\"dataframe\">\n",
       "  <thead>\n",
       "    <tr style=\"text-align: right;\">\n",
       "      <th></th>\n",
       "      <th>各性别就业率</th>\n",
       "      <th>专科毕业人数</th>\n",
       "      <th>专科就业人数</th>\n",
       "      <th>专科就业率</th>\n",
       "      <th>本科毕业人数</th>\n",
       "      <th>本科就业人数</th>\n",
       "      <th>本科就业率</th>\n",
       "      <th>硕士生毕业人数</th>\n",
       "      <th>硕士生就业人数</th>\n",
       "      <th>硕士生就业率</th>\n",
       "      <th>博士生毕业人数</th>\n",
       "      <th>博士生就业人数</th>\n",
       "      <th>博士生就业率</th>\n",
       "      <th>毕业人数小计</th>\n",
       "      <th>就业人数小计</th>\n",
       "      <th>就业率小计</th>\n",
       "    </tr>\n",
       "  </thead>\n",
       "  <tbody>\n",
       "    <tr>\n",
       "      <th>0</th>\n",
       "      <td>1男</td>\n",
       "      <td>131270.0</td>\n",
       "      <td>106222.0</td>\n",
       "      <td>0.809187</td>\n",
       "      <td>93945.0</td>\n",
       "      <td>66858.0</td>\n",
       "      <td>0.711672</td>\n",
       "      <td>12528.0</td>\n",
       "      <td>9696.0</td>\n",
       "      <td>0.773946</td>\n",
       "      <td>1044.0</td>\n",
       "      <td>495.0</td>\n",
       "      <td>0.474138</td>\n",
       "      <td>238787.0</td>\n",
       "      <td>183271.0</td>\n",
       "      <td>0.767508</td>\n",
       "    </tr>\n",
       "    <tr>\n",
       "      <th>1</th>\n",
       "      <td>2女</td>\n",
       "      <td>127691.0</td>\n",
       "      <td>103863.0</td>\n",
       "      <td>0.813393</td>\n",
       "      <td>114085.0</td>\n",
       "      <td>77716.0</td>\n",
       "      <td>0.681211</td>\n",
       "      <td>15985.0</td>\n",
       "      <td>10051.0</td>\n",
       "      <td>0.628777</td>\n",
       "      <td>875.0</td>\n",
       "      <td>380.0</td>\n",
       "      <td>0.434286</td>\n",
       "      <td>258636.0</td>\n",
       "      <td>192010.0</td>\n",
       "      <td>0.742395</td>\n",
       "    </tr>\n",
       "    <tr>\n",
       "      <th>2</th>\n",
       "      <td>合计</td>\n",
       "      <td>258961.0</td>\n",
       "      <td>210085.0</td>\n",
       "      <td>0.811261</td>\n",
       "      <td>208030.0</td>\n",
       "      <td>144574.0</td>\n",
       "      <td>0.694967</td>\n",
       "      <td>28513.0</td>\n",
       "      <td>19747.0</td>\n",
       "      <td>0.692561</td>\n",
       "      <td>1919.0</td>\n",
       "      <td>875.0</td>\n",
       "      <td>0.455967</td>\n",
       "      <td>497423.0</td>\n",
       "      <td>375281.0</td>\n",
       "      <td>0.754450</td>\n",
       "    </tr>\n",
       "  </tbody>\n",
       "</table>\n",
       "</div>"
      ],
      "text/plain": [
       "  各性别就业率    专科毕业人数    专科就业人数     专科就业率    本科毕业人数    本科就业人数     本科就业率  硕士生毕业人数  \\\n",
       "0     1男  131270.0  106222.0  0.809187   93945.0   66858.0  0.711672  12528.0   \n",
       "1     2女  127691.0  103863.0  0.813393  114085.0   77716.0  0.681211  15985.0   \n",
       "2     合计  258961.0  210085.0  0.811261  208030.0  144574.0  0.694967  28513.0   \n",
       "\n",
       "   硕士生就业人数    硕士生就业率  博士生毕业人数  博士生就业人数    博士生就业率    毕业人数小计    就业人数小计     就业率小计  \n",
       "0   9696.0  0.773946   1044.0    495.0  0.474138  238787.0  183271.0  0.767508  \n",
       "1  10051.0  0.628777    875.0    380.0  0.434286  258636.0  192010.0  0.742395  \n",
       "2  19747.0  0.692561   1919.0    875.0  0.455967  497423.0  375281.0  0.754450  "
      ]
     },
     "execution_count": 25,
     "metadata": {},
     "output_type": "execute_result"
    }
   ],
   "source": [
    "title='各性别就业率'\n",
    "data=data_group[key_group[title]]\n",
    "data"
   ]
  },
  {
   "cell_type": "code",
   "execution_count": 71,
   "metadata": {},
   "outputs": [
    {
     "name": "stdout",
     "output_type": "stream",
     "text": [
      "497423.0\n",
      "0.7544504375551593\n",
      "0.7675082814391068\n",
      "0.7423947168994263\n"
     ]
    }
   ],
   "source": [
    "bysrs=int(xy(data,title,'合计','毕业人数小计'))\n",
    "qxlsl=change_to_decimal(xy(data,title,'合计','就业率小计'))\n",
    "boy_qxlsl=change_to_decimal(xy(data,title,'1男','就业率小计'))\n",
    "girl_qxlsl=change_to_decimal(xy(data,title,'2女','就业率小计'))"
   ]
  },
  {
   "cell_type": "code",
   "execution_count": 72,
   "metadata": {},
   "outputs": [
    {
     "name": "stdout",
     "output_type": "stream",
     "text": [
      "258961.0\n",
      "210085.0\n",
      "0.8112611551546371\n",
      "0.8091871714786318\n",
      "0.8133932696901113\n",
      "208030.0\n",
      "144574.0\n",
      "0.6949670720569149\n",
      "0.7116717228165416\n",
      "0.6812113774817022\n",
      "28513.0\n",
      "19747.0\n",
      "0.6925612878336197\n",
      "0.7739463601532567\n",
      "0.6287769784172662\n",
      "1919.0\n",
      "875.0\n",
      "0.4559666492965086\n",
      "0.47413793103448276\n",
      "0.4342857142857143\n"
     ]
    }
   ],
   "source": [
    "zk_bysrs=int(xy(data,title,'合计','专科毕业人数'))\n",
    "zk_jyrs=int(xy(data,title,'合计','专科就业人数'))\n",
    "zk_qxlsl=change_to_decimal(xy(data,title,'合计','专科就业率'))\n",
    "zk_boy_qxlsl=change_to_decimal(xy(data,title,'1男','专科就业率'))\n",
    "zk_girl_qxlsl=change_to_decimal(xy(data,title,'2女','专科就业率'))\n",
    "bk_bysrs=int(xy(data,title,'合计','本科毕业人数'))\n",
    "bk_jyrs=int(xy(data,title,'合计','本科就业人数'))\n",
    "bk_qxlsl=change_to_decimal(xy(data,title,'合计','本科就业率'))\n",
    "bk_boy_qxlsl=change_to_decimal(xy(data,title,'1男','本科就业率'))\n",
    "bk_girl_qxlsl=change_to_decimal(xy(data,title,'2女','本科就业率'))\n",
    "ss_bysrs=int(xy(data,title,'合计','硕士生毕业人数'))\n",
    "ss_jyrs=int(xy(data,title,'合计','硕士生就业人数'))\n",
    "ss_qxlsl=change_to_decimal(xy(data,title,'合计','硕士生就业率'))\n",
    "ss_boy_qxlsl=change_to_decimal(xy(data,title,'1男','硕士生就业率'))\n",
    "ss_girl_qxlsl=change_to_decimal(xy(data,title,'2女','硕士生就业率'))\n",
    "bs_bysrs=int(xy(data,title,'合计','博士生毕业人数'))\n",
    "bs_jyrs=int(xy(data,title,'合计','博士生就业人数'))\n",
    "bs_qxlsl=change_to_decimal(xy(data,title,'合计','博士生就业率'))\n",
    "bs_boy_qxlsl=change_to_decimal(xy(data,title,'1男','博士生就业率'))\n",
    "bs_girl_qxlsl=change_to_decimal(xy(data,title,'2女','博士生就业率'))"
   ]
  },
  {
   "cell_type": "code",
   "execution_count": 17,
   "metadata": {},
   "outputs": [
    {
     "data": {
      "text/html": [
       "<div>\n",
       "<style scoped>\n",
       "    .dataframe tbody tr th:only-of-type {\n",
       "        vertical-align: middle;\n",
       "    }\n",
       "\n",
       "    .dataframe tbody tr th {\n",
       "        vertical-align: top;\n",
       "    }\n",
       "\n",
       "    .dataframe thead th {\n",
       "        text-align: right;\n",
       "    }\n",
       "</style>\n",
       "<table border=\"1\" class=\"dataframe\">\n",
       "  <thead>\n",
       "    <tr style=\"text-align: right;\">\n",
       "      <th></th>\n",
       "      <th>各生源地（省）就业率</th>\n",
       "      <th>专科毕业人数</th>\n",
       "      <th>专科就业人数</th>\n",
       "      <th>专科就业率</th>\n",
       "      <th>本科毕业人数</th>\n",
       "      <th>本科就业人数</th>\n",
       "      <th>本科就业率</th>\n",
       "      <th>硕士生毕业人数</th>\n",
       "      <th>硕士生就业人数</th>\n",
       "      <th>硕士生就业率</th>\n",
       "      <th>博士生毕业人数</th>\n",
       "      <th>博士生就业人数</th>\n",
       "      <th>博士生就业率</th>\n",
       "      <th>毕业人数小计</th>\n",
       "      <th>就业人数小计</th>\n",
       "      <th>就业率小计</th>\n",
       "    </tr>\n",
       "  </thead>\n",
       "  <tbody>\n",
       "    <tr>\n",
       "      <th>0</th>\n",
       "      <td>11北京市</td>\n",
       "      <td>11.0</td>\n",
       "      <td>8.0</td>\n",
       "      <td>0.727273</td>\n",
       "      <td>309.0</td>\n",
       "      <td>193.0</td>\n",
       "      <td>0.624595</td>\n",
       "      <td>32.0</td>\n",
       "      <td>20.0</td>\n",
       "      <td>0.625000</td>\n",
       "      <td>11.0</td>\n",
       "      <td>3.0</td>\n",
       "      <td>0.272727</td>\n",
       "      <td>363.0</td>\n",
       "      <td>224.0</td>\n",
       "      <td>0.617080</td>\n",
       "    </tr>\n",
       "    <tr>\n",
       "      <th>1</th>\n",
       "      <td>12天津市</td>\n",
       "      <td>19.0</td>\n",
       "      <td>16.0</td>\n",
       "      <td>0.842105</td>\n",
       "      <td>1025.0</td>\n",
       "      <td>601.0</td>\n",
       "      <td>0.586341</td>\n",
       "      <td>71.0</td>\n",
       "      <td>42.0</td>\n",
       "      <td>0.591549</td>\n",
       "      <td>10.0</td>\n",
       "      <td>7.0</td>\n",
       "      <td>0.700000</td>\n",
       "      <td>1125.0</td>\n",
       "      <td>666.0</td>\n",
       "      <td>0.592000</td>\n",
       "    </tr>\n",
       "    <tr>\n",
       "      <th>2</th>\n",
       "      <td>13河北省</td>\n",
       "      <td>881.0</td>\n",
       "      <td>687.0</td>\n",
       "      <td>0.779796</td>\n",
       "      <td>3922.0</td>\n",
       "      <td>2627.0</td>\n",
       "      <td>0.669811</td>\n",
       "      <td>589.0</td>\n",
       "      <td>409.0</td>\n",
       "      <td>0.694397</td>\n",
       "      <td>36.0</td>\n",
       "      <td>11.0</td>\n",
       "      <td>0.305556</td>\n",
       "      <td>5428.0</td>\n",
       "      <td>3734.0</td>\n",
       "      <td>0.687915</td>\n",
       "    </tr>\n",
       "    <tr>\n",
       "      <th>3</th>\n",
       "      <td>14山西省</td>\n",
       "      <td>487.0</td>\n",
       "      <td>403.0</td>\n",
       "      <td>0.827515</td>\n",
       "      <td>2323.0</td>\n",
       "      <td>1585.0</td>\n",
       "      <td>0.682307</td>\n",
       "      <td>732.0</td>\n",
       "      <td>485.0</td>\n",
       "      <td>0.662568</td>\n",
       "      <td>36.0</td>\n",
       "      <td>16.0</td>\n",
       "      <td>0.444444</td>\n",
       "      <td>3578.0</td>\n",
       "      <td>2489.0</td>\n",
       "      <td>0.695640</td>\n",
       "    </tr>\n",
       "    <tr>\n",
       "      <th>4</th>\n",
       "      <td>15内蒙古自治区</td>\n",
       "      <td>486.0</td>\n",
       "      <td>357.0</td>\n",
       "      <td>0.734568</td>\n",
       "      <td>1566.0</td>\n",
       "      <td>1015.0</td>\n",
       "      <td>0.648148</td>\n",
       "      <td>177.0</td>\n",
       "      <td>118.0</td>\n",
       "      <td>0.666667</td>\n",
       "      <td>15.0</td>\n",
       "      <td>11.0</td>\n",
       "      <td>0.733333</td>\n",
       "      <td>2244.0</td>\n",
       "      <td>1501.0</td>\n",
       "      <td>0.668895</td>\n",
       "    </tr>\n",
       "  </tbody>\n",
       "</table>\n",
       "</div>"
      ],
      "text/plain": [
       "  各生源地（省）就业率  专科毕业人数  专科就业人数     专科就业率  本科毕业人数  本科就业人数     本科就业率  硕士生毕业人数  \\\n",
       "0      11北京市    11.0     8.0  0.727273   309.0   193.0  0.624595     32.0   \n",
       "1      12天津市    19.0    16.0  0.842105  1025.0   601.0  0.586341     71.0   \n",
       "2      13河北省   881.0   687.0  0.779796  3922.0  2627.0  0.669811    589.0   \n",
       "3      14山西省   487.0   403.0  0.827515  2323.0  1585.0  0.682307    732.0   \n",
       "4   15内蒙古自治区   486.0   357.0  0.734568  1566.0  1015.0  0.648148    177.0   \n",
       "\n",
       "   硕士生就业人数    硕士生就业率  博士生毕业人数  博士生就业人数    博士生就业率  毕业人数小计  就业人数小计     就业率小计  \n",
       "0     20.0  0.625000     11.0      3.0  0.272727   363.0   224.0  0.617080  \n",
       "1     42.0  0.591549     10.0      7.0  0.700000  1125.0   666.0  0.592000  \n",
       "2    409.0  0.694397     36.0     11.0  0.305556  5428.0  3734.0  0.687915  \n",
       "3    485.0  0.662568     36.0     16.0  0.444444  3578.0  2489.0  0.695640  \n",
       "4    118.0  0.666667     15.0     11.0  0.733333  2244.0  1501.0  0.668895  "
      ]
     },
     "execution_count": 17,
     "metadata": {},
     "output_type": "execute_result"
    }
   ],
   "source": [
    "title='各生源地（省）就业率'\n",
    "data=data_group[key_group[title]]\n",
    "data.head()"
   ]
  },
  {
   "cell_type": "code",
   "execution_count": 18,
   "metadata": {},
   "outputs": [
    {
     "name": "stdout",
     "output_type": "stream",
     "text": [
      "0.8154763180109957\n",
      "0.7028209580508241\n",
      "0.6611146250614941\n",
      "0.46061814556331004\n",
      "0.7674684994272624\n"
     ]
    }
   ],
   "source": [
    "zk_hn_jybl=change_to_decimal(xy(data,title,'43湖南省','专科就业率'))\n",
    "bk_hn_jybl=change_to_decimal(xy(data,title,'43湖南省','本科就业率'))\n",
    "ss_hn_jybl=change_to_decimal(xy(data,title,'43湖南省','硕士生就业率'))\n",
    "bs_hn_jybl=change_to_decimal(xy(data,title,'43湖南省','博士生就业率'))\n",
    "hn_jybl=change_to_decimal(xy(data,title,'43湖南省','就业率小计'))"
   ]
  },
  {
   "cell_type": "code",
   "execution_count": 19,
   "metadata": {},
   "outputs": [],
   "source": [
    "title='就业地区东中西分布'\n",
    "bl_name='各分部占比.4'\n",
    "data=data_group[key_group[title]][[title,bl_name]].sort_values(by=bl_name,ascending=False).reset_index(drop=True)\n",
    "jydq1_name=data.loc[1][title]\n",
    "jydq2_name=data.loc[2][title]\n",
    "jydq3_name=data.loc[3][title]\n",
    "jydq_bl1=change_to_decimal(data.loc[1][bl_name])\n",
    "jydq_bl2=change_to_decimal(data.loc[2][bl_name])"
   ]
  },
  {
   "cell_type": "code",
   "execution_count": 20,
   "metadata": {},
   "outputs": [],
   "source": [
    "title='就业地区省份分布'\n",
    "bl_name='各分部占比.4'\n",
    "data=data_group[key_group[title]][[title,bl_name]].sort_values(by=bl_name,ascending=False).reset_index(drop=True)\n",
    "jydqsf1_name=re.sub('\\d','',data.loc[1][title])\n",
    "jydqsf2_name=re.sub('\\d','',data.loc[2][title])\n",
    "jydqsf_bl1=change_to_decimal(data.loc[1][bl_name])\n",
    "jydqsf_bl2=change_to_decimal(data.loc[2][bl_name])"
   ]
  },
  {
   "cell_type": "code",
   "execution_count": 21,
   "metadata": {},
   "outputs": [],
   "source": [
    "title='就业单位性质分布'\n",
    "bl_name='各分部占比.4'\n",
    "data=data_group[key_group[title]][[title,bl_name]].sort_values(by=bl_name,ascending=False).reset_index(drop=True)\n",
    "\n",
    "jydwxz1_name=re.sub('\\d','',data.loc[1][title])\n",
    "jydwxz2_name=re.sub('\\d','',data.loc[2][title])\n",
    "jydwxz3_name=re.sub('\\d','',data.loc[3][title])\n",
    "jydwxz4_name=re.sub('\\d','',data.loc[4][title])\n",
    "jydwxz_bl1=change_to_decimal(data.loc[1][bl_name])\n",
    "jydwxz_bl2=change_to_decimal(data.loc[2][bl_name])"
   ]
  },
  {
   "cell_type": "code",
   "execution_count": 22,
   "metadata": {},
   "outputs": [],
   "source": [
    "title='职位类型分布'\n",
    "bl_name='各分部占比.4'\n",
    "data=data_group[key_group[title]][[title,bl_name]].sort_values(by=bl_name,ascending=False).reset_index(drop=True)\n",
    "# display(data)\n",
    "jyzwlx1_name=re.sub('\\d','',data.loc[1][title])\n",
    "jyzwlx2_name=re.sub('\\d','',data.loc[2][title])\n",
    "jyzwlx_bl1=change_to_decimal(data.loc[1][bl_name])\n",
    "jyzwlx_bl2=change_to_decimal(data.loc[2][bl_name])"
   ]
  },
  {
   "cell_type": "code",
   "execution_count": 23,
   "metadata": {},
   "outputs": [],
   "source": [
    "title='就业单位行业分布'\n",
    "bl_name='各分部占比.4'\n",
    "data=data_group[key_group[title]][[title,bl_name]].sort_values(by=bl_name,ascending=False).reset_index(drop=True)\n",
    "# display(data)\n",
    "jydwhy1_name=re.sub('\\d','',data.loc[1][title])\n",
    "jydwhy2_name=re.sub('\\d','',data.loc[2][title])\n",
    "jydwhy_bl1=change_to_decimal(data.loc[1][bl_name])\n",
    "jydwhy_bl2=change_to_decimal(data.loc[2][bl_name])"
   ]
  },
  {
   "cell_type": "markdown",
   "metadata": {},
   "source": [
    "# 替换word模板"
   ]
  },
  {
   "cell_type": "code",
   "execution_count": 154,
   "metadata": {},
   "outputs": [],
   "source": [
    "document=Document(model_path+'/模板.docx')\n",
    "replace_name=['year','month','day',\n",
    "'bysrs',\n",
    " 'qxlsl',\n",
    " 'boy_qxlsl',\n",
    " 'girl_qxlsl',\n",
    " 'hn_jybl',\n",
    " 'zk_bysrs',\n",
    " 'zk_jyrs',\n",
    " 'zk_qxlsl',\n",
    " 'zk_boy_qxlsl',\n",
    " 'zk_boy_qxlsl',\n",
    " 'zk_hn_jybl',\n",
    " 'bk_bysrs',\n",
    " 'bk_jyrs',\n",
    " 'bk_qxlsl',\n",
    " 'bk_boy_qxlsl',\n",
    " 'bk_boy_qxlsl',\n",
    " 'bk_hn_jybl',\n",
    " 'ss_bysrs',\n",
    " 'ss_jyrs',\n",
    " 'ss_qxlsl',\n",
    " 'ss_boy_qxlsl',\n",
    " 'ss_boy_qxlsl',\n",
    " 'ss_hn_jybl',\n",
    " 'bs_bysrs',\n",
    " 'bs_jyrs',\n",
    " 'bs_qxlsl',\n",
    " 'bs_boy_qxlsl',\n",
    " 'bs_boy_qxlsl',\n",
    " 'bs_hn_jybl',\n",
    " 'jydq1_name',\n",
    " 'jydq_bl1',\n",
    " 'jydq2_name',\n",
    " 'jydq_bl2',\n",
    " 'jydq3_name',\n",
    " 'jydqsf1_name',\n",
    " 'jydqsf_bl1',\n",
    " 'jydqsf2_name',\n",
    " 'jydqsf_bl2',\n",
    " 'jydwxz1_name',\n",
    " 'jydwxz_bl1',\n",
    " 'jydwxz2_name',\n",
    " 'jydwxz_bl2',\n",
    " 'jydwxz3_name',\n",
    " 'jydwxz4_name',\n",
    " 'jyzwlx1_name',\n",
    " 'jyzwlx_bl1',\n",
    " 'jyzwlx2_name',\n",
    " 'jyzwlx_bl2',\n",
    " 'jydwhy1_name',\n",
    " 'jydwhy_bl1',\n",
    " 'jydwhy2_name',\n",
    " 'jydwhy_bl2']"
   ]
  },
  {
   "cell_type": "code",
   "execution_count": 139,
   "metadata": {},
   "outputs": [],
   "source": [
    "for j in range(len(document.paragraphs)):\n",
    "    flag=False\n",
    "    if len(document.paragraphs[j].runs)>0:#先获取run的格式，不然后面replace似乎就没有格式了\n",
    "        fname=document.paragraphs[j].runs[0].font.name\n",
    "        fsize=document.paragraphs[j].runs[0].font.size\n",
    "    for i in replace_name:\n",
    "        if '【'+i+'】' in document.paragraphs[j].text:\n",
    "            flag=True\n",
    "            document.paragraphs[j].text = document.paragraphs[j].text.replace('【'+i+'】',str(eval(i)))\n",
    "    if flag:\n",
    "        for run in document.paragraphs[j].runs:\n",
    "            run.font.name=fname\n",
    "            run._element.rPr.rFonts.set(qn('w:eastAsia'), fname)\n",
    "            run.font.size=fsize"
   ]
  },
  {
   "cell_type": "code",
   "execution_count": 142,
   "metadata": {},
   "outputs": [],
   "source": [
    "title='username'\n",
    "data=data_group[key_group[title]][['qa3_1','qa3_2','qa5_1']]\n",
    "data['qa3_1']=data['qa3_1'].apply(lambda x:x if x>0 else 0)\n",
    "data['qa3_2']=data['qa3_2'].apply(lambda x:x if x>0 else 0)\n",
    "data['qa5_1']=data['qa5_1'].apply(lambda x:x if x>0 else 0)\n",
    "data['temp']=data['qa5_1'].apply(lambda x:1 if x>0 else 0)\n",
    "xzjygw=int(sum(data['qa3_1'])+sum(data['qa3_2']))\n",
    "sxsjjd=int(sum(data['temp']))\n",
    "xjnsxs=int(sum(data['qa5_1']))"
   ]
  },
  {
   "cell_type": "code",
   "execution_count": 159,
   "metadata": {},
   "outputs": [
    {
     "data": {
      "text/plain": [
       "<docx.text.paragraph.Paragraph at 0x1c62d56b2b0>"
      ]
     },
     "execution_count": 159,
     "metadata": {},
     "output_type": "execute_result"
    }
   ],
   "source": [
    "content=f\"\\t 八、 访企拓岗总体情况：\"\n",
    "document.add_paragraph(content, style='CustomStyle2')\n",
    "content=f\"截至{year}年{month}月{day}日9点整，为促进20xx届毕业生就业，全省共有xxx所高校开展访企拓岗活动，已走访xxx家单位，促成企业新增就业岗位{xzjygw}个，新签订{sxsjjd}家实习实践基地、拟新接纳实习生{xjnsxs}人。\"\n",
    "document.add_paragraph(content, style='CustomStyle1')"
   ]
  },
  {
   "cell_type": "code",
   "execution_count": 160,
   "metadata": {},
   "outputs": [],
   "source": [
    "document.save(f'高校毕业生就业数据分析简报.docx')"
   ]
  },
  {
   "cell_type": "markdown",
   "metadata": {},
   "source": [
    "# 校招取数"
   ]
  },
  {
   "cell_type": "code",
   "execution_count": 180,
   "metadata": {},
   "outputs": [],
   "source": [
    "import pymssql  \n",
    "conn = pymssql.connect(server='39.104.209.155', user='sa', password='admin_0', database='hn_szx')\n",
    "cursor = conn.cursor() "
   ]
  },
  {
   "cell_type": "code",
   "execution_count": 183,
   "metadata": {},
   "outputs": [],
   "source": [
    "sql=''\n",
    "cursor.execute(sql) "
   ]
  },
  {
   "cell_type": "code",
   "execution_count": 185,
   "metadata": {},
   "outputs": [
    {
     "name": "stdout",
     "output_type": "stream",
     "text": [
      "[(12772830113221, 'TS16819529639856D5', '测试支付回调4', '该功能', None, None, None, None, None, None, '22', None, None, None, '无', True, None, None, None, 'test', '-', '17792647761', 'dfhs@qq.com', '雁塔区15465461231', '', 'http://www.sina.cn', None, None, None, '17712345678', 'hr@qq.com', True, datetime.datetime(2026, 7, 9, 0, 0), 'http://campusdemo-pic.rendd.cn/company/login/2023-02-15/1676450607-8748.png', None, True, True, datetime.datetime(2023, 4, 20, 9, 9, 26, 993000), 0, None, '云校招授权登录', 2, False, False, None, datetime.datetime(2023, 4, 20, 9, 9, 30, 450000), None, None, None, None, None, False, None), (12773663988165, 'TS1681959452004EU0', '新草莓熊测试分公司', '', None, None, '23', '医疗卫生单位', None, None, '23', '电力、热力、燃气及水生产和供应业', '6', '5000以上', '50-100万', True, None, '610300', None, '测测', '-', '18419064256', 'wangxr@bibibi.net', '11', '', '', None, None, None, '18419064256', 'wangxr@bibibi.net', False, None, None, None, False, False, datetime.datetime(2023, 4, 20, 10, 57, 32, 3000), 0, None, '云校招授权登录', 2, False, False, None, datetime.datetime(2023, 4, 20, 10, 57, 32, 7000), datetime.datetime(2023, 6, 27, 21, 43, 9, 293000), None, None, 374438886654277, '测试', False, None)]\n"
     ]
    }
   ],
   "source": [
    "row = cursor.fetchall()\n",
    "print(row"
   ]
  },
  {
   "cell_type": "code",
   "execution_count": 186,
   "metadata": {},
   "outputs": [
    {
     "data": {
      "text/plain": [
       "2"
      ]
     },
     "execution_count": 186,
     "metadata": {},
     "output_type": "execute_result"
    }
   ],
   "source": [
    "len(row)"
   ]
  },
  {
   "cell_type": "code",
   "execution_count": null,
   "metadata": {},
   "outputs": [],
   "source": []
  }
 ],
 "metadata": {
  "kernelspec": {
   "display_name": "Python 3",
   "language": "python",
   "name": "python3"
  },
  "language_info": {
   "codemirror_mode": {
    "name": "ipython",
    "version": 3
   },
   "file_extension": ".py",
   "mimetype": "text/x-python",
   "name": "python",
   "nbconvert_exporter": "python",
   "pygments_lexer": "ipython3",
   "version": "3.8.3"
  },
  "toc": {
   "base_numbering": 1,
   "nav_menu": {},
   "number_sections": true,
   "sideBar": true,
   "skip_h1_title": false,
   "title_cell": "Table of Contents",
   "title_sidebar": "Contents",
   "toc_cell": false,
   "toc_position": {
    "height": "calc(100% - 180px)",
    "left": "10px",
    "top": "150px",
    "width": "213px"
   },
   "toc_section_display": true,
   "toc_window_display": true
  }
 },
 "nbformat": 4,
 "nbformat_minor": 5
}
