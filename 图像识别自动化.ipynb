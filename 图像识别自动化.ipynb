{
 "cells": [
  {
   "cell_type": "code",
   "execution_count": 7,
   "metadata": {},
   "outputs": [],
   "source": [
    "import pyautogui\n",
    "import shutil\n",
    "import time\n",
    "from PIL import ImageGrab\n",
    "from PIL import Image\n",
    "import os\n",
    "import keyboard\n",
    "import pyperclip\n",
    "import wx\n",
    "import lxk\n",
    "\n",
    "def click_image(image, confidence=0.9, lag_x=0,lag_y=0,wait=0, drag=None):\n",
    "    \n",
    "    time.sleep(wait)\n",
    "\n",
    "    # 获取屏幕分辨率\n",
    "    screen_width, screen_height = pyautogui.size()\n",
    "\n",
    "    # 全屏截图\n",
    "    screen_image = ImageGrab.grab()\n",
    "\n",
    "    # 在屏幕截图中查找匹配\n",
    "    location = pyautogui.locate(image, screen_image, confidence=confidence)\n",
    "    if location:\n",
    "        # 匹配成功，返回位置信息\n",
    "        x, y, a, b = location\n",
    "        if drag==None:\n",
    "            pyautogui.click(x+a//2+lag_x, y+b//2+lag_y)\n",
    "        else:\n",
    "            pyautogui.moveTo(x+a//2+lag_x, y+b//2+lag_y)\n",
    "            pyautogui.mouseDown()\n",
    "            pyautogui.moveRel(drag[0],drag[1],0.2)\n",
    "            pyautogui.mouseUp()\n",
    "        time.sleep(0.2)\n",
    "        return 1\n",
    "    else:\n",
    "        # 匹配失败，返回None\n",
    "        return 0"
   ]
  },
  {
   "cell_type": "code",
   "execution_count": 8,
   "metadata": {},
   "outputs": [],
   "source": [
    "image_path = 'D:/AutoClickPicture/'"
   ]
  },
  {
   "cell_type": "code",
   "execution_count": 9,
   "metadata": {},
   "outputs": [],
   "source": [
    "def shuru(x):\n",
    "    pyperclip.copy(x)\n",
    "    pyautogui.hotkey('ctrl','v')"
   ]
  },
  {
   "cell_type": "markdown",
   "metadata": {},
   "source": [
    "# 单次运行"
   ]
  },
  {
   "cell_type": "code",
   "execution_count": 10,
   "metadata": {},
   "outputs": [],
   "source": [
    "try:\n",
    "    os.mkdir(image_path)\n",
    "except:\n",
    "    pass"
   ]
  },
  {
   "cell_type": "code",
   "execution_count": 12,
   "metadata": {},
   "outputs": [
    {
     "data": {
      "text/plain": [
       "0"
      ]
     },
     "execution_count": 12,
     "metadata": {},
     "output_type": "execute_result"
    }
   ],
   "source": [
    "class MyFrame(wx.Frame):\n",
    "    def __init__(self, parent):        \n",
    "        self.flag = -1\n",
    "        self.pic_group =[]\n",
    "        self.image_path = image_path+'temp/'\n",
    "        h =150\n",
    "        w =600\n",
    "        wx.Frame.__init__(self, parent, title='My Frame', size=(h, w))\n",
    "        \n",
    "        btn_group = {'toggle_btn':'始终置顶','add_btn':'添加','try_btn':'尝试点击','delete_btn':'删除',\\\n",
    "                     'debug_btn':'调试','save_btn':'保存','load_btn':'加载','start_btn':'执行'}\n",
    "        sizer = wx.BoxSizer(wx.VERTICAL)\n",
    "        for i in btn_group:\n",
    "            exec(f\"self.{i}=wx.Button(self, label='{btn_group[i]}')\") # 创建btn\n",
    "            exec(f\"sizer.Add(self.{i}, 0, wx.ALL, 5)\") # 添加进\n",
    "            exec(f\"self.{i}.Bind(wx.EVT_BUTTON, self.On_{i})\")\n",
    "\n",
    "        self.SetSizer(sizer)\n",
    "        \n",
    "        # 初始化窗口\n",
    "        self.SetPosition(wx.Point(wx.DisplaySize()[0] - h, wx.DisplaySize()[1] - w))\n",
    "        self.Show()\n",
    "        self.SetWindowStyle(wx.DEFAULT_FRAME_STYLE | wx.STAY_ON_TOP)\n",
    "        \n",
    "    def On_toggle_btn(self, event):\n",
    "        if self.GetWindowStyle() & wx.STAY_ON_TOP:\n",
    "            self.SetWindowStyle(wx.DEFAULT_FRAME_STYLE)\n",
    "        else:\n",
    "            self.SetWindowStyle(wx.DEFAULT_FRAME_STYLE | wx.STAY_ON_TOP)\n",
    "            \n",
    "    def On_add_btn(self, event):\n",
    "        self.flag=+1\n",
    "        self.pic_group.insert(self.flag,ImageGrab.grabclipboard())\n",
    "        \n",
    "    def On_try_btn(self, event):\n",
    "        click_image(self.pic_group[self.flag])\n",
    "        \n",
    "    def On_delete_btn(self, event):\n",
    "        self.flag=-1\n",
    "        self.pic_group.pop(self.flag)\n",
    "    \n",
    "    def On_debug_btn(self, event):\n",
    "        self.flag=-1\n",
    "        self.pic_group.pop(self.flag)\n",
    "    \n",
    "    def On_save_btn(self, event):\n",
    "        try:\n",
    "            os.mkdir(self.image_path)\n",
    "        except:\n",
    "            shutil.rmtree(self.image_path)\n",
    "            os.mkdir(self.image_path)\n",
    "        for i in range(0,len(self.pic_group)):\n",
    "            self.pic_group[i].save(self.image_path+f'{i}.png')\n",
    "        \n",
    "    def On_load_btn(self, event):\n",
    "        self.pic_group=[]\n",
    "        self.flag=-1\n",
    "        for i in range(0,len(os.listdir(self.image_path))):\n",
    "            image = Image.open(self.image_path+ f'{i}.png')\n",
    "            self.pic_group.append(image)\n",
    "            \n",
    "    def On_start_btn(self, event):\n",
    "        for i in range(0,len(self.pic_group)):\n",
    "            while click_image(self.pic_group[i],wait=0.2)==0:\n",
    "                time.sleep(0.2)\n",
    "        \n",
    "try:\n",
    "    del app\n",
    "except:\n",
    "    pass\n",
    "app = wx.App()\n",
    "frame = MyFrame(None)\n",
    "app.MainLoop()"
   ]
  },
  {
   "cell_type": "code",
   "execution_count": null,
   "metadata": {},
   "outputs": [],
   "source": []
  },
  {
   "cell_type": "code",
   "execution_count": null,
   "metadata": {},
   "outputs": [],
   "source": []
  },
  {
   "cell_type": "markdown",
   "metadata": {},
   "source": [
    "# 批量运行"
   ]
  },
  {
   "cell_type": "code",
   "execution_count": null,
   "metadata": {},
   "outputs": [],
   "source": [
    "wait_group = []\n",
    "sr_group = {}\n",
    "key_group = set(sr_group)\n",
    "pass_group = []\n",
    "while True:\n",
    "    keyboard.wait('F3')\n",
    "    for i in range(0,len(os.listdir(image_path))):\n",
    "        #用于单步调试\n",
    "#         keyboard.wait('F3')\n",
    "        if i in pass_group:\n",
    "            continue\n",
    "        a = 0\n",
    "        b = 0\n",
    "        drag = None\n",
    "        if i==1:\n",
    "            b=80\n",
    "            drag = (0,-80)\n",
    "        while click_image(image_path + f'{i}.png',lag_x=a,lag_y=b,drag=drag)==0:\n",
    "            time.sleep(0.2)\n",
    "        \n",
    "        if i in wait_group:#等待自己操作完按f4继续\n",
    "            keyboard.wait('F3')\n",
    "        if str(i) in key_group :#输入内容\n",
    "            shuru(sr_group[str(i)])\n",
    "            \n",
    "        #执行完之后加个性化操作    \n",
    "        if i==4:\n",
    "            pyautogui.hotkey('ctrl','a')\n",
    "            pyautogui.press('delete')\n",
    "            pyautogui.press('delete')\n",
    "            pyautogui.press('delete')\n",
    "            pyautogui.press('delete')\n",
    "        print(i,end=' ')"
   ]
  },
  {
   "cell_type": "markdown",
   "metadata": {},
   "source": [
    "# 文件名批量改"
   ]
  },
  {
   "cell_type": "code",
   "execution_count": 125,
   "metadata": {},
   "outputs": [],
   "source": [
    "need_change_name = [0,3] #和range规则一样\n",
    "buchang = 1\n",
    "\n",
    "if buchang<0:\n",
    "    for i in range(*need_change_name):\n",
    "        j=i+buchang\n",
    "        os.rename(image_path+f'{i}.png',image_path+f'{j}.png')\n",
    "else:\n",
    "    for i in range(*need_change_name):\n",
    "        j1=need_change_name[0]+need_change_name[1]-i\n",
    "        j2=j1+buchang\n",
    "        os.rename(image_path+f'{j1}.png',image_path+f'{j2}.png')"
   ]
  },
  {
   "cell_type": "code",
   "execution_count": null,
   "metadata": {},
   "outputs": [],
   "source": [
    "河北|山西|辽宁|吉林|黑龙江|江苏|浙江|安徽|福建|江西|山东|河南|湖北|湖南|广东|海南|四川|贵州|云南|陕西|甘肃|青海|台湾"
   ]
  },
  {
   "cell_type": "code",
   "execution_count": null,
   "metadata": {},
   "outputs": [],
   "source": [
    "case when province in ('西藏','内蒙古') then province||'自治区'\n",
    "            when province in ('广西') then province||'壮族自治区' \n",
    "            when province in ('新疆') then province||'维吾尔自治区' \n",
    "            when province in ('宁夏') then province||'回族自治区'\n",
    "            when province in ('香港','澳门') then province||'特别行政区'\n",
    "            when province in ('北京','上海','天津','重庆') then province||'市' \n",
    "            when length(province) = 0 then province   \n",
    "            else province||'省' end as company_province"
   ]
  },
  {
   "cell_type": "code",
   "execution_count": null,
   "metadata": {},
   "outputs": [],
   "source": []
  },
  {
   "cell_type": "code",
   "execution_count": null,
   "metadata": {},
   "outputs": [],
   "source": [
    "不对劲，文件名一改别的地方的group也要改"
   ]
  }
 ],
 "metadata": {
  "kernelspec": {
   "display_name": "Python 3 (ipykernel)",
   "language": "python",
   "name": "python3"
  },
  "language_info": {
   "codemirror_mode": {
    "name": "ipython",
    "version": 3
   },
   "file_extension": ".py",
   "mimetype": "text/x-python",
   "name": "python",
   "nbconvert_exporter": "python",
   "pygments_lexer": "ipython3",
   "version": "3.8.3"
  },
  "toc": {
   "base_numbering": 1,
   "nav_menu": {},
   "number_sections": true,
   "sideBar": true,
   "skip_h1_title": false,
   "title_cell": "Table of Contents",
   "title_sidebar": "Contents",
   "toc_cell": false,
   "toc_position": {},
   "toc_section_display": true,
   "toc_window_display": false
  }
 },
 "nbformat": 4,
 "nbformat_minor": 4
}
