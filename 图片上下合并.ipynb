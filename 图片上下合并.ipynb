{
 "cells": [
  {
   "cell_type": "code",
   "execution_count": null,
   "metadata": {},
   "outputs": [],
   "source": [
    "from PIL import Image\n",
    "\n",
    "img1 = 'E:/桌面/激励金/51.png'\n",
    "img2 = 'E:/桌面/激励金/5.png'\n",
    "img_12 = 'E:/桌面/激励金/6.png'\n",
    "\n",
    "def concat_image(img1,img2,img_12):\n",
    "    # 打开两张图片\n",
    "    image1 = Image.open(img1)\n",
    "    image2 = Image.open(img2)\n",
    "\n",
    "    # 获取第一张图片的宽度和高度\n",
    "    width1, height1 = image1.size\n",
    "\n",
    "    # 获取第二张图片的宽度和高度\n",
    "    width2, height2 = image2.size\n",
    "\n",
    "    # 计算合成后的图片宽度和高度\n",
    "    height = height1 + height2\n",
    "    width = max(width1, width2)\n",
    "\n",
    "    # 创建一个空的新图片\n",
    "    new_image = Image.new('RGB', (width, height), (255, 255, 255))\n",
    "\n",
    "    # 将第一张图片粘贴到新图片的左侧\n",
    "    new_image.paste(image1, (0, 0))\n",
    "\n",
    "    # 将第二张图片粘贴到新图片的右侧\n",
    "    new_image.paste(image2, (0, height1))\n",
    "\n",
    "    # 保存合成后的图片\n",
    "    new_image.save(img_12)\n",
    "    \n",
    "concat_image(img1,img2,img_12)"
   ]
  }
 ],
 "metadata": {
  "kernelspec": {
   "display_name": "Python 3",
   "language": "python",
   "name": "python3"
  },
  "language_info": {
   "codemirror_mode": {
    "name": "ipython",
    "version": 3
   },
   "file_extension": ".py",
   "mimetype": "text/x-python",
   "name": "python",
   "nbconvert_exporter": "python",
   "pygments_lexer": "ipython3",
   "version": "3.8.3"
  },
  "toc": {
   "base_numbering": 1,
   "nav_menu": {},
   "number_sections": true,
   "sideBar": true,
   "skip_h1_title": false,
   "title_cell": "Table of Contents",
   "title_sidebar": "Contents",
   "toc_cell": false,
   "toc_position": {},
   "toc_section_display": true,
   "toc_window_display": false
  }
 },
 "nbformat": 4,
 "nbformat_minor": 4
}
