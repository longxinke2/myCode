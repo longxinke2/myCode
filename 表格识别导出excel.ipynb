{
 "cells": [
  {
   "cell_type": "code",
   "execution_count": 23,
   "metadata": {},
   "outputs": [],
   "source": [
    "import pandas as pd\n",
    "import pytesseract\n",
    "import re\n",
    "from PIL import Image\n",
    "import xlwings as xw\n",
    "import pyautogui\n",
    "from PIL import Image,ImageGrab\n",
    "import time\n",
    "import keyboard\n",
    "\n",
    "pytesseract.pytesseract.tesseract_cmd = 'e://tesseract//tesseract.exe'\n",
    "tessdata_dir_config = '--tessdata-dir \"e://tesseract//tessdata\"'"
   ]
  },
  {
   "cell_type": "code",
   "execution_count": 30,
   "metadata": {
    "scrolled": true
   },
   "outputs": [],
   "source": [
    "img = Image.open('E:/桌面/1.png')\n",
    "config = r'-c tessedit_char_whitelist=0123456789 --psm 6'\n",
    "text = pytesseract.image_to_string(img, config=config)"
   ]
  },
  {
   "cell_type": "code",
   "execution_count": 31,
   "metadata": {},
   "outputs": [],
   "source": [
    "rows = text.split(\"\\n\")\n",
    "arr = []\n",
    "for row in rows:\n",
    "    arr.append(row.split())"
   ]
  },
  {
   "cell_type": "code",
   "execution_count": 33,
   "metadata": {},
   "outputs": [],
   "source": [
    "pd.DataFrame(arr).to_excel('E:/桌面/表格识别导出.xlsx')"
   ]
  },
  {
   "cell_type": "code",
   "execution_count": 11,
   "metadata": {},
   "outputs": [],
   "source": [
    "# excel工具\n",
    "wb = xw.Book('E:/桌面/表格识别导出.xlsx')"
   ]
  },
  {
   "cell_type": "code",
   "execution_count": 13,
   "metadata": {},
   "outputs": [],
   "source": [
    "sheet = wb.sheets[0]\n",
    "sheet.range('A1').value = 'sss'"
   ]
  },
  {
   "cell_type": "code",
   "execution_count": 24,
   "metadata": {},
   "outputs": [],
   "source": [
    "def click_image(image_path, confidence=0.9, lag_x=0,lag_y=0,wait=0):\n",
    "    \n",
    "    time.sleep(wait)\n",
    "    # 从文件读取图像\n",
    "\n",
    "    image = Image.open(image_path)\n",
    "\n",
    "    # 获取屏幕分辨率\n",
    "    screen_width, screen_height = pyautogui.size()\n",
    "\n",
    "    # 全屏截图\n",
    "    screen_image = ImageGrab.grab()\n",
    "\n",
    "    # 在屏幕截图中查找匹配\n",
    "    location = pyautogui.locate(image, screen_image, confidence=confidence)\n",
    "    if location:\n",
    "        # 匹配成功，返回位置信息\n",
    "        x, y, a, b = location\n",
    "        pyautogui.click(x+a//2+lag_x, y+b//2+lag_y)\n",
    "        return 1\n",
    "    else:\n",
    "        # 匹配失败，返回None\n",
    "        return 0\n"
   ]
  },
  {
   "cell_type": "code",
   "execution_count": 34,
   "metadata": {},
   "outputs": [],
   "source": [
    "\n",
    "while True:\n",
    "    if keyboard.is_pressed('ctrl'):\n",
    "        pyautogui.rightClick()\n",
    "        time.sleep(0.2)\n",
    "        image_path = 'E:/picture/excel/'\n",
    "        for name in range(0,3):\n",
    "            while click_image(image_path+f'{name}.png')==0:\n",
    "                time.sleep(0.2)\n",
    "    if keyboard.is_pressed('win'):\n",
    "        break"
   ]
  },
  {
   "cell_type": "code",
   "execution_count": null,
   "metadata": {},
   "outputs": [],
   "source": []
  }
 ],
 "metadata": {
  "hide_input": false,
  "kernelspec": {
   "display_name": "Python 3",
   "language": "python",
   "name": "python3"
  },
  "language_info": {
   "codemirror_mode": {
    "name": "ipython",
    "version": 3
   },
   "file_extension": ".py",
   "mimetype": "text/x-python",
   "name": "python",
   "nbconvert_exporter": "python",
   "pygments_lexer": "ipython3",
   "version": "3.8.3"
  },
  "toc": {
   "base_numbering": 1,
   "nav_menu": {},
   "number_sections": true,
   "sideBar": true,
   "skip_h1_title": false,
   "title_cell": "Table of Contents",
   "title_sidebar": "Contents",
   "toc_cell": false,
   "toc_position": {},
   "toc_section_display": true,
   "toc_window_display": false
  },
  "varInspector": {
   "cols": {
    "lenName": 16,
    "lenType": 16,
    "lenVar": 40
   },
   "kernels_config": {
    "python": {
     "delete_cmd_postfix": "",
     "delete_cmd_prefix": "del ",
     "library": "var_list.py",
     "varRefreshCmd": "print(var_dic_list())"
    },
    "r": {
     "delete_cmd_postfix": ") ",
     "delete_cmd_prefix": "rm(",
     "library": "var_list.r",
     "varRefreshCmd": "cat(var_dic_list()) "
    }
   },
   "types_to_exclude": [
    "module",
    "function",
    "builtin_function_or_method",
    "instance",
    "_Feature"
   ],
   "window_display": false
  }
 },
 "nbformat": 4,
 "nbformat_minor": 5
}
