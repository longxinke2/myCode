{
 "cells": [
  {
   "cell_type": "code",
   "execution_count": 1,
   "metadata": {},
   "outputs": [],
   "source": [
    "%load_ext autoreload\n",
    "%autoreload 2\n",
    "\n",
    "from pyautoword import *\n",
    "import time\n",
    "import threading\n",
    "# to_markdown需要安装一个包tabulate\n",
    "\n",
    "t=threading.Thread(name='admin',target=admin)\n",
    "t.start()"
   ]
  },
  {
   "cell_type": "code",
   "execution_count": 2,
   "metadata": {},
   "outputs": [],
   "source": [
    "# 变量\n",
    "xxmc = '西安工业大学'\n",
    "year = '2022'\n",
    "path = 'E:/桌面/test/'\n",
    "dc =path+'test.docx' #导出word的路径\n",
    "\n",
    "color_1 = '#147BC5' #主配色\n",
    "color_2 = '#FBB03E' #主配色\n",
    "color_3 = '#24AAE1' #主配色\n",
    "color_4 = '#E3798D' \n",
    "color_5 = '#00ABCB' "
   ]
  },
  {
   "cell_type": "code",
   "execution_count": 3,
   "metadata": {},
   "outputs": [],
   "source": [
    "# 读取文档\n",
    "read_doc(path+'红色模板.docx')\n",
    "data = get_3_data(xxmc,year,'派遣')"
   ]
  },
  {
   "cell_type": "markdown",
   "metadata": {},
   "source": [
    "# 第一章     毕业生就业基本情况"
   ]
  },
  {
   "cell_type": "markdown",
   "metadata": {},
   "source": [
    "## 一、毕业生规模及结构"
   ]
  },
  {
   "cell_type": "markdown",
   "metadata": {},
   "source": [
    "### （一）本科毕业生规模"
   ]
  },
  {
   "cell_type": "markdown",
   "metadata": {},
   "source": [
    "### （二）毕业生结构分布"
   ]
  },
  {
   "cell_type": "markdown",
   "metadata": {},
   "source": [
    "#### 1.学院结构"
   ]
  },
  {
   "cell_type": "code",
   "execution_count": 5,
   "metadata": {},
   "outputs": [
    {
     "name": "stdout",
     "output_type": "stream",
     "text": [
      "|    | yx                   | 本科_num   | 本科_proportion   | 研究生_num   | 研究生_proportion   | num        | proportion   |\n",
      "|---:|:---------------------|:-----------|:------------------|:-------------|:--------------------|:-----------|:-------------|\n",
      "|  0 | 学院                 | 本科毕业生 | left              | 硕士毕业生   | left                | 全体毕业生 | left         |\n",
      "|  1 | up                   | 人数       | 占比              | 人数         | 占比                | 人数       | 占比         |\n",
      "|  2 | 中国书法学院         | 50         | 0.93%             | 12           | 0.22%               | 62         | 1.16%        |\n",
      "|  3 | 光电工程学院         | 476        | 8.87%             | 107          | 1.99%               | 583        | 10.87%       |\n",
      "|  4 | 兵器科学与技术学院   | -          | -                 | 46           | 0.86%               | 46         | 0.86%        |\n",
      "|  5 | 基础学院             | 246        | 4.59%             | 26           | 0.48%               | 272        | 5.07%        |\n",
      "|  6 | 建筑工程学院         | 255        | 4.75%             | 64           | 1.19%               | 319        | 5.95%        |\n",
      "|  7 | 文学院               | 268        | 5.00%             | 55           | 1.03%               | 323        | 6.02%        |\n",
      "|  8 | 机电工程学院         | 566        | 10.55%            | 109          | 2.03%               | 675        | 12.58%       |\n",
      "|  9 | 材料与化工学院       | 404        | 7.53%             | 97           | 1.81%               | 501        | 9.34%        |\n",
      "| 10 | 电子信息工程学院     | 637        | 11.87%            | 116          | 2.16%               | 753        | 14.04%       |\n",
      "| 11 | 经济管理学院         | 586        | 10.92%            | 116          | 2.16%               | 702        | 13.08%       |\n",
      "| 12 | 艺术与传媒学院       | 414        | 7.72%             | -            | -                   | 414        | 7.72%        |\n",
      "| 13 | 计算机科学与工程学院 | 615        | 11.46%            | 68           | 1.27%               | 683        | 12.73%       |\n",
      "| 14 | 马克思主义学院       | -          | -                 | 32           | 0.60%               | 32         | 0.60%        |\n",
      "| 15 | 总计                 | 4517       | 100.00%           | 848          | 100.00%             | 5365       | 100.00%      |\n"
     ]
    }
   ],
   "source": [
    "string='学院'\n",
    "data1 = get_group_order_table(data,L(string))#获得分组的data\n",
    "data2table(data1)#data转化为表格"
   ]
  },
  {
   "cell_type": "code",
   "execution_count": 6,
   "metadata": {},
   "outputs": [],
   "source": [
    "save_doc(dc,True)"
   ]
  },
  {
   "cell_type": "markdown",
   "metadata": {},
   "source": [
    "#### 2.专业结构"
   ]
  },
  {
   "cell_type": "markdown",
   "metadata": {},
   "source": [
    "#### 3.生源地结构"
   ]
  },
  {
   "cell_type": "markdown",
   "metadata": {},
   "source": [
    "#### 4.民族结构"
   ]
  },
  {
   "cell_type": "code",
   "execution_count": 19,
   "metadata": {},
   "outputs": [],
   "source": [
    "%aimport pyautoword\n",
    "read_doc(path+'红色模板.docx')"
   ]
  },
  {
   "cell_type": "code",
   "execution_count": 20,
   "metadata": {
    "scrolled": false
   },
   "outputs": [
    {
     "name": "stdout",
     "output_type": "stream",
     "text": [
      "        sysf   num proportion\n",
      "0        上海市     6      0.11%\n",
      "1        云南省    45      0.84%\n",
      "2     内蒙古自治区    55      1.03%\n",
      "3        北京市     5      0.09%\n",
      "4        吉林省    21      0.39%\n",
      "5        四川省    54      1.01%\n",
      "6        天津市    16      0.30%\n",
      "7    宁夏回族自治区    47      0.88%\n",
      "8        安徽省    88      1.64%\n",
      "9        山东省   105      1.96%\n",
      "10       山西省   184      3.43%\n",
      "11       广东省    19      0.35%\n",
      "12   广西壮族自治区    42      0.78%\n",
      "13  新疆维吾尔自治区    84      1.57%\n",
      "14       江苏省    68      1.27%\n",
      "15       江西省    60      1.12%\n",
      "16       河北省   115      2.14%\n",
      "17       河南省   171      3.19%\n",
      "18       浙江省    16      0.30%\n",
      "19       海南省    33      0.62%\n",
      "20       湖北省    29      0.54%\n",
      "21       湖南省    37      0.69%\n",
      "22       甘肃省   150      2.80%\n",
      "23       福建省    20      0.37%\n",
      "24     西藏自治区    10      0.19%\n",
      "25       贵州省    65      1.21%\n",
      "26       辽宁省    20      0.37%\n",
      "27       重庆市    63      1.17%\n",
      "28       陕西省  3683     68.65%\n",
      "29       青海省    31      0.58%\n",
      "30      黑龙江省    23      0.43%\n",
      "        sysf   num proportion\n",
      "3        北京市     5      0.09%\n",
      "0        上海市     6      0.11%\n",
      "24     西藏自治区    10      0.19%\n",
      "6        天津市    16      0.30%\n",
      "18       浙江省    16      0.30%\n",
      "11       广东省    19      0.35%\n",
      "26       辽宁省    20      0.37%\n",
      "23       福建省    20      0.37%\n",
      "4        吉林省    21      0.39%\n",
      "30      黑龙江省    23      0.43%\n",
      "20       湖北省    29      0.54%\n",
      "29       青海省    31      0.58%\n",
      "19       海南省    33      0.62%\n",
      "21       湖南省    37      0.69%\n",
      "12   广西壮族自治区    42      0.78%\n",
      "1        云南省    45      0.84%\n",
      "7    宁夏回族自治区    47      0.88%\n",
      "5        四川省    54      1.01%\n",
      "2     内蒙古自治区    55      1.03%\n",
      "15       江西省    60      1.12%\n",
      "27       重庆市    63      1.17%\n",
      "25       贵州省    65      1.21%\n",
      "14       江苏省    68      1.27%\n",
      "13  新疆维吾尔自治区    84      1.57%\n",
      "8        安徽省    88      1.64%\n",
      "9        山东省   105      1.96%\n",
      "16       河北省   115      2.14%\n",
      "22       甘肃省   150      2.80%\n",
      "17       河南省   171      3.19%\n",
      "10       山西省   184      3.43%\n",
      "28       陕西省  3683     68.65%\n"
     ]
    }
   ],
   "source": [
    "data1=get_group_order_table(data,L('生源省份'),need_sum=False)"
   ]
  },
  {
   "cell_type": "code",
   "execution_count": 29,
   "metadata": {},
   "outputs": [
    {
     "data": {
      "text/plain": [
       "[['北京市', 5],\n",
       " ['上海市', 6],\n",
       " ['西藏自治区', 10],\n",
       " ['天津市', 16],\n",
       " ['浙江省', 16],\n",
       " ['广东省', 19],\n",
       " ['辽宁省', 20],\n",
       " ['福建省', 20],\n",
       " ['吉林省', 21],\n",
       " ['黑龙江省', 23],\n",
       " ['湖北省', 29],\n",
       " ['青海省', 31],\n",
       " ['海南省', 33],\n",
       " ['湖南省', 37],\n",
       " ['广西壮族自治区', 42],\n",
       " ['云南省', 45],\n",
       " ['宁夏回族自治区', 47],\n",
       " ['四川省', 54],\n",
       " ['内蒙古自治区', 55],\n",
       " ['江西省', 60],\n",
       " ['重庆市', 63],\n",
       " ['贵州省', 65],\n",
       " ['江苏省', 68],\n",
       " ['新疆维吾尔自治区', 84],\n",
       " ['安徽省', 88],\n",
       " ['山东省', 105],\n",
       " ['河北省', 115],\n",
       " ['甘肃省', 150],\n",
       " ['河南省', 171],\n",
       " ['山西省', 184],\n",
       " ['陕西省', 3683]]"
      ]
     },
     "execution_count": 29,
     "metadata": {},
     "output_type": "execute_result"
    }
   ],
   "source": [
    "data1[['sysf','num']].values.tolist()"
   ]
  },
  {
   "cell_type": "markdown",
   "metadata": {},
   "source": [
    "# 地图研究"
   ]
  },
  {
   "cell_type": "code",
   "execution_count": 37,
   "metadata": {},
   "outputs": [],
   "source": [
    "dict_sf={'河北省': '河北', '香港特别行政区': '香港', '天津市': '天津', '山西省': '山西', '内蒙古自治区': '内蒙古', '四川省': '四川', '海南省': '海南', '江西省': '江西', '北京市': '北京', '黑龙江省': '黑龙江', '云南省': '云南', '西藏自治区': '西藏', '浙江省': '浙江', '广西壮族自治区': '广西', '辽宁省': '辽宁', '澳门特别行政区': '澳门', '福建省': '福建', '安徽省': '安徽', '青海省': '青海', '贵州省': '贵州', '吉林省': '吉林', '湖南省': '湖南', '陕西省': '陕西', '台湾省': '台湾', '山东省': '山东', '江苏省': '江苏', '重庆市': '重庆', '广东省': '广东', '湖北省': '湖北', '甘肃省': '甘肃', '新疆维吾尔自治区': '新疆', '宁夏回族自治区': '宁夏', '上海市': '上海', '河南省': '河南'}"
   ]
  },
  {
   "cell_type": "code",
   "execution_count": 58,
   "metadata": {},
   "outputs": [
    {
     "data": {
      "text/plain": [
       "'E:\\\\桌面\\\\git_code\\\\myCode\\\\render.html'"
      ]
     },
     "execution_count": 58,
     "metadata": {},
     "output_type": "execute_result"
    }
   ],
   "source": [
    "#3.导入图像模组\n",
    "from pyecharts.charts import Bar,Line,PictorialBar,Map,Pie,Sankey,Grid,Gauge,Radar,WordCloud,Liquid\n",
    "from pyecharts import options as opts\n",
    "from pyecharts.render import make_snapshot\n",
    "from snapshot_selenium import snapshot\n",
    "from pyecharts.commons.utils import JsCode\n",
    "from pyecharts.components import Image\n",
    "from pyecharts.options import ComponentTitleOpts\n",
    "import seaborn as sns\n",
    "import matplotlib.pyplot as plt\n",
    "\n",
    "def RGB_to_Hex(rgb):\n",
    "    RGB = rgb.split(',') # 将RGB格式划分开来\n",
    "    color = '#'\n",
    "    for i in RGB:\n",
    "        num = int(i) # 将R、G、B分别转化为16进制拼接转换并大写 hex() 函数用于将10进制整数转换成16进制，以字符串形式表示\n",
    "        color += str(hex(num))[-2:].replace('x', '0').upper()\n",
    "    return color  # RGB格式颜色转换为16进制颜色格式\n",
    "\n",
    "def RGB_list_to_Hex(RGB):\n",
    "    # RGB = rgb.split(',') # 将RGB格式划分开来\n",
    "    color = '#'\n",
    "    for i in RGB:\n",
    "        num = int(i)\n",
    "        # 将R、G、B分别转化为16进制拼接转换并大写 hex() 函数用于将10进制整数转换成16进制，以字符串形式表示\n",
    "        color += str(hex(num))[-2:].replace('x', '0').upper()\n",
    "    return color\n",
    "def Hex_to_RGB(hex):\n",
    "    r = int(hex[1:3], 16)\n",
    "    g = int(hex[3:5], 16)\n",
    "    b = int(hex[5:7], 16)\n",
    "    rgb = str(r) + ',' + str(g) + ',' + str(b)\n",
    "    return rgb, [r, g, b]\n",
    "def gradient_color(color_list, color_sum=700):\n",
    "    color_center_count = len(color_list)\n",
    "    # if color_center_count == 2:\n",
    "    # color_center_count = 1\n",
    "    color_sub_count = int(color_sum / (color_center_count - 1))\n",
    "    color_index_start = 0\n",
    "    color_map = []\n",
    "    for color_index_end in range(1, color_center_count):\n",
    "        color_rgb_start = Hex_to_RGB(color_list[color_index_start])[1]\n",
    "        color_rgb_end = Hex_to_RGB(color_list[color_index_end])[1]\n",
    "        r_step = (color_rgb_end[0] - color_rgb_start[0]) / color_sub_count\n",
    "        g_step = (color_rgb_end[1] - color_rgb_start[1]) / color_sub_count\n",
    "        b_step = (color_rgb_end[2] - color_rgb_start[2]) / color_sub_count\n",
    "        # 生成中间渐变色\n",
    "        now_color = color_rgb_start\n",
    "        color_map.append(RGB_list_to_Hex(now_color))\n",
    "    for color_index in range(1, color_sub_count):\n",
    "        now_color = [now_color[0] + r_step, now_color[1] + g_step, now_color[2] + b_step]\n",
    "        color_map.append(RGB_list_to_Hex(now_color))\n",
    "        color_index_start = color_index_end\n",
    "    return color_map\n",
    "\n",
    "def get_lighter_color(*args):\n",
    "    colors = gradient_color(args)\n",
    "#     sns.palplot(colors[::int(len(colors)/10)][:])\n",
    "    return colors[::int(len(colors)/10)][:],plt.show()\n",
    "\n",
    "def picture_china_map(data_zip,picture_name,label_fontsize=13,color = get_lighter_color('#FFFFFF',color_1)[0]):\n",
    "    a= (\n",
    "    Map()\n",
    "    .add(\"\",data_zip,\"china\",is_map_symbol_show = False,is_roam = False,#数据传入,地图类型设置:中国地图\"china\"\n",
    "         name_map=dict_sf,\n",
    "         label_opts=opts.LabelOpts(formatter= '{b}',font_size=label_fontsize,font_family = '宋体'),#标签设置\n",
    "         itemstyle_opts=opts.ItemStyleOpts(border_color = '#A6A6A6')) #图形的描边颜色\n",
    "    .set_global_opts(\n",
    "         visualmap_opts=opts.VisualMapOpts(is_show=False,max_ = len(data_zip),range_color = color))#颜色渐变设置\n",
    "    )\n",
    "    a = (\n",
    "         Grid(init_opts = opts.InitOpts(height = '700px',width='1000px'))  #设置图形大小,高度:height,宽度:width\n",
    "        .add(a, grid_opts=opts.GridOpts(pos_left='35%'))#位置调整\n",
    "    )\n",
    "    return a\n",
    "# picture_china_map(data_zip,'1').render_notebook()\n",
    "\n",
    "picture_china_map(data_zip,'1').render()"
   ]
  },
  {
   "cell_type": "code",
   "execution_count": 55,
   "metadata": {},
   "outputs": [
    {
     "name": "stdout",
     "output_type": "stream",
     "text": [
      "<pyecharts.render.display.HTML object at 0x000001FA55C41580>\n"
     ]
    }
   ],
   "source": [
    "make_snapshot(snapshot,a.render(), path+f'{picture_name}.png',pixel_ratio = 5)"
   ]
  },
  {
   "cell_type": "code",
   "execution_count": 35,
   "metadata": {},
   "outputs": [],
   "source": [
    "data_zip=[['北京', 1], ['上海', 2], ['西藏', 3], ['天津', 4], ['浙江', 5], ['广东', 6], ['辽宁', 7], ['福建', 8], ['吉林', 9], ['黑龙江', 10], ['湖北', 11], ['青海', 12], ['海南', 13], ['湖南', 14], ['广西', 15], ['云南', 16], ['宁夏', 17], ['四川', 18], ['内蒙古', 19], ['江西', 20], ['重庆', 21], ['贵州', 22], ['江苏', 23], ['新疆', 24], ['安徽', 25], ['山东', 26], ['河北', 27], ['甘肃', 28], ['河南', 29], ['山西', 30], ['陕西', 31]]"
   ]
  },
  {
   "cell_type": "code",
   "execution_count": 33,
   "metadata": {},
   "outputs": [
    {
     "data": {
      "text/plain": [
       "31"
      ]
     },
     "execution_count": 33,
     "metadata": {},
     "output_type": "execute_result"
    }
   ],
   "source": [
    "len(data_zip)"
   ]
  },
  {
   "cell_type": "code",
   "execution_count": 48,
   "metadata": {},
   "outputs": [
    {
     "data": {
      "text/plain": [
       "'E:\\\\桌面\\\\git_code\\\\myCode\\\\render.html'"
      ]
     },
     "execution_count": 48,
     "metadata": {},
     "output_type": "execute_result"
    }
   ],
   "source": []
  },
  {
   "cell_type": "code",
   "execution_count": 57,
   "metadata": {},
   "outputs": [
    {
     "ename": "TypeError",
     "evalue": "__init__() got an unexpected keyword argument 'font_size'",
     "output_type": "error",
     "traceback": [
      "\u001b[1;31m---------------------------------------------------------------------------\u001b[0m",
      "\u001b[1;31mTypeError\u001b[0m                                 Traceback (most recent call last)",
      "\u001b[1;32m<ipython-input-57-a698ac576bc9>\u001b[0m in \u001b[0;36m<module>\u001b[1;34m\u001b[0m\n\u001b[0;32m     27\u001b[0m                         \u001b[0mleft\u001b[0m\u001b[1;33m=\u001b[0m\u001b[1;34m\"center\"\u001b[0m\u001b[1;33m,\u001b[0m \u001b[0mtop\u001b[0m\u001b[1;33m=\u001b[0m\u001b[1;34m\"middle\"\u001b[0m\u001b[1;33m\u001b[0m\u001b[1;33m\u001b[0m\u001b[0m\n\u001b[0;32m     28\u001b[0m                     ),\n\u001b[1;32m---> 29\u001b[1;33m                     graphic_textstyle_opts=opts.GraphicTextStyleOpts(\n\u001b[0m\u001b[0;32m     30\u001b[0m                         \u001b[0mtext\u001b[0m\u001b[1;33m=\u001b[0m\u001b[0mprovinces\u001b[0m\u001b[1;33m[\u001b[0m\u001b[1;36m0\u001b[0m\u001b[1;33m]\u001b[0m\u001b[1;33m,\u001b[0m \u001b[0mfont_size\u001b[0m\u001b[1;33m=\u001b[0m\u001b[1;36m18\u001b[0m\u001b[1;33m,\u001b[0m \u001b[0mfont_weight\u001b[0m\u001b[1;33m=\u001b[0m\u001b[1;34m'bold'\u001b[0m\u001b[1;33m\u001b[0m\u001b[1;33m\u001b[0m\u001b[0m\n\u001b[0;32m     31\u001b[0m                     ),\n",
      "\u001b[1;31mTypeError\u001b[0m: __init__() got an unexpected keyword argument 'font_size'"
     ]
    }
   ],
   "source": [
    "from pyecharts.charts import Map\n",
    "from pyecharts import options as opts\n",
    "\n",
    "# 准备数据\n",
    "provinces = ['广东', '北京', '上海', '重庆', '天津', '江苏']\n",
    "data = [200, 100, 50, 80, 90, 200]\n",
    "\n",
    "# 使用Map绘制地图\n",
    "map = Map()\n",
    "map.add('中国地图', [list(z) for z in zip(provinces, data)], \"china\", is_map_symbol_show=False)\n",
    "\n",
    "# 设置全局选项，调整比例尺度和标注位置\n",
    "map.set_global_opts(\n",
    "    title_opts=opts.TitleOpts(title='中国地图'),\n",
    "    visualmap_opts=opts.VisualMapOpts(\n",
    "        is_show=False,  # 不显示视觉映射条\n",
    "        max_=500\n",
    "    ),\n",
    "    graphic_opts=[\n",
    "        opts.GraphicGroup(  # 第一个图形元素组\n",
    "            graphic_item=opts.GraphicItem(\n",
    "                left=\"88%\", top=\"center\"\n",
    "            ),\n",
    "            children=[\n",
    "                opts.GraphicText(  # 文字子元素\n",
    "                    graphic_item=opts.GraphicItem(\n",
    "                        left=\"center\", top=\"middle\"\n",
    "                    ),\n",
    "                    graphic_textstyle_opts=opts.GraphicTextStyleOpts(\n",
    "                        text=provinces[0], font_size=18, font_weight='bold'\n",
    "                    ),\n",
    "                )\n",
    "            ],\n",
    "        ),\n",
    "        opts.GraphicGroup(  # 第二个图形元素组\n",
    "            graphic_item=opts.GraphicItem(\n",
    "                left=\"75%\", top=\"center\"\n",
    "            ),\n",
    "            children=[\n",
    "                opts.GraphicText(  # 文字子元素\n",
    "                    graphic_item=opts.GraphicItem(\n",
    "                        left=\"center\", top=\"middle\"\n",
    "                    ),\n",
    "                    graphic_textstyle_opts=opts.GraphicTextStyleOpts(\n",
    "                        text=provinces[1], font_size=18, font_weight='bold'\n",
    "                    ),\n",
    "                )\n",
    "            ],\n",
    "        ),\n",
    "        opts.GraphicGroup(  # 第三个图形元素组\n",
    "            graphic_item=opts.GraphicItem(\n",
    "                left=\"63%\", top=\"center\"\n",
    "            ),\n",
    "            children=[\n",
    "                opts.GraphicText(  # 文字子元素\n",
    "                    graphic_item=opts.GraphicItem(\n",
    "                        left=\"center\", top=\"middle\"\n",
    "                    ),\n",
    "                    graphic_textstyle_opts=opts.GraphicTextStyleOpts(\n",
    "                        text=provinces[2], font_size=18, font_weight='bold'\n",
    "                    ),\n",
    "                )\n",
    "            ],\n",
    "        ),\n",
    "        opts.GraphicGroup(  # 第四个图形元素组\n",
    "            graphic_item=opts.GraphicItem(\n",
    "                left=\"50%\", top=\"center\"\n",
    "            ),\n",
    "            children=[\n",
    "                opts.GraphicText(  # 文字子元素\n",
    "                    graphic_item=opts.GraphicItem(\n",
    "                        left=\"center\", top=\"middle\"\n",
    "                    ),\n",
    "                    graphic_textstyle_opts=opts.GraphicTextStyleOpts(\n",
    "                        text=provinces[3], font_size=18, font_weight='bold'\n",
    "                    ),\n",
    "                )\n",
    "            ],\n",
    "        ),\n",
    "        opts.GraphicGroup(  # 第五个图形元素组\n",
    "            graphic_item=opts.GraphicItem(\n",
    "                left=\"38%\", top=\"center\"\n",
    "            ),\n",
    "            children=[\n",
    "                opts.GraphicText(  # 文字子元素\n",
    "                    graphic_item=opts.GraphicItem(\n",
    "                        left=\"center\", top=\"middle\"\n",
    "                    ),\n",
    "                    graphic_textstyle_opts=opts.GraphicTextStyleOpts(\n",
    "                        text=provinces[4], font_size=18, font_weight='bold'\n",
    "                    ),\n",
    "                )\n",
    "            ],\n",
    "        ),\n",
    "        opts.GraphicGroup(  # 第六个图形元素组\n",
    "            graphic_item=opts.GraphicItem(\n",
    "                left=\"25%\", top=\"center\"\n",
    "            ),\n",
    "            children=[\n",
    "                opts.GraphicText(  # 文字子元素\n",
    "                    graphic_item=opts.GraphicItem(\n",
    "                        left=\"center\", top=\"middle\"\n",
    "                    ),\n",
    "                    graphic_textstyle_opts=opts.GraphicTextStyleOpts(\n",
    "                        text=provinces[5], font_size=18, font_weight='bold'\n",
    "                    ),\n",
    "                )\n",
    "            ],\n",
    "        ),\n",
    "    ]\n",
    ")\n",
    "\n",
    "# 渲染并显示地图\n",
    "map.render()"
   ]
  },
  {
   "cell_type": "code",
   "execution_count": null,
   "metadata": {},
   "outputs": [],
   "source": []
  }
 ],
 "metadata": {
  "kernelspec": {
   "display_name": "Python 3",
   "language": "python",
   "name": "python3"
  },
  "language_info": {
   "codemirror_mode": {
    "name": "ipython",
    "version": 3
   },
   "file_extension": ".py",
   "mimetype": "text/x-python",
   "name": "python",
   "nbconvert_exporter": "python",
   "pygments_lexer": "ipython3",
   "version": "3.8.3"
  },
  "toc": {
   "base_numbering": 1,
   "nav_menu": {},
   "number_sections": true,
   "sideBar": true,
   "skip_h1_title": false,
   "title_cell": "Table of Contents",
   "title_sidebar": "Contents",
   "toc_cell": false,
   "toc_position": {},
   "toc_section_display": true,
   "toc_window_display": true
  }
 },
 "nbformat": 4,
 "nbformat_minor": 4
}
