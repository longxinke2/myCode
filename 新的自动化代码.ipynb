{
 "cells": [
  {
   "cell_type": "markdown",
   "metadata": {},
   "source": [
    "# 变量"
   ]
  },
  {
   "cell_type": "code",
   "execution_count": 1,
   "metadata": {},
   "outputs": [],
   "source": [
    "xxmc = '西安工业大学'\n",
    "year = '2022'\n",
    "other_groupby = '学历'#不需要就不填\n",
    "moban = '红色模板'\n",
    "qxhb={}#去向合并\n",
    "qxhb['协议和合同就业']=['签就业协议形式就业','签劳动合同形式就业','应征义务兵','国家、地方项目','科研助理','国家基层项目','地方基层项目']\n",
    "qxhb['继续深造']=['升学','出国、出境','研究生','第二学士学位']\n",
    "qxhb['灵活就业']=['其他录用形式就业','自由职业']\n",
    "qxhb['自主创业']=['自主创业']\n",
    "qxhba={}\n",
    "qxhba['待就业']=['待就业']\n",
    "qxhba['暂不就业']=['不就业拟升学','其他暂不就业']\n",
    "\n",
    "#数据清洗有问题不要在这里处理\n",
    "\n",
    "#我要做到运行完这一个代码块之后，其他任何一个章节都是独立的，随时都能运行\n",
    "\n",
    "#需要人为处理的：1.删掉一个模块后的标题序号需要自己改，手动对代码大改最好备份一个\n",
    "#或者删完模块之后，导出py文件用算法处理\n",
    "\n",
    "from pyautoword import *\n",
    "import time\n",
    "import threading\n",
    "import pyautogui\n",
    "import re\n",
    "import warnings\n",
    "warnings.filterwarnings('ignore')\n",
    "\n",
    "# admin线程\n",
    "t=threading.Thread(name='admin',target=admin)\n",
    "t.start()\n",
    "\n",
    "# 变量处理，读取数据\n",
    "other_groupby = L(other_groupby)\n",
    "read_doc(moban)\n",
    "data = get_3_data(xxmc,year,'派遣')\n",
    "sql=f\"select * from sch_school where school_name='{xxmc}'\"\n",
    "school_info = get_normal_data(sql,'yun-campusjob')\n",
    "\n",
    "%load_ext autoreload\n",
    "%autoreload 2"
   ]
  },
  {
   "cell_type": "markdown",
   "metadata": {},
   "source": [
    "# 第一章     毕业生就业基本情况"
   ]
  },
  {
   "cell_type": "markdown",
   "metadata": {},
   "source": [
    "## 一、毕业生规模及结构"
   ]
  },
  {
   "cell_type": "markdown",
   "metadata": {},
   "source": [
    "### （一）本科毕业生规模"
   ]
  },
  {
   "cell_type": "code",
   "execution_count": 25,
   "metadata": {},
   "outputs": [
    {
     "data": {
      "text/html": [
       "\n",
       "<script>\n",
       "    require.config({\n",
       "        paths: {\n",
       "            'echarts':'https://assets.pyecharts.org/assets/echarts.min'\n",
       "        }\n",
       "    });\n",
       "</script>\n",
       "\n",
       "        <div id=\"f3607f1d12314d2d83826ab074823d20\" style=\"width:1000px; height:450px;\"></div>\n",
       "\n",
       "<script>\n",
       "        require(['echarts'], function(echarts) {\n",
       "                var chart_f3607f1d12314d2d83826ab074823d20 = echarts.init(\n",
       "                    document.getElementById('f3607f1d12314d2d83826ab074823d20'), 'white', {renderer: 'canvas'});\n",
       "                var option_f3607f1d12314d2d83826ab074823d20 = {\n",
       "    \"animation\": true,\n",
       "    \"animationThreshold\": 2000,\n",
       "    \"animationDuration\": 1000,\n",
       "    \"animationEasing\": \"cubicOut\",\n",
       "    \"animationDelay\": 0,\n",
       "    \"animationDurationUpdate\": 300,\n",
       "    \"animationEasingUpdate\": \"cubicOut\",\n",
       "    \"animationDelayUpdate\": 0,\n",
       "    \"color\": [\n",
       "        \"#147BC5\",\n",
       "        \"#FBB03E\",\n",
       "        \"#24AAE1\",\n",
       "        \"#E3798D\",\n",
       "        \"#00ABCB\"\n",
       "    ],\n",
       "    \"series\": [\n",
       "        {\n",
       "            \"type\": \"bar\",\n",
       "            \"name\": \"\\u7537\",\n",
       "            \"xAxisIndex\": 0,\n",
       "            \"yAxisIndex\": 0,\n",
       "            \"legendHoverLink\": true,\n",
       "            \"data\": [\n",
       "                2553,\n",
       "                472\n",
       "            ],\n",
       "            \"showBackground\": false,\n",
       "            \"barWidth\": 35,\n",
       "            \"barMinHeight\": 0,\n",
       "            \"barCategoryGap\": \"20%\",\n",
       "            \"barGap\": \"30%\",\n",
       "            \"large\": false,\n",
       "            \"largeThreshold\": 400,\n",
       "            \"seriesLayoutBy\": \"column\",\n",
       "            \"datasetIndex\": 0,\n",
       "            \"clip\": true,\n",
       "            \"zlevel\": 0,\n",
       "            \"z\": 2,\n",
       "            \"label\": {\n",
       "                \"show\": true,\n",
       "                \"position\": \"top\",\n",
       "                \"color\": \"#147BC5\",\n",
       "                \"margin\": 8,\n",
       "                \"fontSize\": 23,\n",
       "                \"fontFamily\": \"Bahnschrift SemiLight Condensed\",\n",
       "                \"formatter\": \"{c}\"\n",
       "            },\n",
       "            \"itemStyle\": {\n",
       "                \"color\": \"#147BC5\"\n",
       "            }\n",
       "        },\n",
       "        {\n",
       "            \"type\": \"bar\",\n",
       "            \"name\": \"\\u5973\",\n",
       "            \"xAxisIndex\": 0,\n",
       "            \"yAxisIndex\": 0,\n",
       "            \"legendHoverLink\": true,\n",
       "            \"data\": [\n",
       "                1964,\n",
       "                376\n",
       "            ],\n",
       "            \"showBackground\": false,\n",
       "            \"barWidth\": 35,\n",
       "            \"barMinHeight\": 0,\n",
       "            \"barCategoryGap\": \"20%\",\n",
       "            \"barGap\": \"30%\",\n",
       "            \"large\": false,\n",
       "            \"largeThreshold\": 400,\n",
       "            \"seriesLayoutBy\": \"column\",\n",
       "            \"datasetIndex\": 0,\n",
       "            \"clip\": true,\n",
       "            \"zlevel\": 0,\n",
       "            \"z\": 2,\n",
       "            \"label\": {\n",
       "                \"show\": true,\n",
       "                \"position\": \"top\",\n",
       "                \"color\": \"#FBB03E\",\n",
       "                \"margin\": 8,\n",
       "                \"fontSize\": 23,\n",
       "                \"fontFamily\": \"Bahnschrift SemiLight Condensed\",\n",
       "                \"formatter\": \"{c}\"\n",
       "            },\n",
       "            \"itemStyle\": {\n",
       "                \"color\": \"#FBB03E\"\n",
       "            }\n",
       "        },\n",
       "        {\n",
       "            \"type\": \"pie\",\n",
       "            \"clockwise\": true,\n",
       "            \"data\": [\n",
       "                {\n",
       "                    \"name\": \"\\u672c\\u79d1\\u6bd5\\u4e1a\\u751f\",\n",
       "                    \"value\": [\n",
       "                        2258,\n",
       "                        \"84.19%\"\n",
       "                    ]\n",
       "                },\n",
       "                {\n",
       "                    \"name\": \"\\u6bd5\\u4e1a\\u7814\\u7a76\\u751f\",\n",
       "                    \"value\": [\n",
       "                        424,\n",
       "                        \"15.81%\"\n",
       "                    ]\n",
       "                }\n",
       "            ],\n",
       "            \"radius\": [\n",
       "                \"30%\",\n",
       "                \"55%\"\n",
       "            ],\n",
       "            \"center\": [\n",
       "                \"25%\",\n",
       "                \"55%\"\n",
       "            ],\n",
       "            \"label\": {\n",
       "                \"show\": true,\n",
       "                \"position\": \"outside\",\n",
       "                \"margin\": 8,\n",
       "                \"interval\": 0,\n",
       "                \"formatter\": function(params) {return '{d|'+params.data.value[1]+'}'+'\\n\\n'+'{c|'+params.data.value[0]+'}\\n\\n\\n\\n{b|'+params.data.name+'}';},\n",
       "                \"rich\": {\n",
       "                    \"b\": {\n",
       "                        \"fontSize\": 18,\n",
       "                        \"fontFamily\": \"\\u5b8b\\u4f53\",\n",
       "                        \"fontWeight\": \"normal\",\n",
       "                        \"padding\": [\n",
       "                            0,\n",
       "                            0,\n",
       "                            -53,\n",
       "                            0\n",
       "                        ]\n",
       "                    },\n",
       "                    \"c\": {\n",
       "                        \"fontSize\": 18,\n",
       "                        \"fontFamily\": \"Bahnschrift SemiLight Condensed\",\n",
       "                        \"fontWeight\": \"normal\"\n",
       "                    },\n",
       "                    \"d\": {\n",
       "                        \"fontSize\": 30,\n",
       "                        \"lineHeight\": 10,\n",
       "                        \"fontFamily\": \"Bahnschrift SemiLight Condensed\",\n",
       "                        \"fontWeight\": \"normal\"\n",
       "                    }\n",
       "                }\n",
       "            },\n",
       "            \"labelLine\": {\n",
       "                \"show\": true,\n",
       "                \"length2\": 40,\n",
       "                \"smooth\": false,\n",
       "                \"lineStyle\": {\n",
       "                    \"show\": true,\n",
       "                    \"width\": 2.5,\n",
       "                    \"opacity\": 1,\n",
       "                    \"curveness\": 0,\n",
       "                    \"type\": \"solid\"\n",
       "                }\n",
       "            },\n",
       "            \"xAxisIndex\": 1,\n",
       "            \"yAxisIndex\": 1\n",
       "        }\n",
       "    ],\n",
       "    \"legend\": [\n",
       "        {\n",
       "            \"data\": [\n",
       "                \"\\u7537\",\n",
       "                \"\\u5973\"\n",
       "            ],\n",
       "            \"selected\": {\n",
       "                \"\\u7537\": true,\n",
       "                \"\\u5973\": true\n",
       "            },\n",
       "            \"show\": true,\n",
       "            \"right\": \"20%\",\n",
       "            \"padding\": 5,\n",
       "            \"itemGap\": 10,\n",
       "            \"itemWidth\": 25,\n",
       "            \"itemHeight\": 14\n",
       "        },\n",
       "        {\n",
       "            \"data\": [\n",
       "                \"\\u672c\\u79d1\\u6bd5\\u4e1a\\u751f\",\n",
       "                \"\\u6bd5\\u4e1a\\u7814\\u7a76\\u751f\"\n",
       "            ],\n",
       "            \"selected\": {},\n",
       "            \"show\": false,\n",
       "            \"padding\": 5,\n",
       "            \"itemGap\": 10,\n",
       "            \"itemWidth\": 25,\n",
       "            \"itemHeight\": 14\n",
       "        }\n",
       "    ],\n",
       "    \"tooltip\": {\n",
       "        \"show\": true,\n",
       "        \"trigger\": \"item\",\n",
       "        \"triggerOn\": \"mousemove|click\",\n",
       "        \"axisPointer\": {\n",
       "            \"type\": \"line\"\n",
       "        },\n",
       "        \"showContent\": true,\n",
       "        \"alwaysShowContent\": false,\n",
       "        \"showDelay\": 0,\n",
       "        \"hideDelay\": 100,\n",
       "        \"textStyle\": {\n",
       "            \"fontSize\": 14\n",
       "        },\n",
       "        \"borderWidth\": 0,\n",
       "        \"padding\": 5\n",
       "    },\n",
       "    \"xAxis\": [\n",
       "        {\n",
       "            \"show\": true,\n",
       "            \"scale\": false,\n",
       "            \"nameLocation\": \"end\",\n",
       "            \"nameGap\": 15,\n",
       "            \"gridIndex\": 0,\n",
       "            \"axisLabel\": {\n",
       "                \"show\": true,\n",
       "                \"position\": \"top\",\n",
       "                \"margin\": 8,\n",
       "                \"fontSize\": 16,\n",
       "                \"fontFamily\": \"\\u5b8b\\u4f53\"\n",
       "            },\n",
       "            \"inverse\": false,\n",
       "            \"offset\": 0,\n",
       "            \"splitNumber\": 5,\n",
       "            \"minInterval\": 0,\n",
       "            \"splitLine\": {\n",
       "                \"show\": false,\n",
       "                \"lineStyle\": {\n",
       "                    \"show\": true,\n",
       "                    \"width\": 1,\n",
       "                    \"opacity\": 1,\n",
       "                    \"curveness\": 0,\n",
       "                    \"type\": \"solid\"\n",
       "                }\n",
       "            },\n",
       "            \"data\": [\n",
       "                \"\\u672c\\u79d1\\u6bd5\\u4e1a\\u751f\",\n",
       "                \"\\u6bd5\\u4e1a\\u7814\\u7a76\\u751f\"\n",
       "            ]\n",
       "        }\n",
       "    ],\n",
       "    \"yAxis\": [\n",
       "        {\n",
       "            \"show\": false,\n",
       "            \"scale\": false,\n",
       "            \"nameLocation\": \"end\",\n",
       "            \"nameGap\": 15,\n",
       "            \"gridIndex\": 0,\n",
       "            \"inverse\": false,\n",
       "            \"offset\": 0,\n",
       "            \"splitNumber\": 5,\n",
       "            \"minInterval\": 0,\n",
       "            \"splitLine\": {\n",
       "                \"show\": false,\n",
       "                \"lineStyle\": {\n",
       "                    \"show\": true,\n",
       "                    \"width\": 1,\n",
       "                    \"opacity\": 1,\n",
       "                    \"curveness\": 0,\n",
       "                    \"type\": \"solid\"\n",
       "                }\n",
       "            }\n",
       "        }\n",
       "    ],\n",
       "    \"title\": [\n",
       "        {\n",
       "            \"padding\": 5,\n",
       "            \"itemGap\": 10\n",
       "        },\n",
       "        {\n",
       "            \"left\": \"18%\",\n",
       "            \"top\": \"45%\",\n",
       "            \"padding\": 5,\n",
       "            \"itemGap\": 10,\n",
       "            \"textStyle\": {\n",
       "                \"color\": \"#147BC5\",\n",
       "                \"fontFamily\": \"\\u5b8b\\u4f53\",\n",
       "                \"fontSize\": 21\n",
       "            }\n",
       "        }\n",
       "    ],\n",
       "    \"grid\": [\n",
       "        {\n",
       "            \"show\": false,\n",
       "            \"zlevel\": 0,\n",
       "            \"z\": 2,\n",
       "            \"left\": \"50%\",\n",
       "            \"containLabel\": false,\n",
       "            \"backgroundColor\": \"transparent\",\n",
       "            \"borderColor\": \"#ccc\",\n",
       "            \"borderWidth\": 1\n",
       "        },\n",
       "        {\n",
       "            \"show\": false,\n",
       "            \"zlevel\": 0,\n",
       "            \"z\": 2,\n",
       "            \"containLabel\": false,\n",
       "            \"backgroundColor\": \"transparent\",\n",
       "            \"borderColor\": \"#ccc\",\n",
       "            \"borderWidth\": 1\n",
       "        }\n",
       "    ]\n",
       "};\n",
       "                chart_f3607f1d12314d2d83826ab074823d20.setOption(option_f3607f1d12314d2d83826ab074823d20);\n",
       "        });\n",
       "    </script>\n"
      ],
      "text/plain": [
       "<pyecharts.render.display.HTML at 0x1bc3fdbcbe0>"
      ]
     },
     "metadata": {},
     "output_type": "display_data"
    }
   ],
   "source": [
    "write_zw(f'''本部分数据来源于{xxmc}{year}届毕业生派遣数据库，主要从毕业生规模与结构、初次毕业去向落实情况、单位就业流向三个方面进行分析。''')\n",
    "add_head(2,\"一、毕业生规模与结构\")\n",
    "add_head(3,\"（一）毕业生规模\")\n",
    "\n",
    "datat = get_group_order_table(data,L('性别'),other_groupby=other_groupby,need_sum=True)#获得分组的data\n",
    "boy_count = xy(datat,L('性别'),'男','num')\n",
    "girl_count = xy(datat,L('性别'),'女','num')\n",
    "bys_count = boy_count+girl_count\n",
    "\n",
    "if other_groupby:\n",
    "    string=f'毕业生总人数{bys_count}人。其中，'\n",
    "    group2=get_og_name(datat)\n",
    "    for x in group2:\n",
    "        string+=f\"{xy(datat,L('性别'),'性别',x)}{xy(datat,L('性别'),'总计',x)}人，占毕业生总人数的{change_to_decimal(xy(datat,L('性别'),'总计',x)/bys_count*100)+'%'}，\"\n",
    "    string = string[:-1]+'。'\n",
    "    write_zw(string)\n",
    "    string=f\"分性别来看，男生{boy_count}人，占毕业生总人数的{xy(datat,L('性别'),'男','proportion')}；女生{girl_count}人，占毕业生总人数的{xy(datat,L('性别'),'女','proportion')}。\"\n",
    "    for x in group2:\n",
    "        string+=f\"{xy(datat,L('性别'),'性别',x)}男女比例为{round((xy(datat,L('性别'),'男',x)/xy(datat,L('性别'),'女',x))*100)}：100，\"\n",
    "    string+=f\"全体毕业生男女比例为{round((boy_count/girl_count)*100)}：100。\"\n",
    "    write_zw(string)\n",
    "    group=get_og_name(datat)\n",
    "    group1=list(datat.loc[0][group])\n",
    "    js=\"{return '{d|'+params.data.value[1]+'}'+'\\\\n\\\\n'+'{c|'+params.data.value[0]+'}\\\\n\\\\n\\\\n\\\\n{b|'+params.data.name+'}';}\"\n",
    "    a=my_bar(group1,[['男',[xy(datat,L('性别'),'男',x) for x in group]],['女',[xy(datat,L('性别'),'女',x) for x in group]]])\n",
    "    b=my_pie([*zip(list(datat.loc[0][group2]),[xy(datat,L('性别'),'总计',x) for x in group2])],js=js)\n",
    "    c=merge_pic(a,b)\n",
    "    display(c.render_notebook())\n",
    "    add_pic(c.render())\n",
    "else:\n",
    "    write_zw(f'''毕业生总人数{bys_count}人。其中，男生{boy_count}人，占毕业生总人数的{xy(datat,L('性别'),'男','proportion')}；女生{girl_count}人，占毕业生总人数的{xy(datat,L('性别'),'女','proportion')}。毕业生男女比例为{round((boy_count/girl_count)*100)}：100。''')\n",
    "    a=my_liquid(bys_count,[['男生',boy_count,[\"30%\", \"50%\"]],['女生',girl_count,[\"70%\", \"50%\"]]])\n",
    "    display(a.render_notebook())\n",
    "    add_pic(a.render())\n",
    "write_tz('毕业生规模及性别分布')"
   ]
  },
  {
   "cell_type": "markdown",
   "metadata": {},
   "source": [
    "### （二）毕业生结构分布"
   ]
  },
  {
   "cell_type": "markdown",
   "metadata": {},
   "source": [
    "#### 1.学院结构"
   ]
  },
  {
   "cell_type": "code",
   "execution_count": 15,
   "metadata": {
    "scrolled": true
   },
   "outputs": [
    {
     "name": "stdout",
     "output_type": "stream",
     "text": [
      "分学历来看，本科毕业生人数排名前三的学院分别为电子信息工程学院（637人，占比14.10%）、计算机科学与工程学院（615人，占比13.61%）、经济管理学院（586人，占比12.97%）；毕业研究生人数排名前三的学院分别为电子信息工程学院（116人，占比13.67%）、经济管理学院（116人，占比13.67%）、机电工程学院（109人，占比12.86%）。\n"
     ]
    }
   ],
   "source": [
    "add_head(3,\"（二）毕业生结构分布\")\n",
    "add_head(4,\"1.学院结构\")\n",
    "string=L('学院')\n",
    "data1 = get_group_order_table(data,string)\n",
    "groupt=get_3rd(data1,'num')\n",
    "write_zw(three_word(f'毕业生人数排名前三的{L(string)}分别为',[f\"{x[0]}（{x[1]}人，占比{x[2]}）、\" for x in groupt],'。'))\n",
    "\n",
    "if other_groupby:\n",
    "    data1 = get_group_order_table(data,string,other_groupby=other_groupby)\n",
    "    string1 = f'''分{L(other_groupby)}来看，'''\n",
    "    for i in get_og_name(data1):\n",
    "        datat=data1[[string,i,re.sub('num','proportion',i)]]\n",
    "        groupt=get_3rd(datat,i)\n",
    "        string1+=three_word(f\"{xy(data1,string,L(string),i)}人数排名前三的{L(string)}分别为\",[f\"{x[0]}（{x[1]}人，占比{x[2]}）、\" for x in groupt],'；')\n",
    "    write_zw(string1[:-1]+'。',True)\n",
    "    \n",
    "write_tz(f'毕业生{L(string)}分布')\n",
    "add_table(data1)#data转化为表格"
   ]
  },
  {
   "cell_type": "markdown",
   "metadata": {},
   "source": [
    "#### 2.专业结构"
   ]
  },
  {
   "cell_type": "code",
   "execution_count": 16,
   "metadata": {},
   "outputs": [
    {
     "name": "stdout",
     "output_type": "stream",
     "text": [
      "毕业生专业分布\n"
     ]
    }
   ],
   "source": [
    "add_head(4,\"2.专业结构\")\n",
    "\n",
    "string=L('专业')\n",
    "string1=L('学院')\n",
    "data1 = get_group_order_table(data,string1,string,other_groupby=other_groupby)\n",
    "temp = data1[data1[string]!='汇总']\n",
    "groupt=get_3rd(temp,'num')\n",
    "write_zw(three_word(f'毕业生人数排名前三的{L(string)}分别为',[f\"{x[1]}（{x[6]}人，占比{x[7]}）、\" for x in groupt],'。'))\n",
    "if other_groupby:\n",
    "    string1 = f'''分{L(other_groupby)}来看，'''\n",
    "    for i in get_og_name(data1):\n",
    "        datat=data1[[string,i,re.sub('num','proportion',i)]]\n",
    "        temp=xy(datat,string,L(string),i)\n",
    "        groupt=get_3rd(datat,i)\n",
    "        string1+=three_word(f\"{temp}人数排名前三的{L(string)}分别为\",[f\"{x[0]}（{x[1]}人，占比{x[2]}）、\" for x in groupt],'；')\n",
    "    write_zw(string1[:-1]+'。')\n",
    "else:\n",
    "    data1 = get_group_order_table(data,string1,string)\n",
    "    \n",
    "write_tz(f'毕业生{L(string)}分布',True)\n",
    "add_table(data1,need_1st_merge=True)#data转化为表格"
   ]
  },
  {
   "cell_type": "markdown",
   "metadata": {},
   "source": [
    "#### 3.生源地结构"
   ]
  },
  {
   "cell_type": "code",
   "execution_count": 6,
   "metadata": {},
   "outputs": [
    {
     "name": "stdout",
     "output_type": "stream",
     "text": [
      "毕业生生源地覆盖31个省（自治区、直辖市），“陕西省”生源人数最多，共有3683人（占比68.64%），非陕西省生源人数-1001人（占比31.36%）。省外生源人数位列前三的地区分别为“山西省”（184人，占比3.44%）、“河南省”（171人，占比3.18%）、“甘肃省”（150人，占比2.79%）。\n"
     ]
    },
    {
     "data": {
      "text/html": [
       "\n",
       "<script>\n",
       "    require.config({\n",
       "        paths: {\n",
       "            'echarts':'https://assets.pyecharts.org/assets/echarts.min', 'china':'https://assets.pyecharts.org/assets/maps/china'\n",
       "        }\n",
       "    });\n",
       "</script>\n",
       "\n",
       "        <div id=\"a4bd271a45444ffb8edc34c19a6c4493\" style=\"width:1000px; height:700px;\"></div>\n",
       "\n",
       "<script>\n",
       "        require(['echarts', 'china'], function(echarts) {\n",
       "                var chart_a4bd271a45444ffb8edc34c19a6c4493 = echarts.init(\n",
       "                    document.getElementById('a4bd271a45444ffb8edc34c19a6c4493'), 'white', {renderer: 'canvas'});\n",
       "                var option_a4bd271a45444ffb8edc34c19a6c4493 = {\n",
       "    \"animation\": true,\n",
       "    \"animationThreshold\": 2000,\n",
       "    \"animationDuration\": 1000,\n",
       "    \"animationEasing\": \"cubicOut\",\n",
       "    \"animationDelay\": 0,\n",
       "    \"animationDurationUpdate\": 300,\n",
       "    \"animationEasingUpdate\": \"cubicOut\",\n",
       "    \"animationDelayUpdate\": 0,\n",
       "    \"color\": [\n",
       "        \"#c23531\",\n",
       "        \"#2f4554\",\n",
       "        \"#61a0a8\",\n",
       "        \"#d48265\",\n",
       "        \"#749f83\",\n",
       "        \"#ca8622\",\n",
       "        \"#bda29a\",\n",
       "        \"#6e7074\",\n",
       "        \"#546570\",\n",
       "        \"#c4ccd3\",\n",
       "        \"#f05b72\",\n",
       "        \"#ef5b9c\",\n",
       "        \"#f47920\",\n",
       "        \"#905a3d\",\n",
       "        \"#fab27b\",\n",
       "        \"#2a5caa\",\n",
       "        \"#444693\",\n",
       "        \"#726930\",\n",
       "        \"#b2d235\",\n",
       "        \"#6d8346\",\n",
       "        \"#ac6767\",\n",
       "        \"#1d953f\",\n",
       "        \"#6950a1\",\n",
       "        \"#918597\"\n",
       "    ],\n",
       "    \"series\": [\n",
       "        {\n",
       "            \"type\": \"map\",\n",
       "            \"label\": {\n",
       "                \"show\": true,\n",
       "                \"position\": \"top\",\n",
       "                \"margin\": 8,\n",
       "                \"fontSize\": 13,\n",
       "                \"fontFamily\": \"\\u5b8b\\u4f53\",\n",
       "                \"formatter\": \"{b}\"\n",
       "            },\n",
       "            \"mapType\": \"china\",\n",
       "            \"data\": [\n",
       "                {\n",
       "                    \"name\": \"\\u9655\\u897f\",\n",
       "                    \"value\": 31\n",
       "                },\n",
       "                {\n",
       "                    \"name\": \"\\u5c71\\u897f\",\n",
       "                    \"value\": 30\n",
       "                },\n",
       "                {\n",
       "                    \"name\": \"\\u6cb3\\u5357\",\n",
       "                    \"value\": 29\n",
       "                },\n",
       "                {\n",
       "                    \"name\": \"\\u7518\\u8083\",\n",
       "                    \"value\": 28\n",
       "                },\n",
       "                {\n",
       "                    \"name\": \"\\u6cb3\\u5317\",\n",
       "                    \"value\": 27\n",
       "                },\n",
       "                {\n",
       "                    \"name\": \"\\u5c71\\u4e1c\",\n",
       "                    \"value\": 26\n",
       "                },\n",
       "                {\n",
       "                    \"name\": \"\\u5b89\\u5fbd\",\n",
       "                    \"value\": 25\n",
       "                },\n",
       "                {\n",
       "                    \"name\": \"\\u65b0\\u7586\",\n",
       "                    \"value\": 24\n",
       "                },\n",
       "                {\n",
       "                    \"name\": \"\\u6c5f\\u82cf\",\n",
       "                    \"value\": 23\n",
       "                },\n",
       "                {\n",
       "                    \"name\": \"\\u8d35\\u5dde\",\n",
       "                    \"value\": 22\n",
       "                },\n",
       "                {\n",
       "                    \"name\": \"\\u91cd\\u5e86\",\n",
       "                    \"value\": 21\n",
       "                },\n",
       "                {\n",
       "                    \"name\": \"\\u6c5f\\u897f\",\n",
       "                    \"value\": 20\n",
       "                },\n",
       "                {\n",
       "                    \"name\": \"\\u5185\\u8499\\u53e4\",\n",
       "                    \"value\": 19\n",
       "                },\n",
       "                {\n",
       "                    \"name\": \"\\u56db\\u5ddd\",\n",
       "                    \"value\": 18\n",
       "                },\n",
       "                {\n",
       "                    \"name\": \"\\u5b81\\u590f\",\n",
       "                    \"value\": 17\n",
       "                },\n",
       "                {\n",
       "                    \"name\": \"\\u4e91\\u5357\",\n",
       "                    \"value\": 16\n",
       "                },\n",
       "                {\n",
       "                    \"name\": \"\\u5e7f\\u897f\",\n",
       "                    \"value\": 15\n",
       "                },\n",
       "                {\n",
       "                    \"name\": \"\\u6e56\\u5357\",\n",
       "                    \"value\": 14\n",
       "                },\n",
       "                {\n",
       "                    \"name\": \"\\u6d77\\u5357\",\n",
       "                    \"value\": 13\n",
       "                },\n",
       "                {\n",
       "                    \"name\": \"\\u9752\\u6d77\",\n",
       "                    \"value\": 12\n",
       "                },\n",
       "                {\n",
       "                    \"name\": \"\\u6e56\\u5317\",\n",
       "                    \"value\": 11\n",
       "                },\n",
       "                {\n",
       "                    \"name\": \"\\u9ed1\\u9f99\\u6c5f\",\n",
       "                    \"value\": 10\n",
       "                },\n",
       "                {\n",
       "                    \"name\": \"\\u5409\\u6797\",\n",
       "                    \"value\": 9\n",
       "                },\n",
       "                {\n",
       "                    \"name\": \"\\u798f\\u5efa\",\n",
       "                    \"value\": 8\n",
       "                },\n",
       "                {\n",
       "                    \"name\": \"\\u8fbd\\u5b81\",\n",
       "                    \"value\": 7\n",
       "                },\n",
       "                {\n",
       "                    \"name\": \"\\u5e7f\\u4e1c\",\n",
       "                    \"value\": 6\n",
       "                },\n",
       "                {\n",
       "                    \"name\": \"\\u6d59\\u6c5f\",\n",
       "                    \"value\": 5\n",
       "                },\n",
       "                {\n",
       "                    \"name\": \"\\u5929\\u6d25\",\n",
       "                    \"value\": 4\n",
       "                },\n",
       "                {\n",
       "                    \"name\": \"\\u897f\\u85cf\",\n",
       "                    \"value\": 3\n",
       "                },\n",
       "                {\n",
       "                    \"name\": \"\\u4e0a\\u6d77\",\n",
       "                    \"value\": 2\n",
       "                },\n",
       "                {\n",
       "                    \"name\": \"\\u5317\\u4eac\",\n",
       "                    \"value\": 1\n",
       "                }\n",
       "            ],\n",
       "            \"roam\": false,\n",
       "            \"aspectScale\": 0.75,\n",
       "            \"nameProperty\": \"name\",\n",
       "            \"selectedMode\": false,\n",
       "            \"zoom\": 1,\n",
       "            \"nameMap\": {\n",
       "                \"\\u6cb3\\u5317\\u7701\": \"\\u6cb3\\u5317\",\n",
       "                \"\\u9999\\u6e2f\\u7279\\u522b\\u884c\\u653f\\u533a\": \"\\u9999\\u6e2f\",\n",
       "                \"\\u5929\\u6d25\\u5e02\": \"\\u5929\\u6d25\",\n",
       "                \"\\u5c71\\u897f\\u7701\": \"\\u5c71\\u897f\",\n",
       "                \"\\u5185\\u8499\\u53e4\\u81ea\\u6cbb\\u533a\": \"\\u5185\\u8499\\u53e4\",\n",
       "                \"\\u56db\\u5ddd\\u7701\": \"\\u56db\\u5ddd\",\n",
       "                \"\\u6d77\\u5357\\u7701\": \"\\u6d77\\u5357\",\n",
       "                \"\\u6c5f\\u897f\\u7701\": \"\\u6c5f\\u897f\",\n",
       "                \"\\u5317\\u4eac\\u5e02\": \"\\u5317\\u4eac\",\n",
       "                \"\\u9ed1\\u9f99\\u6c5f\\u7701\": \"\\u9ed1\\u9f99\\u6c5f\",\n",
       "                \"\\u4e91\\u5357\\u7701\": \"\\u4e91\\u5357\",\n",
       "                \"\\u897f\\u85cf\\u81ea\\u6cbb\\u533a\": \"\\u897f\\u85cf\",\n",
       "                \"\\u6d59\\u6c5f\\u7701\": \"\\u6d59\\u6c5f\",\n",
       "                \"\\u5e7f\\u897f\\u58ee\\u65cf\\u81ea\\u6cbb\\u533a\": \"\\u5e7f\\u897f\",\n",
       "                \"\\u8fbd\\u5b81\\u7701\": \"\\u8fbd\\u5b81\",\n",
       "                \"\\u6fb3\\u95e8\\u7279\\u522b\\u884c\\u653f\\u533a\": \"\\u6fb3\\u95e8\",\n",
       "                \"\\u798f\\u5efa\\u7701\": \"\\u798f\\u5efa\",\n",
       "                \"\\u5b89\\u5fbd\\u7701\": \"\\u5b89\\u5fbd\",\n",
       "                \"\\u9752\\u6d77\\u7701\": \"\\u9752\\u6d77\",\n",
       "                \"\\u8d35\\u5dde\\u7701\": \"\\u8d35\\u5dde\",\n",
       "                \"\\u5409\\u6797\\u7701\": \"\\u5409\\u6797\",\n",
       "                \"\\u6e56\\u5357\\u7701\": \"\\u6e56\\u5357\",\n",
       "                \"\\u9655\\u897f\\u7701\": \"\\u9655\\u897f\",\n",
       "                \"\\u53f0\\u6e7e\\u7701\": \"\\u53f0\\u6e7e\",\n",
       "                \"\\u5c71\\u4e1c\\u7701\": \"\\u5c71\\u4e1c\",\n",
       "                \"\\u6c5f\\u82cf\\u7701\": \"\\u6c5f\\u82cf\",\n",
       "                \"\\u91cd\\u5e86\\u5e02\": \"\\u91cd\\u5e86\",\n",
       "                \"\\u5e7f\\u4e1c\\u7701\": \"\\u5e7f\\u4e1c\",\n",
       "                \"\\u6e56\\u5317\\u7701\": \"\\u6e56\\u5317\",\n",
       "                \"\\u7518\\u8083\\u7701\": \"\\u7518\\u8083\",\n",
       "                \"\\u65b0\\u7586\\u7ef4\\u543e\\u5c14\\u81ea\\u6cbb\\u533a\": \"\\u65b0\\u7586\",\n",
       "                \"\\u5b81\\u590f\\u56de\\u65cf\\u81ea\\u6cbb\\u533a\": \"\\u5b81\\u590f\",\n",
       "                \"\\u4e0a\\u6d77\\u5e02\": \"\\u4e0a\\u6d77\",\n",
       "                \"\\u6cb3\\u5357\\u7701\": \"\\u6cb3\\u5357\"\n",
       "            },\n",
       "            \"mapValueCalculation\": \"sum\",\n",
       "            \"showLegendSymbol\": false,\n",
       "            \"itemStyle\": {\n",
       "                \"borderColor\": \"#A6A6A6\"\n",
       "            },\n",
       "            \"emphasis\": {},\n",
       "            \"xAxisIndex\": 0,\n",
       "            \"yAxisIndex\": 0\n",
       "        }\n",
       "    ],\n",
       "    \"legend\": [\n",
       "        {\n",
       "            \"data\": [\n",
       "                \"\"\n",
       "            ],\n",
       "            \"selected\": {\n",
       "                \"\": true\n",
       "            },\n",
       "            \"show\": true,\n",
       "            \"padding\": 5,\n",
       "            \"itemGap\": 10,\n",
       "            \"itemWidth\": 25,\n",
       "            \"itemHeight\": 14\n",
       "        }\n",
       "    ],\n",
       "    \"tooltip\": {\n",
       "        \"show\": true,\n",
       "        \"trigger\": \"item\",\n",
       "        \"triggerOn\": \"mousemove|click\",\n",
       "        \"axisPointer\": {\n",
       "            \"type\": \"line\"\n",
       "        },\n",
       "        \"showContent\": true,\n",
       "        \"alwaysShowContent\": false,\n",
       "        \"showDelay\": 0,\n",
       "        \"hideDelay\": 100,\n",
       "        \"textStyle\": {\n",
       "            \"fontSize\": 14\n",
       "        },\n",
       "        \"borderWidth\": 0,\n",
       "        \"padding\": 5\n",
       "    },\n",
       "    \"title\": [\n",
       "        {\n",
       "            \"padding\": 5,\n",
       "            \"itemGap\": 10\n",
       "        }\n",
       "    ],\n",
       "    \"visualMap\": {\n",
       "        \"show\": false,\n",
       "        \"type\": \"continuous\",\n",
       "        \"min\": 0,\n",
       "        \"max\": 31,\n",
       "        \"inRange\": {\n",
       "            \"color\": [\n",
       "                \"#FFFFFF\",\n",
       "                \"#E7F1F9\",\n",
       "                \"#CFE4F3\",\n",
       "                \"#B8D7ED\",\n",
       "                \"#A0CAE7\",\n",
       "                \"#89BCE2\",\n",
       "                \"#71AFDC\",\n",
       "                \"#5AA2D6\",\n",
       "                \"#4295D0\",\n",
       "                \"#2B88CA\"\n",
       "            ]\n",
       "        },\n",
       "        \"calculable\": true,\n",
       "        \"inverse\": false,\n",
       "        \"splitNumber\": 5,\n",
       "        \"orient\": \"vertical\",\n",
       "        \"showLabel\": true,\n",
       "        \"itemWidth\": 20,\n",
       "        \"itemHeight\": 140,\n",
       "        \"borderWidth\": 0\n",
       "    },\n",
       "    \"grid\": [\n",
       "        {\n",
       "            \"show\": false,\n",
       "            \"zlevel\": 0,\n",
       "            \"z\": 2,\n",
       "            \"left\": \"35%\",\n",
       "            \"containLabel\": false,\n",
       "            \"backgroundColor\": \"transparent\",\n",
       "            \"borderColor\": \"#ccc\",\n",
       "            \"borderWidth\": 1\n",
       "        }\n",
       "    ]\n",
       "};\n",
       "                chart_a4bd271a45444ffb8edc34c19a6c4493.setOption(option_a4bd271a45444ffb8edc34c19a6c4493);\n",
       "        });\n",
       "    </script>\n"
      ],
      "text/plain": [
       "<pyecharts.render.display.HTML at 0x1f030eb16d0>"
      ]
     },
     "metadata": {},
     "output_type": "display_data"
    }
   ],
   "source": [
    "add_head(4,\"3.生源地结构\")\n",
    "\n",
    "string=L('生源省份')\n",
    "data1=get_group_order_table(data,string)\n",
    "\n",
    "string2=''\n",
    "flag=[[0,'自治区','自治区'],[0,'直辖市','市'],[0,'特别行政区','香港|澳门|台湾']]\n",
    "for i in data1[string]:\n",
    "    for j in range(len(flag)):\n",
    "        if len(re.findall(flag[j][2],i))>0:flag[j][0]+=1\n",
    "temp=functools.reduce(lambda x,y:[x[0]+y[0],(x[0]!=0 and x[1] or '')+(x[0]!=0 and +y[0]!=0 and '、' or '')+(y[0]!=0 and y[1] or '')],flag)\n",
    "string1=f\"毕业生生源地覆盖{data1.shape[0]-2}个省{temp[0]>0 and '（'+temp[1]+'）' or ''}，\"\n",
    "string1+=f\"“{data1.loc[1][0]}”生源人数最多，共有{data1.loc[1][1]}人（占比{data1.loc[1][2]}），\"\n",
    "string1+=f\"非{data1.loc[1][0]}生源人数{data1.loc[data1.shape[0]-1][1]-data1.loc[1][1]}人（占比{reduce_by_1(data1.loc[1][2])}）。\"\n",
    "groupt=list(filter(lambda x:school_info['province_name'][0] not in x[0],get_3rd(data1,'num',4)))\n",
    "string1+=three_word(f'省外生源人数位列前三的地区分别为',[f\"“{x[0]}”（{x[1]}人，占比{x[2]}）、\" for x in groupt],'。')\n",
    "\n",
    "write_zw(string1,True)\n",
    "data2=data1[string].loc[1:data1.shape[0]-2]\n",
    "data2=data2.apply(lambda x:find_province(x,False))\n",
    "data_zip = list(zip(data2,range(data1.shape[0]-2,0,-1)))\n",
    "add_pic(my_china_map(data_zip))\n",
    "write_tz(f'毕业生{string}分布')"
   ]
  },
  {
   "cell_type": "code",
   "execution_count": 86,
   "metadata": {},
   "outputs": [
    {
     "name": "stdout",
     "output_type": "stream",
     "text": [
      "\n"
     ]
    }
   ],
   "source": [
    "string1=''\n",
    "if other_groupby:\n",
    "    data1 = get_group_order_table(data,string,other_groupby=other_groupby)\n",
    "    string1 = f'''分{L(other_groupby)}来看，'''\n",
    "    for i in get_og_name(data1):\n",
    "        datat=data1[[string,i,re.sub('num','proportion',i)]]\n",
    "        temp=list(filter(lambda x:school_info['province_name'][0] in x[0],get_3rd(datat,i,data1.shape[0]-2)))[0]\n",
    "        string1+=three_word(f\"{xy(data1,string,L(string),i)}{find_province(temp[0])}内生源\",[f\"{temp[1]}人，占比{temp[2]}、\"],'；')\n",
    "    \n",
    "string1=string1[:-1]+'。生源地区分布如下表所示。'\n",
    "write_zw(string1)\n",
    "write_tz(f'分{L(other_groupby)}毕业生{L(string)}分布')\n",
    "add_table(data1)"
   ]
  },
  {
   "cell_type": "markdown",
   "metadata": {},
   "source": [
    "#### 4.民族结构"
   ]
  },
  {
   "cell_type": "code",
   "execution_count": 99,
   "metadata": {},
   "outputs": [
    {
     "data": {
      "text/html": [
       "\n",
       "<script>\n",
       "    require.config({\n",
       "        paths: {\n",
       "            'echarts':'https://assets.pyecharts.org/assets/echarts.min'\n",
       "        }\n",
       "    });\n",
       "</script>\n",
       "\n",
       "        <div id=\"4fd35363bfd34e52b3b7f710aee7241e\" style=\"width:1000px; height:750px;\"></div>\n",
       "\n",
       "<script>\n",
       "        require(['echarts'], function(echarts) {\n",
       "                var chart_4fd35363bfd34e52b3b7f710aee7241e = echarts.init(\n",
       "                    document.getElementById('4fd35363bfd34e52b3b7f710aee7241e'), 'white', {renderer: 'canvas'});\n",
       "                var option_4fd35363bfd34e52b3b7f710aee7241e = {\n",
       "    \"animation\": true,\n",
       "    \"animationThreshold\": 2000,\n",
       "    \"animationDuration\": 1000,\n",
       "    \"animationEasing\": \"cubicOut\",\n",
       "    \"animationDelay\": 0,\n",
       "    \"animationDurationUpdate\": 300,\n",
       "    \"animationEasingUpdate\": \"cubicOut\",\n",
       "    \"animationDelayUpdate\": 0,\n",
       "    \"color\": [\n",
       "        \"#147BC5\",\n",
       "        \"#FBB03E\"\n",
       "    ],\n",
       "    \"series\": [\n",
       "        {\n",
       "            \"type\": \"bar\",\n",
       "            \"xAxisIndex\": 0,\n",
       "            \"yAxisIndex\": 0,\n",
       "            \"legendHoverLink\": true,\n",
       "            \"data\": [\n",
       "                {\n",
       "                    \"value\": 1,\n",
       "                    \"name\": \"0.03%\"\n",
       "                },\n",
       "                {\n",
       "                    \"value\": 1,\n",
       "                    \"name\": \"0.03%\"\n",
       "                },\n",
       "                {\n",
       "                    \"value\": 1,\n",
       "                    \"name\": \"0.03%\"\n",
       "                },\n",
       "                {\n",
       "                    \"value\": 1,\n",
       "                    \"name\": \"0.03%\"\n",
       "                },\n",
       "                {\n",
       "                    \"value\": 1,\n",
       "                    \"name\": \"0.03%\"\n",
       "                },\n",
       "                {\n",
       "                    \"value\": 1,\n",
       "                    \"name\": \"0.03%\"\n",
       "                },\n",
       "                {\n",
       "                    \"value\": 1,\n",
       "                    \"name\": \"0.03%\"\n",
       "                },\n",
       "                {\n",
       "                    \"value\": 1,\n",
       "                    \"name\": \"0.03%\"\n",
       "                },\n",
       "                {\n",
       "                    \"value\": 1,\n",
       "                    \"name\": \"0.03%\"\n",
       "                },\n",
       "                {\n",
       "                    \"value\": 2,\n",
       "                    \"name\": \"0.03%\"\n",
       "                },\n",
       "                {\n",
       "                    \"value\": 3,\n",
       "                    \"name\": \"0.11%\"\n",
       "                },\n",
       "                {\n",
       "                    \"value\": 4,\n",
       "                    \"name\": \"0.26%\"\n",
       "                },\n",
       "                {\n",
       "                    \"value\": 4,\n",
       "                    \"name\": \"0.26%\"\n",
       "                },\n",
       "                {\n",
       "                    \"value\": 6,\n",
       "                    \"name\": \"0.11%\"\n",
       "                },\n",
       "                {\n",
       "                    \"value\": 7,\n",
       "                    \"name\": \"0.13%\"\n",
       "                },\n",
       "                {\n",
       "                    \"value\": 7,\n",
       "                    \"name\": \"0.13%\"\n",
       "                },\n",
       "                {\n",
       "                    \"value\": 8,\n",
       "                    \"name\": \"0.26%\"\n",
       "                },\n",
       "                {\n",
       "                    \"value\": 10,\n",
       "                    \"name\": \"0.19%\"\n",
       "                },\n",
       "                {\n",
       "                    \"value\": 10,\n",
       "                    \"name\": \"0.19%\"\n",
       "                },\n",
       "                {\n",
       "                    \"value\": 11,\n",
       "                    \"name\": \"0.20%\"\n",
       "                },\n",
       "                {\n",
       "                    \"value\": 11,\n",
       "                    \"name\": \"0.20%\"\n",
       "                },\n",
       "                {\n",
       "                    \"value\": 14,\n",
       "                    \"name\": \"0.26%\"\n",
       "                },\n",
       "                {\n",
       "                    \"value\": 55,\n",
       "                    \"name\": \"1.03%\"\n",
       "                }\n",
       "            ],\n",
       "            \"showBackground\": false,\n",
       "            \"barWidth\": 20,\n",
       "            \"barMinHeight\": 0,\n",
       "            \"barCategoryGap\": \"20%\",\n",
       "            \"barGap\": \"30%\",\n",
       "            \"large\": false,\n",
       "            \"largeThreshold\": 400,\n",
       "            \"seriesLayoutBy\": \"column\",\n",
       "            \"datasetIndex\": 0,\n",
       "            \"clip\": true,\n",
       "            \"zlevel\": 0,\n",
       "            \"z\": 2,\n",
       "            \"label\": {\n",
       "                \"show\": true,\n",
       "                \"position\": \"right\",\n",
       "                \"color\": \"#FBB03E\",\n",
       "                \"margin\": 8,\n",
       "                \"fontSize\": 16,\n",
       "                \"fontWeight\": \"bold\",\n",
       "                \"fontFamily\": \"Bahnschrift SemiLight Condensed\",\n",
       "                \"formatter\": function (params) {return params.name + '  ' + params.value + '\\u4eba'}\n",
       "            },\n",
       "            \"itemStyle\": {\n",
       "                \"color\": \"#FBB03E\"\n",
       "            },\n",
       "            \"rippleEffect\": {\n",
       "                \"show\": true,\n",
       "                \"brushType\": \"stroke\",\n",
       "                \"scale\": 2.5,\n",
       "                \"period\": 4\n",
       "            }\n",
       "        },\n",
       "        {\n",
       "            \"type\": \"pie\",\n",
       "            \"clockwise\": true,\n",
       "            \"data\": [\n",
       "                {\n",
       "                    \"name\": \"\\u6c49\\u65cf\",\n",
       "                    \"value\": [\n",
       "                        5204,\n",
       "                        \"97.00%\"\n",
       "                    ]\n",
       "                },\n",
       "                {\n",
       "                    \"name\": \"\\u5c11\\u6570\\u6c11\\u65cf\",\n",
       "                    \"value\": [\n",
       "                        161,\n",
       "                        \"3.00%\"\n",
       "                    ]\n",
       "                }\n",
       "            ],\n",
       "            \"radius\": [\n",
       "                \"20%\",\n",
       "                \"40%\"\n",
       "            ],\n",
       "            \"center\": [\n",
       "                \"22%\",\n",
       "                \"50%\"\n",
       "            ],\n",
       "            \"label\": {\n",
       "                \"show\": false,\n",
       "                \"position\": \"top\",\n",
       "                \"margin\": 8\n",
       "            },\n",
       "            \"rippleEffect\": {\n",
       "                \"show\": true,\n",
       "                \"brushType\": \"stroke\",\n",
       "                \"scale\": 2.5,\n",
       "                \"period\": 4\n",
       "            },\n",
       "            \"xAxisIndex\": 1,\n",
       "            \"yAxisIndex\": 1\n",
       "        }\n",
       "    ],\n",
       "    \"legend\": [\n",
       "        {\n",
       "            \"data\": [\n",
       "                \"\"\n",
       "            ],\n",
       "            \"selected\": {\n",
       "                \"\": true\n",
       "            },\n",
       "            \"show\": true,\n",
       "            \"padding\": 5,\n",
       "            \"itemGap\": 10,\n",
       "            \"itemWidth\": 25,\n",
       "            \"itemHeight\": 14\n",
       "        },\n",
       "        {\n",
       "            \"data\": [\n",
       "                \"\\u6c49\\u65cf\",\n",
       "                \"\\u5c11\\u6570\\u6c11\\u65cf\"\n",
       "            ],\n",
       "            \"selected\": {},\n",
       "            \"show\": false,\n",
       "            \"padding\": 5,\n",
       "            \"itemGap\": 10,\n",
       "            \"itemWidth\": 25,\n",
       "            \"itemHeight\": 14\n",
       "        }\n",
       "    ],\n",
       "    \"tooltip\": {\n",
       "        \"show\": true,\n",
       "        \"trigger\": \"item\",\n",
       "        \"triggerOn\": \"mousemove|click\",\n",
       "        \"axisPointer\": {\n",
       "            \"type\": \"line\"\n",
       "        },\n",
       "        \"showContent\": true,\n",
       "        \"alwaysShowContent\": false,\n",
       "        \"showDelay\": 0,\n",
       "        \"hideDelay\": 100,\n",
       "        \"textStyle\": {\n",
       "            \"fontSize\": 14\n",
       "        },\n",
       "        \"borderWidth\": 0,\n",
       "        \"padding\": 5\n",
       "    },\n",
       "    \"xAxis\": [\n",
       "        {\n",
       "            \"show\": false,\n",
       "            \"scale\": false,\n",
       "            \"nameLocation\": \"end\",\n",
       "            \"nameGap\": 15,\n",
       "            \"gridIndex\": 0,\n",
       "            \"inverse\": false,\n",
       "            \"offset\": 0,\n",
       "            \"splitNumber\": 5,\n",
       "            \"minInterval\": 0,\n",
       "            \"splitLine\": {\n",
       "                \"show\": false,\n",
       "                \"lineStyle\": {\n",
       "                    \"show\": true,\n",
       "                    \"width\": 1,\n",
       "                    \"opacity\": 1,\n",
       "                    \"curveness\": 0,\n",
       "                    \"type\": \"solid\"\n",
       "                }\n",
       "            }\n",
       "        }\n",
       "    ],\n",
       "    \"yAxis\": [\n",
       "        {\n",
       "            \"show\": true,\n",
       "            \"scale\": false,\n",
       "            \"nameLocation\": \"end\",\n",
       "            \"nameGap\": 15,\n",
       "            \"gridIndex\": 0,\n",
       "            \"axisLine\": {\n",
       "                \"show\": true,\n",
       "                \"onZero\": true,\n",
       "                \"onZeroAxisIndex\": 0,\n",
       "                \"lineStyle\": {\n",
       "                    \"show\": true,\n",
       "                    \"width\": 1,\n",
       "                    \"opacity\": 1,\n",
       "                    \"curveness\": 0,\n",
       "                    \"type\": \"solid\",\n",
       "                    \"color\": \"#FBB03E\"\n",
       "                }\n",
       "            },\n",
       "            \"axisTick\": {\n",
       "                \"show\": true,\n",
       "                \"alignWithLabel\": false,\n",
       "                \"inside\": false,\n",
       "                \"lineStyle\": {\n",
       "                    \"show\": true,\n",
       "                    \"width\": 1,\n",
       "                    \"opacity\": 1,\n",
       "                    \"curveness\": 0,\n",
       "                    \"type\": \"solid\",\n",
       "                    \"color\": \"#FBB03E\"\n",
       "                }\n",
       "            },\n",
       "            \"axisLabel\": {\n",
       "                \"show\": true,\n",
       "                \"position\": \"top\",\n",
       "                \"color\": \"black\",\n",
       "                \"margin\": 8,\n",
       "                \"fontSize\": 18,\n",
       "                \"fontFamily\": \"\\u5b8b\\u4f53\"\n",
       "            },\n",
       "            \"inverse\": false,\n",
       "            \"offset\": 0,\n",
       "            \"splitNumber\": 5,\n",
       "            \"minInterval\": 0,\n",
       "            \"splitLine\": {\n",
       "                \"show\": false,\n",
       "                \"lineStyle\": {\n",
       "                    \"show\": true,\n",
       "                    \"width\": 1,\n",
       "                    \"opacity\": 1,\n",
       "                    \"curveness\": 0,\n",
       "                    \"type\": \"solid\"\n",
       "                }\n",
       "            },\n",
       "            \"data\": [\n",
       "                \"\\u4e1c\\u4e61\\u65cf\",\n",
       "                \"\\u4eeb\\u4f6c\\u65cf\",\n",
       "                \"\\u4fc4\\u7f57\\u65af\\u65cf\",\n",
       "                \"\\u5176\\u4ed6\",\n",
       "                \"\\u54c8\\u5c3c\\u65cf\",\n",
       "                \"\\u7572\\u65cf\",\n",
       "                \"\\u6492\\u62c9\\u65cf\",\n",
       "                \"\\u666f\\u9887\\u65cf\",\n",
       "                \"\\u671d\\u9c9c\\u65cf\",\n",
       "                \"\\u9ece\\u65cf\",\n",
       "                \"\\u4ee1\\u4f6c\\u65cf\",\n",
       "                \"\\u571f\\u65cf\",\n",
       "                \"\\u4f97\\u65cf\",\n",
       "                \"\\u5e03\\u4f9d\\u65cf\",\n",
       "                \"\\u82d7\\u65cf\",\n",
       "                \"\\u5f5d\\u65cf\",\n",
       "                \"\\u6ee1\\u65cf\",\n",
       "                \"\\u571f\\u5bb6\\u65cf\",\n",
       "                \"\\u85cf\\u65cf\",\n",
       "                \"\\u58ee\\u65cf\",\n",
       "                \"\\u7ef4\\u543e\\u5c14\\u65cf\",\n",
       "                \"\\u8499\\u53e4\\u65cf\",\n",
       "                \"\\u56de\\u65cf\"\n",
       "            ]\n",
       "        }\n",
       "    ],\n",
       "    \"title\": [\n",
       "        {\n",
       "            \"padding\": 5,\n",
       "            \"itemGap\": 10\n",
       "        },\n",
       "        {\n",
       "            \"text\": \" \\u6c49\\u65cf\\n5204\\u4eba\\n96.99%\",\n",
       "            \"left\": \"18%\",\n",
       "            \"top\": \"45%\",\n",
       "            \"padding\": 5,\n",
       "            \"itemGap\": 10,\n",
       "            \"textStyle\": {\n",
       "                \"color\": \"#147BC5\",\n",
       "                \"fontFamily\": \"\\u5b8b\\u4f53\",\n",
       "                \"fontSize\": 21\n",
       "            }\n",
       "        }\n",
       "    ],\n",
       "    \"grid\": [\n",
       "        {\n",
       "            \"show\": false,\n",
       "            \"zlevel\": 0,\n",
       "            \"z\": 2,\n",
       "            \"left\": \"50%\",\n",
       "            \"containLabel\": false,\n",
       "            \"backgroundColor\": \"transparent\",\n",
       "            \"borderColor\": \"#ccc\",\n",
       "            \"borderWidth\": 1\n",
       "        },\n",
       "        {\n",
       "            \"show\": false,\n",
       "            \"zlevel\": 0,\n",
       "            \"z\": 2,\n",
       "            \"containLabel\": false,\n",
       "            \"backgroundColor\": \"transparent\",\n",
       "            \"borderColor\": \"#ccc\",\n",
       "            \"borderWidth\": 1\n",
       "        }\n",
       "    ]\n",
       "};\n",
       "                chart_4fd35363bfd34e52b3b7f710aee7241e.setOption(option_4fd35363bfd34e52b3b7f710aee7241e);\n",
       "        });\n",
       "    </script>\n"
      ],
      "text/plain": [
       "<pyecharts.render.display.HTML at 0x1244c144d60>"
      ]
     },
     "metadata": {},
     "output_type": "display_data"
    }
   ],
   "source": [
    "add_head(4,\"4.民族结构\")\n",
    "\n",
    "string=L('民族')\n",
    "data1=get_group_order_table(data,string)\n",
    "\n",
    "string1=f\"毕业生来自于{data1.shape[0]-2}个民族，\"\n",
    "string1+=f\"{data1.loc[1][0]}生源人数最多，共有{data1.loc[1][1]}人（占比{data1.loc[1][2]}），\"\n",
    "string1+=f\"少数民族生源人数{data1.loc[data1.shape[0]-1][1]-data1.loc[1][1]}人（占比{reduce_by_1(data1.loc[1][2])}）。\"\n",
    "groupt=list(filter(lambda x:'汉' not in x[0],get_3rd(data1,'num',4)))\n",
    "string1+=three_word(f'少数民族生源人数位列前三的{L(string)}分别为',[f\"{x[0]}（{x[1]}人，占比{x[2]}）、\" for x in groupt],'。')\n",
    "\n",
    "write_zw(string1)\n",
    "a=my_bar2(data1[string].tolist()[2:-1][::-1],[{'value':x[0],'name':x[1]} for x in [*(zip(data1['num'].tolist()[2:-1][::-1],data1['proportion'].tolist()[2:-1][::-1]))]])\n",
    "b=my_pie([('汉族',data1.loc[1][1]),('少数民族',data1.loc[data1.shape[0]-1][1]-data1.loc[1][1])],title=f' 汉族\\n{data1.loc[1][1]}人\\n{data1.loc[1][2]}',radius = [\"20%\", \"40%\"],center = ['22%', '50%'])\n",
    "c=merge_pic(a,b,height='750px')\n",
    "display(c.render_notebook())\n",
    "add_pic(c.render())\n",
    "write_tz(f'毕业生{L(string)}分布')"
   ]
  },
  {
   "cell_type": "code",
   "execution_count": 83,
   "metadata": {
    "scrolled": true
   },
   "outputs": [
    {
     "name": "stdout",
     "output_type": "stream",
     "text": [
      "\n"
     ]
    }
   ],
   "source": [
    "string1=''\n",
    "if other_groupby:\n",
    "    data1 = get_group_order_table(data,string,other_groupby=other_groupby)\n",
    "    string1 = f'''分{L(other_groupby)}来看，'''\n",
    "    for i in get_og_name(data1):\n",
    "        datat=data1[[string,i,re.sub('num','proportion',i)]]\n",
    "        temp=get_3rd(datat,i,1)[0]\n",
    "        string1+=three_word(f\"{xy(data1,string,L(string),i)}{temp[0]}生源\",[f\"{temp[1]}人，占比{temp[2]}、\"],'；')\n",
    "    \n",
    "string1=string1[:-1]+'。各民族分布明细如下表所示。'\n",
    "write_zw(string1)\n",
    "write_tz(f'分{L(other_groupby)}毕业生{L(string)}分布')\n",
    "add_table(data1)"
   ]
  },
  {
   "cell_type": "markdown",
   "metadata": {},
   "source": [
    "## 二、初次毕业去向落实情况"
   ]
  },
  {
   "cell_type": "markdown",
   "metadata": {},
   "source": [
    "### （一）总体毕业去向落实率"
   ]
  },
  {
   "cell_type": "markdown",
   "metadata": {},
   "source": [
    "#### 1.毕业去向落实率"
   ]
  },
  {
   "cell_type": "code",
   "execution_count": 2,
   "metadata": {},
   "outputs": [],
   "source": [
    "add_head(2,\"二、初次毕业去向落实情况\")\n",
    "add_head(3,\"（一）总体毕业去向落实率\")\n",
    "add_head(4,\"1.毕业去向落实率\")"
   ]
  },
  {
   "cell_type": "code",
   "execution_count": 30,
   "metadata": {},
   "outputs": [
    {
     "name": "stdout",
     "output_type": "stream",
     "text": [
      "未在表格中找到就业类别分类字段\n",
      "截至2022年8月31日，毕业生毕业去向落实人数为4623人，初次毕业去向落实率为86.17%。其中，本科毕业生毕业去向落实人数为3831，毕业去向落实率为84.81%；毕业研究生毕业去向落实人数为792，毕业去向落实率为93.40%。\n"
     ]
    },
    {
     "data": {
      "text/html": [
       "\n",
       "<script>\n",
       "    require.config({\n",
       "        paths: {\n",
       "            'echarts':'https://assets.pyecharts.org/assets/echarts.min'\n",
       "        }\n",
       "    });\n",
       "</script>\n",
       "\n",
       "        <div id=\"065122f5cf084489adb9117d7629e844\" style=\"width:900px; height:500px;\"></div>\n",
       "\n",
       "<script>\n",
       "        require(['echarts'], function(echarts) {\n",
       "                var chart_065122f5cf084489adb9117d7629e844 = echarts.init(\n",
       "                    document.getElementById('065122f5cf084489adb9117d7629e844'), 'white', {renderer: 'canvas'});\n",
       "                var option_065122f5cf084489adb9117d7629e844 = {\n",
       "    \"animation\": true,\n",
       "    \"animationThreshold\": 2000,\n",
       "    \"animationDuration\": 1000,\n",
       "    \"animationEasing\": \"cubicOut\",\n",
       "    \"animationDelay\": 0,\n",
       "    \"animationDurationUpdate\": 300,\n",
       "    \"animationEasingUpdate\": \"cubicOut\",\n",
       "    \"animationDelayUpdate\": 0,\n",
       "    \"color\": [\n",
       "        \"#147BC5\",\n",
       "        \"#FBB03E\",\n",
       "        \"#c23531\",\n",
       "        \"#2f4554\",\n",
       "        \"#61a0a8\",\n",
       "        \"#d48265\",\n",
       "        \"#749f83\",\n",
       "        \"#ca8622\",\n",
       "        \"#bda29a\",\n",
       "        \"#6e7074\",\n",
       "        \"#546570\",\n",
       "        \"#c4ccd3\",\n",
       "        \"#f05b72\",\n",
       "        \"#ef5b9c\",\n",
       "        \"#f47920\",\n",
       "        \"#905a3d\",\n",
       "        \"#fab27b\",\n",
       "        \"#2a5caa\",\n",
       "        \"#444693\",\n",
       "        \"#726930\",\n",
       "        \"#b2d235\",\n",
       "        \"#6d8346\",\n",
       "        \"#ac6767\",\n",
       "        \"#1d953f\",\n",
       "        \"#6950a1\",\n",
       "        \"#918597\"\n",
       "    ],\n",
       "    \"series\": [\n",
       "        {\n",
       "            \"type\": \"pictorialBar\",\n",
       "            \"symbol\": \"path://M945.08544 366.6432l-425.97376-183.1936a20.5312 20.5312 0 0 0-8.12544-1.6896c-2.7648 0-5.52448 0.5632-8.14592 1.6896L76.87168 366.6432c-8.98048 3.84512-14.92992 13.65504-14.92992 24.59136 0 10.9568 5.94944 20.74112 14.92992 24.60672L502.8352 599.04a20.29056 20.29056 0 0 0 16.27136 0l331.1872-142.43328v145.7152c-17.75104 9.40032-30.08512 29.8496-30.08512 53.62688 0 23.7824 12.33408 44.22656 30.08512 53.62688v50.83136h43.6224v-50.82112c17.76128-9.40032 30.1056-29.8496 30.1056-53.63712s-12.34432-44.2368-30.1056-53.63712V437.84704l51.16416-22.00576c8.97536-3.8656 14.9248-13.65504 14.9248-24.60672 0-10.93632-5.94944-20.74624-14.9248-24.59136z m-434.0992 269.16352a47.96928 47.96928 0 0 1-19.03104-3.95776L226.4064 517.632v157.70112c0 129.16224 193.65888 167.936 254.208 167.936h60.69248c45.35808 0 254.22848-38.77376 254.22848-167.936v-157.696l-265.55904 114.21184a47.76448 47.76448 0 0 1-18.9952 3.95776z\",\n",
       "            \"symbolSize\": 40,\n",
       "            \"symbolOffset\": [\n",
       "                -30,\n",
       "                0\n",
       "            ],\n",
       "            \"symbolRepeat\": true,\n",
       "            \"symbolClip\": true,\n",
       "            \"name\": \"\\u751f\\u6e90\\u4eba\\u6570\",\n",
       "            \"yAxisIndex\": 0,\n",
       "            \"data\": [\n",
       "                2258,\n",
       "                424,\n",
       "                2682\n",
       "            ],\n",
       "            \"barCategoryGap\": \"20%\",\n",
       "            \"label\": {\n",
       "                \"show\": true,\n",
       "                \"position\": \"top\",\n",
       "                \"margin\": 8,\n",
       "                \"formatter\": \"{c|{c}\\u4eba}\",\n",
       "                \"rich\": {\n",
       "                    \"c\": {\n",
       "                        \"fontSize\": 21,\n",
       "                        \"fontFamily\": \"Times New Roman\",\n",
       "                        \"padding\": [\n",
       "                            0,\n",
       "                            0,\n",
       "                            0,\n",
       "                            -60\n",
       "                        ]\n",
       "                    }\n",
       "                }\n",
       "            }\n",
       "        },\n",
       "        {\n",
       "            \"type\": \"pictorialBar\",\n",
       "            \"symbol\": \"path://M945.08544 366.6432l-425.97376-183.1936a20.5312 20.5312 0 0 0-8.12544-1.6896c-2.7648 0-5.52448 0.5632-8.14592 1.6896L76.87168 366.6432c-8.98048 3.84512-14.92992 13.65504-14.92992 24.59136 0 10.9568 5.94944 20.74112 14.92992 24.60672L502.8352 599.04a20.29056 20.29056 0 0 0 16.27136 0l331.1872-142.43328v145.7152c-17.75104 9.40032-30.08512 29.8496-30.08512 53.62688 0 23.7824 12.33408 44.22656 30.08512 53.62688v50.83136h43.6224v-50.82112c17.76128-9.40032 30.1056-29.8496 30.1056-53.63712s-12.34432-44.2368-30.1056-53.63712V437.84704l51.16416-22.00576c8.97536-3.8656 14.9248-13.65504 14.9248-24.60672 0-10.93632-5.94944-20.74624-14.9248-24.59136z m-434.0992 269.16352a47.96928 47.96928 0 0 1-19.03104-3.95776L226.4064 517.632v157.70112c0 129.16224 193.65888 167.936 254.208 167.936h60.69248c45.35808 0 254.22848-38.77376 254.22848-167.936v-157.696l-265.55904 114.21184a47.76448 47.76448 0 0 1-18.9952 3.95776z\",\n",
       "            \"symbolSize\": 40,\n",
       "            \"symbolOffset\": [\n",
       "                30,\n",
       "                0\n",
       "            ],\n",
       "            \"symbolRepeat\": true,\n",
       "            \"symbolClip\": true,\n",
       "            \"name\": \"\\u843d\\u5b9e\\u4eba\\u6570\",\n",
       "            \"yAxisIndex\": 0,\n",
       "            \"data\": [\n",
       "                3831,\n",
       "                792,\n",
       "                4623\n",
       "            ],\n",
       "            \"barCategoryGap\": \"20%\",\n",
       "            \"label\": {\n",
       "                \"show\": true,\n",
       "                \"position\": \"top\",\n",
       "                \"margin\": 8,\n",
       "                \"formatter\": \"{c|{c}\\u4eba}\",\n",
       "                \"rich\": {\n",
       "                    \"c\": {\n",
       "                        \"fontSize\": 21,\n",
       "                        \"fontFamily\": \"Times New Roman\",\n",
       "                        \"padding\": [\n",
       "                            0,\n",
       "                            0,\n",
       "                            0,\n",
       "                            70\n",
       "                        ]\n",
       "                    }\n",
       "                }\n",
       "            }\n",
       "        },\n",
       "        {\n",
       "            \"type\": \"line\",\n",
       "            \"name\": \"\\u6bd5\\u4e1a\\u53bb\\u5411\\u843d\\u5b9e\\u7387\",\n",
       "            \"connectNulls\": false,\n",
       "            \"yAxisIndex\": 1,\n",
       "            \"symbol\": \"circle\",\n",
       "            \"symbolSize\": 6,\n",
       "            \"showSymbol\": true,\n",
       "            \"smooth\": false,\n",
       "            \"clip\": true,\n",
       "            \"step\": false,\n",
       "            \"data\": [\n",
       "                [\n",
       "                    \"\\u672c\\u79d1\\u6bd5\\u4e1a\\u751f\",\n",
       "                    84.81\n",
       "                ],\n",
       "                [\n",
       "                    \"\\u6bd5\\u4e1a\\u7814\\u7a76\\u751f\",\n",
       "                    93.4\n",
       "                ],\n",
       "                [\n",
       "                    \"\\u5168\\u4f53\\u6bd5\\u4e1a\\u751f\",\n",
       "                    86.17\n",
       "                ]\n",
       "            ],\n",
       "            \"hoverAnimation\": true,\n",
       "            \"label\": {\n",
       "                \"show\": true,\n",
       "                \"position\": \"top\",\n",
       "                \"color\": \"white\",\n",
       "                \"margin\": 8,\n",
       "                \"fontSize\": 26,\n",
       "                \"fontFamily\": \"Times New Roman\",\n",
       "                \"formatter\": function (params) {return params.value[1] + '%'},\n",
       "                \"backgroundColor\": \"#147BC5\"\n",
       "            },\n",
       "            \"lineStyle\": {\n",
       "                \"show\": true,\n",
       "                \"width\": 0,\n",
       "                \"opacity\": 1,\n",
       "                \"curveness\": 0,\n",
       "                \"type\": \"solid\"\n",
       "            },\n",
       "            \"areaStyle\": {\n",
       "                \"opacity\": 0\n",
       "            },\n",
       "            \"itemStyle\": {\n",
       "                \"color\": \"#147BC5\"\n",
       "            },\n",
       "            \"zlevel\": 0,\n",
       "            \"z\": 0\n",
       "        }\n",
       "    ],\n",
       "    \"legend\": [\n",
       "        {\n",
       "            \"data\": [\n",
       "                \"\\u751f\\u6e90\\u4eba\\u6570\",\n",
       "                \"\\u843d\\u5b9e\\u4eba\\u6570\",\n",
       "                \"\\u6bd5\\u4e1a\\u53bb\\u5411\\u843d\\u5b9e\\u7387\"\n",
       "            ],\n",
       "            \"selected\": {\n",
       "                \"\\u751f\\u6e90\\u4eba\\u6570\": true,\n",
       "                \"\\u843d\\u5b9e\\u4eba\\u6570\": true,\n",
       "                \"\\u6bd5\\u4e1a\\u53bb\\u5411\\u843d\\u5b9e\\u7387\": true\n",
       "            },\n",
       "            \"show\": true,\n",
       "            \"padding\": 5,\n",
       "            \"itemGap\": 10,\n",
       "            \"itemWidth\": 20,\n",
       "            \"itemHeight\": 15,\n",
       "            \"textStyle\": {\n",
       "                \"fontFamily\": \"\\u5b8b\\u4f53\",\n",
       "                \"fontSize\": 18\n",
       "            }\n",
       "        }\n",
       "    ],\n",
       "    \"tooltip\": {\n",
       "        \"show\": true,\n",
       "        \"trigger\": \"item\",\n",
       "        \"triggerOn\": \"mousemove|click\",\n",
       "        \"axisPointer\": {\n",
       "            \"type\": \"line\"\n",
       "        },\n",
       "        \"showContent\": true,\n",
       "        \"alwaysShowContent\": false,\n",
       "        \"showDelay\": 0,\n",
       "        \"hideDelay\": 100,\n",
       "        \"textStyle\": {\n",
       "            \"fontSize\": 14\n",
       "        },\n",
       "        \"borderWidth\": 0,\n",
       "        \"padding\": 5\n",
       "    },\n",
       "    \"xAxis\": [\n",
       "        {\n",
       "            \"show\": true,\n",
       "            \"scale\": false,\n",
       "            \"nameLocation\": \"end\",\n",
       "            \"nameGap\": 15,\n",
       "            \"gridIndex\": 0,\n",
       "            \"axisLabel\": {\n",
       "                \"show\": true,\n",
       "                \"position\": \"top\",\n",
       "                \"color\": \"black\",\n",
       "                \"margin\": 8,\n",
       "                \"fontSize\": 21,\n",
       "                \"fontFamily\": \"\\u5b8b\\u4f53\"\n",
       "            },\n",
       "            \"inverse\": false,\n",
       "            \"offset\": 0,\n",
       "            \"splitNumber\": 5,\n",
       "            \"minInterval\": 0,\n",
       "            \"splitLine\": {\n",
       "                \"show\": false,\n",
       "                \"lineStyle\": {\n",
       "                    \"show\": true,\n",
       "                    \"width\": 1,\n",
       "                    \"opacity\": 1,\n",
       "                    \"curveness\": 0,\n",
       "                    \"type\": \"solid\"\n",
       "                }\n",
       "            },\n",
       "            \"data\": [\n",
       "                \"\\u672c\\u79d1\\u6bd5\\u4e1a\\u751f\",\n",
       "                \"\\u6bd5\\u4e1a\\u7814\\u7a76\\u751f\",\n",
       "                \"\\u5168\\u4f53\\u6bd5\\u4e1a\\u751f\"\n",
       "            ]\n",
       "        }\n",
       "    ],\n",
       "    \"yAxis\": [\n",
       "        {\n",
       "            \"show\": false,\n",
       "            \"scale\": false,\n",
       "            \"nameLocation\": \"end\",\n",
       "            \"nameGap\": 15,\n",
       "            \"gridIndex\": 0,\n",
       "            \"inverse\": false,\n",
       "            \"offset\": 0,\n",
       "            \"splitNumber\": 5,\n",
       "            \"max\": 9246,\n",
       "            \"minInterval\": 0,\n",
       "            \"splitLine\": {\n",
       "                \"show\": false,\n",
       "                \"lineStyle\": {\n",
       "                    \"show\": true,\n",
       "                    \"width\": 1,\n",
       "                    \"opacity\": 1,\n",
       "                    \"curveness\": 0,\n",
       "                    \"type\": \"solid\"\n",
       "                }\n",
       "            }\n",
       "        },\n",
       "        {\n",
       "            \"type\": \"value\",\n",
       "            \"name\": \"\\u6bd5\\u4e1a\\u53bb\\u5411\\u843d\\u5b9e\\u7387\",\n",
       "            \"show\": false,\n",
       "            \"scale\": false,\n",
       "            \"nameLocation\": \"end\",\n",
       "            \"nameGap\": 15,\n",
       "            \"gridIndex\": 0,\n",
       "            \"inverse\": false,\n",
       "            \"position\": \"right\",\n",
       "            \"offset\": 0,\n",
       "            \"splitNumber\": 5,\n",
       "            \"min\": 0,\n",
       "            \"max\": 100,\n",
       "            \"minInterval\": 0,\n",
       "            \"splitLine\": {\n",
       "                \"show\": false,\n",
       "                \"lineStyle\": {\n",
       "                    \"show\": true,\n",
       "                    \"width\": 1,\n",
       "                    \"opacity\": 1,\n",
       "                    \"curveness\": 0,\n",
       "                    \"type\": \"solid\"\n",
       "                }\n",
       "            }\n",
       "        }\n",
       "    ],\n",
       "    \"title\": [\n",
       "        {\n",
       "            \"padding\": 5,\n",
       "            \"itemGap\": 10\n",
       "        }\n",
       "    ]\n",
       "};\n",
       "                chart_065122f5cf084489adb9117d7629e844.setOption(option_065122f5cf084489adb9117d7629e844);\n",
       "        });\n",
       "    </script>\n"
      ],
      "text/plain": [
       "<pyecharts.render.display.HTML at 0x1bc47746ac0>"
      ]
     },
     "metadata": {},
     "output_type": "display_data"
    },
    {
     "name": "stdout",
     "output_type": "stream",
     "text": [
      "全体毕业生协议和合同就业率62.93%、继续深造率18.03%、灵活就业率4.21%、自主创业率1.00%。其中，本科毕业生协议和合同就业率59.66%、继续深造率21.43%、灵活就业率3.18%、自主创业率1.19%；毕业研究生协议和合同就业率80.31%、继续深造率3.42%、灵活就业率9.67%、自主创业率0.00%。\n"
     ]
    },
    {
     "data": {
      "text/html": [
       "\n",
       "<script>\n",
       "    require.config({\n",
       "        paths: {\n",
       "            'echarts':'https://assets.pyecharts.org/assets/echarts.min'\n",
       "        }\n",
       "    });\n",
       "</script>\n",
       "\n",
       "        <div id=\"8cec8f4909854c3a8343752e9d3abefc\" style=\"width:900px; height:500px;\"></div>\n",
       "\n",
       "<script>\n",
       "        require(['echarts'], function(echarts) {\n",
       "                var chart_8cec8f4909854c3a8343752e9d3abefc = echarts.init(\n",
       "                    document.getElementById('8cec8f4909854c3a8343752e9d3abefc'), 'white', {renderer: 'canvas'});\n",
       "                var option_8cec8f4909854c3a8343752e9d3abefc = {\n",
       "    \"animation\": true,\n",
       "    \"animationThreshold\": 2000,\n",
       "    \"animationDuration\": 1000,\n",
       "    \"animationEasing\": \"cubicOut\",\n",
       "    \"animationDelay\": 0,\n",
       "    \"animationDurationUpdate\": 300,\n",
       "    \"animationEasingUpdate\": \"cubicOut\",\n",
       "    \"animationDelayUpdate\": 0,\n",
       "    \"color\": [\n",
       "        \"#147BC5\",\n",
       "        \"#FBB03E\",\n",
       "        \"#24AAE1\",\n",
       "        \"#E3798D\",\n",
       "        \"#00ABCB\"\n",
       "    ],\n",
       "    \"series\": [\n",
       "        {\n",
       "            \"type\": \"bar\",\n",
       "            \"name\": \"\\u672c\\u79d1\\u6bd5\\u4e1a\\u751f\",\n",
       "            \"legendHoverLink\": true,\n",
       "            \"data\": [\n",
       "                59.66,\n",
       "                21.43,\n",
       "                3.18,\n",
       "                1.19\n",
       "            ],\n",
       "            \"showBackground\": false,\n",
       "            \"barWidth\": 35,\n",
       "            \"barMinHeight\": 0,\n",
       "            \"barCategoryGap\": \"20%\",\n",
       "            \"barGap\": \"30%\",\n",
       "            \"large\": false,\n",
       "            \"largeThreshold\": 400,\n",
       "            \"seriesLayoutBy\": \"column\",\n",
       "            \"datasetIndex\": 0,\n",
       "            \"clip\": true,\n",
       "            \"zlevel\": 0,\n",
       "            \"z\": 2,\n",
       "            \"label\": {\n",
       "                \"show\": true,\n",
       "                \"position\": \"top\",\n",
       "                \"color\": \"#147BC5\",\n",
       "                \"margin\": 8,\n",
       "                \"fontSize\": 18,\n",
       "                \"fontFamily\": \"Times New Roman\",\n",
       "                \"formatter\": \"{c}%\"\n",
       "            },\n",
       "            \"itemStyle\": {\n",
       "                \"color\": \"#147BC5\"\n",
       "            }\n",
       "        },\n",
       "        {\n",
       "            \"type\": \"bar\",\n",
       "            \"name\": \"\\u6bd5\\u4e1a\\u7814\\u7a76\\u751f\",\n",
       "            \"legendHoverLink\": true,\n",
       "            \"data\": [\n",
       "                80.31,\n",
       "                3.42,\n",
       "                9.67,\n",
       "                0.0\n",
       "            ],\n",
       "            \"showBackground\": false,\n",
       "            \"barWidth\": 35,\n",
       "            \"barMinHeight\": 0,\n",
       "            \"barCategoryGap\": \"20%\",\n",
       "            \"barGap\": \"30%\",\n",
       "            \"large\": false,\n",
       "            \"largeThreshold\": 400,\n",
       "            \"seriesLayoutBy\": \"column\",\n",
       "            \"datasetIndex\": 0,\n",
       "            \"clip\": true,\n",
       "            \"zlevel\": 0,\n",
       "            \"z\": 2,\n",
       "            \"label\": {\n",
       "                \"show\": true,\n",
       "                \"position\": \"top\",\n",
       "                \"color\": \"#FBB03E\",\n",
       "                \"margin\": 8,\n",
       "                \"fontSize\": 18,\n",
       "                \"fontFamily\": \"Times New Roman\",\n",
       "                \"formatter\": \"{c}%\"\n",
       "            },\n",
       "            \"itemStyle\": {\n",
       "                \"color\": \"#FBB03E\"\n",
       "            }\n",
       "        },\n",
       "        {\n",
       "            \"type\": \"bar\",\n",
       "            \"name\": \"\\u5168\\u4f53\\u6bd5\\u4e1a\\u751f\",\n",
       "            \"legendHoverLink\": true,\n",
       "            \"data\": [\n",
       "                62.93,\n",
       "                18.03,\n",
       "                4.21,\n",
       "                1.0\n",
       "            ],\n",
       "            \"showBackground\": false,\n",
       "            \"barWidth\": 35,\n",
       "            \"barMinHeight\": 0,\n",
       "            \"barCategoryGap\": \"20%\",\n",
       "            \"barGap\": \"30%\",\n",
       "            \"large\": false,\n",
       "            \"largeThreshold\": 400,\n",
       "            \"seriesLayoutBy\": \"column\",\n",
       "            \"datasetIndex\": 0,\n",
       "            \"clip\": true,\n",
       "            \"zlevel\": 0,\n",
       "            \"z\": 2,\n",
       "            \"label\": {\n",
       "                \"show\": true,\n",
       "                \"position\": \"top\",\n",
       "                \"color\": \"#24AAE1\",\n",
       "                \"margin\": 8,\n",
       "                \"fontSize\": 18,\n",
       "                \"fontFamily\": \"Times New Roman\",\n",
       "                \"formatter\": \"{c}%\"\n",
       "            },\n",
       "            \"itemStyle\": {\n",
       "                \"color\": \"#24AAE1\"\n",
       "            }\n",
       "        }\n",
       "    ],\n",
       "    \"legend\": [\n",
       "        {\n",
       "            \"data\": [\n",
       "                \"\\u672c\\u79d1\\u6bd5\\u4e1a\\u751f\",\n",
       "                \"\\u6bd5\\u4e1a\\u7814\\u7a76\\u751f\",\n",
       "                \"\\u5168\\u4f53\\u6bd5\\u4e1a\\u751f\"\n",
       "            ],\n",
       "            \"selected\": {\n",
       "                \"\\u672c\\u79d1\\u6bd5\\u4e1a\\u751f\": true,\n",
       "                \"\\u6bd5\\u4e1a\\u7814\\u7a76\\u751f\": true,\n",
       "                \"\\u5168\\u4f53\\u6bd5\\u4e1a\\u751f\": true\n",
       "            },\n",
       "            \"show\": true,\n",
       "            \"right\": \"20%\",\n",
       "            \"padding\": 5,\n",
       "            \"itemGap\": 10,\n",
       "            \"itemWidth\": 25,\n",
       "            \"itemHeight\": 14\n",
       "        }\n",
       "    ],\n",
       "    \"tooltip\": {\n",
       "        \"show\": true,\n",
       "        \"trigger\": \"item\",\n",
       "        \"triggerOn\": \"mousemove|click\",\n",
       "        \"axisPointer\": {\n",
       "            \"type\": \"line\"\n",
       "        },\n",
       "        \"showContent\": true,\n",
       "        \"alwaysShowContent\": false,\n",
       "        \"showDelay\": 0,\n",
       "        \"hideDelay\": 100,\n",
       "        \"textStyle\": {\n",
       "            \"fontSize\": 14\n",
       "        },\n",
       "        \"borderWidth\": 0,\n",
       "        \"padding\": 5\n",
       "    },\n",
       "    \"xAxis\": [\n",
       "        {\n",
       "            \"show\": true,\n",
       "            \"scale\": false,\n",
       "            \"nameLocation\": \"end\",\n",
       "            \"nameGap\": 15,\n",
       "            \"gridIndex\": 0,\n",
       "            \"axisLabel\": {\n",
       "                \"show\": true,\n",
       "                \"position\": \"top\",\n",
       "                \"margin\": 8,\n",
       "                \"fontSize\": 16,\n",
       "                \"fontFamily\": \"\\u5b8b\\u4f53\"\n",
       "            },\n",
       "            \"inverse\": false,\n",
       "            \"offset\": 0,\n",
       "            \"splitNumber\": 5,\n",
       "            \"minInterval\": 0,\n",
       "            \"splitLine\": {\n",
       "                \"show\": false,\n",
       "                \"lineStyle\": {\n",
       "                    \"show\": true,\n",
       "                    \"width\": 1,\n",
       "                    \"opacity\": 1,\n",
       "                    \"curveness\": 0,\n",
       "                    \"type\": \"solid\"\n",
       "                }\n",
       "            },\n",
       "            \"data\": [\n",
       "                \"\\u534f\\u8bae\\u548c\\u5408\\u540c\\u5c31\\u4e1a\",\n",
       "                \"\\u7ee7\\u7eed\\u6df1\\u9020\",\n",
       "                \"\\u7075\\u6d3b\\u5c31\\u4e1a\",\n",
       "                \"\\u81ea\\u4e3b\\u521b\\u4e1a\"\n",
       "            ]\n",
       "        }\n",
       "    ],\n",
       "    \"yAxis\": [\n",
       "        {\n",
       "            \"show\": false,\n",
       "            \"scale\": false,\n",
       "            \"nameLocation\": \"end\",\n",
       "            \"nameGap\": 15,\n",
       "            \"gridIndex\": 0,\n",
       "            \"inverse\": false,\n",
       "            \"offset\": 0,\n",
       "            \"splitNumber\": 5,\n",
       "            \"minInterval\": 0,\n",
       "            \"splitLine\": {\n",
       "                \"show\": false,\n",
       "                \"lineStyle\": {\n",
       "                    \"show\": true,\n",
       "                    \"width\": 1,\n",
       "                    \"opacity\": 1,\n",
       "                    \"curveness\": 0,\n",
       "                    \"type\": \"solid\"\n",
       "                }\n",
       "            }\n",
       "        }\n",
       "    ],\n",
       "    \"title\": [\n",
       "        {\n",
       "            \"padding\": 5,\n",
       "            \"itemGap\": 10\n",
       "        }\n",
       "    ]\n",
       "};\n",
       "                chart_8cec8f4909854c3a8343752e9d3abefc.setOption(option_8cec8f4909854c3a8343752e9d3abefc);\n",
       "        });\n",
       "    </script>\n"
      ],
      "text/plain": [
       "<pyecharts.render.display.HTML at 0x1bc47746d90>"
      ]
     },
     "metadata": {},
     "output_type": "display_data"
    }
   ],
   "source": [
    "string='就业类别分类'\n",
    "string0='毕业去向落实'\n",
    "dictt={}\n",
    "\n",
    "data2=get_group_order_table(data,L(string0),other_groupby=other_groupby)\n",
    "data1=get_group_order_table(data,L(string),other_groupby=other_groupby)\n",
    "string1=f'''截至{year}年8月31日，毕业生{string0}人数为{xy(data2,L('毕业去向落实'),'是','num')}人，初次{string0}率为{xy(data2,L(string0),'是','proportion')}。'''\n",
    "if other_groupby:\n",
    "    temp=get_og_name(data2)\n",
    "    string1 += three_word('其中，',[f\"{xy(data2,L(string0),string0,i)}{string0}人数为{xy(data2,L(string0),'是',i)}，{string0}率为{xy(data2,L(string0),'是',re.sub('_num','_proportion',i))}；\" for i in temp],'。')\n",
    "    write_zw(string1,True)\n",
    "    group1=data2[data2[L(string0)]==string0][temp+['num']].loc[0].tolist()\n",
    "    group2=[]\n",
    "    group2.append(list(data2[data2[L(string0)]=='总计'][temp+['num']].values[0]))\n",
    "    group2.append(list(data2[data2[L(string0)]=='是'][temp+['num']].values[0]))\n",
    "    group2.append([change_to_decimal(x,True) for x in list(data2[data2[L(string0)]=='是'][[re.sub('_num','_proportion',x) for x in temp]+['proportion']].values[0])])\n",
    "    \n",
    "    a=bxwl2(group1,group2,xy(data2,L(string0),'是','num'))\n",
    "    display(a.render_notebook())\n",
    "    add_pic(a.render())\n",
    "else:\n",
    "    xyhtjyl=sum_list(data1,L(string),dictt['协议和合同就业'],'proportion')\n",
    "    jxszl=sum_list(data1,L(string),dictt['继续深造'],'proportion')\n",
    "    lhjyl=sum_list(data1,L(string),dictt['灵活就业'],'proportion')\n",
    "    zzcyl=sum_list(data1,L(string),['自主创业'],'proportion')\n",
    "    string1+=f\"其中协议和合同就业率{xyhtjyl}%、继续深造率{jxszl}%、灵活就业率{lhjyl}%、自主创业率{zzcyl}%。\"\n",
    "    write_zw(string1,True)\n",
    "    a=bxwl1(['协议和合同\\n就业', '继续深造', '灵活就业', '自主创业'],[xyhtjyl,jxszl,lhjyl,zzcyl],per=xy(data2,L('毕业去向落实'),'是','proportion'))\n",
    "    display(a.render_notebook())\n",
    "    #add_pic(a.render())\n",
    "write_tz(f'毕业生初次{L(string0)}率')\n",
    "\n",
    "if other_groupby:\n",
    "    string1=''\n",
    "    groupt=[]\n",
    "    for i in ['proportion']+[re.sub('_num','_proportion',x) for x in temp]:\n",
    "        temp1=xy(data2,L(string0),string0,re.sub('proportion','num',i))\n",
    "        group3=[temp1]\n",
    "        group4=[]\n",
    "        string1+=f\"{temp1}\"\n",
    "        for j in qxhb.keys():\n",
    "            lv=sum_list(data1,L(string),qxhb[j],i)\n",
    "            group4.append(change_to_decimal(lv,True))\n",
    "            string1+=f\"{j}率{lv}%、\"\n",
    "        string1=string1[:-1]+'；'\n",
    "        group3.append(group4)\n",
    "        groupt.append(group3)\n",
    "        if i=='proportion':string1=string1[:-1]+'。其中，'\n",
    "    string1=string1[:-1]+'。'\n",
    "    write_zw(string1,True)\n",
    "    groupt=groupt[1:]+groupt[:1]\n",
    "    a=my_bar(list(qxhb.keys()),groupt,True,'{c}%')\n",
    "    display(a.render_notebook())\n",
    "    add_pic(a.render())\n",
    "    write_tz(f'毕业生四个率就业情况')"
   ]
  },
  {
   "cell_type": "markdown",
   "metadata": {},
   "source": [
    "#### 2.毕业去向分布"
   ]
  },
  {
   "cell_type": "code",
   "execution_count": 134,
   "metadata": {
    "scrolled": true
   },
   "outputs": [
    {
     "name": "stdout",
     "output_type": "stream",
     "text": [
      "已落实毕业生中位列前三的毕业去向分别为：签就业协议形式就业（3181人，占比59.29%）、研究生（721人，占比13.43%）、待就业（470人，占比8.77%）。\n",
      "分学历来看，本科毕业生主要毕业去向类别为签就业协议形式就业（2550人，占比56.45%）、研究生（693人，占比15.34%）、待就业（416人，占比9.21%）；毕业研究生主要毕业去向类别为签就业协议形式就业（631人，占比74.41%）、其他录用形式就业（78人，占比9.20%）、待就业（54人，占比6.37%）。\n",
      "毕业生毕业去向分布\n"
     ]
    },
    {
     "data": {
      "text/html": [
       "<div>\n",
       "<style scoped>\n",
       "    .dataframe tbody tr th:only-of-type {\n",
       "        vertical-align: middle;\n",
       "    }\n",
       "\n",
       "    .dataframe tbody tr th {\n",
       "        vertical-align: top;\n",
       "    }\n",
       "\n",
       "    .dataframe thead th {\n",
       "        text-align: right;\n",
       "    }\n",
       "</style>\n",
       "<table border=\"1\" class=\"dataframe\">\n",
       "  <thead>\n",
       "    <tr style=\"text-align: right;\">\n",
       "      <th></th>\n",
       "      <th>jylbfl</th>\n",
       "      <th>jylb</th>\n",
       "      <th>num</th>\n",
       "      <th>proportion</th>\n",
       "    </tr>\n",
       "  </thead>\n",
       "  <tbody>\n",
       "    <tr>\n",
       "      <th>0</th>\n",
       "      <td>就业类别分类</td>\n",
       "      <td>就业类别分类</td>\n",
       "      <td>人数</td>\n",
       "      <td>占比</td>\n",
       "    </tr>\n",
       "    <tr>\n",
       "      <th>1</th>\n",
       "      <td>协议和合同就业</td>\n",
       "      <td>国家基层项目</td>\n",
       "      <td>18</td>\n",
       "      <td>0.34%</td>\n",
       "    </tr>\n",
       "    <tr>\n",
       "      <th>2</th>\n",
       "      <td>协议和合同就业</td>\n",
       "      <td>地方基层项目</td>\n",
       "      <td>1</td>\n",
       "      <td>0.02%</td>\n",
       "    </tr>\n",
       "    <tr>\n",
       "      <th>3</th>\n",
       "      <td>协议和合同就业</td>\n",
       "      <td>应征义务兵</td>\n",
       "      <td>6</td>\n",
       "      <td>0.12%</td>\n",
       "    </tr>\n",
       "    <tr>\n",
       "      <th>4</th>\n",
       "      <td>协议和合同就业</td>\n",
       "      <td>科研助理</td>\n",
       "      <td>39</td>\n",
       "      <td>0.73%</td>\n",
       "    </tr>\n",
       "    <tr>\n",
       "      <th>5</th>\n",
       "      <td>协议和合同就业</td>\n",
       "      <td>签劳动合同形式就业</td>\n",
       "      <td>131</td>\n",
       "      <td>2.45%</td>\n",
       "    </tr>\n",
       "    <tr>\n",
       "      <th>6</th>\n",
       "      <td>协议和合同就业</td>\n",
       "      <td>签就业协议形式就业</td>\n",
       "      <td>3181</td>\n",
       "      <td>59.30%</td>\n",
       "    </tr>\n",
       "    <tr>\n",
       "      <th>7</th>\n",
       "      <td>协议和合同就业</td>\n",
       "      <td>汇总</td>\n",
       "      <td>3376</td>\n",
       "      <td>62.93%</td>\n",
       "    </tr>\n",
       "    <tr>\n",
       "      <th>8</th>\n",
       "      <td>继续深造</td>\n",
       "      <td>出国、出境</td>\n",
       "      <td>25</td>\n",
       "      <td>0.46%</td>\n",
       "    </tr>\n",
       "    <tr>\n",
       "      <th>9</th>\n",
       "      <td>继续深造</td>\n",
       "      <td>研究生</td>\n",
       "      <td>721</td>\n",
       "      <td>13.43%</td>\n",
       "    </tr>\n",
       "    <tr>\n",
       "      <th>10</th>\n",
       "      <td>继续深造</td>\n",
       "      <td>第二学士学位</td>\n",
       "      <td>221</td>\n",
       "      <td>4.11%</td>\n",
       "    </tr>\n",
       "    <tr>\n",
       "      <th>11</th>\n",
       "      <td>继续深造</td>\n",
       "      <td>汇总</td>\n",
       "      <td>967</td>\n",
       "      <td>18.02%</td>\n",
       "    </tr>\n",
       "    <tr>\n",
       "      <th>12</th>\n",
       "      <td>灵活就业</td>\n",
       "      <td>其他录用形式就业</td>\n",
       "      <td>171</td>\n",
       "      <td>3.18%</td>\n",
       "    </tr>\n",
       "    <tr>\n",
       "      <th>13</th>\n",
       "      <td>灵活就业</td>\n",
       "      <td>自由职业</td>\n",
       "      <td>55</td>\n",
       "      <td>1.02%</td>\n",
       "    </tr>\n",
       "    <tr>\n",
       "      <th>14</th>\n",
       "      <td>灵活就业</td>\n",
       "      <td>汇总</td>\n",
       "      <td>226</td>\n",
       "      <td>4.21%</td>\n",
       "    </tr>\n",
       "    <tr>\n",
       "      <th>15</th>\n",
       "      <td>自主创业</td>\n",
       "      <td>自主创业</td>\n",
       "      <td>54</td>\n",
       "      <td>1.00%</td>\n",
       "    </tr>\n",
       "    <tr>\n",
       "      <th>16</th>\n",
       "      <td>自主创业</td>\n",
       "      <td>汇总</td>\n",
       "      <td>54</td>\n",
       "      <td>1.01%</td>\n",
       "    </tr>\n",
       "    <tr>\n",
       "      <th>17</th>\n",
       "      <td>待就业</td>\n",
       "      <td>待就业</td>\n",
       "      <td>470</td>\n",
       "      <td>8.77%</td>\n",
       "    </tr>\n",
       "    <tr>\n",
       "      <th>18</th>\n",
       "      <td>待就业</td>\n",
       "      <td>汇总</td>\n",
       "      <td>470</td>\n",
       "      <td>8.76%</td>\n",
       "    </tr>\n",
       "    <tr>\n",
       "      <th>19</th>\n",
       "      <td>暂不就业</td>\n",
       "      <td>不就业拟升学</td>\n",
       "      <td>214</td>\n",
       "      <td>3.99%</td>\n",
       "    </tr>\n",
       "    <tr>\n",
       "      <th>20</th>\n",
       "      <td>暂不就业</td>\n",
       "      <td>其他暂不就业</td>\n",
       "      <td>58</td>\n",
       "      <td>1.08%</td>\n",
       "    </tr>\n",
       "    <tr>\n",
       "      <th>21</th>\n",
       "      <td>暂不就业</td>\n",
       "      <td>汇总</td>\n",
       "      <td>272</td>\n",
       "      <td>5.07%</td>\n",
       "    </tr>\n",
       "    <tr>\n",
       "      <th>22</th>\n",
       "      <td>总计</td>\n",
       "      <td>left</td>\n",
       "      <td>5365</td>\n",
       "      <td>100.00%</td>\n",
       "    </tr>\n",
       "  </tbody>\n",
       "</table>\n",
       "</div>"
      ],
      "text/plain": [
       "     jylbfl       jylb   num proportion\n",
       "0    就业类别分类     就业类别分类    人数         占比\n",
       "1   协议和合同就业     国家基层项目    18      0.34%\n",
       "2   协议和合同就业     地方基层项目     1      0.02%\n",
       "3   协议和合同就业      应征义务兵     6      0.12%\n",
       "4   协议和合同就业       科研助理    39      0.73%\n",
       "5   协议和合同就业  签劳动合同形式就业   131      2.45%\n",
       "6   协议和合同就业  签就业协议形式就业  3181     59.30%\n",
       "7   协议和合同就业         汇总  3376     62.93%\n",
       "8      继续深造      出国、出境    25      0.46%\n",
       "9      继续深造        研究生   721     13.43%\n",
       "10     继续深造     第二学士学位   221      4.11%\n",
       "11     继续深造         汇总   967     18.02%\n",
       "12     灵活就业   其他录用形式就业   171      3.18%\n",
       "13     灵活就业       自由职业    55      1.02%\n",
       "14     灵活就业         汇总   226      4.21%\n",
       "15     自主创业       自主创业    54      1.00%\n",
       "16     自主创业         汇总    54      1.01%\n",
       "17      待就业        待就业   470      8.77%\n",
       "18      待就业         汇总   470      8.76%\n",
       "19     暂不就业     不就业拟升学   214      3.99%\n",
       "20     暂不就业     其他暂不就业    58      1.08%\n",
       "21     暂不就业         汇总   272      5.07%\n",
       "22       总计       left  5365    100.00%"
      ]
     },
     "metadata": {},
     "output_type": "display_data"
    }
   ],
   "source": [
    "add_head(4,\"2.毕业去向分布\")\n",
    "\n",
    "string=L('就业类别')\n",
    "string0=L('就业类别分类')\n",
    "\n",
    "data1=get_group_order_table(data,string)\n",
    "temp=get_3rd(data1,'num')\n",
    "string1=three_word(f\"已落实毕业生中位列前三的毕业去向分别为：\",[f\"{x[0]}（{x[1]}人，占比{x[2]}）、\" for x in temp],'。')\n",
    "write_zw(string1,True)\n",
    "\n",
    "if other_groupby:\n",
    "    data1 = get_group_order_table(data,string,other_groupby=other_groupby)\n",
    "    string1 = f'''分{L(other_groupby)}来看，'''\n",
    "    for i in get_og_name(data1):\n",
    "        datat=data1[[string,i,re.sub('num','proportion',i)]]\n",
    "        groupt=get_3rd(datat,i)\n",
    "        string1+=three_word(f\"{xy(data1,string,L(string),i)}主要毕业去向类别为\",[f\"{x[0]}（{x[1]}人，占比{x[2]}）、\" for x in groupt],'；')\n",
    "    write_zw(string1[:-1]+'。',True)\n",
    "    \n",
    "write_tz(f'毕业生毕业去向分布',True)\n",
    "#处理数据\n",
    "datat=data.copy()\n",
    "dict1 = qxhb.copy()\n",
    "dict1.update(qxhba)\n",
    "for i in dict1:\n",
    "    datat[string0]=datat.apply(lambda x:x[string0] in dict1[i] and i or x[string0],axis=1)\n",
    "data1 = get_group_order_table(datat,string0,string)\n",
    "display(data1)\n",
    "add_table(data1,need_1st_merge=True)"
   ]
  },
  {
   "cell_type": "markdown",
   "metadata": {},
   "source": [
    "### （二）分类别毕业去向落实率"
   ]
  },
  {
   "cell_type": "markdown",
   "metadata": {},
   "source": [
    "#### 分学院及专业毕业去向落实率"
   ]
  },
  {
   "cell_type": "code",
   "execution_count": 179,
   "metadata": {},
   "outputs": [
    {
     "name": "stdout",
     "output_type": "stream",
     "text": [
      "本科毕业生毕业去向落实率排名前三的学院为：['建筑工程学院', 255, 235, '92.16%', '73.33%']['计算机科学与工程学院', 615, 554, '90.08%', '67.15%']['电子信息工程学院', 637, 565, '88.70%', '59.97%'。各二级本科毕业生分学院及专业毕业去向落实情况如下表所示。\n",
      "本科毕业生分学院及专业毕业去向落实率\n",
      "毕业研究生毕业去向落实率排名前三的学院为：['电子信息工程学院', 116, 116, '100.00%', '96.55%']['基础学院', 26, 26, '100.00%', '46.15%']['兵器科学与技术学院', 46, 46, '100.00%', '95.65%'。各二级毕业研究生分学院及专业毕业去向落实情况如下表所示。\n",
      "毕业研究生分学院及专业毕业去向落实率\n"
     ]
    }
   ],
   "source": [
    "add_head(3,\"（二）分类别毕业去向落实率\")\n",
    "add_head(4,\"1.分学院及专业毕业去向落实率\")\n",
    "\n",
    "str1=L('学院')\n",
    "str2=L('专业')\n",
    "str3=L('毕业去向落实')\n",
    "str4=L('就业类别分类')\n",
    "str5=L('学历')\n",
    "\n",
    "def f1(data0,str6):#临时函数\n",
    "    data1=get_group_order_table(data0,str1,str2,other_groupby=str3,need_title=False)\n",
    "    data1=data1[[str1,str2,'num','是_num']]\n",
    "    # data1.loc[0]=\n",
    "    data1['毕业去向落实率']=data1.apply(lambda x:change_to_decimal((int(x['是_num']) if x['是_num']!='-' else 0)/int(x['num'])*100)+'%',axis=1)\n",
    "\n",
    "    data2=data0.copy()\n",
    "    data2['temp']=data2.apply(lambda x:1 if x[str4] in qxhb['协议和合同就业'] else 0,axis=1)\n",
    "    data2=data2[data2['temp']==1]\n",
    "    data2=get_group_order_table(data2,str1,str2,need_title=False)\n",
    "    data3=data1.merge(data2,on=[str1,str2])\n",
    "    data3['num_y']=data3.apply(lambda x:change_to_decimal((int(x['num_y']) if x['num_y']!='-' else 0)/int(x['num_x'])*100)+'%',axis=1)\n",
    "    data3=data3.drop(columns='proportion')\n",
    "    data3.columns=[L(str1),L(str2),'毕业人数','落实人数','毕业去向落实率','协议和合同就业率']\n",
    "    list1=get_3rd(data3,f'{L(str3)}率')\n",
    "    list1=get_3rd(data3[data3[L(str2)]=='汇总'].drop(columns=[L(str2)]),f'{L(str3)}率')\n",
    "    str7=''\n",
    "    str7+=three_word(f'{str6}{L(str3)}率排名前三的{L(str1)}为：',[f\"{x}\" for x in list1],'。')\n",
    "    str7+=f\"各二级{set1[j]}分{L(str1)}及{L(str2)}{L(str3)}情况如下表所示。\"\n",
    "    write_zw(str7,True)\n",
    "    write_tz(f\"{set1[j]}分{L(str1)}及{L(str2)}{L(str3)}率\",True)\n",
    "    \n",
    "if other_groupby:\n",
    "    if other_groupby==str5:\n",
    "        group = data[other_groupby].unique()\n",
    "        group = sorted(group,key=lambda x: ('本' in x, '研' in x, '专' in x),reverse=True)\n",
    "    set1 = {'本':'本科毕业生','硕':'毕业研究生','研':'毕业研究生','博':'毕业研究生','专':'专科毕业生'}\n",
    "    for i in group:\n",
    "        data0=data.copy()\n",
    "        for j in set1:\n",
    "            if j in i:\n",
    "                data0['temp']=data0.apply(lambda x:1 if j in x[str5] else 0,axis=1)\n",
    "                data0=data0[data0['temp']==1]\n",
    "                break\n",
    "        add_head(5,f\"（1）{set1[j]}分{L(str1)}及{L(str2)}{L(str3)}率\")\n",
    "        f1(data0,set1[j])\n",
    "else:\n",
    "    f1(data,'')"
   ]
  },
  {
   "cell_type": "markdown",
   "metadata": {},
   "source": [
    "#### 分性别毕业去向落实率"
   ]
  },
  {
   "cell_type": "code",
   "execution_count": null,
   "metadata": {},
   "outputs": [],
   "source": [
    "add_head(4,\"2.分性别毕业去向落实率\")\n",
    "string=L('专业')\n",
    "string1=L('学院')\n",
    "data1 = get_group_order_table(data,string1,string,other_groupby=other_groupby)"
   ]
  },
  {
   "cell_type": "code",
   "execution_count": null,
   "metadata": {},
   "outputs": [],
   "source": [
    "#暂时不写了"
   ]
  },
  {
   "cell_type": "markdown",
   "metadata": {},
   "source": [
    "#### 分生源省份毕业去向落实率"
   ]
  },
  {
   "cell_type": "markdown",
   "metadata": {},
   "source": [
    "#### 分民族毕业去向落实率"
   ]
  },
  {
   "cell_type": "markdown",
   "metadata": {},
   "source": [
    "## 单位就业流向"
   ]
  },
  {
   "cell_type": "markdown",
   "metadata": {},
   "source": [
    "### 单位行业分布"
   ]
  },
  {
   "cell_type": "markdown",
   "metadata": {},
   "source": [
    "### 就业单位性质"
   ]
  },
  {
   "cell_type": "markdown",
   "metadata": {},
   "source": [
    "### 就业职位类别"
   ]
  },
  {
   "cell_type": "markdown",
   "metadata": {},
   "source": [
    "### 就业省份分布"
   ]
  },
  {
   "cell_type": "markdown",
   "metadata": {},
   "source": [
    "# 第二章 服务重点区域和领域就业情况"
   ]
  },
  {
   "cell_type": "markdown",
   "metadata": {},
   "source": [
    "## 就业地理大区"
   ]
  },
  {
   "cell_type": "markdown",
   "metadata": {},
   "source": [
    "## 国家重点战略地区就业情况"
   ]
  },
  {
   "cell_type": "markdown",
   "metadata": {},
   "source": [
    "## 主要就业城市"
   ]
  },
  {
   "cell_type": "markdown",
   "metadata": {},
   "source": [
    "## 就业经济区流向"
   ]
  },
  {
   "cell_type": "markdown",
   "metadata": {},
   "source": [
    "## 回生源地就业情况"
   ]
  },
  {
   "cell_type": "markdown",
   "metadata": {},
   "source": [
    "## 省内就业情况"
   ]
  },
  {
   "cell_type": "markdown",
   "metadata": {},
   "source": [
    "### 省内就业地区"
   ]
  },
  {
   "cell_type": "markdown",
   "metadata": {},
   "source": [
    "### 省内就业行业"
   ]
  },
  {
   "cell_type": "markdown",
   "metadata": {},
   "source": [
    "### 省内就业生源地分布"
   ]
  },
  {
   "cell_type": "markdown",
   "metadata": {},
   "source": [
    "## 国家地方基层就业情况"
   ]
  },
  {
   "cell_type": "markdown",
   "metadata": {},
   "source": [
    "## 重点企业就业情况"
   ]
  },
  {
   "cell_type": "markdown",
   "metadata": {},
   "source": [
    "## 战略新兴产业就业情况"
   ]
  },
  {
   "cell_type": "markdown",
   "metadata": {},
   "source": [
    "# 第三章 毕业生继续深造情况"
   ]
  },
  {
   "cell_type": "markdown",
   "metadata": {},
   "source": [
    "## 总体继续深造情况"
   ]
  },
  {
   "cell_type": "markdown",
   "metadata": {},
   "source": [
    "## 分学院及专业继续深造情况"
   ]
  },
  {
   "cell_type": "markdown",
   "metadata": {},
   "source": [
    "## 国内升学院校特征"
   ]
  },
  {
   "cell_type": "markdown",
   "metadata": {},
   "source": [
    "### 院校类型"
   ]
  },
  {
   "cell_type": "markdown",
   "metadata": {},
   "source": [
    "### 升学至“双一流”建设高校名单"
   ]
  },
  {
   "cell_type": "markdown",
   "metadata": {},
   "source": [
    "## 出国（境）情况"
   ]
  },
  {
   "cell_type": "markdown",
   "metadata": {},
   "source": [
    "### 出国（境）地区"
   ]
  },
  {
   "cell_type": "markdown",
   "metadata": {},
   "source": [
    "### 出国（境）高校QS排名"
   ]
  },
  {
   "cell_type": "markdown",
   "metadata": {},
   "source": [
    "### 出国（境）高校名单"
   ]
  },
  {
   "cell_type": "markdown",
   "metadata": {},
   "source": [
    "# 第四章 继续深造反馈"
   ]
  },
  {
   "cell_type": "markdown",
   "metadata": {},
   "source": [
    "## 继续深造专业相关度"
   ]
  },
  {
   "cell_type": "markdown",
   "metadata": {},
   "source": [
    "## 国内升学原因"
   ]
  },
  {
   "cell_type": "markdown",
   "metadata": {},
   "source": [
    "## 出国（境）原因"
   ]
  },
  {
   "cell_type": "markdown",
   "metadata": {},
   "source": [
    "# 第五章 毕业生就业反馈"
   ]
  },
  {
   "cell_type": "markdown",
   "metadata": {},
   "source": [
    "## 就业满意度"
   ]
  },
  {
   "cell_type": "markdown",
   "metadata": {},
   "source": [
    "## 就业适配性"
   ]
  },
  {
   "cell_type": "markdown",
   "metadata": {},
   "source": [
    "### 就业专业相关度"
   ]
  },
  {
   "cell_type": "markdown",
   "metadata": {},
   "source": [
    "### 专业就业前景预期"
   ]
  },
  {
   "cell_type": "markdown",
   "metadata": {},
   "source": [
    "### 职业期待匹配度"
   ]
  },
  {
   "cell_type": "markdown",
   "metadata": {},
   "source": [
    "### 人职匹配度"
   ]
  },
  {
   "cell_type": "markdown",
   "metadata": {},
   "source": [
    "## 社会福利"
   ]
  },
  {
   "cell_type": "markdown",
   "metadata": {},
   "source": [
    "### 薪资情况"
   ]
  },
  {
   "cell_type": "markdown",
   "metadata": {},
   "source": [
    "### 社会保障情况"
   ]
  },
  {
   "cell_type": "markdown",
   "metadata": {},
   "source": [
    "## 职业发展"
   ]
  },
  {
   "cell_type": "markdown",
   "metadata": {},
   "source": [
    "### 对用人单位综合满意度"
   ]
  },
  {
   "cell_type": "markdown",
   "metadata": {},
   "source": [
    "### 对用人单位分项评价"
   ]
  },
  {
   "cell_type": "markdown",
   "metadata": {},
   "source": [
    "### 发展前景预期"
   ]
  },
  {
   "cell_type": "markdown",
   "metadata": {},
   "source": [
    "## 就业公平性"
   ]
  },
  {
   "cell_type": "markdown",
   "metadata": {},
   "source": [
    "## 就业稳定性"
   ]
  },
  {
   "cell_type": "markdown",
   "metadata": {},
   "source": [
    "### 稳定性"
   ]
  },
  {
   "cell_type": "markdown",
   "metadata": {},
   "source": [
    "### 离职原因"
   ]
  },
  {
   "cell_type": "markdown",
   "metadata": {},
   "source": [
    "## 灵活就业"
   ]
  },
  {
   "cell_type": "markdown",
   "metadata": {},
   "source": [
    "## 未就业分析"
   ]
  },
  {
   "cell_type": "markdown",
   "metadata": {},
   "source": [
    "### 未就业原因"
   ]
  },
  {
   "cell_type": "markdown",
   "metadata": {},
   "source": [
    "### 备考规划"
   ]
  },
  {
   "cell_type": "markdown",
   "metadata": {},
   "source": [
    "### 期望帮扶"
   ]
  },
  {
   "cell_type": "markdown",
   "metadata": {},
   "source": [
    "# 教育教学反馈"
   ]
  },
  {
   "cell_type": "markdown",
   "metadata": {},
   "source": [
    "## 毕业生对母校评价"
   ]
  },
  {
   "cell_type": "markdown",
   "metadata": {},
   "source": [
    "### 母校推荐度"
   ]
  },
  {
   "cell_type": "markdown",
   "metadata": {},
   "source": [
    "### 母校满意度"
   ]
  },
  {
   "cell_type": "markdown",
   "metadata": {},
   "source": [
    "## 教育教学评价"
   ]
  },
  {
   "cell_type": "markdown",
   "metadata": {},
   "source": [
    "### 教育教学满意度"
   ]
  },
  {
   "cell_type": "markdown",
   "metadata": {},
   "source": [
    "#### 教育教学总体满意度"
   ]
  },
  {
   "cell_type": "markdown",
   "metadata": {},
   "source": [
    "#### 教育教学分项评分"
   ]
  },
  {
   "cell_type": "markdown",
   "metadata": {},
   "source": [
    "### 通识教育评价及建议"
   ]
  },
  {
   "cell_type": "markdown",
   "metadata": {},
   "source": [
    "### 专业教育评价及建议"
   ]
  },
  {
   "cell_type": "markdown",
   "metadata": {},
   "source": [
    "### 实践教学评价及建议"
   ]
  },
  {
   "cell_type": "markdown",
   "metadata": {},
   "source": [
    "### 职业能力教育评价及建议"
   ]
  },
  {
   "cell_type": "markdown",
   "metadata": {},
   "source": [
    "### 师资水平评价及建议"
   ]
  },
  {
   "cell_type": "markdown",
   "metadata": {},
   "source": [
    "## 就业创业服务评价"
   ]
  },
  {
   "cell_type": "markdown",
   "metadata": {},
   "source": [
    "### 就业创业服务满意度"
   ]
  },
  {
   "cell_type": "markdown",
   "metadata": {},
   "source": [
    "### 就业创业服务建议"
   ]
  },
  {
   "cell_type": "markdown",
   "metadata": {},
   "source": [
    "# 社会评价"
   ]
  },
  {
   "cell_type": "markdown",
   "metadata": {},
   "source": [
    "## 用人单位对毕业生评价"
   ]
  },
  {
   "cell_type": "markdown",
   "metadata": {},
   "source": [
    "### 总体满意度"
   ]
  },
  {
   "cell_type": "markdown",
   "metadata": {},
   "source": [
    "### 能力和素质评价"
   ]
  },
  {
   "cell_type": "markdown",
   "metadata": {},
   "source": [
    "## 用人单位对学校评价"
   ]
  },
  {
   "cell_type": "markdown",
   "metadata": {},
   "source": [
    "### 人才培养评价"
   ]
  },
  {
   "cell_type": "markdown",
   "metadata": {},
   "source": [
    "#### 人才培养认同度"
   ]
  },
  {
   "cell_type": "markdown",
   "metadata": {},
   "source": [
    "#### 人才培养建议"
   ]
  },
  {
   "cell_type": "markdown",
   "metadata": {},
   "source": [
    "### 就业服务评价"
   ]
  },
  {
   "cell_type": "markdown",
   "metadata": {},
   "source": [
    "#### 就业服务满意度"
   ]
  },
  {
   "cell_type": "markdown",
   "metadata": {},
   "source": [
    "#### 就业服务建议"
   ]
  },
  {
   "cell_type": "markdown",
   "metadata": {},
   "source": [
    "#### 到学校招聘原因"
   ]
  },
  {
   "cell_type": "markdown",
   "metadata": {},
   "source": [
    "# 校园招聘分析"
   ]
  },
  {
   "cell_type": "markdown",
   "metadata": {},
   "source": [
    "## 单位储备情况"
   ]
  },
  {
   "cell_type": "markdown",
   "metadata": {},
   "source": [
    "## 参会用人单位情况"
   ]
  },
  {
   "cell_type": "markdown",
   "metadata": {},
   "source": [
    "### 单位地域"
   ]
  },
  {
   "cell_type": "markdown",
   "metadata": {},
   "source": [
    "### 单位行业"
   ]
  },
  {
   "cell_type": "markdown",
   "metadata": {},
   "source": [
    "### 单位性质"
   ]
  },
  {
   "cell_type": "markdown",
   "metadata": {},
   "source": [
    "## 校园招聘信息"
   ]
  },
  {
   "cell_type": "markdown",
   "metadata": {},
   "source": [
    "### 宣讲会举办情况"
   ]
  },
  {
   "cell_type": "markdown",
   "metadata": {},
   "source": [
    "## 校招行为对比分析"
   ]
  },
  {
   "cell_type": "markdown",
   "metadata": {},
   "source": [
    "### 招聘与求职途径"
   ]
  },
  {
   "cell_type": "markdown",
   "metadata": {},
   "source": [
    "### 招聘与求职薪资范围"
   ]
  },
  {
   "cell_type": "markdown",
   "metadata": {},
   "source": [
    "### 招聘与求职遇到困难"
   ]
  },
  {
   "cell_type": "markdown",
   "metadata": {},
   "source": [
    "### 用人单位关注因素及毕业生在校经历"
   ]
  },
  {
   "cell_type": "markdown",
   "metadata": {},
   "source": [
    "### 热门招聘需求"
   ]
  },
  {
   "cell_type": "markdown",
   "metadata": {},
   "source": [
    "### 用人单位专业对口关注度"
   ]
  },
  {
   "cell_type": "markdown",
   "metadata": {},
   "source": [
    "### 毕业生求职过程"
   ]
  },
  {
   "cell_type": "code",
   "execution_count": null,
   "metadata": {},
   "outputs": [],
   "source": []
  }
 ],
 "metadata": {
  "kernelspec": {
   "display_name": "Python 3",
   "language": "python",
   "name": "python3"
  },
  "language_info": {
   "codemirror_mode": {
    "name": "ipython",
    "version": 3
   },
   "file_extension": ".py",
   "mimetype": "text/x-python",
   "name": "python",
   "nbconvert_exporter": "python",
   "pygments_lexer": "ipython3",
   "version": "3.8.3"
  },
  "toc": {
   "base_numbering": 1,
   "nav_menu": {},
   "number_sections": true,
   "sideBar": true,
   "skip_h1_title": false,
   "title_cell": "Table of Contents",
   "title_sidebar": "Contents",
   "toc_cell": false,
   "toc_position": {
    "height": "calc(100% - 180px)",
    "left": "10px",
    "top": "150px",
    "width": "220.675px"
   },
   "toc_section_display": true,
   "toc_window_display": true
  }
 },
 "nbformat": 4,
 "nbformat_minor": 4
}
