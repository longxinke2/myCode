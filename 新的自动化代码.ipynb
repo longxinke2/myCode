{
 "cells": [
  {
   "cell_type": "code",
   "execution_count": 1,
   "metadata": {},
   "outputs": [],
   "source": [
    "%load_ext autoreload\n",
    "%autoreload 2\n",
    "\n",
    "from pyautoword import *\n",
    "import time\n",
    "import threading\n",
    "# to_markdown需要安装一个包tabulate\n",
    "\n",
    "t=threading.Thread(target=admin)\n",
    "t.start()"
   ]
  },
  {
   "cell_type": "code",
   "execution_count": 3,
   "metadata": {},
   "outputs": [],
   "source": [
    "# 变量\n",
    "xxmc = '西安工业大学'\n",
    "year = '2022'\n",
    "path = 'E:/桌面/test/'\n",
    "\n",
    "# 读取文档\n",
    "read_doc(path+'红色模板.docx')\n",
    "data = get_3_data(xxmc,year,'派遣')"
   ]
  },
  {
   "cell_type": "markdown",
   "metadata": {},
   "source": [
    "# 第一章     毕业生就业基本情况"
   ]
  },
  {
   "cell_type": "markdown",
   "metadata": {},
   "source": [
    "## 一、毕业生规模及结构"
   ]
  },
  {
   "cell_type": "markdown",
   "metadata": {},
   "source": [
    "### （一）本科毕业生规模"
   ]
  },
  {
   "cell_type": "markdown",
   "metadata": {},
   "source": [
    "### （二）毕业生结构分布"
   ]
  },
  {
   "cell_type": "markdown",
   "metadata": {},
   "source": [
    "#### 1.学院结构"
   ]
  },
  {
   "cell_type": "code",
   "execution_count": null,
   "metadata": {},
   "outputs": [],
   "source": [
    "data1 = get_group_order_table(data,L(string))#获得分组的data\n",
    "document = data2table(document,data1)#data转化为表格"
   ]
  },
  {
   "cell_type": "code",
   "execution_count": 4,
   "metadata": {},
   "outputs": [
    {
     "name": "stdout",
     "output_type": "stream",
     "text": [
      "开发者模式已开启，我将以高达形态出击！\n"
     ]
    }
   ],
   "source": [
    "open_word(path+'红色模板.docx')"
   ]
  },
  {
   "cell_type": "markdown",
   "metadata": {},
   "source": [
    "#### 2.专业结构"
   ]
  },
  {
   "cell_type": "markdown",
   "metadata": {},
   "source": [
    "#### 3.生源地结构"
   ]
  },
  {
   "cell_type": "markdown",
   "metadata": {},
   "source": [
    "#### 4.民族结构"
   ]
  },
  {
   "cell_type": "code",
   "execution_count": 8,
   "metadata": {
    "scrolled": true
   },
   "outputs": [
    {
     "name": "stdout",
     "output_type": "stream",
     "text": [
      "已关闭开发者模式\n"
     ]
    }
   ],
   "source": [
    "document.save(path+'test.docx')"
   ]
  },
  {
   "cell_type": "markdown",
   "metadata": {},
   "source": [
    "# 地图研究"
   ]
  },
  {
   "cell_type": "code",
   "execution_count": 12,
   "metadata": {},
   "outputs": [],
   "source": [
    "dict_sf={'河北省': '河北', '香港特别行政区': '香港', '天津市': '天津', '山西省': '山西', '内蒙古自治区': '内蒙古', '四川省': '四川', '海南省': '海南', '江西省': '江西', '北京市': '北京', '黑龙江省': '黑龙江', '云南省': '云南', '西藏自治区': '西藏', '浙江省': '浙江', '广西壮族自治区': '广西', '辽宁省': '辽宁', '澳门特别行政区': '澳门', '福建省': '福建', '安徽省': '安徽', '青海省': '青海', '贵州省': '贵州', '吉林省': '吉林', '湖南省': '湖南', '陕西省': '陕西', '台湾省': '台湾', '山东省': '山东', '江苏省': '江苏', '重庆市': '重庆', '广东省': '广东', '湖北省': '湖北', '甘肃省': '甘肃', '新疆维吾尔自治区': '新疆', '宁夏回族自治区': '宁夏', '上海市': '上海', '河南省': '河南'}"
   ]
  },
  {
   "cell_type": "code",
   "execution_count": 9,
   "metadata": {},
   "outputs": [
    {
     "ename": "NameError",
     "evalue": "name 'get_lighter_color' is not defined",
     "output_type": "error",
     "traceback": [
      "\u001b[1;31m---------------------------------------------------------------------------\u001b[0m",
      "\u001b[1;31mNameError\u001b[0m                                 Traceback (most recent call last)",
      "\u001b[1;32m<ipython-input-9-2f1cec5a60c2>\u001b[0m in \u001b[0;36m<module>\u001b[1;34m\u001b[0m\n\u001b[1;32m----> 1\u001b[1;33m \u001b[1;32mdef\u001b[0m \u001b[0mpicture_china_map\u001b[0m\u001b[1;33m(\u001b[0m\u001b[0mdata\u001b[0m\u001b[1;33m,\u001b[0m\u001b[0mpicture_name\u001b[0m\u001b[1;33m,\u001b[0m\u001b[0mlabel_fontsize\u001b[0m\u001b[1;33m=\u001b[0m\u001b[1;36m13\u001b[0m\u001b[1;33m,\u001b[0m\u001b[0mcolor\u001b[0m \u001b[1;33m=\u001b[0m \u001b[0mget_lighter_color\u001b[0m\u001b[1;33m(\u001b[0m\u001b[1;34m'#FFFFFF'\u001b[0m\u001b[1;33m,\u001b[0m\u001b[0mcolor_1\u001b[0m\u001b[1;33m)\u001b[0m\u001b[1;33m[\u001b[0m\u001b[1;36m0\u001b[0m\u001b[1;33m]\u001b[0m\u001b[1;33m)\u001b[0m\u001b[1;33m:\u001b[0m\u001b[1;33m\u001b[0m\u001b[1;33m\u001b[0m\u001b[0m\n\u001b[0m\u001b[0;32m      2\u001b[0m     \u001b[0mdata_zip\u001b[0m \u001b[1;33m=\u001b[0m \u001b[1;33m[\u001b[0m\u001b[1;33m*\u001b[0m\u001b[0mzip\u001b[0m\u001b[1;33m(\u001b[0m\u001b[0mdata\u001b[0m\u001b[1;33m.\u001b[0m\u001b[0mindex\u001b[0m\u001b[1;33m.\u001b[0m\u001b[0mtolist\u001b[0m\u001b[1;33m(\u001b[0m\u001b[1;33m)\u001b[0m\u001b[1;33m,\u001b[0m\u001b[0mdata\u001b[0m\u001b[1;33m)\u001b[0m\u001b[1;33m]\u001b[0m\u001b[1;31m#构建省份和对应统计人数的列表,地图数据传入的指定格式\u001b[0m\u001b[1;33m\u001b[0m\u001b[1;33m\u001b[0m\u001b[0m\n\u001b[0;32m      3\u001b[0m     \u001b[1;32mfor\u001b[0m \u001b[0mi\u001b[0m \u001b[1;32min\u001b[0m \u001b[0mrange\u001b[0m\u001b[1;33m(\u001b[0m\u001b[0mlen\u001b[0m\u001b[1;33m(\u001b[0m\u001b[0mdata_zip\u001b[0m\u001b[1;33m)\u001b[0m\u001b[1;33m)\u001b[0m\u001b[1;33m:\u001b[0m\u001b[1;33m\u001b[0m\u001b[1;33m\u001b[0m\u001b[0m\n\u001b[0;32m      4\u001b[0m         \u001b[0mdata_zip\u001b[0m\u001b[1;33m[\u001b[0m\u001b[0mi\u001b[0m\u001b[1;33m]\u001b[0m\u001b[1;33m=\u001b[0m\u001b[1;33m[\u001b[0m\u001b[0mdata_zip\u001b[0m\u001b[1;33m[\u001b[0m\u001b[0mi\u001b[0m\u001b[1;33m]\u001b[0m\u001b[1;33m[\u001b[0m\u001b[1;36m0\u001b[0m\u001b[1;33m]\u001b[0m\u001b[1;33m.\u001b[0m\u001b[0mstrip\u001b[0m\u001b[1;33m(\u001b[0m\u001b[1;34m'省市自治区壮族维吾尔回族特别行政'\u001b[0m\u001b[1;33m)\u001b[0m\u001b[1;33m,\u001b[0m\u001b[0mdata_zip\u001b[0m\u001b[1;33m[\u001b[0m\u001b[0mi\u001b[0m\u001b[1;33m]\u001b[0m\u001b[1;33m[\u001b[0m\u001b[1;36m1\u001b[0m\u001b[1;33m]\u001b[0m\u001b[1;33m]\u001b[0m\u001b[1;33m\u001b[0m\u001b[1;33m\u001b[0m\u001b[0m\n\u001b[0;32m      5\u001b[0m         \u001b[0mdata_zip\u001b[0m\u001b[1;33m[\u001b[0m\u001b[0mi\u001b[0m\u001b[1;33m]\u001b[0m\u001b[1;33m[\u001b[0m\u001b[1;36m1\u001b[0m\u001b[1;33m]\u001b[0m\u001b[1;33m=\u001b[0m\u001b[0mi\u001b[0m\u001b[1;33m+\u001b[0m\u001b[1;36m1\u001b[0m\u001b[1;33m\u001b[0m\u001b[1;33m\u001b[0m\u001b[0m\n",
      "\u001b[1;31mNameError\u001b[0m: name 'get_lighter_color' is not defined"
     ]
    }
   ],
   "source": [
    "def picture_china_map(data,picture_name,label_fontsize=13,color = get_lighter_color('#FFFFFF',color_1)[0]):\n",
    "    data_zip = [*zip(data.index.tolist(),data)]#构建省份和对应统计人数的列表,地图数据传入的指定格式\n",
    "    for i in range(len(data_zip)):\n",
    "        data_zip[i]=[data_zip[i][0].strip('省市自治区壮族维吾尔回族特别行政'),data_zip[i][1]]\n",
    "        data_zip[i][1]=i+1\n",
    "    max_ = data_zip[len(data_zip)-1][1]\n",
    "    a= (\n",
    "    Map()\n",
    "    .add(\"\",data_zip,\"china\",is_map_symbol_show = False,is_roam = False,#数据传入,地图类型设置:中国地图\"china\"\n",
    "         name_map=dict_sf,\n",
    "         label_opts=opts.LabelOpts(formatter= '{b}',font_size=label_fontsize,font_family = '宋体'),#标签设置\n",
    "         itemstyle_opts=opts.ItemStyleOpts(border_color = '#A6A6A6')) #图形的描边颜色\n",
    "    .set_global_opts(\n",
    "         visualmap_opts=opts.VisualMapOpts(is_show=False,max_ = max_,range_color = color))#颜色渐变设置\n",
    "    )\n",
    "    a = (\n",
    "         Grid(init_opts = opts.InitOpts(height = '700px',width='1000px'))  #设置图形大小,高度:height,宽度:width\n",
    "        .add(a, grid_opts=opts.GridOpts(pos_left='35%'))#位置调整\n",
    "    )\n",
    "    return make_snapshot(snapshot,a.render(), pic_path+f'{picture_name}.png',pixel_ratio = 5),a.render_notebook()"
   ]
  }
 ],
 "metadata": {
  "kernelspec": {
   "display_name": "Python 3",
   "language": "python",
   "name": "python3"
  },
  "toc": {
   "base_numbering": 1,
   "nav_menu": {},
   "number_sections": true,
   "sideBar": true,
   "skip_h1_title": false,
   "title_cell": "Table of Contents",
   "title_sidebar": "Contents",
   "toc_cell": false,
   "toc_position": {},
   "toc_section_display": true,
   "toc_window_display": true
  }
 },
 "nbformat": 4,
 "nbformat_minor": 4
}
