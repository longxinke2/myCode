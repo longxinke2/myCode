{
 "cells": [
  {
   "cell_type": "code",
   "execution_count": 1,
   "metadata": {},
   "outputs": [],
   "source": [
    "%load_ext autoreload\n",
    "%autoreload 2\n",
    "\n",
    "# 创建文档\n",
    "from docx import Document\n",
    "\n",
    "# 其他\n",
    "from pyautoword import *\n",
    "import pandas as pd\n",
    "# to_markdown需要安装一个包tabulate"
   ]
  },
  {
   "cell_type": "code",
   "execution_count": 2,
   "metadata": {},
   "outputs": [],
   "source": [
    "# 变量\n",
    "xxmc = '西安工业大学'\n",
    "year = '2022'\n",
    "path = 'E:/桌面/test/'\n",
    "# 额外分组，比如分学历，分师范生：\n",
    "other_groupby = 'xl'"
   ]
  },
  {
   "cell_type": "markdown",
   "metadata": {},
   "source": [
    "# 取数"
   ]
  },
  {
   "cell_type": "code",
   "execution_count": 3,
   "metadata": {},
   "outputs": [],
   "source": [
    "# 获取派遣数据\n",
    "conn = get_yjy_db('dw_database')"
   ]
  },
  {
   "cell_type": "code",
   "execution_count": 4,
   "metadata": {},
   "outputs": [
    {
     "data": {
      "text/html": [
       "<div>\n",
       "<style scoped>\n",
       "    .dataframe tbody tr th:only-of-type {\n",
       "        vertical-align: middle;\n",
       "    }\n",
       "\n",
       "    .dataframe tbody tr th {\n",
       "        vertical-align: top;\n",
       "    }\n",
       "\n",
       "    .dataframe thead th {\n",
       "        text-align: right;\n",
       "    }\n",
       "</style>\n",
       "<table border=\"1\" class=\"dataframe\">\n",
       "  <thead>\n",
       "    <tr style=\"text-align: right;\">\n",
       "      <th></th>\n",
       "      <th>xxdm</th>\n",
       "      <th>xxmc</th>\n",
       "      <th>bynd</th>\n",
       "      <th>yx</th>\n",
       "      <th>zydm</th>\n",
       "      <th>zy</th>\n",
       "      <th>bj</th>\n",
       "      <th>xm</th>\n",
       "      <th>xh</th>\n",
       "      <th>sfzhm</th>\n",
       "      <th>...</th>\n",
       "      <th>dim_company_property</th>\n",
       "      <th>dim_industry_category</th>\n",
       "      <th>dim_scale</th>\n",
       "      <th>dim_registered_capital</th>\n",
       "      <th>dim_dwmc_province</th>\n",
       "      <th>dim_dwmc_city</th>\n",
       "      <th>jylbfl</th>\n",
       "      <th>dwhy_c</th>\n",
       "      <th>sjly</th>\n",
       "      <th>xxmc_c</th>\n",
       "    </tr>\n",
       "  </thead>\n",
       "  <tbody>\n",
       "    <tr>\n",
       "      <th>0</th>\n",
       "      <td>10702</td>\n",
       "      <td>西安工业大学</td>\n",
       "      <td>2022</td>\n",
       "      <td>建筑工程学院</td>\n",
       "      <td>082802</td>\n",
       "      <td>城乡规划</td>\n",
       "      <td>None</td>\n",
       "      <td>张家颖</td>\n",
       "      <td>17070206131</td>\n",
       "      <td>610111199910161540</td>\n",
       "      <td>...</td>\n",
       "      <td></td>\n",
       "      <td></td>\n",
       "      <td></td>\n",
       "      <td></td>\n",
       "      <td></td>\n",
       "      <td></td>\n",
       "      <td>签就业协议形式就业</td>\n",
       "      <td>建筑业</td>\n",
       "      <td>国库</td>\n",
       "      <td>None</td>\n",
       "    </tr>\n",
       "  </tbody>\n",
       "</table>\n",
       "<p>1 rows × 81 columns</p>\n",
       "</div>"
      ],
      "text/plain": [
       "    xxdm    xxmc  bynd      yx    zydm    zy    bj   xm           xh  \\\n",
       "0  10702  西安工业大学  2022  建筑工程学院  082802  城乡规划  None  张家颖  17070206131   \n",
       "\n",
       "                sfzhm  ... dim_company_property dim_industry_category  \\\n",
       "0  610111199910161540  ...                                              \n",
       "\n",
       "  dim_scale dim_registered_capital dim_dwmc_province dim_dwmc_city     jylbfl  \\\n",
       "0                                                                   签就业协议形式就业   \n",
       "\n",
       "  dwhy_c sjly xxmc_c  \n",
       "0    建筑业   国库   None  \n",
       "\n",
       "[1 rows x 81 columns]"
      ]
     },
     "execution_count": 4,
     "metadata": {},
     "output_type": "execute_result"
    }
   ],
   "source": [
    "sql =f'''\n",
    "    SELECT * FROM dw_s_employment_auto\n",
    "    where xxmc = '{xxmc}' and substring(bynd,1,4) = '{year}'\n",
    "    '''\n",
    "data = pd.read_sql(sql=sql, con=conn)\n",
    "data.head(1)"
   ]
  },
  {
   "cell_type": "markdown",
   "metadata": {},
   "source": [
    "# 获取分组表格并排序"
   ]
  },
  {
   "cell_type": "code",
   "execution_count": 11,
   "metadata": {
    "scrolled": true
   },
   "outputs": [
    {
     "name": "stdout",
     "output_type": "stream",
     "text": [
      "|     | zy                       | 研究生_num   | 研究生_proportion   | 本科_num   | 本科_proportion   |   num | proportion   |\n",
      "|----:|:-------------------------|:-------------|:--------------------|:-----------|:------------------|------:|:-------------|\n",
      "|   0 | 中国古代文学             | 2            | 0.04%               | -          | -                 |     2 | 0.04%        |\n",
      "|   1 | 中国现当代文学           | 3            | 0.06%               | -          | -                 |     3 | 0.06%        |\n",
      "|   2 | 中国近现代史基本问题研究 | 8            | 0.15%               | -          | -                 |     8 | 0.15%        |\n",
      "|   3 | 书法学                   | -            | -                   | 50         | 0.93%             |    50 | 0.93%        |\n",
      "|   4 | 产业经济学               | 2            | 0.04%               | -          | -                 |     2 | 0.04%        |\n",
      "|   5 | 产品设计                 | -            | -                   | 105        | 1.96%             |   105 | 1.96%        |\n",
      "|   6 | 人力资源管理             | -            | -                   | 126        | 2.35%             |   126 | 2.35%        |\n",
      "|   7 | 仪器仪表工程             | 23           | 0.43%               | -          | -                 |    23 | 0.43%        |\n",
      "|   8 | 企业管理                 | 11           | 0.21%               | -          | -                 |    11 | 0.21%        |\n",
      "|   9 | 会计                     | 49           | 0.91%               | -          | -                 |    49 | 0.91%        |\n",
      "|  10 | 会计学                   | 3            | 0.06%               | 177        | 3.3%              |   180 | 3.36%        |\n",
      "|  11 | 体育教学                 | 13           | 0.24%               | -          | -                 |    13 | 0.24%        |\n",
      "|  12 | 体育教育                 | -            | -                   | 39         | 0.73%             |    39 | 0.73%        |\n",
      "|  13 | 信息与计算科学           | -            | -                   | 80         | 1.49%             |    80 | 1.49%        |\n",
      "|  14 | 信息对抗技术             | -            | -                   | 29         | 0.54%             |    29 | 0.54%        |\n",
      "|  15 | 信息管理与信息系统       | -            | -                   | 28         | 0.52%             |    28 | 0.52%        |\n",
      "|  16 | 光学                     | 8            | 0.15%               | -          | -                 |     8 | 0.15%        |\n",
      "|  17 | 光学工程                 | 73           | 1.36%               | -          | -                 |    73 | 1.36%        |\n",
      "|  18 | 光电信息科学与工程       | -            | -                   | 158        | 2.95%             |   158 | 2.95%        |\n",
      "|  19 | 兵器工程                 | 22           | 0.41%               | -          | -                 |    22 | 0.41%        |\n",
      "|  20 | 兵器科学与技术           | 24           | 0.45%               | -          | -                 |    24 | 0.45%        |\n",
      "|  21 | 凝聚态物理               | 2            | 0.04%               | -          | -                 |     2 | 0.04%        |\n",
      "|  22 | 动画                     | -            | -                   | 102        | 1.9%              |   102 | 1.9%         |\n",
      "|  23 | 劳动经济学               | 1            | 0.02%               | -          | -                 |     1 | 0.02%        |\n",
      "|  24 | 包装工程                 | -            | -                   | 19         | 0.35%             |    19 | 0.35%        |\n",
      "|  25 | 区域经济学               | 1            | 0.02%               | -          | -                 |     1 | 0.02%        |\n",
      "|  26 | 国际经济与贸易           | -            | -                   | 105        | 1.96%             |   105 | 1.96%        |\n",
      "|  27 | 土木工程                 | -            | -                   | 162        | 3.02%             |   162 | 3.02%        |\n",
      "|  28 | 城乡规划                 | -            | -                   | 38         | 0.71%             |    38 | 0.71%        |\n",
      "|  29 | 城市地下空间工程         | -            | -                   | 27         | 0.5%              |    27 | 0.5%         |\n",
      "|  30 | 外国语言学及应用语言学   | 15           | 0.28%               | -          | -                 |    15 | 0.28%        |\n",
      "|  31 | 岩土工程                 | 7            | 0.13%               | -          | -                 |     7 | 0.13%        |\n",
      "|  32 | 工业工程                 | 5            | 0.09%               | 27         | 0.5%              |    32 | 0.6%         |\n",
      "|  33 | 工业设计                 | -            | -                   | 56         | 1.04%             |    56 | 1.04%        |\n",
      "|  34 | 工商管理                 | 31           | 0.58%               | -          | -                 |    31 | 0.58%        |\n",
      "|  35 | 市场营销                 | -            | -                   | 26         | 0.48%             |    26 | 0.48%        |\n",
      "|  36 | 市政工程                 | 3            | 0.06%               | -          | -                 |     3 | 0.06%        |\n",
      "|  37 | 广告学                   | -            | -                   | 30         | 0.56%             |    30 | 0.56%        |\n",
      "|  38 | 应用物理学               | -            | -                   | 26         | 0.48%             |    26 | 0.48%        |\n",
      "|  39 | 建筑与土木工程           | 41           | 0.76%               | -          | -                 |    41 | 0.76%        |\n",
      "|  40 | 思想政治教育             | 11           | 0.21%               | -          | -                 |    11 | 0.21%        |\n",
      "|  41 | 戏剧影视文学             | -            | -                   | 35         | 0.65%             |    35 | 0.65%        |\n",
      "|  42 | 技术经济及管理           | 1            | 0.02%               | -          | -                 |     1 | 0.02%        |\n",
      "|  43 | 探测制导与控制技术       | -            | -                   | 27         | 0.5%              |    27 | 0.5%         |\n",
      "|  44 | 控制工程                 | 46           | 0.86%               | -          | -                 |    46 | 0.86%        |\n",
      "|  45 | 控制理论与控制工程       | 28           | 0.52%               | -          | -                 |    28 | 0.52%        |\n",
      "|  46 | 数学与应用数学           | -            | -                   | 67         | 1.25%             |    67 | 1.25%        |\n",
      "|  47 | 文艺学                   | 1            | 0.02%               | -          | -                 |     1 | 0.02%        |\n",
      "|  48 | 新闻与传播               | 31           | 0.58%               | -          | -                 |    31 | 0.58%        |\n",
      "|  49 | 无机非金属材料工程       | -            | -                   | 29         | 0.54%             |    29 | 0.54%        |\n",
      "|  50 | 机械制造及其自动化       | 25           | 0.47%               | -          | -                 |    25 | 0.47%        |\n",
      "|  51 | 机械工程                 | 53           | 0.99%               | -          | -                 |    53 | 0.99%        |\n",
      "|  52 | 机械电子工程             | 18           | 0.34%               | 88         | 1.64%             |   106 | 1.98%        |\n",
      "|  53 | 机械设计制造及其自动化   | -            | -                   | 347        | 6.47%             |   347 | 6.47%        |\n",
      "|  54 | 机械设计及理论           | 7            | 0.13%               | -          | -                 |     7 | 0.13%        |\n",
      "|  55 | 材料加工工程             | 13           | 0.24%               | -          | -                 |    13 | 0.24%        |\n",
      "|  56 | 材料化学                 | -            | -                   | 56         | 1.04%             |    56 | 1.04%        |\n",
      "|  57 | 材料学                   | 24           | 0.45%               | -          | -                 |    24 | 0.45%        |\n",
      "|  58 | 材料工程                 | 48           | 0.89%               | -          | -                 |    48 | 0.89%        |\n",
      "|  59 | 材料物理与化学           | 12           | 0.22%               | -          | -                 |    12 | 0.22%        |\n",
      "|  60 | 桥梁与隧道工程           | 2            | 0.04%               | -          | -                 |     2 | 0.04%        |\n",
      "|  61 | 检测技术与自动化装置     | 1            | 0.02%               | -          | -                 |     1 | 0.02%        |\n",
      "|  62 | 模式识别与智能系统       | 1            | 0.02%               | -          | -                 |     1 | 0.02%        |\n",
      "|  63 | 武器系统与工程           | -            | -                   | 29         | 0.54%             |    29 | 0.54%        |\n",
      "|  64 | 汉语国际教育             | -            | -                   | 29         | 0.54%             |    29 | 0.54%        |\n",
      "|  65 | 汉语言文学               | -            | -                   | 60         | 1.12%             |    60 | 1.12%        |\n",
      "|  66 | 法学                     | -            | -                   | 31         | 0.58%             |    31 | 0.58%        |\n",
      "|  67 | 测控技术与仪器           | -            | -                   | 260        | 4.85%             |   260 | 4.85%        |\n",
      "|  68 | 测试计量技术及仪器       | 9            | 0.17%               | -          | -                 |     9 | 0.17%        |\n",
      "|  69 | 物流工程                 | 9            | 0.17%               | -          | -                 |     9 | 0.17%        |\n",
      "|  70 | 物流管理                 | -            | -                   | 57         | 1.06%             |    57 | 1.06%        |\n",
      "|  71 | 物联网工程               | -            | -                   | 54         | 1.01%             |    54 | 1.01%        |\n",
      "|  72 | 环境工程                 | -            | -                   | 58         | 1.08%             |    58 | 1.08%        |\n",
      "|  73 | 环境设计                 | -            | -                   | 101        | 1.88%             |   101 | 1.88%        |\n",
      "|  74 | 生物医学工程             | -            | -                   | 44         | 0.82%             |    44 | 0.82%        |\n",
      "|  75 | 电子与通信工程           | 25           | 0.47%               | -          | -                 |    25 | 0.47%        |\n",
      "|  76 | 电子信息工程             | -            | -                   | 134        | 2.5%              |   134 | 2.5%         |\n",
      "|  77 | 电子信息科学与技术       | -            | -                   | 52         | 0.97%             |    52 | 0.97%        |\n",
      "|  78 | 电子科学与技术           | -            | -                   | 58         | 1.08%             |    58 | 1.08%        |\n",
      "|  79 | 电气工程及其自动化       | -            | -                   | 168        | 3.13%             |   168 | 3.13%        |\n",
      "|  80 | 社会体育指导             | 3            | 0.06%               | -          | -                 |     3 | 0.06%        |\n",
      "|  81 | 社会体育指导与管理       | -            | -                   | 34         | 0.63%             |    34 | 0.63%        |\n",
      "|  82 | 管理科学与工程           | 6            | 0.11%               | -          | -                 |     6 | 0.11%        |\n",
      "|  83 | 精密仪器及机械           | 2            | 0.04%               | -          | -                 |     2 | 0.04%        |\n",
      "|  84 | 经济学                   | -            | -                   | 67         | 1.25%             |    67 | 1.25%        |\n",
      "|  85 | 结构工程                 | 10           | 0.19%               | -          | -                 |    10 | 0.19%        |\n",
      "|  86 | 给排水科学与工程         | -            | -                   | 28         | 0.52%             |    28 | 0.52%        |\n",
      "|  87 | 网络与新媒体             | -            | -                   | 30         | 0.56%             |    30 | 0.56%        |\n",
      "|  88 | 网络工程                 | -            | -                   | 52         | 0.97%             |    52 | 0.97%        |\n",
      "|  89 | 美术                     | 12           | 0.22%               | -          | -                 |    12 | 0.22%        |\n",
      "|  90 | 自动化                   | -            | -                   | 109        | 2.03%             |   109 | 2.03%        |\n",
      "|  91 | 英语                     | -            | -                   | 53         | 0.99%             |    53 | 0.99%        |\n",
      "|  92 | 视觉传达设计             | -            | -                   | 106        | 1.98%             |   106 | 1.98%        |\n",
      "|  93 | 计算机应用技术           | 10           | 0.19%               | -          | -                 |    10 | 0.19%        |\n",
      "|  94 | 计算机技术               | 33           | 0.62%               | -          | -                 |    33 | 0.62%        |\n",
      "|  95 | 计算机科学与技术         | -            | -                   | 197        | 3.67%             |   197 | 3.67%        |\n",
      "|  96 | 计算机系统结构           | 5            | 0.09%               | -          | -                 |     5 | 0.09%        |\n",
      "|  97 | 计算机软件与理论         | 6            | 0.11%               | -          | -                 |     6 | 0.11%        |\n",
      "|  98 | 语言学及应用语言学       | 3            | 0.06%               | -          | -                 |     3 | 0.06%        |\n",
      "|  99 | 车辆工程                 | 1            | 0.02%               | -          | -                 |     1 | 0.02%        |\n",
      "| 100 | 软件工程                 | 14           | 0.26%               | 256        | 4.77%             |   270 | 5.03%        |\n",
      "| 101 | 通信与信息系统           | 15           | 0.28%               | -          | -                 |    15 | 0.28%        |\n",
      "| 102 | 通信工程                 | -            | -                   | 130        | 2.42%             |   130 | 2.42%        |\n",
      "| 103 | 金属材料工程             | -            | -                   | 173        | 3.22%             |   173 | 3.22%        |\n",
      "| 104 | 金融学                   | 2            | 0.04%               | -          | -                 |     2 | 0.04%        |\n",
      "| 105 | 防灾减灾工程及防护工程   | 1            | 0.02%               | -          | -                 |     1 | 0.02%        |\n",
      "| 106 | 马克思主义中国化研究     | 8            | 0.15%               | -          | -                 |     8 | 0.15%        |\n",
      "| 107 | 马克思主义基本原理       | 5            | 0.09%               | -          | -                 |     5 | 0.09%        |\n",
      "| 108 | 高分子材料与工程         | -            | -                   | 88         | 1.64%             |    88 | 1.64%        |\n"
     ]
    },
    {
     "name": "stdout",
     "output_type": "stream",
     "text": [
      "请输入排序规则：s\n",
      "未在表格中找到专业字段\n"
     ]
    }
   ],
   "source": [
    "%aimport pyautoword\n",
    "string = 'zy'\n",
    "data1 = get_group_order_table(data,string,other_groupby)"
   ]
  },
  {
   "cell_type": "code",
   "execution_count": 7,
   "metadata": {},
   "outputs": [],
   "source": [
    "dict_sf = {}\n",
    "list_sf = ['河北省',\n",
    "'香港特别行政区',\n",
    "'天津市',\n",
    "'山西省',\n",
    "'内蒙古自治区',\n",
    "'四川省',\n",
    "'海南省',\n",
    "'江西省',\n",
    "'北京市',\n",
    "'黑龙江省',\n",
    "'云南省',\n",
    "'西藏自治区',\n",
    "'浙江省',\n",
    "'广西壮族自治区',\n",
    "'辽宁省',\n",
    "'澳门特别行政区',\n",
    "'福建省',\n",
    "'安徽省',\n",
    "'青海省',\n",
    "'贵州省',\n",
    "'吉林省',\n",
    "'湖南省',\n",
    "'陕西省',\n",
    "'台湾省',\n",
    "'山东省',\n",
    "'江苏省',\n",
    "'重庆市',\n",
    "'广东省',\n",
    "'湖北省',\n",
    "'甘肃省',\n",
    "'新疆维吾尔自治区',\n",
    "'宁夏回族自治区',\n",
    "'上海市',\n",
    "'河南省']\n",
    "for i in list_sf:\n",
    "    dict_sf[i] = i.strip('省市自治区壮族维吾尔回族特别行政')"
   ]
  },
  {
   "cell_type": "code",
   "execution_count": 8,
   "metadata": {},
   "outputs": [
    {
     "data": {
      "text/plain": [
       "{'河北省': '河北',\n",
       " '香港特别行政区': '香港',\n",
       " '天津市': '天津',\n",
       " '山西省': '山西',\n",
       " '内蒙古自治区': '内蒙古',\n",
       " '四川省': '四川',\n",
       " '海南省': '海南',\n",
       " '江西省': '江西',\n",
       " '北京市': '北京',\n",
       " '黑龙江省': '黑龙江',\n",
       " '云南省': '云南',\n",
       " '西藏自治区': '西藏',\n",
       " '浙江省': '浙江',\n",
       " '广西壮族自治区': '广西',\n",
       " '辽宁省': '辽宁',\n",
       " '澳门特别行政区': '澳门',\n",
       " '福建省': '福建',\n",
       " '安徽省': '安徽',\n",
       " '青海省': '青海',\n",
       " '贵州省': '贵州',\n",
       " '吉林省': '吉林',\n",
       " '湖南省': '湖南',\n",
       " '陕西省': '陕西',\n",
       " '台湾省': '台湾',\n",
       " '山东省': '山东',\n",
       " '江苏省': '江苏',\n",
       " '重庆市': '重庆',\n",
       " '广东省': '广东',\n",
       " '湖北省': '湖北',\n",
       " '甘肃省': '甘肃',\n",
       " '新疆维吾尔自治区': '新疆',\n",
       " '宁夏回族自治区': '宁夏',\n",
       " '上海市': '上海',\n",
       " '河南省': '河南'}"
      ]
     },
     "execution_count": 8,
     "metadata": {},
     "output_type": "execute_result"
    }
   ],
   "source": [
    "dict_sf"
   ]
  },
  {
   "cell_type": "code",
   "execution_count": 9,
   "metadata": {},
   "outputs": [
    {
     "ename": "NameError",
     "evalue": "name 'get_lighter_color' is not defined",
     "output_type": "error",
     "traceback": [
      "\u001b[1;31m---------------------------------------------------------------------------\u001b[0m",
      "\u001b[1;31mNameError\u001b[0m                                 Traceback (most recent call last)",
      "\u001b[1;32m<ipython-input-9-2f1cec5a60c2>\u001b[0m in \u001b[0;36m<module>\u001b[1;34m\u001b[0m\n\u001b[1;32m----> 1\u001b[1;33m \u001b[1;32mdef\u001b[0m \u001b[0mpicture_china_map\u001b[0m\u001b[1;33m(\u001b[0m\u001b[0mdata\u001b[0m\u001b[1;33m,\u001b[0m\u001b[0mpicture_name\u001b[0m\u001b[1;33m,\u001b[0m\u001b[0mlabel_fontsize\u001b[0m\u001b[1;33m=\u001b[0m\u001b[1;36m13\u001b[0m\u001b[1;33m,\u001b[0m\u001b[0mcolor\u001b[0m \u001b[1;33m=\u001b[0m \u001b[0mget_lighter_color\u001b[0m\u001b[1;33m(\u001b[0m\u001b[1;34m'#FFFFFF'\u001b[0m\u001b[1;33m,\u001b[0m\u001b[0mcolor_1\u001b[0m\u001b[1;33m)\u001b[0m\u001b[1;33m[\u001b[0m\u001b[1;36m0\u001b[0m\u001b[1;33m]\u001b[0m\u001b[1;33m)\u001b[0m\u001b[1;33m:\u001b[0m\u001b[1;33m\u001b[0m\u001b[1;33m\u001b[0m\u001b[0m\n\u001b[0m\u001b[0;32m      2\u001b[0m     \u001b[0mdata_zip\u001b[0m \u001b[1;33m=\u001b[0m \u001b[1;33m[\u001b[0m\u001b[1;33m*\u001b[0m\u001b[0mzip\u001b[0m\u001b[1;33m(\u001b[0m\u001b[0mdata\u001b[0m\u001b[1;33m.\u001b[0m\u001b[0mindex\u001b[0m\u001b[1;33m.\u001b[0m\u001b[0mtolist\u001b[0m\u001b[1;33m(\u001b[0m\u001b[1;33m)\u001b[0m\u001b[1;33m,\u001b[0m\u001b[0mdata\u001b[0m\u001b[1;33m)\u001b[0m\u001b[1;33m]\u001b[0m\u001b[1;31m#构建省份和对应统计人数的列表,地图数据传入的指定格式\u001b[0m\u001b[1;33m\u001b[0m\u001b[1;33m\u001b[0m\u001b[0m\n\u001b[0;32m      3\u001b[0m     \u001b[1;32mfor\u001b[0m \u001b[0mi\u001b[0m \u001b[1;32min\u001b[0m \u001b[0mrange\u001b[0m\u001b[1;33m(\u001b[0m\u001b[0mlen\u001b[0m\u001b[1;33m(\u001b[0m\u001b[0mdata_zip\u001b[0m\u001b[1;33m)\u001b[0m\u001b[1;33m)\u001b[0m\u001b[1;33m:\u001b[0m\u001b[1;33m\u001b[0m\u001b[1;33m\u001b[0m\u001b[0m\n\u001b[0;32m      4\u001b[0m         \u001b[0mdata_zip\u001b[0m\u001b[1;33m[\u001b[0m\u001b[0mi\u001b[0m\u001b[1;33m]\u001b[0m\u001b[1;33m=\u001b[0m\u001b[1;33m[\u001b[0m\u001b[0mdata_zip\u001b[0m\u001b[1;33m[\u001b[0m\u001b[0mi\u001b[0m\u001b[1;33m]\u001b[0m\u001b[1;33m[\u001b[0m\u001b[1;36m0\u001b[0m\u001b[1;33m]\u001b[0m\u001b[1;33m.\u001b[0m\u001b[0mstrip\u001b[0m\u001b[1;33m(\u001b[0m\u001b[1;34m'省市自治区壮族维吾尔回族特别行政'\u001b[0m\u001b[1;33m)\u001b[0m\u001b[1;33m,\u001b[0m\u001b[0mdata_zip\u001b[0m\u001b[1;33m[\u001b[0m\u001b[0mi\u001b[0m\u001b[1;33m]\u001b[0m\u001b[1;33m[\u001b[0m\u001b[1;36m1\u001b[0m\u001b[1;33m]\u001b[0m\u001b[1;33m]\u001b[0m\u001b[1;33m\u001b[0m\u001b[1;33m\u001b[0m\u001b[0m\n\u001b[0;32m      5\u001b[0m         \u001b[0mdata_zip\u001b[0m\u001b[1;33m[\u001b[0m\u001b[0mi\u001b[0m\u001b[1;33m]\u001b[0m\u001b[1;33m[\u001b[0m\u001b[1;36m1\u001b[0m\u001b[1;33m]\u001b[0m\u001b[1;33m=\u001b[0m\u001b[0mi\u001b[0m\u001b[1;33m+\u001b[0m\u001b[1;36m1\u001b[0m\u001b[1;33m\u001b[0m\u001b[1;33m\u001b[0m\u001b[0m\n",
      "\u001b[1;31mNameError\u001b[0m: name 'get_lighter_color' is not defined"
     ]
    }
   ],
   "source": [
    "def picture_china_map(data,picture_name,label_fontsize=13,color = get_lighter_color('#FFFFFF',color_1)[0]):\n",
    "    data_zip = [*zip(data.index.tolist(),data)]#构建省份和对应统计人数的列表,地图数据传入的指定格式\n",
    "    for i in range(len(data_zip)):\n",
    "        data_zip[i]=[data_zip[i][0].strip('省市自治区壮族维吾尔回族特别行政'),data_zip[i][1]]\n",
    "        data_zip[i][1]=i+1\n",
    "    max_ = data_zip[len(data_zip)-1][1]\n",
    "    a= (\n",
    "    Map()\n",
    "    .add(\"\",data_zip,\"china\",is_map_symbol_show = False,is_roam = False,#数据传入,地图类型设置:中国地图\"china\"\n",
    "         name_map=dict_sf,\n",
    "         label_opts=opts.LabelOpts(formatter= '{b}',font_size=label_fontsize,font_family = '宋体'),#标签设置\n",
    "         itemstyle_opts=opts.ItemStyleOpts(border_color = '#A6A6A6')) #图形的描边颜色\n",
    "    .set_global_opts(\n",
    "         visualmap_opts=opts.VisualMapOpts(is_show=False,max_ = max_,range_color = color))#颜色渐变设置\n",
    "    )\n",
    "    a = (\n",
    "         Grid(init_opts = opts.InitOpts(height = '700px',width='1000px'))  #设置图形大小,高度:height,宽度:width\n",
    "        .add(a, grid_opts=opts.GridOpts(pos_left='35%'))#位置调整\n",
    "    )\n",
    "    return make_snapshot(snapshot,a.render(), pic_path+f'{picture_name}.png',pixel_ratio = 5),a.render_notebook()"
   ]
  },
  {
   "cell_type": "code",
   "execution_count": null,
   "metadata": {},
   "outputs": [],
   "source": []
  },
  {
   "cell_type": "code",
   "execution_count": null,
   "metadata": {},
   "outputs": [],
   "source": []
  },
  {
   "cell_type": "code",
   "execution_count": null,
   "metadata": {},
   "outputs": [],
   "source": []
  },
  {
   "cell_type": "code",
   "execution_count": null,
   "metadata": {},
   "outputs": [],
   "source": [
    "raise"
   ]
  },
  {
   "cell_type": "markdown",
   "metadata": {},
   "source": [
    "# 百分比四舍五入"
   ]
  },
  {
   "cell_type": "code",
   "execution_count": null,
   "metadata": {},
   "outputs": [],
   "source": [
    "sum100([2,3,4])"
   ]
  },
  {
   "cell_type": "code",
   "execution_count": null,
   "metadata": {
    "scrolled": true
   },
   "outputs": [],
   "source": []
  },
  {
   "cell_type": "code",
   "execution_count": null,
   "metadata": {},
   "outputs": [],
   "source": []
  },
  {
   "cell_type": "code",
   "execution_count": null,
   "metadata": {},
   "outputs": [],
   "source": []
  }
 ],
 "metadata": {
  "kernelspec": {
   "display_name": "Python 3",
   "language": "python",
   "name": "python3"
  },
  "language_info": {
   "codemirror_mode": {
    "name": "ipython",
    "version": 3
   },
   "file_extension": ".py",
   "mimetype": "text/x-python",
   "name": "python",
   "nbconvert_exporter": "python",
   "pygments_lexer": "ipython3",
   "version": "3.8.3"
  },
  "toc": {
   "base_numbering": 1,
   "nav_menu": {},
   "number_sections": true,
   "sideBar": true,
   "skip_h1_title": false,
   "title_cell": "Table of Contents",
   "title_sidebar": "Contents",
   "toc_cell": false,
   "toc_position": {},
   "toc_section_display": true,
   "toc_window_display": true
  }
 },
 "nbformat": 4,
 "nbformat_minor": 4
}
