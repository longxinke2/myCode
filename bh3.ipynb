{
 "cells": [
  {
   "cell_type": "code",
   "execution_count": 1,
   "metadata": {},
   "outputs": [],
   "source": [
    "import pyautogui\n",
    "import time\n",
    "from PIL import ImageGrab\n",
    "from PIL import Image\n",
    "# 超清画质不要乱改"
   ]
  },
  {
   "cell_type": "code",
   "execution_count": null,
   "metadata": {},
   "outputs": [],
   "source": [
    "def click_image(image_path, confidence=0.9, lag_x=0,lag_y=0,wait=0):\n",
    "    \n",
    "    time.sleep(wait)\n",
    "    # 从文件读取图像\n",
    "    image = Image.open(image_path)\n",
    "\n",
    "    # 获取屏幕分辨率\n",
    "    screen_width, screen_height = pyautogui.size()\n",
    "\n",
    "    # 全屏截图\n",
    "    screen_image = ImageGrab.grab()\n",
    "\n",
    "    # 在屏幕截图中查找匹配\n",
    "    location = pyautogui.locate(image, screen_image, confidence=confidence)\n",
    "    if location:\n",
    "        # 匹配成功，返回位置信息\n",
    "        x, y, a, b = location\n",
    "        pyautogui.click(x+a//2+lag_x, y+b//2+lag_y)\n",
    "        time.sleep(0.2)\n",
    "        return 1\n",
    "    else:\n",
    "        # 匹配失败，返回None\n",
    "        return 0\n",
    "\n",
    "image_path = 'E:/picture/bh3/'\n",
    "\n",
    "for i in range(1,9):\n",
    "    a = 0\n",
    "    b = 0\n",
    "    count = 0\n",
    "    if i==7:\n",
    "        b = -80\n",
    "    if i==8:\n",
    "        a = -60\n",
    "    while click_image(image_path + f'{i}.png',lag_x=a,lag_y=b)==0:\n",
    "        time.sleep(0.2)\n",
    "        count +=1\n",
    "        if count > 50:#大于十秒触发意外检测\n",
    "            while True:\n",
    "                click_image(image_path + 'qd.png')\n",
    "                click_image(image_path + 'cha.png')\n",
    "                time.sleep(1)"
   ]
  },
  {
   "cell_type": "code",
   "execution_count": null,
   "metadata": {},
   "outputs": [],
   "source": []
  }
 ],
 "metadata": {
  "kernelspec": {
   "display_name": "Python 3",
   "language": "python",
   "name": "python3"
  },
  "language_info": {
   "codemirror_mode": {
    "name": "ipython",
    "version": 3
   },
   "file_extension": ".py",
   "mimetype": "text/x-python",
   "name": "python",
   "nbconvert_exporter": "python",
   "pygments_lexer": "ipython3",
   "version": "3.8.3"
  },
  "toc": {
   "base_numbering": 1,
   "nav_menu": {},
   "number_sections": true,
   "sideBar": true,
   "skip_h1_title": false,
   "title_cell": "Table of Contents",
   "title_sidebar": "Contents",
   "toc_cell": false,
   "toc_position": {},
   "toc_section_display": true,
   "toc_window_display": false
  }
 },
 "nbformat": 4,
 "nbformat_minor": 4
}
