{
 "cells": [
  {
   "cell_type": "markdown",
   "metadata": {},
   "source": [
    "# 数据准备"
   ]
  },
  {
   "cell_type": "code",
   "execution_count": 2,
   "metadata": {},
   "outputs": [],
   "source": [
    "import numpy as np\n",
    "import pandas as pd\n",
    "from sklearn.preprocessing import MinMaxScaler, StandardScaler\n",
    "import warnings\n",
    "import re"
   ]
  },
  {
   "cell_type": "code",
   "execution_count": 127,
   "metadata": {},
   "outputs": [
    {
     "data": {
      "text/html": [
       "<div>\n",
       "<style scoped>\n",
       "    .dataframe tbody tr th:only-of-type {\n",
       "        vertical-align: middle;\n",
       "    }\n",
       "\n",
       "    .dataframe tbody tr th {\n",
       "        vertical-align: top;\n",
       "    }\n",
       "\n",
       "    .dataframe thead th {\n",
       "        text-align: right;\n",
       "    }\n",
       "</style>\n",
       "<table border=\"1\" class=\"dataframe\">\n",
       "  <thead>\n",
       "    <tr style=\"text-align: right;\">\n",
       "      <th></th>\n",
       "      <th>年份</th>\n",
       "      <th>院系名称</th>\n",
       "      <th>专业名称</th>\n",
       "      <th>落实率</th>\n",
       "      <th>月收入</th>\n",
       "      <th>专业相关度</th>\n",
       "      <th>就业满意度</th>\n",
       "      <th>离职率</th>\n",
       "      <th>教学满意度</th>\n",
       "      <th>培养目标了解度</th>\n",
       "      <th>就业适应性</th>\n",
       "      <th>母校推荐度</th>\n",
       "      <th>课程满足度</th>\n",
       "      <th>职业能力满足度</th>\n",
       "    </tr>\n",
       "  </thead>\n",
       "  <tbody>\n",
       "    <tr>\n",
       "      <th>0</th>\n",
       "      <td>2022</td>\n",
       "      <td>交通工程学院</td>\n",
       "      <td>城市轨道交通工程技术</td>\n",
       "      <td>0.836364</td>\n",
       "      <td>5751.666667</td>\n",
       "      <td>0.750000</td>\n",
       "      <td>0.300000</td>\n",
       "      <td>0.571429</td>\n",
       "      <td>0.945946</td>\n",
       "      <td>0.472727</td>\n",
       "      <td>0.181818</td>\n",
       "      <td>0.554545</td>\n",
       "      <td>0.919708</td>\n",
       "      <td>0.909091</td>\n",
       "    </tr>\n",
       "    <tr>\n",
       "      <th>1</th>\n",
       "      <td>2022</td>\n",
       "      <td>交通工程学院</td>\n",
       "      <td>城市轨道交通运营管理</td>\n",
       "      <td>0.750000</td>\n",
       "      <td>4300.000000</td>\n",
       "      <td>0.454545</td>\n",
       "      <td>0.333333</td>\n",
       "      <td>0.619048</td>\n",
       "      <td>0.882353</td>\n",
       "      <td>0.392857</td>\n",
       "      <td>0.250000</td>\n",
       "      <td>0.500000</td>\n",
       "      <td>0.904255</td>\n",
       "      <td>0.763636</td>\n",
       "    </tr>\n",
       "  </tbody>\n",
       "</table>\n",
       "</div>"
      ],
      "text/plain": [
       "     年份    院系名称        专业名称       落实率          月收入     专业相关度     就业满意度  \\\n",
       "0  2022  交通工程学院  城市轨道交通工程技术  0.836364  5751.666667  0.750000  0.300000   \n",
       "1  2022  交通工程学院  城市轨道交通运营管理  0.750000  4300.000000  0.454545  0.333333   \n",
       "\n",
       "        离职率     教学满意度   培养目标了解度     就业适应性     母校推荐度     课程满足度   职业能力满足度  \n",
       "0  0.571429  0.945946  0.472727  0.181818  0.554545  0.919708  0.909091  \n",
       "1  0.619048  0.882353  0.392857  0.250000  0.500000  0.904255  0.763636  "
      ]
     },
     "execution_count": 127,
     "metadata": {},
     "output_type": "execute_result"
    }
   ],
   "source": [
    "# 导入数据\n",
    "path = 'E:/桌面/各专业得分.xlsx'\n",
    "data1 = pd.read_excel(path)\n",
    "data1.head(2)"
   ]
  },
  {
   "cell_type": "code",
   "execution_count": 78,
   "metadata": {},
   "outputs": [
    {
     "data": {
      "text/plain": [
       "教学满意度  教学满意程度\n",
       "0.0    不满意       2.016221e+09\n",
       "       很不满意      2.016221e+09\n",
       "1.0    很满意       2.016221e+09\n",
       "       满意        2.016221e+09\n",
       "Name: 用户ID, dtype: float64"
      ]
     },
     "execution_count": 78,
     "metadata": {},
     "output_type": "execute_result"
    }
   ],
   "source": [
    "# 是用来看一下清洗的效果\n",
    "data1.groupby(['教学满意度','教学满意程度'])['用户ID'].mean()"
   ]
  },
  {
   "cell_type": "code",
   "execution_count": 128,
   "metadata": {},
   "outputs": [
    {
     "data": {
      "text/plain": [
       "array([0.91970803, 0.90425532, 0.84      , 0.91699605, 0.96812749,\n",
       "       0.83695652, 0.75396825, 0.93478261, 0.86086957, 0.89276139,\n",
       "       0.90604027, 0.82733813, 0.76470588, 0.92226148, 0.95748988,\n",
       "       0.88372093, 0.76595745, 0.82248521, 0.904     , 1.        ,\n",
       "       0.96186441, 0.94213382, 0.9       , 0.95595855, 0.86111111,\n",
       "       0.94610778, 0.80722892, 0.88333333, 0.96028037, 0.89247312,\n",
       "       0.94193548, 0.93031359, 0.93617021, 0.92444444, 0.9378882 ,\n",
       "       0.85393258, 0.91752577, 0.70689655, 0.58823529, 0.80434783,\n",
       "       0.85990338, 0.86046512, 0.78014184, 0.94736842, 0.73856209,\n",
       "       0.8034188 , 0.76923077, 0.69090909, 0.82781457, 0.75      ,\n",
       "       0.21428571, 0.51219512, 0.84491979, 0.87012987, 0.82608696,\n",
       "       0.80213904, 0.73684211, 0.69387755, 0.83333333, 0.90277778,\n",
       "       0.82222222, 0.77514793, 0.90196078, 0.44444444, 0.6984127 ,\n",
       "       0.73275862, 0.65957447, 0.78481013, 0.88292683, 0.90551181,\n",
       "       0.86173633, 0.87341772, 0.88435374, 0.95454545, 0.78571429,\n",
       "       0.94366197, 0.87951807, 0.92      , 0.74626866, 0.90049751,\n",
       "       0.84444444, 0.91666667, 0.74647887, 0.7962963 , 0.79069767,\n",
       "       0.69565217, 0.8427673 , 0.83732057, 0.83076923, 0.79032258,\n",
       "       0.88983051, 0.83414634, 0.96470588, 0.84180791, 0.8245614 ,\n",
       "       0.86206897, 0.76      , 0.70149254, 0.61666667, 0.82978723,\n",
       "       0.71428571, 0.84328358, 0.91176471, 0.90598291, 0.93333333,\n",
       "       0.90909091, 0.79487179, 0.9261745 , 0.89403974, 0.94303797,\n",
       "       0.9035533 , 0.96825397, 0.86013986, 0.9375    , 0.9009901 ,\n",
       "       0.82716049, 0.73913043, 0.82142857, 0.75657895, 0.72727273,\n",
       "       0.80597015, 0.80952381, 0.66666667, 0.65714286,        nan,\n",
       "       0.53191489, 0.63333333, 0.42857143, 0.55555556, 0.5890411 ,\n",
       "       0.76237624, 0.81818182, 0.93055556, 0.8       , 0.7755102 ,\n",
       "       0.63478261, 0.86666667, 0.92592593, 0.57142857, 0.7804878 ,\n",
       "       0.64516129, 0.97333333, 0.675     , 0.87755102, 0.70833333,\n",
       "       0.83529412, 0.81395349, 0.6       , 0.88235294, 0.74390244,\n",
       "       0.68181818])"
      ]
     },
     "execution_count": 128,
     "metadata": {},
     "output_type": "execute_result"
    }
   ],
   "source": [
    "data1['课程满足度'].unique()"
   ]
  },
  {
   "cell_type": "code",
   "execution_count": 111,
   "metadata": {},
   "outputs": [],
   "source": [
    "data1['就业满意度']=data1['现在从事的工作是否符合职业期待'].apply(lambda x: isinstance(x,float) and x or (x=='符合' and 1 or 0))"
   ]
  },
  {
   "cell_type": "code",
   "execution_count": 112,
   "metadata": {},
   "outputs": [],
   "source": [
    "data1['教学满意度_c']=data1['教学满意度'].apply(lambda x: isinstance(x,float) and x or ('不满意' in x and 1 or 2)-1)"
   ]
  },
  {
   "cell_type": "code",
   "execution_count": 113,
   "metadata": {},
   "outputs": [],
   "source": [
    "data1['培养目标了解度']=data1['是否了解专业对您在知识、能力、素养方面的培养要求'].apply(lambda x: isinstance(x,float) and x or ('不了解' in x and 1 or ('部分' in x and 1.5 or 2))-1)"
   ]
  },
  {
   "cell_type": "code",
   "execution_count": 114,
   "metadata": {},
   "outputs": [
    {
     "ename": "KeyError",
     "evalue": "'您是否适应目前的工作岗位'",
     "output_type": "error",
     "traceback": [
      "\u001b[1;31m---------------------------------------------------------------------------\u001b[0m",
      "\u001b[1;31mKeyError\u001b[0m                                  Traceback (most recent call last)",
      "\u001b[1;32m~\\AppData\\Roaming\\Python\\Python38\\site-packages\\pandas\\core\\indexes\\base.py\u001b[0m in \u001b[0;36mget_loc\u001b[1;34m(self, key, method, tolerance)\u001b[0m\n\u001b[0;32m   3620\u001b[0m             \u001b[1;32mtry\u001b[0m\u001b[1;33m:\u001b[0m\u001b[1;33m\u001b[0m\u001b[1;33m\u001b[0m\u001b[0m\n\u001b[1;32m-> 3621\u001b[1;33m                 \u001b[1;32mreturn\u001b[0m \u001b[0mself\u001b[0m\u001b[1;33m.\u001b[0m\u001b[0m_engine\u001b[0m\u001b[1;33m.\u001b[0m\u001b[0mget_loc\u001b[0m\u001b[1;33m(\u001b[0m\u001b[0mcasted_key\u001b[0m\u001b[1;33m)\u001b[0m\u001b[1;33m\u001b[0m\u001b[1;33m\u001b[0m\u001b[0m\n\u001b[0m\u001b[0;32m   3622\u001b[0m             \u001b[1;32mexcept\u001b[0m \u001b[0mKeyError\u001b[0m \u001b[1;32mas\u001b[0m \u001b[0merr\u001b[0m\u001b[1;33m:\u001b[0m\u001b[1;33m\u001b[0m\u001b[1;33m\u001b[0m\u001b[0m\n",
      "\u001b[1;32m~\\AppData\\Roaming\\Python\\Python38\\site-packages\\pandas\\_libs\\index.pyx\u001b[0m in \u001b[0;36mpandas._libs.index.IndexEngine.get_loc\u001b[1;34m()\u001b[0m\n",
      "\u001b[1;32m~\\AppData\\Roaming\\Python\\Python38\\site-packages\\pandas\\_libs\\index.pyx\u001b[0m in \u001b[0;36mpandas._libs.index.IndexEngine.get_loc\u001b[1;34m()\u001b[0m\n",
      "\u001b[1;32mpandas\\_libs\\hashtable_class_helper.pxi\u001b[0m in \u001b[0;36mpandas._libs.hashtable.PyObjectHashTable.get_item\u001b[1;34m()\u001b[0m\n",
      "\u001b[1;32mpandas\\_libs\\hashtable_class_helper.pxi\u001b[0m in \u001b[0;36mpandas._libs.hashtable.PyObjectHashTable.get_item\u001b[1;34m()\u001b[0m\n",
      "\u001b[1;31mKeyError\u001b[0m: '您是否适应目前的工作岗位'",
      "\nThe above exception was the direct cause of the following exception:\n",
      "\u001b[1;31mKeyError\u001b[0m                                  Traceback (most recent call last)",
      "\u001b[1;32m<ipython-input-114-692d2071fa71>\u001b[0m in \u001b[0;36m<module>\u001b[1;34m\u001b[0m\n\u001b[1;32m----> 1\u001b[1;33m \u001b[0mdata1\u001b[0m\u001b[1;33m[\u001b[0m\u001b[1;34m'就业适应性'\u001b[0m\u001b[1;33m]\u001b[0m\u001b[1;33m=\u001b[0m\u001b[0mdata1\u001b[0m\u001b[1;33m[\u001b[0m\u001b[1;34m'您是否适应目前的工作岗位'\u001b[0m\u001b[1;33m]\u001b[0m\u001b[1;33m.\u001b[0m\u001b[0mapply\u001b[0m\u001b[1;33m(\u001b[0m\u001b[1;32mlambda\u001b[0m \u001b[0mx\u001b[0m\u001b[1;33m:\u001b[0m \u001b[0misinstance\u001b[0m\u001b[1;33m(\u001b[0m\u001b[0mx\u001b[0m\u001b[1;33m,\u001b[0m\u001b[0mfloat\u001b[0m\u001b[1;33m)\u001b[0m \u001b[1;32mand\u001b[0m \u001b[0mx\u001b[0m \u001b[1;32mor\u001b[0m \u001b[1;33m(\u001b[0m\u001b[1;34m'不'\u001b[0m \u001b[1;32min\u001b[0m \u001b[0mx\u001b[0m \u001b[1;32mand\u001b[0m \u001b[1;36m1\u001b[0m \u001b[1;32mor\u001b[0m \u001b[1;36m2\u001b[0m\u001b[1;33m)\u001b[0m\u001b[1;33m-\u001b[0m\u001b[1;36m1\u001b[0m\u001b[1;33m)\u001b[0m\u001b[1;33m\u001b[0m\u001b[1;33m\u001b[0m\u001b[0m\n\u001b[0m",
      "\u001b[1;32m~\\AppData\\Roaming\\Python\\Python38\\site-packages\\pandas\\core\\frame.py\u001b[0m in \u001b[0;36m__getitem__\u001b[1;34m(self, key)\u001b[0m\n\u001b[0;32m   3503\u001b[0m             \u001b[1;32mif\u001b[0m \u001b[0mself\u001b[0m\u001b[1;33m.\u001b[0m\u001b[0mcolumns\u001b[0m\u001b[1;33m.\u001b[0m\u001b[0mnlevels\u001b[0m \u001b[1;33m>\u001b[0m \u001b[1;36m1\u001b[0m\u001b[1;33m:\u001b[0m\u001b[1;33m\u001b[0m\u001b[1;33m\u001b[0m\u001b[0m\n\u001b[0;32m   3504\u001b[0m                 \u001b[1;32mreturn\u001b[0m \u001b[0mself\u001b[0m\u001b[1;33m.\u001b[0m\u001b[0m_getitem_multilevel\u001b[0m\u001b[1;33m(\u001b[0m\u001b[0mkey\u001b[0m\u001b[1;33m)\u001b[0m\u001b[1;33m\u001b[0m\u001b[1;33m\u001b[0m\u001b[0m\n\u001b[1;32m-> 3505\u001b[1;33m             \u001b[0mindexer\u001b[0m \u001b[1;33m=\u001b[0m \u001b[0mself\u001b[0m\u001b[1;33m.\u001b[0m\u001b[0mcolumns\u001b[0m\u001b[1;33m.\u001b[0m\u001b[0mget_loc\u001b[0m\u001b[1;33m(\u001b[0m\u001b[0mkey\u001b[0m\u001b[1;33m)\u001b[0m\u001b[1;33m\u001b[0m\u001b[1;33m\u001b[0m\u001b[0m\n\u001b[0m\u001b[0;32m   3506\u001b[0m             \u001b[1;32mif\u001b[0m \u001b[0mis_integer\u001b[0m\u001b[1;33m(\u001b[0m\u001b[0mindexer\u001b[0m\u001b[1;33m)\u001b[0m\u001b[1;33m:\u001b[0m\u001b[1;33m\u001b[0m\u001b[1;33m\u001b[0m\u001b[0m\n\u001b[0;32m   3507\u001b[0m                 \u001b[0mindexer\u001b[0m \u001b[1;33m=\u001b[0m \u001b[1;33m[\u001b[0m\u001b[0mindexer\u001b[0m\u001b[1;33m]\u001b[0m\u001b[1;33m\u001b[0m\u001b[1;33m\u001b[0m\u001b[0m\n",
      "\u001b[1;32m~\\AppData\\Roaming\\Python\\Python38\\site-packages\\pandas\\core\\indexes\\base.py\u001b[0m in \u001b[0;36mget_loc\u001b[1;34m(self, key, method, tolerance)\u001b[0m\n\u001b[0;32m   3621\u001b[0m                 \u001b[1;32mreturn\u001b[0m \u001b[0mself\u001b[0m\u001b[1;33m.\u001b[0m\u001b[0m_engine\u001b[0m\u001b[1;33m.\u001b[0m\u001b[0mget_loc\u001b[0m\u001b[1;33m(\u001b[0m\u001b[0mcasted_key\u001b[0m\u001b[1;33m)\u001b[0m\u001b[1;33m\u001b[0m\u001b[1;33m\u001b[0m\u001b[0m\n\u001b[0;32m   3622\u001b[0m             \u001b[1;32mexcept\u001b[0m \u001b[0mKeyError\u001b[0m \u001b[1;32mas\u001b[0m \u001b[0merr\u001b[0m\u001b[1;33m:\u001b[0m\u001b[1;33m\u001b[0m\u001b[1;33m\u001b[0m\u001b[0m\n\u001b[1;32m-> 3623\u001b[1;33m                 \u001b[1;32mraise\u001b[0m \u001b[0mKeyError\u001b[0m\u001b[1;33m(\u001b[0m\u001b[0mkey\u001b[0m\u001b[1;33m)\u001b[0m \u001b[1;32mfrom\u001b[0m \u001b[0merr\u001b[0m\u001b[1;33m\u001b[0m\u001b[1;33m\u001b[0m\u001b[0m\n\u001b[0m\u001b[0;32m   3624\u001b[0m             \u001b[1;32mexcept\u001b[0m \u001b[0mTypeError\u001b[0m\u001b[1;33m:\u001b[0m\u001b[1;33m\u001b[0m\u001b[1;33m\u001b[0m\u001b[0m\n\u001b[0;32m   3625\u001b[0m                 \u001b[1;31m# If we have a listlike key, _check_indexing_error will raise\u001b[0m\u001b[1;33m\u001b[0m\u001b[1;33m\u001b[0m\u001b[1;33m\u001b[0m\u001b[0m\n",
      "\u001b[1;31mKeyError\u001b[0m: '您是否适应目前的工作岗位'"
     ]
    }
   ],
   "source": [
    "data1['就业适应性']=data1['您是否适应目前的工作岗位'].apply(lambda x: isinstance(x,float) and x or ('不' in x and 1 or 2)-1)"
   ]
  },
  {
   "cell_type": "code",
   "execution_count": 116,
   "metadata": {},
   "outputs": [],
   "source": [
    "data1['母校推荐度']=data1['是否愿意推荐本校'].apply(lambda x: isinstance(x,float) and x or ('不确定' == x and np.nan or ('不' in x and 1 or 2)-1))"
   ]
  },
  {
   "cell_type": "code",
   "execution_count": 117,
   "metadata": {
    "scrolled": true
   },
   "outputs": [
    {
     "data": {
      "text/html": [
       "<div>\n",
       "<style scoped>\n",
       "    .dataframe tbody tr th:only-of-type {\n",
       "        vertical-align: middle;\n",
       "    }\n",
       "\n",
       "    .dataframe tbody tr th {\n",
       "        vertical-align: top;\n",
       "    }\n",
       "\n",
       "    .dataframe thead th {\n",
       "        text-align: right;\n",
       "    }\n",
       "</style>\n",
       "<table border=\"1\" class=\"dataframe\">\n",
       "  <thead>\n",
       "    <tr style=\"text-align: right;\">\n",
       "      <th></th>\n",
       "      <th></th>\n",
       "      <th>毕业后是否就业（1表示就业，0表示失业）</th>\n",
       "      <th>毕业后的月收入（元）</th>\n",
       "      <th>工作与专业是否相关（1表示工作与专业相关，0表示工作与专业不相关）</th>\n",
       "      <th>就业满意度</th>\n",
       "      <th>是否有过离职（1表示有过离职，0表示没有离职）</th>\n",
       "      <th>教学满意度_c</th>\n",
       "      <th>培养目标了解度</th>\n",
       "      <th>母校推荐度</th>\n",
       "    </tr>\n",
       "    <tr>\n",
       "      <th>院系名称</th>\n",
       "      <th>专业名称</th>\n",
       "      <th></th>\n",
       "      <th></th>\n",
       "      <th></th>\n",
       "      <th></th>\n",
       "      <th></th>\n",
       "      <th></th>\n",
       "      <th></th>\n",
       "      <th></th>\n",
       "    </tr>\n",
       "  </thead>\n",
       "  <tbody>\n",
       "    <tr>\n",
       "      <th rowspan=\"2\" valign=\"top\">交通工程学院</th>\n",
       "      <th>城市轨道交通工程技术</th>\n",
       "      <td>0.88000</td>\n",
       "      <td>4732.142857</td>\n",
       "      <td>0.647059</td>\n",
       "      <td>0.125000</td>\n",
       "      <td>0.250000</td>\n",
       "      <td>0.937500</td>\n",
       "      <td>0.500000</td>\n",
       "      <td>0.733333</td>\n",
       "    </tr>\n",
       "    <tr>\n",
       "      <th>道路桥梁工程技术</th>\n",
       "      <td>0.90625</td>\n",
       "      <td>4975.241379</td>\n",
       "      <td>0.948718</td>\n",
       "      <td>0.571429</td>\n",
       "      <td>0.266667</td>\n",
       "      <td>0.933333</td>\n",
       "      <td>0.630952</td>\n",
       "      <td>0.878049</td>\n",
       "    </tr>\n",
       "  </tbody>\n",
       "</table>\n",
       "</div>"
      ],
      "text/plain": [
       "                   毕业后是否就业（1表示就业，0表示失业）   毕业后的月收入（元）  \\\n",
       "院系名称   专业名称                                            \n",
       "交通工程学院 城市轨道交通工程技术               0.88000  4732.142857   \n",
       "       道路桥梁工程技术                 0.90625  4975.241379   \n",
       "\n",
       "                   工作与专业是否相关（1表示工作与专业相关，0表示工作与专业不相关）     就业满意度  \\\n",
       "院系名称   专业名称                                                      \n",
       "交通工程学院 城市轨道交通工程技术                           0.647059  0.125000   \n",
       "       道路桥梁工程技术                             0.948718  0.571429   \n",
       "\n",
       "                   是否有过离职（1表示有过离职，0表示没有离职）   教学满意度_c   培养目标了解度     母校推荐度  \n",
       "院系名称   专业名称                                                               \n",
       "交通工程学院 城市轨道交通工程技术                 0.250000  0.937500  0.500000  0.733333  \n",
       "       道路桥梁工程技术                   0.266667  0.933333  0.630952  0.878049  "
      ]
     },
     "execution_count": 117,
     "metadata": {},
     "output_type": "execute_result"
    }
   ],
   "source": [
    "data = data1.groupby(['院系名称','专业名称']).agg({'毕业后是否就业（1表示就业，0表示失业）':'mean',\\\n",
    "                                           #落实率\n",
    "                                          '毕业后的月收入（元）':'mean',\\\n",
    "                                          '工作与专业是否相关（1表示工作与专业相关，0表示工作与专业不相关）':'mean',\\\n",
    "                                           #专业相关度\n",
    "                                          '就业满意度':'mean',\\\n",
    "                                           # 由‘现在从事的工作是否符合职业期待’清洗\n",
    "                                           '是否有过离职（1表示有过离职，0表示没有离职）':'mean',\\\n",
    "                                           '教学满意度_c':'mean',\\\n",
    "                                           # 由‘教学满意度’清洗 '教学满意程度'\n",
    "                                           '培养目标了解度':'mean',\\\n",
    "                                           # 由‘是否了解专业对您在知识、能力、素养方面的培养要求’清洗\n",
    "#                                            '就业适应性':'mean',\\\n",
    "                                           # 由‘您是否适应目前的工作岗位’清洗\n",
    "                                           '母校推荐度':'mean',\\\n",
    "                                           # 由‘是否愿意推荐本校’清洗\n",
    "                                          })\n",
    "data.head(2)"
   ]
  },
  {
   "cell_type": "code",
   "execution_count": 118,
   "metadata": {},
   "outputs": [],
   "source": [
    "data.to_excel('E:/桌面/各专业得分20.xlsx')"
   ]
  },
  {
   "cell_type": "code",
   "execution_count": 119,
   "metadata": {},
   "outputs": [],
   "source": [
    "data1 = pd.read_excel(path,sheet_name='Course')\n",
    "\n",
    "# data1['zynl'] = data1['课程是否满足工作或学习要求（1表示满足，0表示不满足）'].apply(lambda x:1 if x=='满足' else 0)\n",
    "\n",
    "data1.groupby(['院系名称','专业名称']).agg({'课程是否满足工作或学习要求（1表示满足，0表示不满足）':'mean'}).to_excel('E:/桌面/12.xlsx')"
   ]
  },
  {
   "cell_type": "code",
   "execution_count": 108,
   "metadata": {},
   "outputs": [],
   "source": [
    "data1 = pd.read_excel(path,sheet_name='职业能力')\n",
    "\n",
    "data1['zynl'] = data1['职业能力是否满足需要'].apply(lambda x:1 if x=='满足' else 0)\n",
    "\n",
    "data1.groupby(['院系名称','专业名称']).agg({'zynl':'mean'}).to_excel('E:/桌面/12.xlsx')"
   ]
  },
  {
   "cell_type": "markdown",
   "metadata": {},
   "source": [
    "# 函数定义"
   ]
  },
  {
   "cell_type": "code",
   "execution_count": 132,
   "metadata": {},
   "outputs": [],
   "source": [
    "# 熵值法\n",
    "def cal_weight(column,row,value):\n",
    "    p= np.array([[0.0 for i in range(column)] for i in range(row)])     \n",
    "    for i in range(column):\n",
    "        p[:,i]=value[:,i]/np.sum(value[:,i],axis=0)\n",
    "    e=-1/np.log(row)*sum(p*np.log(p+1e-10))      #计算熵值\n",
    "    g=1-e     # 计算一致性程度\n",
    "    w=g/sum(g)     #计算权重\n",
    "    return w"
   ]
  },
  {
   "cell_type": "markdown",
   "metadata": {},
   "source": [
    "# 权重计算"
   ]
  },
  {
   "cell_type": "code",
   "execution_count": 126,
   "metadata": {},
   "outputs": [],
   "source": [
    "group1 = ['落实率','月收入','专业相关度','就业满意度','离职率','教学满意度','培养目标了解度','就业适应性','母校推荐度','课程满足度','职业能力满足度']"
   ]
  },
  {
   "cell_type": "code",
   "execution_count": 129,
   "metadata": {},
   "outputs": [],
   "source": [
    "data = data1[group1]\n",
    "data = data.fillna(data.mean())"
   ]
  },
  {
   "cell_type": "code",
   "execution_count": 130,
   "metadata": {},
   "outputs": [
    {
     "data": {
      "text/html": [
       "<div>\n",
       "<style scoped>\n",
       "    .dataframe tbody tr th:only-of-type {\n",
       "        vertical-align: middle;\n",
       "    }\n",
       "\n",
       "    .dataframe tbody tr th {\n",
       "        vertical-align: top;\n",
       "    }\n",
       "\n",
       "    .dataframe thead th {\n",
       "        text-align: right;\n",
       "    }\n",
       "</style>\n",
       "<table border=\"1\" class=\"dataframe\">\n",
       "  <thead>\n",
       "    <tr style=\"text-align: right;\">\n",
       "      <th></th>\n",
       "      <th>落实率</th>\n",
       "      <th>月收入</th>\n",
       "      <th>专业相关度</th>\n",
       "      <th>就业满意度</th>\n",
       "      <th>离职率</th>\n",
       "      <th>教学满意度</th>\n",
       "      <th>培养目标了解度</th>\n",
       "      <th>就业适应性</th>\n",
       "      <th>母校推荐度</th>\n",
       "      <th>课程满足度</th>\n",
       "      <th>职业能力满足度</th>\n",
       "    </tr>\n",
       "  </thead>\n",
       "  <tbody>\n",
       "    <tr>\n",
       "      <th>0</th>\n",
       "      <td>0.836364</td>\n",
       "      <td>0.912963</td>\n",
       "      <td>0.750000</td>\n",
       "      <td>0.300000</td>\n",
       "      <td>0.571429</td>\n",
       "      <td>0.945946</td>\n",
       "      <td>0.472727</td>\n",
       "      <td>0.181818</td>\n",
       "      <td>0.554545</td>\n",
       "      <td>0.919708</td>\n",
       "      <td>0.909091</td>\n",
       "    </tr>\n",
       "    <tr>\n",
       "      <th>1</th>\n",
       "      <td>0.750000</td>\n",
       "      <td>0.682540</td>\n",
       "      <td>0.454545</td>\n",
       "      <td>0.333333</td>\n",
       "      <td>0.619048</td>\n",
       "      <td>0.882353</td>\n",
       "      <td>0.392857</td>\n",
       "      <td>0.250000</td>\n",
       "      <td>0.500000</td>\n",
       "      <td>0.904255</td>\n",
       "      <td>0.763636</td>\n",
       "    </tr>\n",
       "    <tr>\n",
       "      <th>2</th>\n",
       "      <td>1.000000</td>\n",
       "      <td>0.732143</td>\n",
       "      <td>0.250000</td>\n",
       "      <td>0.166667</td>\n",
       "      <td>1.000000</td>\n",
       "      <td>1.000000</td>\n",
       "      <td>0.323529</td>\n",
       "      <td>0.294118</td>\n",
       "      <td>0.441176</td>\n",
       "      <td>0.840000</td>\n",
       "      <td>0.695652</td>\n",
       "    </tr>\n",
       "    <tr>\n",
       "      <th>3</th>\n",
       "      <td>0.800000</td>\n",
       "      <td>0.759901</td>\n",
       "      <td>0.756757</td>\n",
       "      <td>0.729730</td>\n",
       "      <td>0.369565</td>\n",
       "      <td>0.964912</td>\n",
       "      <td>0.529412</td>\n",
       "      <td>0.411765</td>\n",
       "      <td>0.658824</td>\n",
       "      <td>0.916996</td>\n",
       "      <td>0.904459</td>\n",
       "    </tr>\n",
       "    <tr>\n",
       "      <th>4</th>\n",
       "      <td>0.925926</td>\n",
       "      <td>0.636457</td>\n",
       "      <td>0.734375</td>\n",
       "      <td>0.620690</td>\n",
       "      <td>0.190476</td>\n",
       "      <td>0.879310</td>\n",
       "      <td>0.524691</td>\n",
       "      <td>0.654321</td>\n",
       "      <td>0.716049</td>\n",
       "      <td>0.968127</td>\n",
       "      <td>0.924603</td>\n",
       "    </tr>\n",
       "    <tr>\n",
       "      <th>...</th>\n",
       "      <td>...</td>\n",
       "      <td>...</td>\n",
       "      <td>...</td>\n",
       "      <td>...</td>\n",
       "      <td>...</td>\n",
       "      <td>...</td>\n",
       "      <td>...</td>\n",
       "      <td>...</td>\n",
       "      <td>...</td>\n",
       "      <td>...</td>\n",
       "      <td>...</td>\n",
       "    </tr>\n",
       "    <tr>\n",
       "      <th>162</th>\n",
       "      <td>0.758621</td>\n",
       "      <td>0.660562</td>\n",
       "      <td>0.294118</td>\n",
       "      <td>0.300000</td>\n",
       "      <td>0.692308</td>\n",
       "      <td>0.777778</td>\n",
       "      <td>0.500000</td>\n",
       "      <td>0.772747</td>\n",
       "      <td>0.800000</td>\n",
       "      <td>0.800000</td>\n",
       "      <td>0.730933</td>\n",
       "    </tr>\n",
       "    <tr>\n",
       "      <th>163</th>\n",
       "      <td>0.848485</td>\n",
       "      <td>0.662302</td>\n",
       "      <td>0.363636</td>\n",
       "      <td>0.235294</td>\n",
       "      <td>0.684211</td>\n",
       "      <td>0.791667</td>\n",
       "      <td>0.521739</td>\n",
       "      <td>0.772747</td>\n",
       "      <td>0.842105</td>\n",
       "      <td>0.743902</td>\n",
       "      <td>0.730933</td>\n",
       "    </tr>\n",
       "    <tr>\n",
       "      <th>164</th>\n",
       "      <td>0.680000</td>\n",
       "      <td>0.598413</td>\n",
       "      <td>0.375000</td>\n",
       "      <td>0.375000</td>\n",
       "      <td>0.666667</td>\n",
       "      <td>1.000000</td>\n",
       "      <td>0.550000</td>\n",
       "      <td>0.772747</td>\n",
       "      <td>0.909091</td>\n",
       "      <td>0.954545</td>\n",
       "      <td>0.730933</td>\n",
       "    </tr>\n",
       "    <tr>\n",
       "      <th>165</th>\n",
       "      <td>0.842105</td>\n",
       "      <td>0.777778</td>\n",
       "      <td>0.266667</td>\n",
       "      <td>0.333333</td>\n",
       "      <td>0.333333</td>\n",
       "      <td>0.900000</td>\n",
       "      <td>0.416667</td>\n",
       "      <td>0.772747</td>\n",
       "      <td>0.888889</td>\n",
       "      <td>0.681818</td>\n",
       "      <td>0.730933</td>\n",
       "    </tr>\n",
       "    <tr>\n",
       "      <th>166</th>\n",
       "      <td>0.818182</td>\n",
       "      <td>0.566138</td>\n",
       "      <td>0.285714</td>\n",
       "      <td>0.000000</td>\n",
       "      <td>1.000000</td>\n",
       "      <td>1.000000</td>\n",
       "      <td>0.500000</td>\n",
       "      <td>0.772747</td>\n",
       "      <td>1.000000</td>\n",
       "      <td>1.000000</td>\n",
       "      <td>0.730933</td>\n",
       "    </tr>\n",
       "  </tbody>\n",
       "</table>\n",
       "<p>167 rows × 11 columns</p>\n",
       "</div>"
      ],
      "text/plain": [
       "          落实率       月收入     专业相关度     就业满意度       离职率     教学满意度   培养目标了解度  \\\n",
       "0    0.836364  0.912963  0.750000  0.300000  0.571429  0.945946  0.472727   \n",
       "1    0.750000  0.682540  0.454545  0.333333  0.619048  0.882353  0.392857   \n",
       "2    1.000000  0.732143  0.250000  0.166667  1.000000  1.000000  0.323529   \n",
       "3    0.800000  0.759901  0.756757  0.729730  0.369565  0.964912  0.529412   \n",
       "4    0.925926  0.636457  0.734375  0.620690  0.190476  0.879310  0.524691   \n",
       "..        ...       ...       ...       ...       ...       ...       ...   \n",
       "162  0.758621  0.660562  0.294118  0.300000  0.692308  0.777778  0.500000   \n",
       "163  0.848485  0.662302  0.363636  0.235294  0.684211  0.791667  0.521739   \n",
       "164  0.680000  0.598413  0.375000  0.375000  0.666667  1.000000  0.550000   \n",
       "165  0.842105  0.777778  0.266667  0.333333  0.333333  0.900000  0.416667   \n",
       "166  0.818182  0.566138  0.285714  0.000000  1.000000  1.000000  0.500000   \n",
       "\n",
       "        就业适应性     母校推荐度     课程满足度   职业能力满足度  \n",
       "0    0.181818  0.554545  0.919708  0.909091  \n",
       "1    0.250000  0.500000  0.904255  0.763636  \n",
       "2    0.294118  0.441176  0.840000  0.695652  \n",
       "3    0.411765  0.658824  0.916996  0.904459  \n",
       "4    0.654321  0.716049  0.968127  0.924603  \n",
       "..        ...       ...       ...       ...  \n",
       "162  0.772747  0.800000  0.800000  0.730933  \n",
       "163  0.772747  0.842105  0.743902  0.730933  \n",
       "164  0.772747  0.909091  0.954545  0.730933  \n",
       "165  0.772747  0.888889  0.681818  0.730933  \n",
       "166  0.772747  1.000000  1.000000  0.730933  \n",
       "\n",
       "[167 rows x 11 columns]"
      ]
     },
     "execution_count": 130,
     "metadata": {},
     "output_type": "execute_result"
    }
   ],
   "source": [
    "max_money = max(data['月收入'])\n",
    "\n",
    "# 归一化\n",
    "data['月收入'] = data['月收入'].apply(lambda x:x/max_money)\n",
    "data"
   ]
  },
  {
   "cell_type": "code",
   "execution_count": 135,
   "metadata": {},
   "outputs": [],
   "source": [
    "data_temp = data[:125]# 2019的用不了"
   ]
  },
  {
   "cell_type": "code",
   "execution_count": 136,
   "metadata": {},
   "outputs": [
    {
     "data": {
      "text/plain": [
       "array([0.02745775, 0.02917741, 0.1644388 , 0.1797248 , 0.23131938,\n",
       "       0.01224116, 0.02023351, 0.18050733, 0.04343622, 0.02971486,\n",
       "       0.08174876])"
      ]
     },
     "execution_count": 136,
     "metadata": {},
     "output_type": "execute_result"
    }
   ],
   "source": [
    "w = cal_weight(data_temp.shape[1],data_temp.shape[0],data_temp.values)\n",
    "w"
   ]
  },
  {
   "cell_type": "markdown",
   "metadata": {},
   "source": [
    "# 分数计算"
   ]
  },
  {
   "cell_type": "code",
   "execution_count": 142,
   "metadata": {},
   "outputs": [],
   "source": [
    "data['就业总分']=data.apply(lambda x:x['落实率']*w[0]+x['月收入']*w[1]+x['专业相关度']*w[2]+x['就业满意度']*w[3]+(1-x['离职率'])*w[4]+x['教学满意度']*w[5]+x['培养目标了解度']*w[6]+x['就业适应性']*w[7]+x['母校推荐度']*w[8]+x['课程满足度']*w[9]+x['职业能力满足度']*w[10],axis=1)"
   ]
  },
  {
   "cell_type": "code",
   "execution_count": 138,
   "metadata": {},
   "outputs": [
    {
     "name": "stdout",
     "output_type": "stream",
     "text": [
      "x['落实率']*w[0]+x['月收入']*w[1]+x['专业相关度']*w[2]+x['就业满意度']*w[3]+x['离职率']*w[4]+x['教学满意度']*w[5]+x['培养目标了解度']*w[6]+x['就业适应性']*w[7]+x['母校推荐度']*w[8]+x['课程满足度']*w[9]+x['职业能力满足度']*w[10]+"
     ]
    }
   ],
   "source": [
    "for i in range(0,11):\n",
    "    print(f\"x['{group1[i]}']*w[{i}]\",end='+')"
   ]
  },
  {
   "cell_type": "code",
   "execution_count": 143,
   "metadata": {},
   "outputs": [],
   "source": [
    "data.to_excel('E:/桌面/各专业得分1.xlsx')"
   ]
  },
  {
   "cell_type": "code",
   "execution_count": null,
   "metadata": {},
   "outputs": [],
   "source": []
  }
 ],
 "metadata": {
  "kernelspec": {
   "display_name": "Python 3",
   "language": "python",
   "name": "python3"
  },
  "language_info": {
   "codemirror_mode": {
    "name": "ipython",
    "version": 3
   },
   "file_extension": ".py",
   "mimetype": "text/x-python",
   "name": "python",
   "nbconvert_exporter": "python",
   "pygments_lexer": "ipython3",
   "version": "3.8.3"
  },
  "toc": {
   "base_numbering": 1,
   "nav_menu": {},
   "number_sections": true,
   "sideBar": true,
   "skip_h1_title": false,
   "title_cell": "Table of Contents",
   "title_sidebar": "Contents",
   "toc_cell": false,
   "toc_position": {
    "height": "calc(100% - 180px)",
    "left": "10px",
    "top": "150px",
    "width": "167.812px"
   },
   "toc_section_display": true,
   "toc_window_display": true
  }
 },
 "nbformat": 4,
 "nbformat_minor": 5
}
