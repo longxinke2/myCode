{
 "cells": [
  {
   "cell_type": "code",
   "execution_count": null,
   "metadata": {},
   "outputs": [],
   "source": [
    "import pyautogui\n",
    "import keyboard  #监听键盘\n",
    "import pyperclip\n",
    "import datetime\n",
    "import threading\n",
    "import smtplib\n",
    "import schedule\n",
    "from email.mime.text import MIMEText\n",
    "\n",
    "word = ''\n",
    "flag = 0\n",
    "def write_word():\n",
    "    global word\n",
    "    global flag\n",
    "    keyboard.wait('F2')\n",
    "    keyboard.press_and_release('shift+home')\n",
    "    pyautogui.hotkey('ctrl','x')\n",
    "    x = pyperclip.paste()\n",
    "    if x == 'end':\n",
    "        flag = 1\n",
    "    else:\n",
    "        word = word + pyperclip.paste()\n",
    "\n",
    "def send_myemail():\n",
    "    global word\n",
    "    mail_host = \"smtp.qq.com\" # 设置服务器\n",
    "    mail_user = \"2245247439@qq.com\" # 用户名\n",
    "    mail_pass = \"zcbqjztslvnfdhig\" # 口令\n",
    "\n",
    "    sender = '2245247439@qq.com'\n",
    "    receivers = '2245247439@qq.com' # 接收邮件，可设置为你的QQ邮箱或者其他邮箱\n",
    "\n",
    "    message = MIMEText(word, 'plain', 'utf-8')\n",
    "    message['From'] = sender\n",
    "    message['To'] = receivers\n",
    "\n",
    "    subject = 'Python SMTP 邮件测试'\n",
    "    message['Subject'] = subject\n",
    "\n",
    "    smtpObj = smtplib.SMTP()\n",
    "    smtpObj.connect(mail_host, 25) # 25 为 SMTP 端口号\n",
    "    smtpObj.login(mail_user, mail_pass)\n",
    "    smtpObj.sendmail(sender, receivers, message.as_string())\n",
    "    word = ''\n",
    "    print(\"邮件发送成功\")\n",
    "\n",
    "while True:\n",
    "    if flag==1:\n",
    "        flag = 0\n",
    "        send_myemail()\n",
    "    else:\n",
    "        write_word()"
   ]
  },
  {
   "cell_type": "code",
   "execution_count": null,
   "metadata": {},
   "outputs": [],
   "source": []
  }
 ],
 "metadata": {
  "kernelspec": {
   "display_name": "Python 3",
   "language": "python",
   "name": "python3"
  },
  "language_info": {
   "codemirror_mode": {
    "name": "ipython",
    "version": 3
   },
   "file_extension": ".py",
   "mimetype": "text/x-python",
   "name": "python",
   "nbconvert_exporter": "python",
   "pygments_lexer": "ipython3",
   "version": "3.8.3"
  },
  "toc": {
   "base_numbering": 1,
   "nav_menu": {},
   "number_sections": true,
   "sideBar": true,
   "skip_h1_title": false,
   "title_cell": "Table of Contents",
   "title_sidebar": "Contents",
   "toc_cell": false,
   "toc_position": {},
   "toc_section_display": true,
   "toc_window_display": false
  }
 },
 "nbformat": 4,
 "nbformat_minor": 4
}
