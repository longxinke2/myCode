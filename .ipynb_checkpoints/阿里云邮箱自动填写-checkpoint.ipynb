{
 "cells": [
  {
   "cell_type": "code",
   "execution_count": 8,
   "metadata": {
    "pycharm": {
     "name": "#%%\n"
    }
   },
   "outputs": [],
   "source": [
    "import pandas as pd\n",
    "import re\n",
    "from selenium import webdriver\n",
    "from selenium.webdriver.support.ui import Select\n",
    "import time\n",
    "import pymysql\n",
    "import datetime\n",
    "from selenium.webdriver.common.by import By\n",
    "import warnings\n",
    "import os\n",
    "import random\n",
    "from selenium.webdriver import ActionChains\n",
    "from selenium.webdriver.common.keys import Keys\n",
    "import keyboard\n",
    "warnings.filterwarnings('ignore')"
   ]
  },
  {
   "cell_type": "markdown",
   "metadata": {
    "pycharm": {
     "name": "#%% md\n"
    }
   },
   "source": [
    "# 参数"
   ]
  },
  {
   "cell_type": "code",
   "execution_count": 2,
   "metadata": {
    "pycharm": {
     "name": "#%%\n"
    }
   },
   "outputs": [
    {
     "name": "stdout",
     "output_type": "stream",
     "text": [
      "请输入需要发送的问卷4位id：6664\n"
     ]
    }
   ],
   "source": [
    "accout ='data@1140822532457527.onaliyun.com'\n",
    "password = 'Sjyjy@20154'\n",
    "path = rf'X:\\报告盘\\00其他报告\\调研问卷回收率\\\\'\n",
    "query_id = input('请输入需要发送的问卷4位id：')\n",
    "query_id = re.sub('\\n','',query_id)"
   ]
  },
  {
   "cell_type": "markdown",
   "metadata": {},
   "source": [
    "# 数据连接"
   ]
  },
  {
   "cell_type": "code",
   "execution_count": 3,
   "metadata": {},
   "outputs": [
    {
     "data": {
      "text/html": [
       "<div>\n",
       "<style scoped>\n",
       "    .dataframe tbody tr th:only-of-type {\n",
       "        vertical-align: middle;\n",
       "    }\n",
       "\n",
       "    .dataframe tbody tr th {\n",
       "        vertical-align: top;\n",
       "    }\n",
       "\n",
       "    .dataframe thead th {\n",
       "        text-align: right;\n",
       "    }\n",
       "</style>\n",
       "<table border=\"1\" class=\"dataframe\">\n",
       "  <thead>\n",
       "    <tr style=\"text-align: right;\">\n",
       "      <th></th>\n",
       "      <th>school_name</th>\n",
       "      <th>name</th>\n",
       "      <th>type</th>\n",
       "      <th>open_url</th>\n",
       "      <th>qr_code_url</th>\n",
       "    </tr>\n",
       "  </thead>\n",
       "  <tbody>\n",
       "    <tr>\n",
       "      <th>0</th>\n",
       "      <td>湖南工业大学</td>\n",
       "      <td>湖南工业大学2023届毕业生就业指导满意度问卷调查</td>\n",
       "      <td>0</td>\n",
       "      <td>https://m.bysjy.com.cn/student/survey/index.ht...</td>\n",
       "      <td>yxqqnn0000000012/survey/qr_code/16697143566788...</td>\n",
       "    </tr>\n",
       "  </tbody>\n",
       "</table>\n",
       "</div>"
      ],
      "text/plain": [
       "  school_name                       name type  \\\n",
       "0      湖南工业大学  湖南工业大学2023届毕业生就业指导满意度问卷调查    0   \n",
       "\n",
       "                                            open_url  \\\n",
       "0  https://m.bysjy.com.cn/student/survey/index.ht...   \n",
       "\n",
       "                                         qr_code_url  \n",
       "0  yxqqnn0000000012/survey/qr_code/16697143566788...  "
      ]
     },
     "execution_count": 3,
     "metadata": {},
     "output_type": "execute_result"
    }
   ],
   "source": [
    "conn = pymysql.connect(host = 'am-wz9el267w54i2r7ip131930o.ads.aliyuncs.com' # 连接名称，默认127.0.0.1\n",
    ",user = 'yjy_user' # 用户名\n",
    ",passwd='Yjy123456' # 密码\n",
    ",port= 3306 # 端口，默认为3306\n",
    ",db='yun-campusjob'#数据库名称\n",
    ",charset='utf8' # 字符编码\n",
    ")\n",
    "sql = f'''select b.school_name,a.name,a.type,a.open_url,a.qr_code_url from sch_q_define a\n",
    "left join sch_school b on a.school_id = b.school_id\n",
    "where q_define_id = '{query_id}'\n",
    "'''\n",
    "data = pd.read_sql(con=conn,sql=sql)\n",
    "data"
   ]
  },
  {
   "cell_type": "markdown",
   "metadata": {
    "pycharm": {
     "name": "#%% md\n"
    }
   },
   "source": [
    "# 写邮件"
   ]
  },
  {
   "cell_type": "code",
   "execution_count": 6,
   "metadata": {},
   "outputs": [],
   "source": [
    "options = webdriver.ChromeOptions()\n",
    "# 添加无界面参数\n",
    "# options.add_argument('--headless')\n",
    "driver=webdriver.Chrome()\n",
    "driver.implicitly_wait(10)\n",
    "driver.get(r'https://signin.aliyun.com/login.htm?callback=https%3A%2F%2Fdm.console.aliyun.com%2F#/main')\n",
    "driver.maximize_window()\n",
    "driver.find_element(By.NAME,\"username\").send_keys(accout)\n",
    "driver.find_element(By.XPATH,'//*[@id=\"--aliyun-xconsole-app\"]/div[1]/div[2]/div/div/div[1]/div[2]/div/div/div/div/div/form/div[5]/button').click()\n",
    "driver.find_element(By.NAME,\"password\").send_keys(password)\n",
    "driver.find_element(By.XPATH,'//*[@id=\"--aliyun-xconsole-app\"]/div[1]/div[2]/div/div/div[1]/div[2]/div/div/div/div/div/form/div[5]/button').click()"
   ]
  },
  {
   "cell_type": "code",
   "execution_count": 7,
   "metadata": {
    "pycharm": {
     "name": "#%%\n"
    }
   },
   "outputs": [
    {
     "name": "stdout",
     "output_type": "stream",
     "text": [
      "执行完毕\n"
     ]
    }
   ],
   "source": [
    "curr_time = datetime.datetime.now()\n",
    "element1 = driver.find_element(By.XPATH,'/html/body/div[2]/div/div/div[1]/div/div[1]/div[3]/ul/li[2]/ul/li[4]/div/a/div[2]')\n",
    "element1.click()\n",
    "str2 = driver.find_element(By.XPATH,'/html/body/div[2]/div/div/div[3]/div[2]/div[1]/div[2]/div/div/div[2]/div/div/div[2]/table/tfoot/tr/td/div[2]/div/div/span[1]').text\n",
    "if len(re.findall('40',str2))==1:\n",
    "    driver.find_element(By.XPATH,'/html/body/div[2]/div/div/div[3]/div[2]/div[1]/div[2]/div/div/div[2]/div/div/div[2]/table/tbody/tr[10]/td[5]/div/a[2]/span').click()\n",
    "    driver.find_element(By.CSS_SELECTOR,'[class=\"btn ng-scope ng-binding btn-primary\"]').click()\n",
    "time_str = curr_time.strftime(\"%Y年%m月\")\n",
    "time_str1 = curr_time.strftime(\"%m月%d日%H:%M:%S\")\n",
    "str1 = ''\n",
    "row = data.values[0]\n",
    "temp = f'''<p style=\"text-indent:32px;\">\n",
    "    母校为了解你们就业的真实情况，联合第三方机构长沙市云研网络科技有限公司正在开展{row[1]}。\n",
    "\n",
    "问卷会通过微信、邮件等形式发送到您的手中，请您认真作答，您答题的真实性对于帮助母校进一步改进学生就业创业指导服务工作以及完善人才培养方案具有至关重要的意义。\n",
    "\n",
    "本次信息收集仅用于我校开展相关分析及研究，数据会严格保密。问卷填写时间大约3-8分钟。感谢您的理解与配合！\n",
    "\n",
    "（登录可使用&ldquo;姓名+身份证后6位&rdquo;）\n",
    "</p>'''\n",
    "if row[2]=='0':\n",
    "    str1 = '学生'\n",
    "    text1 = f'{row[0]}{time_str1}【{str1}】'\n",
    "    text2 = temp\n",
    "    text3 = '亲爱的校友'\n",
    "else:\n",
    "    str1 = '单位'\n",
    "    text1 = f'{row[0]}{time_str1}【{str1}】'\n",
    "    text2 = f'''<p style=\"text-align: left; text-indent: 32px;\">\n",
    "    真诚地感谢您一直以来对我校毕业生就业工作的关注和支持！为更好地服务社会，培养适合企事业单位发展的人才，我校特开展本次调研。\n",
    "\n",
    "本次调研主要涉及单位的人才需求、对毕业生的能力期望以及对我校教育教学的评价，大约会花费您五分钟的时间，数据将严格保密仅供统计分析之用。感谢您的理解与配合！\n",
    "</p>'''\n",
    "    text3 = '尊敬的用人单位'\n",
    "driver.find_element(By.XPATH,'/html/body/div[2]/div/div/div[3]/div[2]/div[1]/div[2]/div/div/div[1]/div[2]/button[1]').click()\n",
    "driver.find_element(By.XPATH,'/html/body/div[2]/div/div/div[3]/div[2]/div[1]/div[2]/div/div/div[2]/div[2]/form/div/div[1]/input').send_keys(f'{text1}')\n",
    "#邮件标题\n",
    "driver.find_element(By.XPATH,'/html/body/div[2]/div/div/div[3]/div[2]/div[1]/div[2]/div/div/div[2]/div[3]/form/div[1]/div[1]/input').send_keys(f'{row[1]}')\n",
    "driver.find_element(By.XPATH,'/html/body/div[2]/div/div/div[3]/div[2]/div[1]/div[2]/div/div/div[2]/div[3]/form/div[2]/div[1]/input').send_keys(f'{row[0]}')\n",
    "driver.find_element(By.XPATH,'/html/body/div[2]/div/div/div[3]/div[2]/div[1]/div[2]/div/div/div[2]/div[3]/form/div[4]/div[1]/div/div[1]/div[1]/div[1]/div[1]').click()\n",
    "mystr = f'''<div style=\"width: 600px;padding: 10px 20px;line-height: 1.6;margin: 0 auto;background: #fbfbfb;\">\n",
    "<p style=\"text-align:center;font-size: 24px;font-weight: bold;\">\n",
    "    {row[1]}\n",
    "</p>\n",
    "<p style=\"font-weight: bold;\">\n",
    "    {text3}：\n",
    "</p>\n",
    "<p style=\"text-indent:32px;font-weight: bold;\">\n",
    "    您好！\n",
    "</p>\n",
    "{text2}\n",
    "<p style=\"text-indent:32px;\">\n",
    "    真诚感谢您的理解与配合！\n",
    "</p>\n",
    "<p style=\"text-indent:32px;\">\n",
    "    问卷填写地址为：<a href=\"{row[3]}\">点击打开问卷填写</a>。\n",
    "</p>\n",
    "<p style=\"text-indent:32px;\">\n",
    "    或扫描下方二维码进行填写。再次感谢您的参与！\n",
    "</p>\n",
    "<p style=\"text-align:center;\">\n",
    "    <img src=\"https://o.bysjy.com.cn/{row[4]}\"/>\n",
    "&nbsp; &nbsp;\n",
    "</p>\n",
    "<p style=\"text-align:right;font-weight: bold;\">\n",
    "    {row[0]}\n",
    "</p>\n",
    "<p style=\"text-align:right;font-weight: bold;\">\n",
    "    {time_str}\n",
    "</p>\n",
    "</div>'''\n",
    "driver.find_element(By.XPATH,'/html/body/div[2]/div/div/div[3]/div[2]/div[1]/div[2]/div/div/div[2]/div[3]/form/div[4]/div[1]/div/div[2]/textarea[2]').clear()\n",
    "driver.find_element(By.XPATH,'/html/body/div[2]/div/div/div[3]/div[2]/div[1]/div[2]/div/div/div[2]/div[3]/form/div[4]/div[1]/div/div[2]/textarea[2]').send_keys(mystr)\n",
    "driver.find_element(By.XPATH,'/html/body/div[2]/div/div/div[3]/div[2]/div[1]/div[2]/div/div/div[3]/button[1]').click()\n",
    "#提交审核\n",
    "driver.find_element(By.XPATH,'/html/body/div[2]/div/div/div[3]/div[2]/div[1]/div[2]/div/div/div[2]/div/div/div[2]/table/tbody/tr[1]/td[5]/div/a[2]/span').click()\n",
    "driver.find_element(By.CSS_SELECTOR,'[class=\"btn ng-scope ng-binding btn-primary\"]').click()\n",
    "\n",
    "#新建收件人\n",
    "driver.find_element(By.XPATH,'/html/body/div[2]/div/div/div[1]/div/div[1]/div[3]/ul/li[3]/ul/li[1]/div/a/div[2]').click()\n",
    "#看一下有没有满10个\n",
    "time.sleep(1)#等全部加载出来\n",
    "if len(driver.find_elements(By.CSS_SELECTOR,'[class=\"title-column\"]')) >20:\n",
    "    element1 = driver.find_element(By.XPATH,'/html/body/div[2]/div/div/div[3]/div[2]/div[1]/div[2]/div/div/div[4]/div/div/div[2]/table/tbody/tr[8]/td[6]/div/a[2]/span')\n",
    "    driver.execute_script(\"arguments[0].click();\",element1)\n",
    "    driver.find_element(By.CSS_SELECTOR,'[class=\"btn ng-scope ng-binding btn-primary\"]').click()\n",
    "driver.find_element(By.XPATH,'/html/body/div[2]/div/div/div[3]/div[2]/div[1]/div[2]/div/div/div[1]/div[2]/button[1]/span').click()\n",
    "driver.find_element(By.CSS_SELECTOR,'[class=\"form-control  ng-pristine ng-invalid ng-invalid-required ng-valid-maxlength ng-valid-minlength\"]').send_keys(f'{row[0]}{time_str1}【{str1}】')# 列表名\n",
    "random_num = random.randint(1,100000)\n",
    "driver.find_element(By.CSS_SELECTOR,'[class=\"form-control  ng-pristine ng-invalid ng-invalid-required ng-valid-maxlength ng-valid-minlength ng-valid-pattern\"]').send_keys(f'cs{random_num}@tsmail.bibibi.net')\n",
    "driver.find_element(By.CSS_SELECTOR,'[class=\"form-control  ng-pristine ng-invalid ng-invalid-required ng-valid-maxlength ng-valid-minlength\"]').send_keys(str1)\n",
    "driver.find_element(By.CSS_SELECTOR,'[class=\"btn btn-primary ng-scope ng-binding\"]').click()\n",
    "element1=driver.find_element(By.XPATH,'/html/body/div[2]/div/div/div[3]/div[2]/div[1]/div[2]/div/div/div[4]/div/div/div[2]/table/tbody/tr[1]/td[6]/div/a[1]/div')\n",
    "driver.execute_script(\"arguments[0].click();\",element1)\n",
    "keyboard.wait('f2')\n",
    "\n",
    "#点发送邮件新建任务\n",
    "driver.find_element(By.XPATH,'/html/body/div[2]/div/div/div[1]/div/div[1]/div[3]/ul/li[3]/ul/li[2]/div/a/div[2]').click()\n",
    "driver.find_element(By.XPATH,'/html/body/div[2]/div/div/div[3]/div[2]/div[1]/div[2]/div/div/div[1]/div[2]/button[1]').click()\n",
    "time.sleep(1)\n",
    "text_list = driver.find_elements(By.CLASS_NAME,'col-sm-5')\n",
    "action = ActionChains(driver)\n",
    "time.sleep(1)\n",
    "#模板名称\n",
    "action.click(driver.find_element(By.CLASS_NAME,'select2-chosen')).perform()\n",
    "time.sleep(2)\n",
    "action.key_down(Keys.ENTER).perform()\n",
    "# 其他下拉框\n",
    "action.click(text_list[0]).perform()\n",
    "action.key_down(Keys.DOWN).key_down(Keys.ENTER).perform()\n",
    "action.click(text_list[2]).perform()\n",
    "action.key_down(Keys.DOWN).key_down(Keys.ENTER).perform()\n",
    "# action.move_to_element_with_offset(text_list[3],100,20).click().perform()\n",
    "element1 = text_list[3].find_element(By.NAME,'addressType')\n",
    "action.click(element1).perform()\n",
    "action.key_down(Keys.DOWN).key_down(Keys.ENTER).perform()\n",
    "action.click(text_list[4]).perform()\n",
    "action.key_down(Keys.DOWN).key_down(Keys.ENTER).perform()\n",
    "action.click(driver.find_element(By.NAME,'clickTrace')).perform()\n",
    "print('执行完毕')"
   ]
  },
  {
   "cell_type": "code",
   "execution_count": null,
   "metadata": {},
   "outputs": [],
   "source": []
  }
 ],
 "metadata": {
  "hide_input": false,
  "kernelspec": {
   "display_name": "Python 3",
   "language": "python",
   "name": "python3"
  },
  "language_info": {
   "codemirror_mode": {
    "name": "ipython",
    "version": 3
   },
   "file_extension": ".py",
   "mimetype": "text/x-python",
   "name": "python",
   "nbconvert_exporter": "python",
   "pygments_lexer": "ipython3",
   "version": "3.8.3"
  },
  "toc": {
   "base_numbering": 1,
   "nav_menu": {},
   "number_sections": true,
   "sideBar": true,
   "skip_h1_title": false,
   "title_cell": "Table of Contents",
   "title_sidebar": "Contents",
   "toc_cell": false,
   "toc_position": {
    "height": "calc(100% - 180px)",
    "left": "10px",
    "top": "150px",
    "width": "384px"
   },
   "toc_section_display": true,
   "toc_window_display": false
  },
  "varInspector": {
   "cols": {
    "lenName": 16,
    "lenType": 16,
    "lenVar": 40
   },
   "kernels_config": {
    "python": {
     "delete_cmd_postfix": "",
     "delete_cmd_prefix": "del ",
     "library": "var_list.py",
     "varRefreshCmd": "print(var_dic_list())"
    },
    "r": {
     "delete_cmd_postfix": ") ",
     "delete_cmd_prefix": "rm(",
     "library": "var_list.r",
     "varRefreshCmd": "cat(var_dic_list()) "
    }
   },
   "types_to_exclude": [
    "module",
    "function",
    "builtin_function_or_method",
    "instance",
    "_Feature"
   ],
   "window_display": false
  }
 },
 "nbformat": 4,
 "nbformat_minor": 5
}
