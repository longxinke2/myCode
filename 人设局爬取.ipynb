{
 "cells": [
  {
   "cell_type": "code",
   "execution_count": 127,
   "metadata": {},
   "outputs": [],
   "source": [
    "import requests\n",
    "from lxml import etree\n",
    "import re\n",
    "import pandas as pd\n",
    "from bs4 import BeautifulSoup\n",
    "import lxk"
   ]
  },
  {
   "cell_type": "code",
   "execution_count": 3,
   "metadata": {},
   "outputs": [],
   "source": [
    "url = f'https://www.yunshetong.com/'\n",
    "\n",
    "headers = {\n",
    "    'User-Agent': 'Mozilla/5.0 (Windows NT 10.0; Win64; x64) AppleWebKit/537.36 (KHTML, like Gecko) Chrome/58.0.3029.110 Safari/537.3'}\n",
    "\n",
    "# 发送请求\n",
    "response = requests.get(url, headers=headers)\n",
    "soup = BeautifulSoup(response.text,'html.parser')"
   ]
  },
  {
   "cell_type": "code",
   "execution_count": 13,
   "metadata": {},
   "outputs": [],
   "source": [
    "url_group = []\n",
    "for i in soup.select(\"a[href]\"):\n",
    "    try:\n",
    "        if i['href'].startswith('/') and i['href']!='/update':\n",
    "            url_group.append('https://www.yunshetong.com'+i['href']+'/rensheju')\n",
    "    except:\n",
    "        raise"
   ]
  },
  {
   "cell_type": "code",
   "execution_count": 46,
   "metadata": {},
   "outputs": [],
   "source": [
    "url1_group = []\n",
    "for i in range(0,len(url_group)):\n",
    "    url = url_group[i]\n",
    "    response = requests.get(url, headers=headers)\n",
    "    soup = BeautifulSoup(response.text,'html.parser')\n",
    "    while True:\n",
    "        response = requests.get(url, headers=headers)\n",
    "        soup = BeautifulSoup(response.text,'html.parser')\n",
    "        for i in soup.find('div',class_='listbox').select(\"a[href]\"):\n",
    "            url1_group.append('https://www.yunshetong.com'+i['href'])\n",
    "        try:\n",
    "            next_one = soup.find_all('a',class_='page-link')[-1]\n",
    "            if next_one.string == '»':\n",
    "                url = 'https://www.yunshetong.com'+next_one['href']\n",
    "            else:\n",
    "                break\n",
    "        except:\n",
    "            break"
   ]
  },
  {
   "cell_type": "code",
   "execution_count": 92,
   "metadata": {},
   "outputs": [],
   "source": [
    "name =[]\n",
    "quyu1 = []\n",
    "quyu2 = []\n",
    "dizhi = []\n",
    "tel = []"
   ]
  },
  {
   "cell_type": "code",
   "execution_count": 121,
   "metadata": {},
   "outputs": [],
   "source": [
    "for i in range(96,len(url1_group)):\n",
    "    try:\n",
    "        url = url1_group[i]\n",
    "        response = requests.get(url, headers=headers)\n",
    "        soup = BeautifulSoup(response.text,'html.parser')\n",
    "\n",
    "        temp = soup.find('div',class_='clearfix basic')\n",
    "        temp1 = temp.find_all('li')\n",
    "        name.append(temp.h1.string)\n",
    "        quyu1.append(len(temp1[0].find_all('a'))>0 and temp1[0].find_all('a')[0].string or '')\n",
    "        quyu2.append(len(temp1[0].find_all('a'))>1 and temp1[0].find_all('a')[1].string or '')\n",
    "        dizhi.append(re.sub('地.址','',temp1[2].text))\n",
    "        tel.append(temp1[3].span.string)\n",
    "    except:\n",
    "        print(i)\n",
    "        for j in [name,quyu1,quyu2,dizhi,tel]:\n",
    "            if i<len(j):\n",
    "                j.pop()\n",
    "        raise\n",
    "    lxk.progress_bar(i,len(url1_group))"
   ]
  },
  {
   "cell_type": "code",
   "execution_count": 124,
   "metadata": {},
   "outputs": [],
   "source": [
    "df = pd.DataFrame({'name':name,'quyu1':quyu1,'quyu2':quyu2,'dizhi':dizhi,'tel':tel})"
   ]
  },
  {
   "cell_type": "code",
   "execution_count": 126,
   "metadata": {},
   "outputs": [],
   "source": [
    "df.to_excel('人社局.xlsx')"
   ]
  },
  {
   "cell_type": "code",
   "execution_count": null,
   "metadata": {},
   "outputs": [],
   "source": []
  }
 ],
 "metadata": {
  "kernelspec": {
   "display_name": "Python 3",
   "language": "python",
   "name": "python3"
  },
  "language_info": {
   "codemirror_mode": {
    "name": "ipython",
    "version": 3
   },
   "file_extension": ".py",
   "mimetype": "text/x-python",
   "name": "python",
   "nbconvert_exporter": "python",
   "pygments_lexer": "ipython3",
   "version": "3.8.3"
  },
  "toc": {
   "base_numbering": 1,
   "nav_menu": {},
   "number_sections": true,
   "sideBar": true,
   "skip_h1_title": false,
   "title_cell": "Table of Contents",
   "title_sidebar": "Contents",
   "toc_cell": false,
   "toc_position": {},
   "toc_section_display": true,
   "toc_window_display": false
  }
 },
 "nbformat": 4,
 "nbformat_minor": 4
}
