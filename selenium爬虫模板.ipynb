{
 "cells": [
  {
   "cell_type": "code",
   "execution_count": 9,
   "metadata": {},
   "outputs": [],
   "source": [
    "import pandas as pd\n",
    "import re\n",
    "from selenium import webdriver\n",
    "from selenium.webdriver.support.ui import Select\n",
    "from selenium.webdriver.common.by import By\n",
    "import time\n",
    "import pyautogui"
   ]
  },
  {
   "cell_type": "markdown",
   "metadata": {},
   "source": [
    "# 示例代码别动"
   ]
  },
  {
   "cell_type": "code",
   "execution_count": null,
   "metadata": {},
   "outputs": [],
   "source": [
    "result = [] #结果存储列表，运行一次就好"
   ]
  },
  {
   "cell_type": "code",
   "execution_count": 72,
   "metadata": {},
   "outputs": [
    {
     "name": "stdout",
     "output_type": "stream",
     "text": [
      "3 904\n",
      "4 611\n",
      "5 284\n"
     ]
    }
   ],
   "source": [
    "try:\n",
    "    options = webdriver.ChromeOptions()\n",
    "    driver=webdriver.Chrome()\n",
    "    driver.implicitly_wait(10)\n",
    "    \n",
    "    url = f'' # url写参数进去\n",
    "    driver.get(url)\n",
    "\n",
    "    flag = 1\n",
    "    while True:\n",
    "        group= driver.find_elements(By.CSS_SELECTOR, 'div[class=\"reply_box\"]')\n",
    "        result+=[[j.find_element(By.CSS_SELECTOR, 'h3').text]+[i.text for i in j.find_elements(By.CSS_SELECTOR, 'b')] for j in group]\n",
    "        time.sleep(1)\n",
    "        flag+=1\n",
    "    driver.close()\n",
    "    pyautogui.confirm(text='over',title=\"提示\")\n",
    "except:\n",
    "    pyautogui.confirm(text='出错了！',title=\"提示\")\n",
    "    print(f'最后一个数据是{group[-1]}')\n",
    "    print(f'flag的值为{flag}')\n",
    "    #出错了解决了之后根据flag继续运行\n",
    "    raise"
   ]
  }
 ],
 "metadata": {
  "kernelspec": {
   "display_name": "Python 3",
   "language": "python",
   "name": "python3"
  },
  "language_info": {
   "codemirror_mode": {
    "name": "ipython",
    "version": 3
   },
   "file_extension": ".py",
   "mimetype": "text/x-python",
   "name": "python",
   "nbconvert_exporter": "python",
   "pygments_lexer": "ipython3",
   "version": "3.8.3"
  },
  "toc": {
   "base_numbering": 1,
   "nav_menu": {},
   "number_sections": true,
   "sideBar": true,
   "skip_h1_title": false,
   "title_cell": "Table of Contents",
   "title_sidebar": "Contents",
   "toc_cell": false,
   "toc_position": {},
   "toc_section_display": true,
   "toc_window_display": false
  }
 },
 "nbformat": 4,
 "nbformat_minor": 4
}
