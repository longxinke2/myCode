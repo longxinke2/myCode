{
 "cells": [
  {
   "cell_type": "code",
   "execution_count": 1,
   "metadata": {
    "pycharm": {
     "name": "#%%\n"
    }
   },
   "outputs": [],
   "source": [
    "import pandas as pd\n",
    "import re\n",
    "from selenium import webdriver\n",
    "from selenium.webdriver.support.ui import Select\n",
    "import time\n",
    "import pymysql\n",
    "import datetime\n",
    "from selenium.webdriver.common.by import By\n",
    "import warnings\n",
    "import os\n",
    "import random\n",
    "from selenium.webdriver import ActionChains\n",
    "from selenium.webdriver.common.keys import Keys\n",
    "from pyautogui import alert as printw\n",
    "warnings.filterwarnings('ignore')"
   ]
  },
  {
   "cell_type": "markdown",
   "metadata": {
    "pycharm": {
     "name": "#%% md\n"
    }
   },
   "source": [
    "# 参数"
   ]
  },
  {
   "cell_type": "code",
   "execution_count": 2,
   "metadata": {
    "pycharm": {
     "name": "#%%\n"
    },
    "scrolled": true
   },
   "outputs": [],
   "source": [
    "accout ='data@1140822532457527.onaliyun.com'\n",
    "password = 'Sjyjy_03'\n",
    "query_id = 7413\n",
    "\n",
    "# 下面是湖南省问卷要用的，不是湖南省问卷把下面注释掉\n",
    "query_id = '湖南科技大学'\n",
    "hunan_url = 'http://wshy.hunbys.net/survey/getCode?surveyFcode=f406a549875345dc89f351099cfd65ae'\n",
    "bynd = 2023"
   ]
  },
  {
   "cell_type": "markdown",
   "metadata": {},
   "source": [
    "# 根据id查相关信息"
   ]
  },
  {
   "cell_type": "code",
   "execution_count": 3,
   "metadata": {},
   "outputs": [],
   "source": [
    "hunan_diaoyan = False\n",
    "if isinstance(query_id,str):\n",
    "    hunan_diaoyan = True\n",
    "if not hunan_diaoyan:\n",
    "    conn = pymysql.connect(host = 'am-wz9el267w54i2r7ip131930o.ads.aliyuncs.com' # 连接名称，默认127.0.0.1\n",
    "    ,user = 'yjy_user' # 用户名\n",
    "    ,passwd='Yjy123456' # 密码\n",
    "    ,port= 3306 # 端口，默认为3306\n",
    "    ,db='yun-campusjob'#数据库名称\n",
    "    ,charset='utf8' # 字符编码\n",
    "    )\n",
    "    sql = f'''select b.school_name,a.name,a.type,a.open_url,a.qr_code_url from sch_q_define a\n",
    "    left join sch_school b on a.school_id = b.school_id\n",
    "    where q_define_id = '{query_id}'\n",
    "    '''\n",
    "    data = pd.read_sql(con=conn,sql=sql)"
   ]
  },
  {
   "cell_type": "markdown",
   "metadata": {},
   "source": [
    "# 邮箱文字部分"
   ]
  },
  {
   "cell_type": "code",
   "execution_count": 12,
   "metadata": {
    "pycharm": {
     "name": "#%%\n"
    }
   },
   "outputs": [],
   "source": [
    "# 文字部分\n",
    "curr_time = datetime.datetime.now()\n",
    "time_str = curr_time.strftime(\"%Y年%m月\")\n",
    "time_str1 = curr_time.strftime(\"%m月%d日%H:%M:%S\")\n",
    "\n",
    "str1 = ''\n",
    "row = hunan_diaoyan and [query_id,f'关于开展{bynd}届毕业生就业质量调研通知','0',hunan_url,'none'] or data.values[0]\n",
    "temp1 = re.sub('\\D','',row[1])\n",
    "temp = f'''<p style=\"text-indent:32px;\">\n",
    "    为了解你们就业的真实情况，母校联合第三方机构正在开展{temp1}届毕业生就业质量调研。\n",
    "\n",
    "问卷会通过微信、邮件等形式发送到您的手中，请您认真作答，您答题的真实性对于帮助母校进一步改进学生就业创业指导服务工作以及完善人才培养方案具有至关重要的意义。\n",
    "\n",
    "本次信息收集仅用于我校开展相关分析及研究，数据会严格保密。本次调研大约占用您3-10分钟的时间。\n",
    "\n",
    "</p>'''\n",
    "if row[2]=='0':\n",
    "    str1 = '学生'\n",
    "    text2 = temp\n",
    "    text3 = '亲爱的校友'\n",
    "else:\n",
    "    str1 = '单位'\n",
    "    text2 = f'''<p style=\"text-align: left; text-indent: 32px;\">\n",
    "    真诚地感谢您一直以来对我校毕业生就业工作的关注和支持！为更好地服务社会，培养适合企事业单位发展的人才，我校特开展本次调研。\n",
    "\n",
    "本次调研主要涉及单位的人才需求、对毕业生的能力期望以及对我校教育教学的评价，大约会花费您五分钟的时间，数据将严格保密仅供统计分析之用。感谢您的理解与配合！\n",
    "</p>'''\n",
    "    text3 = '尊敬的用人单位'\n",
    "\n",
    "mystr = hunan_diaoyan and f'''<div style=\"width: 600px;padding: 10px 20px;line-height: 1.6;margin: 0 auto;background: #fbfbfb;\">\n",
    "    <p style=\"text-align:center;font-size: 24px;font-weight: bold;\">\n",
    "        {row[1]}\n",
    "    </p>\n",
    "    <p style=\"font-weight: bold;\">\n",
    "        亲爱的同学：\n",
    "    </p>\n",
    "    <p style=\"text-indent:32px;font-weight: bold;\">\n",
    "        您好！\n",
    "    </p>\n",
    "    <p style=\"text-indent:32px;\">\n",
    "        首先，请接受来自母校的诚挚问候和真切祝福！\n",
    "\n",
    "时光匆匆，白驹过隙。您在母校度过了宝贵的青春时光，如今已登上人生的新舞台，母校将一如既往地关注您的成长。\n",
    "为了解您目前的就业现状以及您对母校人才培养、管理服务的评价及反馈意见，湖南省就业指导中心下发了&ldquo;{bynd}届毕业生就业质量调研问卷&rdquo;，在此诚挚邀请您参与调查！您的回答对母校非常重要，答案无对错之分。\n",
    "调研结果仅用于学校的分析研究，请放心填答。谢谢您对母校就业工作和人才培养的支持！ 感谢您的配合和支持！母校期待着您常回来看看，也祝福您在人生的道路上一帆风顺，前程似锦！\n",
    "    </p>\n",
    "    <p style=\"text-indent:32px;\">\n",
    "        填写方式：\n",
    "    </p>\n",
    "    <p style=\"text-indent:32px;\">\n",
    "        (1)点击问卷地址直接访问填写（如无法打开，请将链接复制到微信打开即可），问卷地址：{hunan_url}\n",
    "    </p>\n",
    "    <p style=\"text-indent:32px;\">\n",
    "        (2)进入公众号填写：查找关注&ldquo;湘促就业&rdquo;微信公众号，进入公众号的&ldquo;服务中心&rdquo;菜单的&ldquo;毕业生服务&rdquo;栏目，选择&ldquo;{bynd}届毕业生就业质量调查&rdquo;进入填写问卷。\n",
    "    </p>\n",
    "    <p style=\"text-align:right;font-weight: bold;\">\n",
    "        {time_str}\n",
    "    </p>\n",
    "    <p></p>\n",
    "    <p></p>\n",
    "</div>''' or f'''<div style=\"width: 600px;padding: 10px 20px;line-height: 1.6;margin: 0 auto;background: #fbfbfb;\">\n",
    "<p style=\"text-align:center;font-size: 24px;font-weight: bold;\">\n",
    "    {row[1]}\n",
    "</p>\n",
    "<p style=\"font-weight: bold;\">\n",
    "    {text3}：\n",
    "</p>\n",
    "<p style=\"text-indent:32px;font-weight: bold;\">\n",
    "    您好！\n",
    "</p>\n",
    "{text2}\n",
    "<p style=\"text-indent:32px;\">\n",
    "    真诚感谢您的理解与配合！\n",
    "</p>\n",
    "<p style=\"text-indent:32px;\">\n",
    "    问卷填写地址为：<a href=\"{row[3]}\">点击打开问卷填写</a>。\n",
    "</p>\n",
    "<p style=\"text-indent:32px;\">\n",
    "    或扫描下方二维码进行填写。再次感谢您的参与！\n",
    "</p>\n",
    "<p style=\"text-align:center;\">\n",
    "    <img src=\"https://o.bysjy.com.cn/{row[4]}\"/>\n",
    "&nbsp; &nbsp;\n",
    "</p>\n",
    "<p style=\"text-align:right;font-weight: bold;\">\n",
    "    {time_str}\n",
    "</p>\n",
    "</div>'''"
   ]
  },
  {
   "cell_type": "markdown",
   "metadata": {
    "pycharm": {
     "name": "#%% md\n"
    }
   },
   "source": [
    "# 打开浏览器"
   ]
  },
  {
   "cell_type": "code",
   "execution_count": 6,
   "metadata": {},
   "outputs": [],
   "source": [
    "# 目前有发现需要向右滑动的时候会失败，可以关掉浏览器再试几次看看\n",
    "\n",
    "options = webdriver.ChromeOptions()\n",
    "# 添加无界面参数\n",
    "# options.add_argument('--headless')\n",
    "driver=webdriver.Chrome()\n",
    "driver.implicitly_wait(10)\n",
    "driver.get(r'https://signin.aliyun.com/login.htm?callback=https%3A%2F%2Fdm.console.aliyun.com%2F#/main')\n",
    "driver.maximize_window()\n",
    "driver.find_element(By.NAME,\"username\").send_keys(accout)\n",
    "driver.find_element(By.XPATH,'//*[@id=\"--aliyun-xconsole-app\"]/div[1]/div[2]/div/div/div[1]/div[2]/div/div/div/div/div/form/div[5]/button').click()\n",
    "driver.find_element(By.NAME,\"password\").send_keys(password)\n",
    "driver.find_element(By.XPATH,'//*[@id=\"--aliyun-xconsole-app\"]/div[1]/div[2]/div/div/div[1]/div[2]/div/div/div/div/div/form/div[5]/button').click()"
   ]
  },
  {
   "cell_type": "markdown",
   "metadata": {},
   "source": [
    "# 新建模板"
   ]
  },
  {
   "cell_type": "code",
   "execution_count": 7,
   "metadata": {},
   "outputs": [],
   "source": [
    "driver.find_element(By.XPATH,'/html/body/div[2]/div/div/div[1]/div/div[1]/div[3]/ul/li[2]/ul/li[4]/div/a/div[2]').click()\n",
    "\n",
    "# 查看是否超过40封模板，超过了手动删掉\n",
    "str2 = driver.find_element(By.XPATH,'/html/body/div[2]/div/div/div[3]/div[2]/div[1]/div[2]/div/div/div[2]/div/div/div[2]/table/tfoot/tr/td/div[2]/div/div/span[1]').text\n",
    "if len(re.findall('100',str2))==1:\n",
    "    printw('超过了100删掉一些吧')"
   ]
  },
  {
   "cell_type": "code",
   "execution_count": 13,
   "metadata": {
    "pycharm": {
     "name": "#%%\n"
    }
   },
   "outputs": [],
   "source": [
    "# 新建模板\n",
    "driver.find_element(By.XPATH,'/html/body/div[2]/div/div/div[3]/div[2]/div[1]/div[2]/div/div/div[1]/div[2]/button[1]').click()\n",
    "driver.find_element(By.XPATH,'/html/body/div[2]/div/div/div[3]/div[2]/div[1]/div[2]/div/div/div[2]/div[2]/form/div/div[1]/input').send_keys(f'{row[0]}{time_str1}【{str1}】')\n",
    "driver.find_element(By.XPATH,'/html/body/div[2]/div/div/div[3]/div[2]/div[1]/div[2]/div/div/div[2]/div[3]/form/div[1]/div[1]/input').send_keys(f'{row[1]}')\n",
    "driver.find_element(By.XPATH,'/html/body/div[2]/div/div/div[3]/div[2]/div[1]/div[2]/div/div/div[2]/div[3]/form/div[2]/div[1]/input').send_keys(f'{row[0]}')\n",
    "driver.find_element(By.XPATH,'/html/body/div[2]/div/div/div[3]/div[2]/div[1]/div[2]/div/div/div[2]/div[3]/form/div[4]/div[1]/div/div[1]/div[1]/div[1]/div[1]').click()\n",
    "\n",
    "driver.find_element(By.XPATH,'/html/body/div[2]/div/div/div[3]/div[2]/div[1]/div[2]/div/div/div[2]/div[3]/form/div[4]/div[1]/div/div[2]/textarea[2]').clear()\n",
    "driver.find_element(By.XPATH,'/html/body/div[2]/div/div/div[3]/div[2]/div[1]/div[2]/div/div/div[2]/div[3]/form/div[4]/div[1]/div/div[2]/textarea[2]').send_keys(mystr)\n",
    "driver.find_element(By.XPATH,'/html/body/div[2]/div/div/div[3]/div[2]/div[1]/div[2]/div/div/div[3]/button[1]').click()\n",
    "#提交审核\n",
    "driver.find_element(By.XPATH,'/html/body/div[2]/div/div/div[3]/div[2]/div[1]/div[2]/div/div/div[2]/div/div/div[2]/table/tbody/tr[1]/td[5]/div/a[2]/span').click()\n",
    "driver.find_element(By.CSS_SELECTOR,'[class=\"btn ng-scope ng-binding btn-primary\"]').click()"
   ]
  },
  {
   "cell_type": "markdown",
   "metadata": {
    "pycharm": {
     "name": "#%%\n"
    }
   },
   "source": [
    "# 新建收件人"
   ]
  },
  {
   "cell_type": "code",
   "execution_count": 9,
   "metadata": {
    "pycharm": {
     "name": "#%%\n"
    }
   },
   "outputs": [],
   "source": [
    "driver.find_element(By.XPATH,'/html/body/div[2]/div/div/div[1]/div/div[1]/div[3]/ul/li[3]/ul/li[1]/div/a/div[2]').click()\n",
    "#看一下有没有满10个\n",
    "time.sleep(1)#等全部加载出来\n",
    "if len(driver.find_elements(By.CSS_SELECTOR,'[class=\"title-column\"]')) >20:\n",
    "    printw('超过10个收件人，请删除')"
   ]
  },
  {
   "cell_type": "code",
   "execution_count": 10,
   "metadata": {
    "pycharm": {
     "name": "#%%\n"
    }
   },
   "outputs": [],
   "source": [
    "driver.find_element(By.XPATH,'/html/body/div[2]/div/div/div[3]/div[2]/div[1]/div[2]/div/div/div[1]/div[2]/button[1]/span').click()\n",
    "driver.find_element(By.CSS_SELECTOR,'[class=\"form-control  ng-pristine ng-invalid ng-invalid-required ng-valid-maxlength ng-valid-minlength\"]').send_keys(f'{row[0]}{time_str1}【{str1}】')# 列表名\n",
    "random_num = random.randint(1,100000)\n",
    "driver.find_element(By.CSS_SELECTOR,'[class=\"form-control  ng-pristine ng-invalid ng-invalid-required ng-valid-maxlength ng-valid-minlength ng-valid-pattern\"]').send_keys(f'cs{random_num}@tsmail.bibibi.net')\n",
    "driver.find_element(By.CSS_SELECTOR,'[class=\"form-control  ng-pristine ng-invalid ng-invalid-required ng-valid-maxlength ng-valid-minlength\"]').send_keys(str1)\n",
    "driver.find_element(By.CSS_SELECTOR,'[class=\"btn btn-primary ng-scope ng-binding\"]').click()\n",
    "element1=driver.find_element(By.XPATH,'/html/body/div[2]/div/div/div[3]/div[2]/div[1]/div[2]/div/div/div[4]/div/div/div[2]/table/tbody/tr[1]/td[6]/div/a[1]/div')\n",
    "driver.execute_script(\"arguments[0].click();\",element1)"
   ]
  },
  {
   "cell_type": "markdown",
   "metadata": {},
   "source": [
    "# 发送邮件（自动选最新的模板）"
   ]
  },
  {
   "cell_type": "code",
   "execution_count": 35,
   "metadata": {
    "pycharm": {
     "name": "#%%\n"
    }
   },
   "outputs": [
    {
     "name": "stdout",
     "output_type": "stream",
     "text": [
      "执行完毕\n"
     ]
    }
   ],
   "source": [
    "#点发送邮件新建任务\n",
    "driver.find_element(By.XPATH,'/html/body/div[2]/div/div/div[1]/div/div[1]/div[3]/ul/li[3]/ul/li[2]/div/a/div[2]').click()\n",
    "driver.find_element(By.XPATH,'/html/body/div[2]/div/div/div[3]/div[2]/div[1]/div[2]/div/div/div[1]/div[2]/button[1]').click()\n",
    "time.sleep(1)\n",
    "text_list = driver.find_elements(By.CLASS_NAME,'col-sm-5')\n",
    "action = ActionChains(driver)\n",
    "time.sleep(1)\n",
    "#模板名称\n",
    "action.click(driver.find_element(By.CLASS_NAME,'select2-chosen')).perform()\n",
    "time.sleep(2)\n",
    "action.key_down(Keys.ENTER).perform()\n",
    "# 其他下拉框\n",
    "action.click(text_list[2]).perform()\n",
    "action.key_down(Keys.DOWN).key_down(Keys.ENTER).perform()\n",
    "element1 = text_list[3].find_element(By.NAME,'addressType')\n",
    "action.click(element1).perform()\n",
    "action.key_down(Keys.DOWN).key_down(Keys.ENTER).perform()\n",
    "action.click(text_list[4]).perform()\n",
    "action.key_down(Keys.DOWN).key_down(Keys.ENTER).perform()\n",
    "action.click(text_list[0]).perform()#收件人列表大部分情况下都是选测试\n",
    "for i in range(10):\n",
    "    action.key_down(Keys.DOWN).perform()\n",
    "action.key_down(Keys.DOWN).key_down(Keys.ENTER).perform()\n",
    "print('执行完毕')"
   ]
  },
  {
   "cell_type": "code",
   "execution_count": null,
   "metadata": {},
   "outputs": [],
   "source": []
  }
 ],
 "metadata": {
  "hide_input": false,
  "kernelspec": {
   "display_name": "Python 3",
   "language": "python",
   "name": "python3"
  },
  "language_info": {
   "codemirror_mode": {
    "name": "ipython",
    "version": 3
   },
   "file_extension": ".py",
   "mimetype": "text/x-python",
   "name": "python",
   "nbconvert_exporter": "python",
   "pygments_lexer": "ipython3",
   "version": "3.8.3"
  },
  "toc": {
   "base_numbering": 1,
   "nav_menu": {},
   "number_sections": true,
   "sideBar": true,
   "skip_h1_title": false,
   "title_cell": "Table of Contents",
   "title_sidebar": "Contents",
   "toc_cell": false,
   "toc_position": {
    "height": "calc(100% - 180px)",
    "left": "10px",
    "top": "150px",
    "width": "222.4px"
   },
   "toc_section_display": true,
   "toc_window_display": true
  },
  "varInspector": {
   "cols": {
    "lenName": 16,
    "lenType": 16,
    "lenVar": 40
   },
   "kernels_config": {
    "python": {
     "delete_cmd_postfix": "",
     "delete_cmd_prefix": "del ",
     "library": "var_list.py",
     "varRefreshCmd": "print(var_dic_list())"
    },
    "r": {
     "delete_cmd_postfix": ") ",
     "delete_cmd_prefix": "rm(",
     "library": "var_list.r",
     "varRefreshCmd": "cat(var_dic_list()) "
    }
   },
   "types_to_exclude": [
    "module",
    "function",
    "builtin_function_or_method",
    "instance",
    "_Feature"
   ],
   "window_display": false
  }
 },
 "nbformat": 4,
 "nbformat_minor": 5
}
