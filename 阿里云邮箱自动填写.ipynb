{
 "cells": [
  {
   "cell_type": "code",
   "execution_count": 1,
   "metadata": {
    "pycharm": {
     "name": "#%%\n"
    }
   },
   "outputs": [],
   "source": [
    "import pandas as pd\n",
    "import re\n",
    "from selenium import webdriver\n",
    "from selenium.webdriver.support.ui import Select\n",
    "import time\n",
    "import pymysql\n",
    "import datetime\n",
    "from selenium.webdriver.common.by import By\n",
    "import warnings\n",
    "import os\n",
    "import random\n",
    "from selenium.webdriver import ActionChains\n",
    "from selenium.webdriver.common.keys import Keys\n",
    "from pyautogui import alert as printw\n",
    "from pyautogui import confirm\n",
    "warnings.filterwarnings('ignore')"
   ]
  },
  {
   "cell_type": "code",
   "execution_count": 2,
   "metadata": {},
   "outputs": [],
   "source": [
    "def find_by_text(group,text):\n",
    "    for i in group:\n",
    "        if i.text==text:\n",
    "            return i"
   ]
  },
  {
   "cell_type": "code",
   "execution_count": 3,
   "metadata": {},
   "outputs": [],
   "source": [
    "# 除了上传邮箱是手动的，其他的只要全部用代码跑，我想不到会怎么出错\n",
    "# 传错邮箱会报错的，不用担心，只要你传的是代码跑出来的邮箱\n",
    "# 除此之外，你做的一切操作应当谨慎"
   ]
  },
  {
   "cell_type": "markdown",
   "metadata": {
    "pycharm": {
     "name": "#%% md\n"
    }
   },
   "source": [
    "# 参数"
   ]
  },
  {
   "cell_type": "code",
   "execution_count": 4,
   "metadata": {
    "pycharm": {
     "name": "#%%\n"
    },
    "scrolled": true
   },
   "outputs": [],
   "source": [
    "accout ='data@1140822532457527.onaliyun.com'\n",
    "password = 'Yy@321456'\n",
    "query_id = 8069\n",
    "bynd = 2023\n",
    "\n",
    "# 下面是湖南省问卷要用的，不是湖南省问卷把下面注释掉\n",
    "#query_id = '郴州职业技术学院'#已与老师确认-1109\n",
    "#query_id = '湖南科技学院'#已与老师确认-1109\n",
    "query_id = '湖南女子学院'#已与老师确认-1109\n",
    "#query_id = '湖南工学院'#已与老师确认-1109\n",
    "#query_id = '湖南体育职业学院'#已与老师确认-1109\n",
    "#query_id = '湖南科技大学'#已与老师确认-1109\n",
    "#query_id = '湖南交通工程学院'#已与老师确认-1109\n",
    "#query_id = '湖南文理学院'#【绝对不能删的邮箱】已与老师确认-1109\n",
    "#query_id = '湖南九嶷职业技术学院'#【绝对不能删的邮箱】已与老师确认-1109\n",
    "#query_id = '邵阳学院'#【绝对不能删的邮箱】已与老师确认-1109\n",
    "#query_id = '长沙理工大学城南学院'#【绝对不能删的邮箱】已与老师确认-1109\n",
    "#query_id = '湖南大众传媒职业技术学院'#已与老师确认-1109\n",
    "\n",
    "#query_id = '湖南应用技术学院'\n",
    "#query_id = '湖南信息职业技术学院'\n",
    "#query_id = '湖南食品药品职业学院'\n",
    "#query_id = '长沙卫生职业学院'\n",
    "#query_id = '湖南中医药大学'\n",
    "#query_id = '湖南交通职业技术学院'\n",
    "#query_id = '长沙商贸旅游职业技术学院'\n",
    "#query_id = '湖南警察学院'\n",
    "#query_id = '湖南化工职业技术学院'\n",
    "\n",
    "#query_id = '湖南师范大学'#【朱黎的不要动】\n",
    "#query_id = '湖南工商大学'\n",
    "#query_id = '湖南工业大学科技学院'\n",
    "#query_id = '湖南幼儿师范高等专科学校'\n",
    "#query_id = '湘中幼儿师范高等专科学校'\n",
    "#query_id = '湖南汽车工程职业学院'\n",
    "#query_id = '保险职业学院'\n",
    "#query_id = '湘西民族职业技术学院'\n",
    "#query_id = '湖南财政经济学院'\n",
    "#query_id = '湖南财经工业职业技术学院'\n",
    "#query_id = '吉首大学'\n",
    "#query_id = '怀化职业技术学院'\n",
    "#query_id = '湖南医药学院'\n",
    "\n",
    "#query_id = '湖南邮电职业技术学院'#待确认\n",
    "#query_id = '湖南铁道职业技术学院'\n",
    "#query_id = '湘南学院'\n",
    "#query_id = '娄底职业技术学院'\n",
    "#query_id = '湖南人文科技学院'\n",
    "#query_id = '湖南高速铁路职业技术学院'\n",
    "#query_id = '永州师范高等专科学校'\n",
    "hunan_url = 'http://wshy.hunbys.net/survey/getCode?surveyFcode=f406a549875345dc89f351099cfd65ae'"
   ]
  },
  {
   "cell_type": "markdown",
   "metadata": {},
   "source": [
    "# 根据id查相关信息"
   ]
  },
  {
   "cell_type": "code",
   "execution_count": 5,
   "metadata": {},
   "outputs": [],
   "source": [
    "can_send = False\n",
    "hunan_diaoyan = False\n",
    "if isinstance(query_id,str):\n",
    "    hunan_diaoyan = True\n",
    "conn = pymysql.connect(host = 'am-wz9el267w54i2r7ip131930o.ads.aliyuncs.com' # 连接名称，默认127.0.0.1\n",
    "    ,user = 'yjy_user' # 用户名\n",
    "    ,passwd='Yjy123456' # 密码\n",
    "    ,port= 3306 # 端口，默认为3306\n",
    "    ,db='yun-campusjob'#数据库名称\n",
    "    ,charset='utf8' # 字符编码\n",
    "    )\n",
    "if not hunan_diaoyan:\n",
    "    \n",
    "    sql = f'''select b.school_name,a.name,a.type,a.open_url,a.qr_code_url from sch_q_define a\n",
    "    left join sch_school b on a.school_id = b.school_id\n",
    "    where q_define_id = '{query_id}'\n",
    "    '''\n",
    "    data = pd.read_sql(con=conn,sql=sql)"
   ]
  },
  {
   "cell_type": "markdown",
   "metadata": {},
   "source": [
    "# 邮箱文字部分"
   ]
  },
  {
   "cell_type": "code",
   "execution_count": 6,
   "metadata": {
    "pycharm": {
     "name": "#%%\n"
    }
   },
   "outputs": [
    {
     "data": {
      "text/plain": [
       "'OK'"
      ]
     },
     "execution_count": 6,
     "metadata": {},
     "output_type": "execute_result"
    }
   ],
   "source": [
    "# 文字部分\n",
    "curr_time = datetime.datetime.now()\n",
    "time_str = curr_time.strftime(\"%Y年%m月\")\n",
    "time_str1 = curr_time.strftime(\"%m月%d日%H:%M:%S\")\n",
    "\n",
    "str1 = ''\n",
    "row = hunan_diaoyan and [query_id,f'关于开展{bynd}届毕业生就业质量调研通知','0',hunan_url,'none'] or data.values[0]\n",
    "\n",
    "temp1 = re.sub('\\D','',row[1])\n",
    "if int(bynd) != int(temp1):\n",
    "    printw(f'届别对不上')\n",
    "    raise\n",
    "    \n",
    "row[0] = row[0]=='云研数据研究院' and re.findall(f'(.*){bynd}',row[1])[0] or row[0]\n",
    "\n",
    "temp = f'''<p style=\"text-indent:32px;\">\n",
    "    为了解你们就业的真实情况，母校联合第三方机构正在开展{temp1}届毕业生就业质量调研。\n",
    "\n",
    "问卷会通过微信、邮件等形式发送到您的手中，请您认真作答，您答题的真实性对于帮助母校进一步改进学生就业创业指导服务工作以及完善人才培养方案具有至关重要的意义。\n",
    "\n",
    "本次信息收集仅用于我校开展相关分析及研究，数据会严格保密。本次调研大约占用您3-10分钟的时间。\n",
    "\n",
    "</p>'''\n",
    "if row[2]=='0':\n",
    "    str1 = '学生'\n",
    "    text2 = temp\n",
    "    text3 = '亲爱的校友'\n",
    "else:\n",
    "    str1 = '单位'\n",
    "    text2 = f'''<p style=\"text-align: left; text-indent: 32px;\">\n",
    "    真诚地感谢您一直以来对我校毕业生就业工作的关注和支持！为更好地服务社会，培养适合企事业单位发展的人才，我校特开展本次调研。\n",
    "\n",
    "本次调研主要涉及单位的人才需求、对毕业生的能力期望以及对我校教育教学的评价，大约会花费您五分钟的时间，数据将严格保密仅供统计分析之用。\n",
    "</p>'''\n",
    "    text3 = '尊敬的用人单位'\n",
    "\n",
    "mystr = hunan_diaoyan and f'''<div style=\"width: 600px;padding: 10px 20px;line-height: 1.6;margin: 0 auto;background: #fbfbfb;\">\n",
    "    <p style=\"text-align:center;font-size: 24px;font-weight: bold;\">\n",
    "        {row[1]}\n",
    "    </p>\n",
    "    <p style=\"font-weight: bold;\">\n",
    "        亲爱的同学：\n",
    "    </p>\n",
    "    <p style=\"text-indent:32px;font-weight: bold;\">\n",
    "        您好！\n",
    "    </p>\n",
    "    <p style=\"text-indent:32px;\">\n",
    "        首先，请接受来自母校的诚挚问候和真切祝福！\n",
    "\n",
    "时光匆匆，白驹过隙。您在母校度过了宝贵的青春时光，如今已登上人生的新舞台，母校将一如既往地关注您的成长。\n",
    "为了解您目前的就业现状以及您对母校人才培养、管理服务的评价及反馈意见，湖南省就业指导中心下发了&ldquo;{bynd}届毕业生就业质量调研问卷&rdquo;，在此诚挚邀请您参与调查！您的回答对母校非常重要，答案无对错之分。\n",
    "调研结果仅用于学校的分析研究，请放心填答。谢谢您对母校就业工作和人才培养的支持！ 母校期待着您常回来看看，也祝福您在人生的道路上一帆风顺，前程似锦！\n",
    "    </p>\n",
    "    <p style=\"text-indent:32px;\">\n",
    "        填写方式：\n",
    "    </p>\n",
    "    <p style=\"text-indent:32px;\">\n",
    "        (1)点击问卷地址直接访问填写（如无法打开，请将链接复制到微信打开即可），问卷地址：{hunan_url}\n",
    "    </p>\n",
    "    <p style=\"text-indent:32px;\">\n",
    "        (2)进入公众号填写：查找关注&ldquo;湘促就业&rdquo;微信公众号，进入公众号的&ldquo;服务中心&rdquo;菜单的&ldquo;毕业生服务&rdquo;栏目，选择&ldquo;{bynd}届毕业生就业质量调查&rdquo;进入填写问卷。\n",
    "    </p>\n",
    "    <p style=\"text-align:right;font-weight: bold;\">\n",
    "        {time_str}\n",
    "    </p>\n",
    "    <p></p>\n",
    "    <p></p>\n",
    "</div>''' or f'''<div style=\"width: 600px;padding: 10px 20px;line-height: 1.6;margin: 0 auto;background: #fbfbfb;\">\n",
    "<p style=\"text-align:center;font-size: 24px;font-weight: bold;\">\n",
    "    {row[1]}\n",
    "</p>\n",
    "<p style=\"font-weight: bold;\">\n",
    "    {text3}：\n",
    "</p>\n",
    "<p style=\"text-indent:32px;font-weight: bold;\">\n",
    "    您好！\n",
    "</p>\n",
    "{text2}\n",
    "<p style=\"text-indent:32px;\">\n",
    "    真诚感谢您的理解与配合！\n",
    "</p>\n",
    "<p style=\"text-indent:32px;\">\n",
    "    问卷填写地址为：<a href=\"{row[3]}\">点击打开问卷填写</a>。\n",
    "</p>\n",
    "<p style=\"text-indent:32px;\">\n",
    "    或扫描下方二维码进行填写。再次感谢您的参与！\n",
    "</p>\n",
    "<p style=\"text-align:center;\">\n",
    "    <img src=\"https://o.bysjy.com.cn/{row[4]}\"/>\n",
    "&nbsp; &nbsp;\n",
    "</p>\n",
    "<p style=\"text-align:right;font-weight: bold;\">\n",
    "    {time_str}\n",
    "</p>\n",
    "</div>'''\n",
    "\n",
    "model_name = f'{row[0]}{time_str1}【{str1}】'[:30]\n",
    "printw(f'请确定发件人名称——{row[0]}')"
   ]
  },
  {
   "cell_type": "markdown",
   "metadata": {
    "pycharm": {
     "name": "#%% md\n"
    }
   },
   "source": [
    "# 打开浏览器"
   ]
  },
  {
   "cell_type": "code",
   "execution_count": 7,
   "metadata": {},
   "outputs": [],
   "source": [
    "# 目前有发现需要向右滑动的时候会失败，可以关掉浏览器再试几次看看\n",
    "\n",
    "options = webdriver.ChromeOptions()\n",
    "# 添加无界面参数\n",
    "# options.add_argument('--headless')\n",
    "driver=webdriver.Chrome()\n",
    "driver.implicitly_wait(10)\n",
    "driver.get(r'https://signin.aliyun.com/login.htm?callback=https%3A%2F%2Fdm.console.aliyun.com%2F#/main')\n",
    "# driver.maximize_window()\n",
    "driver.find_element(By.NAME,\"username\").send_keys(accout)\n",
    "driver.find_element(By.XPATH,'//*[@id=\"--aliyun-xconsole-app\"]/div[1]/div[2]/div/div/div[1]/div[2]/div/div/div/div/div/form/div[5]/button').click()\n",
    "driver.find_element(By.NAME,\"password\").send_keys(password)\n",
    "driver.find_element(By.XPATH,'//*[@id=\"--aliyun-xconsole-app\"]/div[1]/div[2]/div/div/div[1]/div[2]/div/div/div/div/div/form/div[5]/button').click()"
   ]
  },
  {
   "cell_type": "markdown",
   "metadata": {},
   "source": [
    "# 新建模板"
   ]
  },
  {
   "cell_type": "code",
   "execution_count": null,
   "metadata": {},
   "outputs": [],
   "source": [
    "driver.find_element(By.XPATH,'/html/body/div[2]/div/div/div[1]/div/div[1]/div[3]/ul/li[2]/ul/li[4]/div/a/div[2]').click()\n",
    "\n",
    "# 查看是否超过40封模板，超过了自动删掉后9个模板\n",
    "str2 = driver.find_element(By.XPATH,'/html/body/div[2]/div/div/div[3]/div[2]/div[1]/div[2]/div/div/div[2]/div/div/div[2]/table/tfoot/tr/td/div[2]/div/div/span[1]').text\n",
    "if len(re.findall('100',str2))==1:\n",
    "    find_by_text(driver.find_element(By.CSS_SELECTOR,'[class=\"pull-right ng-isolate-scope\"]').find_elements(By.CSS_SELECTOR,'[class=\"ng-binding\"]'),'»').click()\n",
    "    time.sleep(1)\n",
    "    for i in range(9):\n",
    "        time.sleep(1)\n",
    "        driver.find_elements(By.CSS_SELECTOR,'[class=\"btn btn-link btn-xs ng-scope ng-isolate-scope\"]')[-1].click()\n",
    "        driver.find_element(By.CSS_SELECTOR,'[class=\"btn ng-scope ng-binding btn-primary\"]').click()\n",
    "\n",
    "# 新建模板\n",
    "driver.find_element(By.XPATH,'/html/body/div[2]/div/div/div[3]/div[2]/div[1]/div[2]/div/div/div[1]/div[2]/button[1]').click()\n",
    "driver.find_element(By.XPATH,'/html/body/div[2]/div/div/div[3]/div[2]/div[1]/div[2]/div/div/div[2]/div[2]/form/div/div[1]/input').send_keys(model_name)\n",
    "driver.find_element(By.XPATH,'/html/body/div[2]/div/div/div[3]/div[2]/div[1]/div[2]/div/div/div[2]/div[3]/form/div[1]/div[1]/input').send_keys(f'{row[1]}')\n",
    "driver.find_element(By.XPATH,'/html/body/div[2]/div/div/div[3]/div[2]/div[1]/div[2]/div/div/div[2]/div[3]/form/div[2]/div[1]/input').send_keys(f'{row[0]}')\n",
    "driver.find_element(By.XPATH,'/html/body/div[2]/div/div/div[3]/div[2]/div[1]/div[2]/div/div/div[2]/div[3]/form/div[4]/div[1]/div/div[1]/div[1]/div[1]/div[1]').click()\n",
    "\n",
    "driver.find_element(By.XPATH,'/html/body/div[2]/div/div/div[3]/div[2]/div[1]/div[2]/div/div/div[2]/div[3]/form/div[4]/div[1]/div/div[2]/textarea[2]').clear()\n",
    "driver.find_element(By.XPATH,'/html/body/div[2]/div/div/div[3]/div[2]/div[1]/div[2]/div/div/div[2]/div[3]/form/div[4]/div[1]/div/div[2]/textarea[2]').send_keys(mystr)\n",
    "driver.find_element(By.XPATH,'/html/body/div[2]/div/div/div[3]/div[2]/div[1]/div[2]/div/div/div[3]/button[1]').click()\n",
    "#提交审核\n",
    "driver.find_element(By.XPATH,'/html/body/div[2]/div/div/div[3]/div[2]/div[1]/div[2]/div/div/div[2]/div/div/div[2]/table/tbody/tr[1]/td[5]/div/a[2]/span').click()\n",
    "driver.find_element(By.CSS_SELECTOR,'[class=\"btn ng-scope ng-binding btn-primary\"]').click()"
   ]
  },
  {
   "cell_type": "markdown",
   "metadata": {},
   "source": [
    "# 发送测试邮件"
   ]
  },
  {
   "cell_type": "code",
   "execution_count": 10,
   "metadata": {
    "pycharm": {
     "name": "#%%\n"
    }
   },
   "outputs": [],
   "source": [
    "#点发送邮件新建任务\n",
    "driver.find_element(By.XPATH,'/html/body/div[2]/div/div/div[1]/div/div[1]/div[3]/ul/li[3]/ul/li[2]/div/a/div[2]').click()\n",
    "driver.find_element(By.XPATH,'/html/body/div[2]/div/div/div[3]/div[2]/div[1]/div[2]/div/div/div[1]/div[2]/button[1]').click()\n",
    "time.sleep(1)\n",
    "# 这里的下拉框都不支持点击，只能用action点\n",
    "text_list = driver.find_elements(By.CLASS_NAME,'col-sm-5')\n",
    "action = ActionChains(driver)\n",
    "time.sleep(1)\n",
    "#模板名称\n",
    "action.click(driver.find_element(By.CLASS_NAME,'select2-chosen')).perform()\n",
    "driver.find_element(By.XPATH, f\"//span[@title='{model_name}']\").click()\n",
    "# 其他下拉框\n",
    "action.click(text_list[2]).perform()\n",
    "action.key_down(Keys.DOWN).key_down(Keys.ENTER).perform()\n",
    "element1 = text_list[3].find_element(By.NAME,'addressType')\n",
    "action.click(element1).perform()\n",
    "action.key_down(Keys.DOWN).key_down(Keys.ENTER).perform()\n",
    "action.click(text_list[4]).perform()\n",
    "action.key_down(Keys.DOWN).key_down(Keys.ENTER).perform()\n",
    "action.click(text_list[0]).perform()#收件人列表大部分情况下都是选测试\n",
    "for i in range(10):#按试下down肯定没问题\n",
    "    action.key_down(Keys.DOWN).perform()\n",
    "action.key_down(Keys.DOWN).key_down(Keys.ENTER).perform()"
   ]
  },
  {
   "cell_type": "markdown",
   "metadata": {
    "pycharm": {
     "name": "#%%\n"
    }
   },
   "source": [
    "# 新建收件人"
   ]
  },
  {
   "cell_type": "code",
   "execution_count": 24,
   "metadata": {
    "pycharm": {
     "name": "#%%\n"
    }
   },
   "outputs": [
    {
     "name": "stdout",
     "output_type": "stream",
     "text": [
      "上次跑过了这次就不跑了\n"
     ]
    },
    {
     "ename": "WebDriverException",
     "evalue": "Message: disconnected: unable to send message to renderer\n  (failed to check if window was closed: disconnected: not connected to DevTools)\n  (Session info: chrome=118.0.5993.118)\nStacktrace:\n\tGetHandleVerifier [0x00007FF6DAC38EF2+54786]\n\t(No symbol) [0x00007FF6DABA5612]\n\t(No symbol) [0x00007FF6DAA5A64B]\n\t(No symbol) [0x00007FF6DAA4751F]\n\t(No symbol) [0x00007FF6DAA47E6E]\n\t(No symbol) [0x00007FF6DAA5D597]\n\t(No symbol) [0x00007FF6DAA5DF1B]\n\t(No symbol) [0x00007FF6DAA6115F]\n\t(No symbol) [0x00007FF6DAA61250]\n\t(No symbol) [0x00007FF6DAA9B424]\n\t(No symbol) [0x00007FF6DAA9B91C]\n\t(No symbol) [0x00007FF6DAAD6D87]\n\t(No symbol) [0x00007FF6DAABBEAF]\n\t(No symbol) [0x00007FF6DAAD4D02]\n\t(No symbol) [0x00007FF6DAABBC43]\n\t(No symbol) [0x00007FF6DAA90941]\n\t(No symbol) [0x00007FF6DAA91B84]\n\tGetHandleVerifier [0x00007FF6DAF87F52+3524194]\n\tGetHandleVerifier [0x00007FF6DAFDD800+3874576]\n\tGetHandleVerifier [0x00007FF6DAFD5D7F+3843215]\n\tGetHandleVerifier [0x00007FF6DACD5086+694166]\n\t(No symbol) [0x00007FF6DABB0A88]\n\t(No symbol) [0x00007FF6DABACA94]\n\t(No symbol) [0x00007FF6DABACBC2]\n\t(No symbol) [0x00007FF6DAB9CC83]\n\tBaseThreadInitThunk [0x00007FFB770A7034+20]\n\tRtlUserThreadStart [0x00007FFB77D22651+33]\n",
     "output_type": "error",
     "traceback": [
      "\u001b[1;31m---------------------------------------------------------------------------\u001b[0m",
      "\u001b[1;31mWebDriverException\u001b[0m                        Traceback (most recent call last)",
      "\u001b[1;32m~\\AppData\\Local\\Temp\\ipykernel_12800\\687988739.py\u001b[0m in \u001b[0;36m<module>\u001b[1;34m\u001b[0m\n\u001b[0;32m     43\u001b[0m \u001b[0mtime\u001b[0m\u001b[1;33m.\u001b[0m\u001b[0msleep\u001b[0m\u001b[1;33m(\u001b[0m\u001b[1;36m1\u001b[0m\u001b[1;33m)\u001b[0m\u001b[1;33m\u001b[0m\u001b[1;33m\u001b[0m\u001b[0m\n\u001b[0;32m     44\u001b[0m \u001b[1;31m# 上传收件人\u001b[0m\u001b[1;33m\u001b[0m\u001b[1;33m\u001b[0m\u001b[0m\n\u001b[1;32m---> 45\u001b[1;33m \u001b[0mdriver\u001b[0m\u001b[1;33m.\u001b[0m\u001b[0mfind_element\u001b[0m\u001b[1;33m(\u001b[0m\u001b[0mBy\u001b[0m\u001b[1;33m.\u001b[0m\u001b[0mXPATH\u001b[0m\u001b[1;33m,\u001b[0m\u001b[1;34m'/html/body/div[2]/div/div/div[3]/div[2]/div[1]/div[2]/div/div/div[4]/div/div/div[2]/table/tbody/tr[1]/td[6]/div/a[1]/div'\u001b[0m\u001b[1;33m)\u001b[0m\u001b[1;33m.\u001b[0m\u001b[0mclick\u001b[0m\u001b[1;33m(\u001b[0m\u001b[1;33m)\u001b[0m\u001b[1;33m\u001b[0m\u001b[1;33m\u001b[0m\u001b[0m\n\u001b[0m\u001b[0;32m     46\u001b[0m \u001b[1;33m\u001b[0m\u001b[0m\n\u001b[0;32m     47\u001b[0m \u001b[0mprintw\u001b[0m\u001b[1;33m(\u001b[0m\u001b[1;34mf'注意找这个学校！\\n*****{row[0]}*****'\u001b[0m\u001b[1;33m)\u001b[0m\u001b[1;33m\u001b[0m\u001b[1;33m\u001b[0m\u001b[0m\n",
      "\u001b[1;32mD:\\anocodar\\lib\\site-packages\\selenium\\webdriver\\remote\\webdriver.py\u001b[0m in \u001b[0;36mfind_element\u001b[1;34m(self, by, value)\u001b[0m\n\u001b[0;32m    859\u001b[0m             \u001b[0mvalue\u001b[0m \u001b[1;33m=\u001b[0m \u001b[1;34m'[name=\"%s\"]'\u001b[0m \u001b[1;33m%\u001b[0m \u001b[0mvalue\u001b[0m\u001b[1;33m\u001b[0m\u001b[1;33m\u001b[0m\u001b[0m\n\u001b[0;32m    860\u001b[0m \u001b[1;33m\u001b[0m\u001b[0m\n\u001b[1;32m--> 861\u001b[1;33m         \u001b[1;32mreturn\u001b[0m \u001b[0mself\u001b[0m\u001b[1;33m.\u001b[0m\u001b[0mexecute\u001b[0m\u001b[1;33m(\u001b[0m\u001b[0mCommand\u001b[0m\u001b[1;33m.\u001b[0m\u001b[0mFIND_ELEMENT\u001b[0m\u001b[1;33m,\u001b[0m \u001b[1;33m{\u001b[0m\u001b[1;34m\"using\"\u001b[0m\u001b[1;33m:\u001b[0m \u001b[0mby\u001b[0m\u001b[1;33m,\u001b[0m \u001b[1;34m\"value\"\u001b[0m\u001b[1;33m:\u001b[0m \u001b[0mvalue\u001b[0m\u001b[1;33m}\u001b[0m\u001b[1;33m)\u001b[0m\u001b[1;33m[\u001b[0m\u001b[1;34m\"value\"\u001b[0m\u001b[1;33m]\u001b[0m\u001b[1;33m\u001b[0m\u001b[1;33m\u001b[0m\u001b[0m\n\u001b[0m\u001b[0;32m    862\u001b[0m \u001b[1;33m\u001b[0m\u001b[0m\n\u001b[0;32m    863\u001b[0m     \u001b[1;32mdef\u001b[0m \u001b[0mfind_elements\u001b[0m\u001b[1;33m(\u001b[0m\u001b[0mself\u001b[0m\u001b[1;33m,\u001b[0m \u001b[0mby\u001b[0m\u001b[1;33m=\u001b[0m\u001b[0mBy\u001b[0m\u001b[1;33m.\u001b[0m\u001b[0mID\u001b[0m\u001b[1;33m,\u001b[0m \u001b[0mvalue\u001b[0m\u001b[1;33m:\u001b[0m \u001b[0mOptional\u001b[0m\u001b[1;33m[\u001b[0m\u001b[0mstr\u001b[0m\u001b[1;33m]\u001b[0m \u001b[1;33m=\u001b[0m \u001b[1;32mNone\u001b[0m\u001b[1;33m)\u001b[0m \u001b[1;33m->\u001b[0m \u001b[0mList\u001b[0m\u001b[1;33m[\u001b[0m\u001b[0mWebElement\u001b[0m\u001b[1;33m]\u001b[0m\u001b[1;33m:\u001b[0m\u001b[1;33m\u001b[0m\u001b[1;33m\u001b[0m\u001b[0m\n",
      "\u001b[1;32mD:\\anocodar\\lib\\site-packages\\selenium\\webdriver\\remote\\webdriver.py\u001b[0m in \u001b[0;36mexecute\u001b[1;34m(self, driver_command, params)\u001b[0m\n\u001b[0;32m    442\u001b[0m         \u001b[0mresponse\u001b[0m \u001b[1;33m=\u001b[0m \u001b[0mself\u001b[0m\u001b[1;33m.\u001b[0m\u001b[0mcommand_executor\u001b[0m\u001b[1;33m.\u001b[0m\u001b[0mexecute\u001b[0m\u001b[1;33m(\u001b[0m\u001b[0mdriver_command\u001b[0m\u001b[1;33m,\u001b[0m \u001b[0mparams\u001b[0m\u001b[1;33m)\u001b[0m\u001b[1;33m\u001b[0m\u001b[1;33m\u001b[0m\u001b[0m\n\u001b[0;32m    443\u001b[0m         \u001b[1;32mif\u001b[0m \u001b[0mresponse\u001b[0m\u001b[1;33m:\u001b[0m\u001b[1;33m\u001b[0m\u001b[1;33m\u001b[0m\u001b[0m\n\u001b[1;32m--> 444\u001b[1;33m             \u001b[0mself\u001b[0m\u001b[1;33m.\u001b[0m\u001b[0merror_handler\u001b[0m\u001b[1;33m.\u001b[0m\u001b[0mcheck_response\u001b[0m\u001b[1;33m(\u001b[0m\u001b[0mresponse\u001b[0m\u001b[1;33m)\u001b[0m\u001b[1;33m\u001b[0m\u001b[1;33m\u001b[0m\u001b[0m\n\u001b[0m\u001b[0;32m    445\u001b[0m             \u001b[0mresponse\u001b[0m\u001b[1;33m[\u001b[0m\u001b[1;34m\"value\"\u001b[0m\u001b[1;33m]\u001b[0m \u001b[1;33m=\u001b[0m \u001b[0mself\u001b[0m\u001b[1;33m.\u001b[0m\u001b[0m_unwrap_value\u001b[0m\u001b[1;33m(\u001b[0m\u001b[0mresponse\u001b[0m\u001b[1;33m.\u001b[0m\u001b[0mget\u001b[0m\u001b[1;33m(\u001b[0m\u001b[1;34m\"value\"\u001b[0m\u001b[1;33m,\u001b[0m \u001b[1;32mNone\u001b[0m\u001b[1;33m)\u001b[0m\u001b[1;33m)\u001b[0m\u001b[1;33m\u001b[0m\u001b[1;33m\u001b[0m\u001b[0m\n\u001b[0;32m    446\u001b[0m             \u001b[1;32mreturn\u001b[0m \u001b[0mresponse\u001b[0m\u001b[1;33m\u001b[0m\u001b[1;33m\u001b[0m\u001b[0m\n",
      "\u001b[1;32mD:\\anocodar\\lib\\site-packages\\selenium\\webdriver\\remote\\errorhandler.py\u001b[0m in \u001b[0;36mcheck_response\u001b[1;34m(self, response)\u001b[0m\n\u001b[0;32m    247\u001b[0m                 \u001b[0malert_text\u001b[0m \u001b[1;33m=\u001b[0m \u001b[0mvalue\u001b[0m\u001b[1;33m[\u001b[0m\u001b[1;34m\"alert\"\u001b[0m\u001b[1;33m]\u001b[0m\u001b[1;33m.\u001b[0m\u001b[0mget\u001b[0m\u001b[1;33m(\u001b[0m\u001b[1;34m\"text\"\u001b[0m\u001b[1;33m)\u001b[0m\u001b[1;33m\u001b[0m\u001b[1;33m\u001b[0m\u001b[0m\n\u001b[0;32m    248\u001b[0m             \u001b[1;32mraise\u001b[0m \u001b[0mexception_class\u001b[0m\u001b[1;33m(\u001b[0m\u001b[0mmessage\u001b[0m\u001b[1;33m,\u001b[0m \u001b[0mscreen\u001b[0m\u001b[1;33m,\u001b[0m \u001b[0mstacktrace\u001b[0m\u001b[1;33m)\u001b[0m  \u001b[1;31m# type: ignore[call-arg]  # mypy is not smart enough here\u001b[0m\u001b[1;33m\u001b[0m\u001b[1;33m\u001b[0m\u001b[0m\n\u001b[1;32m--> 249\u001b[1;33m         \u001b[1;32mraise\u001b[0m \u001b[0mexception_class\u001b[0m\u001b[1;33m(\u001b[0m\u001b[0mmessage\u001b[0m\u001b[1;33m,\u001b[0m \u001b[0mscreen\u001b[0m\u001b[1;33m,\u001b[0m \u001b[0mstacktrace\u001b[0m\u001b[1;33m)\u001b[0m\u001b[1;33m\u001b[0m\u001b[1;33m\u001b[0m\u001b[0m\n\u001b[0m",
      "\u001b[1;31mWebDriverException\u001b[0m: Message: disconnected: unable to send message to renderer\n  (failed to check if window was closed: disconnected: not connected to DevTools)\n  (Session info: chrome=118.0.5993.118)\nStacktrace:\n\tGetHandleVerifier [0x00007FF6DAC38EF2+54786]\n\t(No symbol) [0x00007FF6DABA5612]\n\t(No symbol) [0x00007FF6DAA5A64B]\n\t(No symbol) [0x00007FF6DAA4751F]\n\t(No symbol) [0x00007FF6DAA47E6E]\n\t(No symbol) [0x00007FF6DAA5D597]\n\t(No symbol) [0x00007FF6DAA5DF1B]\n\t(No symbol) [0x00007FF6DAA6115F]\n\t(No symbol) [0x00007FF6DAA61250]\n\t(No symbol) [0x00007FF6DAA9B424]\n\t(No symbol) [0x00007FF6DAA9B91C]\n\t(No symbol) [0x00007FF6DAAD6D87]\n\t(No symbol) [0x00007FF6DAABBEAF]\n\t(No symbol) [0x00007FF6DAAD4D02]\n\t(No symbol) [0x00007FF6DAABBC43]\n\t(No symbol) [0x00007FF6DAA90941]\n\t(No symbol) [0x00007FF6DAA91B84]\n\tGetHandleVerifier [0x00007FF6DAF87F52+3524194]\n\tGetHandleVerifier [0x00007FF6DAFDD800+3874576]\n\tGetHandleVerifier [0x00007FF6DAFD5D7F+3843215]\n\tGetHandleVerifier [0x00007FF6DACD5086+694166]\n\t(No symbol) [0x00007FF6DABB0A88]\n\t(No symbol) [0x00007FF6DABACA94]\n\t(No symbol) [0x00007FF6DABACBC2]\n\t(No symbol) [0x00007FF6DAB9CC83]\n\tBaseThreadInitThunk [0x00007FFB770A7034+20]\n\tRtlUserThreadStart [0x00007FFB77D22651+33]\n"
     ]
    }
   ],
   "source": [
    "driver.find_element(By.XPATH,'/html/body/div[2]/div/div/div[1]/div/div[1]/div[3]/ul/li[3]/ul/li[1]/div/a/div[2]').click()\n",
    "#看一下有没有满10个\n",
    "time.sleep(1)#等全部加载出来\n",
    "if len(driver.find_elements(By.CSS_SELECTOR,'[class=\"title-column\"]')) >20:\n",
    "    #删倒数第二个\n",
    "    driver.find_elements(By.CSS_SELECTOR,'[class=\"btn btn-link btn-xs ng-scope ng-isolate-scope\"]')[-3].click()\n",
    "    driver.find_element(By.CSS_SELECTOR,'[class=\"btn ng-scope ng-binding btn-primary\"]').click()\n",
    "\n",
    "# 湖南省问卷会单独跑一份邮箱出来\n",
    "if isinstance(query_id,str):\n",
    "    txt_name = f'{bynd}{query_id}学生邮箱.txt'\n",
    "    \n",
    "    sql = f'''select distinct a.school_id,email from sch_school_student a\n",
    "join sch_school b on a.school_id =b.school_id\n",
    "where is_yun=1 and is_online=1 and is_delete=0 and school_name = '{query_id}' and graduate_year = {bynd}\n",
    "union\n",
    "select school_id, 'zzzzzz'||school_id||'@bibibi.net' from sch_school\n",
    "where school_name = '{query_id}'\n",
    "'''\n",
    "    data = pd.read_sql(con=conn,sql=sql)\n",
    "    temp = data.query('email.isnull() | email==\"\"').shape[0]\n",
    "    if txt_name not in os.listdir('.'):\n",
    "        if temp!=0:\n",
    "            printw(f'(生源信息有{data.shape[0]}条，缺少{temp}条邮箱)')\n",
    "        e_group=[]\n",
    "        for email in data['email'].tolist():\n",
    "            if not re.findall('@',email):continue\n",
    "            if 'qq' in email or 'QQ' in email:\n",
    "                if re.findall('\\d+@',email):\n",
    "                    e_group.append(re.findall('\\d+@',email)[0]+'qq.com')\n",
    "            else:\n",
    "                e_group.append(email)\n",
    "        pd.DataFrame(list(set(e_group))).to_csv(txt_name,sep='\\n',index=False, header = False)\n",
    "    else:\n",
    "        print('上次跑过了这次就不跑了')\n",
    "        \n",
    "driver.find_element(By.XPATH,'/html/body/div[2]/div/div/div[3]/div[2]/div[1]/div[2]/div/div/div[1]/div[2]/button[1]/span').click()\n",
    "driver.find_element(By.CSS_SELECTOR,'[class=\"form-control  ng-pristine ng-invalid ng-invalid-required ng-valid-maxlength ng-valid-minlength\"]').send_keys(model_name)# 列表名\n",
    "random_num = random.randint(1,100000)\n",
    "driver.find_element(By.CSS_SELECTOR,'[class=\"form-control  ng-pristine ng-invalid ng-invalid-required ng-valid-maxlength ng-valid-minlength ng-valid-pattern\"]').send_keys(f'cs{random_num}@tsmail.bibibi.net')\n",
    "driver.find_element(By.CSS_SELECTOR,'[class=\"form-control  ng-pristine ng-invalid ng-invalid-required ng-valid-maxlength ng-valid-minlength\"]').send_keys(str1)\n",
    "driver.find_element(By.CSS_SELECTOR,'[class=\"btn btn-primary ng-scope ng-binding\"]').click()\n",
    "time.sleep(1)\n",
    "# 上传收件人\n",
    "driver.find_element(By.XPATH,'/html/body/div[2]/div/div/div[3]/div[2]/div[1]/div[2]/div/div/div[4]/div/div/div[2]/table/tbody/tr[1]/td[6]/div/a[1]/div').click()\n",
    "\n",
    "printw(f'注意找这个学校！\\n*****{row[0]}*****')"
   ]
  },
  {
   "cell_type": "code",
   "execution_count": 23,
   "metadata": {},
   "outputs": [
    {
     "ename": "NameError",
     "evalue": "name 'data' is not defined",
     "output_type": "error",
     "traceback": [
      "\u001b[1;31m---------------------------------------------------------------------------\u001b[0m",
      "\u001b[1;31mNameError\u001b[0m                                 Traceback (most recent call last)",
      "\u001b[1;32m~\\AppData\\Local\\Temp\\ipykernel_12800\\300533729.py\u001b[0m in \u001b[0;36m<module>\u001b[1;34m\u001b[0m\n\u001b[0;32m     17\u001b[0m     \u001b[1;32mraise\u001b[0m\u001b[1;33m\u001b[0m\u001b[1;33m\u001b[0m\u001b[0m\n\u001b[0;32m     18\u001b[0m \u001b[1;33m\u001b[0m\u001b[0m\n\u001b[1;32m---> 19\u001b[1;33m \u001b[1;32mif\u001b[0m \u001b[0misinstance\u001b[0m\u001b[1;33m(\u001b[0m\u001b[0mquery_id\u001b[0m\u001b[1;33m,\u001b[0m\u001b[0mstr\u001b[0m\u001b[1;33m)\u001b[0m \u001b[1;32mand\u001b[0m \u001b[0mint\u001b[0m\u001b[1;33m(\u001b[0m\u001b[0mre\u001b[0m\u001b[1;33m.\u001b[0m\u001b[0msub\u001b[0m\u001b[1;33m(\u001b[0m\u001b[1;34m'\\D'\u001b[0m\u001b[1;33m,\u001b[0m\u001b[1;34m''\u001b[0m\u001b[1;33m,\u001b[0m\u001b[0mid_email\u001b[0m\u001b[1;33m)\u001b[0m\u001b[1;33m)\u001b[0m\u001b[1;33m!=\u001b[0m\u001b[0mdata\u001b[0m\u001b[1;33m[\u001b[0m\u001b[1;34m'school_id'\u001b[0m\u001b[1;33m]\u001b[0m\u001b[1;33m[\u001b[0m\u001b[1;36m0\u001b[0m\u001b[1;33m]\u001b[0m\u001b[1;33m:\u001b[0m\u001b[1;33m\u001b[0m\u001b[1;33m\u001b[0m\u001b[0m\n\u001b[0m\u001b[0;32m     20\u001b[0m     \u001b[0mprintw\u001b[0m\u001b[1;33m(\u001b[0m\u001b[1;34m'邮箱不是该学校的学生的邮箱！'\u001b[0m\u001b[1;33m)\u001b[0m\u001b[1;33m\u001b[0m\u001b[1;33m\u001b[0m\u001b[0m\n\u001b[0;32m     21\u001b[0m     \u001b[1;32mraise\u001b[0m\u001b[1;33m\u001b[0m\u001b[1;33m\u001b[0m\u001b[0m\n",
      "\u001b[1;31mNameError\u001b[0m: name 'data' is not defined"
     ]
    }
   ],
   "source": [
    "# 测试收件人\n",
    "for i in driver.find_element(By.CSS_SELECTOR,'[class=\"table table-hover\"]').find_elements(By.CSS_SELECTOR,'[class=\"ng-scope\"]'):\n",
    "    if model_name in i.text:\n",
    "        i.find_element(By.CSS_SELECTOR,'[class=\"btn btn-link btn-xs ng-scope ng-isolate-scope\"]').click()\n",
    "        break\n",
    "\n",
    "driver.find_element(By.CSS_SELECTOR,'[class=\"form-inline\"]').find_element(By.CSS_SELECTOR,'input').send_keys('zzzzzz')\n",
    "\n",
    "find_by_text(driver.find_elements(By.CSS_SELECTOR,'[class=\"btn btn-primary ng-binding\"]'),'查询').click()\n",
    "time.sleep(2)\n",
    "find_by_text(driver.find_elements(By.CSS_SELECTOR,'[class=\"btn btn-primary ng-binding\"]'),'查询').click()\n",
    "time.sleep(2)\n",
    "id_email = driver.find_element(By.CSS_SELECTOR,'[class=\"modal-body\"]').find_element(By.CSS_SELECTOR,'[class=\"table table-hover\"]').find_element(By.CSS_SELECTOR,'[class=\"ng-scope\"]').find_element(By.CSS_SELECTOR,'[class=\"title-column\"]').text\n",
    "\n",
    "if isinstance(query_id,int) and int(re.sub('\\D','',id_email))!=query_id:\n",
    "    printw('邮箱不是该学校的学生的邮箱！')\n",
    "    raise\n",
    "    \n",
    "if isinstance(query_id,str) and int(re.sub('\\D','',id_email))!=data['school_id'][0]:\n",
    "    printw('邮箱不是该学校的学生的邮箱！')\n",
    "    raise\n",
    "can_send = True\n",
    "driver.find_element(By.CSS_SELECTOR,'[class=\"modal-footer\"]').find_element(By.CSS_SELECTOR,'[class=\"btn btn-default ng-binding\"]').click()"
   ]
  },
  {
   "cell_type": "markdown",
   "metadata": {},
   "source": [
    "# 发送正式邮件"
   ]
  },
  {
   "cell_type": "code",
   "execution_count": 24,
   "metadata": {
    "pycharm": {
     "name": "#%%\n"
    }
   },
   "outputs": [],
   "source": [
    "if not can_send:\n",
    "    printw('测试未通过，不许发')\n",
    "    raise\n",
    "#点发送邮件新建任务\n",
    "driver.find_element(By.XPATH,'/html/body/div[2]/div/div/div[1]/div/div[1]/div[3]/ul/li[3]/ul/li[2]/div/a/div[2]').click()\n",
    "driver.find_element(By.XPATH,'/html/body/div[2]/div/div/div[3]/div[2]/div[1]/div[2]/div/div/div[1]/div[2]/button[1]').click()\n",
    "time.sleep(1)\n",
    "# 这里的下拉框都不支持点击，只能用action点\n",
    "text_list = driver.find_elements(By.CLASS_NAME,'col-sm-5')\n",
    "action = ActionChains(driver)\n",
    "time.sleep(1)\n",
    "#模板名称\n",
    "action.click(driver.find_element(By.CLASS_NAME,'select2-chosen')).perform()\n",
    "driver.find_element(By.XPATH, f\"//span[@title='{model_name}']\").click()\n",
    "# 其他下拉框\n",
    "action.click(text_list[2]).perform()\n",
    "action.key_down(Keys.DOWN).key_down(Keys.ENTER).perform()\n",
    "element1 = text_list[3].find_element(By.NAME,'addressType')\n",
    "action.click(element1).perform()\n",
    "action.key_down(Keys.DOWN).key_down(Keys.ENTER).perform()\n",
    "action.click(text_list[4]).perform()\n",
    "action.key_down(Keys.DOWN).key_down(Keys.ENTER).perform()\n",
    "action.click(text_list[0]).perform()#收件人列表大部分情况下都是选测试\n",
    "a = driver.find_element(By.XPATH, f\"//option[text()='{model_name}']\").get_attribute('value')\n",
    "for i in range(int(a)):\n",
    "    action.key_down(Keys.DOWN).perform()\n",
    "    time.sleep(0.1)\n",
    "action.key_down(Keys.DOWN).key_down(Keys.ENTER).perform()"
   ]
  },
  {
   "cell_type": "code",
   "execution_count": null,
   "metadata": {},
   "outputs": [],
   "source": []
  }
 ],
 "metadata": {
  "hide_input": false,
  "kernelspec": {
   "display_name": "Python 3",
   "language": "python",
   "name": "python3"
  },
  "language_info": {
   "codemirror_mode": {
    "name": "ipython",
    "version": 3
   },
   "file_extension": ".py",
   "mimetype": "text/x-python",
   "name": "python",
   "nbconvert_exporter": "python",
   "pygments_lexer": "ipython3",
   "version": "3.8.3"
  },
  "toc": {
   "base_numbering": 1,
   "nav_menu": {},
   "number_sections": true,
   "sideBar": true,
   "skip_h1_title": false,
   "title_cell": "Table of Contents",
   "title_sidebar": "Contents",
   "toc_cell": false,
   "toc_position": {
    "height": "calc(100% - 180px)",
    "left": "10px",
    "top": "150px",
    "width": "222.372px"
   },
   "toc_section_display": true,
   "toc_window_display": false
  },
  "varInspector": {
   "cols": {
    "lenName": 16,
    "lenType": 16,
    "lenVar": 40
   },
   "kernels_config": {
    "python": {
     "delete_cmd_postfix": "",
     "delete_cmd_prefix": "del ",
     "library": "var_list.py",
     "varRefreshCmd": "print(var_dic_list())"
    },
    "r": {
     "delete_cmd_postfix": ") ",
     "delete_cmd_prefix": "rm(",
     "library": "var_list.r",
     "varRefreshCmd": "cat(var_dic_list()) "
    }
   },
   "types_to_exclude": [
    "module",
    "function",
    "builtin_function_or_method",
    "instance",
    "_Feature"
   ],
   "window_display": false
  }
 },
 "nbformat": 4,
 "nbformat_minor": 5
}
